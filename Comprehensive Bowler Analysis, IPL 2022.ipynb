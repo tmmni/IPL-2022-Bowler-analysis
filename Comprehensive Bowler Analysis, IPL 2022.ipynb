{
 "cells": [
  {
   "cell_type": "markdown",
   "id": "af431b10",
   "metadata": {},
   "source": [
    "**Foreword**\\\n",
    "Love for cricket is something I've recently developed. Moneyball is probably an inspiration for me, as it is for every sports data analyst. That and my passion for cricket has enabled me to make this report. The following is a proto-analysis on bowlers in IPL 2022 with limited data I've gathered. "
   ]
  },
  {
   "cell_type": "code",
   "execution_count": 18,
   "id": "2f5f4d29",
   "metadata": {},
   "outputs": [],
   "source": [
    "import pandas as pd\n",
    "import numpy as np\n",
    "import seaborn as sns\n",
    "import matplotlib.pyplot as plt\n",
    "import statsmodels.api as sm\n",
    "from scipy import stats\n",
    "from warnings import filterwarnings\n",
    "filterwarnings('ignore')\n",
    "pd.set_option('display.max_rows',500)\n",
    "pd.set_option('display.max_columns', 50)\n",
    "import plotly.express as px\n",
    "import plotly.offline as py\n",
    "from plotly.subplots import make_subplots\n",
    "import plotly.graph_objects as go\n"
   ]
  },
  {
   "cell_type": "code",
   "execution_count": 19,
   "id": "201080fe",
   "metadata": {},
   "outputs": [
    {
     "data": {
      "text/html": [
       "<div>\n",
       "<style scoped>\n",
       "    .dataframe tbody tr th:only-of-type {\n",
       "        vertical-align: middle;\n",
       "    }\n",
       "\n",
       "    .dataframe tbody tr th {\n",
       "        vertical-align: top;\n",
       "    }\n",
       "\n",
       "    .dataframe thead th {\n",
       "        text-align: right;\n",
       "    }\n",
       "</style>\n",
       "<table border=\"1\" class=\"dataframe\">\n",
       "  <thead>\n",
       "    <tr style=\"text-align: right;\">\n",
       "      <th></th>\n",
       "      <th>Player</th>\n",
       "      <th>Team</th>\n",
       "      <th>Hand</th>\n",
       "      <th>Type</th>\n",
       "      <th>Country</th>\n",
       "      <th>I</th>\n",
       "      <th>O</th>\n",
       "      <th>Balls</th>\n",
       "      <th>R</th>\n",
       "      <th>Extras</th>\n",
       "      <th>W</th>\n",
       "      <th>Econ</th>\n",
       "      <th>Avg</th>\n",
       "      <th>SR</th>\n",
       "      <th>4s</th>\n",
       "      <th>6s</th>\n",
       "      <th>Dots</th>\n",
       "    </tr>\n",
       "  </thead>\n",
       "  <tbody>\n",
       "    <tr>\n",
       "      <th>0</th>\n",
       "      <td>A Badoni</td>\n",
       "      <td>LSG</td>\n",
       "      <td>R</td>\n",
       "      <td>Offbreak</td>\n",
       "      <td>India</td>\n",
       "      <td>2</td>\n",
       "      <td>2.0</td>\n",
       "      <td>12</td>\n",
       "      <td>11</td>\n",
       "      <td>0</td>\n",
       "      <td>2</td>\n",
       "      <td>5.50</td>\n",
       "      <td>5.50</td>\n",
       "      <td>6.00</td>\n",
       "      <td>0</td>\n",
       "      <td>0</td>\n",
       "      <td>3</td>\n",
       "    </tr>\n",
       "    <tr>\n",
       "      <th>1</th>\n",
       "      <td>A Nortje</td>\n",
       "      <td>DC</td>\n",
       "      <td>R</td>\n",
       "      <td>Fast</td>\n",
       "      <td>South Africa</td>\n",
       "      <td>6</td>\n",
       "      <td>22.2</td>\n",
       "      <td>134</td>\n",
       "      <td>217</td>\n",
       "      <td>9</td>\n",
       "      <td>9</td>\n",
       "      <td>9.72</td>\n",
       "      <td>24.11</td>\n",
       "      <td>14.89</td>\n",
       "      <td>21</td>\n",
       "      <td>10</td>\n",
       "      <td>47</td>\n",
       "    </tr>\n",
       "    <tr>\n",
       "      <th>2</th>\n",
       "      <td>Abdul Samad</td>\n",
       "      <td>SRH</td>\n",
       "      <td>R</td>\n",
       "      <td>Legbreak</td>\n",
       "      <td>India</td>\n",
       "      <td>1</td>\n",
       "      <td>1.0</td>\n",
       "      <td>6</td>\n",
       "      <td>8</td>\n",
       "      <td>0</td>\n",
       "      <td>0</td>\n",
       "      <td>8.00</td>\n",
       "      <td>0.00</td>\n",
       "      <td>0.00</td>\n",
       "      <td>1</td>\n",
       "      <td>0</td>\n",
       "      <td>1</td>\n",
       "    </tr>\n",
       "    <tr>\n",
       "      <th>3</th>\n",
       "      <td>Abhishek Sharma</td>\n",
       "      <td>SRH</td>\n",
       "      <td>L</td>\n",
       "      <td>Offbreak</td>\n",
       "      <td>India</td>\n",
       "      <td>3</td>\n",
       "      <td>4.0</td>\n",
       "      <td>24</td>\n",
       "      <td>38</td>\n",
       "      <td>0</td>\n",
       "      <td>0</td>\n",
       "      <td>9.50</td>\n",
       "      <td>0.00</td>\n",
       "      <td>0.00</td>\n",
       "      <td>2</td>\n",
       "      <td>2</td>\n",
       "      <td>3</td>\n",
       "    </tr>\n",
       "    <tr>\n",
       "      <th>4</th>\n",
       "      <td>AD Russell</td>\n",
       "      <td>KKR</td>\n",
       "      <td>R</td>\n",
       "      <td>Medium Fast</td>\n",
       "      <td>West Indies</td>\n",
       "      <td>13</td>\n",
       "      <td>28.1</td>\n",
       "      <td>169</td>\n",
       "      <td>278</td>\n",
       "      <td>11</td>\n",
       "      <td>17</td>\n",
       "      <td>9.87</td>\n",
       "      <td>16.35</td>\n",
       "      <td>9.94</td>\n",
       "      <td>27</td>\n",
       "      <td>12</td>\n",
       "      <td>57</td>\n",
       "    </tr>\n",
       "  </tbody>\n",
       "</table>\n",
       "</div>"
      ],
      "text/plain": [
       "            Player Team Hand         Type       Country   I     O  Balls    R  \\\n",
       "0         A Badoni  LSG    R     Offbreak         India   2   2.0     12   11   \n",
       "1         A Nortje   DC    R         Fast  South Africa   6  22.2    134  217   \n",
       "2      Abdul Samad  SRH   R      Legbreak         India   1   1.0      6    8   \n",
       "3  Abhishek Sharma  SRH    L     Offbreak         India   3   4.0     24   38   \n",
       "4       AD Russell  KKR    R  Medium Fast   West Indies  13  28.1    169  278   \n",
       "\n",
       "   Extras   W  Econ    Avg     SR  4s  6s  Dots  \n",
       "0       0   2  5.50   5.50   6.00   0   0     3  \n",
       "1       9   9  9.72  24.11  14.89  21  10    47  \n",
       "2       0   0  8.00   0.00   0.00   1   0     1  \n",
       "3       0   0  9.50   0.00   0.00   2   2     3  \n",
       "4      11  17  9.87  16.35   9.94  27  12    57  "
      ]
     },
     "execution_count": 19,
     "metadata": {},
     "output_type": "execute_result"
    }
   ],
   "source": [
    "df = pd.read_excel('Total_stats.xlsx').drop(columns=['Unnamed: 0'],axis=1)\n",
    "df.head()"
   ]
  },
  {
   "cell_type": "code",
   "execution_count": 20,
   "id": "eb0bb2d6",
   "metadata": {},
   "outputs": [
    {
     "data": {
      "text/plain": [
       "Player     0\n",
       "Team       0\n",
       "Hand       0\n",
       "Type       0\n",
       "Country    0\n",
       "I          0\n",
       "O          0\n",
       "Balls      0\n",
       "R          0\n",
       "Extras     0\n",
       "W          0\n",
       "Econ       0\n",
       "Avg        0\n",
       "SR         0\n",
       "4s         0\n",
       "6s         0\n",
       "Dots       0\n",
       "dtype: int64"
      ]
     },
     "execution_count": 20,
     "metadata": {},
     "output_type": "execute_result"
    }
   ],
   "source": [
    "df.isnull().sum()"
   ]
  },
  {
   "cell_type": "markdown",
   "id": "329eb20e",
   "metadata": {},
   "source": [
    "**Filtering out pie-rollers**\n",
    "\n",
    "I've noticed that there are many part-timers who shouldn't be taken into a serious analysis. So I'm planning on removing them out by using two measures, `Overs bowled per innings` and `Innings played`. This way, I can encapsulate all the out and out bowlers who played only towards the end like Sandeep Sharma, or players who were dropped mid-way like Pat Cummins, or consistent part-timers like Andre Russell or Liam Livingstone, who were almost useful sixth bowlers."
   ]
  },
  {
   "cell_type": "code",
   "execution_count": 21,
   "id": "04d0695a",
   "metadata": {},
   "outputs": [],
   "source": [
    "df['O/I'] = round(df['O']/df['I'],3)\n",
    "df['W/I'] = round(df['W']/df['I'],3)"
   ]
  },
  {
   "cell_type": "markdown",
   "id": "113cb653",
   "metadata": {},
   "source": [
    "Let's create a new dataframe `updated_df`.The conditions I'm planning to give in are that are that the player should have played in more than 2 innings, and should've bowled more than 1.5 overs per innings. This removes the pie-rollers like Shreyas Iyer and Yashasvi Jaiswal."
   ]
  },
  {
   "cell_type": "code",
   "execution_count": 22,
   "id": "37730065",
   "metadata": {},
   "outputs": [],
   "source": [
    "updated_df = df[(df['I']>2) & (df['O/I']>1.5)]"
   ]
  },
  {
   "cell_type": "code",
   "execution_count": 23,
   "id": "1b8348e0",
   "metadata": {},
   "outputs": [
    {
     "data": {
      "text/plain": [
       "83"
      ]
     },
     "execution_count": 23,
     "metadata": {},
     "output_type": "execute_result"
    }
   ],
   "source": [
    "updated_df['Player'].count()"
   ]
  },
  {
   "cell_type": "markdown",
   "id": "06d0449e",
   "metadata": {},
   "source": [
    "83 players, who are going to be analyzed."
   ]
  },
  {
   "cell_type": "code",
   "execution_count": 24,
   "id": "32e150c6",
   "metadata": {},
   "outputs": [
    {
     "data": {
      "text/html": [
       "<div>\n",
       "<style scoped>\n",
       "    .dataframe tbody tr th:only-of-type {\n",
       "        vertical-align: middle;\n",
       "    }\n",
       "\n",
       "    .dataframe tbody tr th {\n",
       "        vertical-align: top;\n",
       "    }\n",
       "\n",
       "    .dataframe thead th {\n",
       "        text-align: right;\n",
       "    }\n",
       "</style>\n",
       "<table border=\"1\" class=\"dataframe\">\n",
       "  <thead>\n",
       "    <tr style=\"text-align: right;\">\n",
       "      <th></th>\n",
       "      <th>Player</th>\n",
       "    </tr>\n",
       "  </thead>\n",
       "  <tbody>\n",
       "    <tr>\n",
       "      <th>0</th>\n",
       "      <td>A Badoni</td>\n",
       "    </tr>\n",
       "    <tr>\n",
       "      <th>2</th>\n",
       "      <td>Abdul Samad</td>\n",
       "    </tr>\n",
       "    <tr>\n",
       "      <th>9</th>\n",
       "      <td>Aman Hakim Khan</td>\n",
       "    </tr>\n",
       "    <tr>\n",
       "      <th>20</th>\n",
       "      <td>D Brevis</td>\n",
       "    </tr>\n",
       "    <tr>\n",
       "      <th>25</th>\n",
       "      <td>DJ Mitchell</td>\n",
       "    </tr>\n",
       "  </tbody>\n",
       "</table>\n",
       "</div>"
      ],
      "text/plain": [
       "             Player\n",
       "0          A Badoni\n",
       "2       Abdul Samad\n",
       "9   Aman Hakim Khan\n",
       "20         D Brevis\n",
       "25      DJ Mitchell"
      ]
     },
     "execution_count": 24,
     "metadata": {},
     "output_type": "execute_result"
    }
   ],
   "source": [
    "df[(df['I']<=2) & (df['O/I']<=1.5)][['Player']].head()"
   ]
  },
  {
   "cell_type": "markdown",
   "id": "a7d64d1e",
   "metadata": {},
   "source": [
    "(In the above dataframe, we have shown players who aren't really useful to the analysis.)"
   ]
  },
  {
   "cell_type": "markdown",
   "id": "d9b323fc",
   "metadata": {},
   "source": [
    "----"
   ]
  },
  {
   "cell_type": "markdown",
   "id": "26cbae19",
   "metadata": {},
   "source": [
    "**Understanding the columns for in-depth analysis**"
   ]
  },
  {
   "cell_type": "markdown",
   "id": "2b3ddc9c",
   "metadata": {},
   "source": [
    "- `I` - Number of innings the player has bowled in."
   ]
  },
  {
   "cell_type": "markdown",
   "id": "8b83b6fa",
   "metadata": {},
   "source": [
    "- `O` - Number of overs the players has bowled over the season. In the base of 6."
   ]
  },
  {
   "cell_type": "markdown",
   "id": "3b1be245",
   "metadata": {},
   "source": [
    "- `Balls` - Number of total balls the player has bowled over the season."
   ]
  },
  {
   "cell_type": "markdown",
   "id": "18cc1369",
   "metadata": {},
   "source": [
    "- `Runs` -  Total runs conceded by the bowler, including extras."
   ]
  },
  {
   "cell_type": "markdown",
   "id": "9024bd9b",
   "metadata": {},
   "source": [
    "- `Extras` - Runs that have been conceded by the bowlers by bowling no-balls and wides (Not inclusive of byes and leg-byes as per ICC rules)"
   ]
  },
  {
   "cell_type": "markdown",
   "id": "9d668672",
   "metadata": {},
   "source": [
    "- `W` - Wickets taken by the bowler."
   ]
  },
  {
   "cell_type": "markdown",
   "id": "e090c8f9",
   "metadata": {},
   "source": [
    "- `Econ` - Economy rate of a bowler, in terms of average runs conceded per over."
   ]
  },
  {
   "cell_type": "markdown",
   "id": "b85600f6",
   "metadata": {},
   "source": [
    "- `Avg` - Average runs conceded per wicket taken"
   ]
  },
  {
   "cell_type": "markdown",
   "id": "39f1aaa1",
   "metadata": {},
   "source": [
    "- `SR` - Average balls taken per wicket taken"
   ]
  },
  {
   "cell_type": "markdown",
   "id": "794f6f5c",
   "metadata": {},
   "source": [
    "- `4s` - Number of fours conceded."
   ]
  },
  {
   "cell_type": "markdown",
   "id": "92f0d3f9",
   "metadata": {},
   "source": [
    "- `6s` - Number of sixes conceded."
   ]
  },
  {
   "cell_type": "markdown",
   "id": "dae303d7",
   "metadata": {},
   "source": [
    "- `Dots` - Number of balls that have resulted in a no-run delivery by the bowler."
   ]
  },
  {
   "cell_type": "markdown",
   "id": "f1a5f0b5",
   "metadata": {},
   "source": [
    "- `O/I ratio` - Ratio of overs bowled to innings played, to identify main bowlers."
   ]
  },
  {
   "cell_type": "markdown",
   "id": "d23308cd",
   "metadata": {},
   "source": [
    "- `W/I ratio` - Ratio of wickets taken to innings played, to identify strike bowlers."
   ]
  },
  {
   "cell_type": "markdown",
   "id": "38c57490",
   "metadata": {},
   "source": [
    "- `Dot %` - Number of dots faced divided by total balls bowled in terms of percentage."
   ]
  },
  {
   "cell_type": "markdown",
   "id": "4e55022c",
   "metadata": {},
   "source": [
    "- `Bound%` - Number of 4s and 6s divided by total balls bowled by the bowler in terms of percentage. "
   ]
  },
  {
   "cell_type": "markdown",
   "id": "1c01b6c3",
   "metadata": {},
   "source": [
    "- `ESRA` - Index to combine all of the Economy, Bowling Average and Bowling Strike Rate into one feature.\n",
    "\n",
    "*Since it is better if all of them are low, I've tried not to divide any of them with the other. Instead, I've taken the square root of the sum of `Avg + SR` to bring it more in line with Economy, so that the defensive bowlers (Bowlers who's strike rate and average are high while economy is low, since they bowl defensive lengths) are not affected a lot. This index tends to give more weightage to economy.*"
   ]
  },
  {
   "cell_type": "markdown",
   "id": "425672a0",
   "metadata": {},
   "source": [
    " - `Bound/Dots_%` - Ratio of boundaries to the dots (i.e,) how much boundaries a bowler leaks for every dot ball, in terms of percentage."
   ]
  },
  {
   "cell_type": "markdown",
   "id": "528a7f41",
   "metadata": {},
   "source": [
    " - `6/4_ratio` - Ratio of 6s to the 4s a bowler concedes, helpful in identifying if a bowler is a strike-bowler (Bowlers who are attacking and take wickets)"
   ]
  },
  {
   "cell_type": "markdown",
   "id": "459555e7",
   "metadata": {},
   "source": [
    "-----"
   ]
  },
  {
   "cell_type": "markdown",
   "id": "3b0b3b2b",
   "metadata": {},
   "source": [
    "**Creating those columns:**"
   ]
  },
  {
   "cell_type": "markdown",
   "id": "d346751c",
   "metadata": {},
   "source": [
    "`Dot %`"
   ]
  },
  {
   "cell_type": "code",
   "execution_count": 25,
   "id": "8017cd76",
   "metadata": {},
   "outputs": [
    {
     "data": {
      "text/html": [
       "<div>\n",
       "<style scoped>\n",
       "    .dataframe tbody tr th:only-of-type {\n",
       "        vertical-align: middle;\n",
       "    }\n",
       "\n",
       "    .dataframe tbody tr th {\n",
       "        vertical-align: top;\n",
       "    }\n",
       "\n",
       "    .dataframe thead th {\n",
       "        text-align: right;\n",
       "    }\n",
       "</style>\n",
       "<table border=\"1\" class=\"dataframe\">\n",
       "  <thead>\n",
       "    <tr style=\"text-align: right;\">\n",
       "      <th></th>\n",
       "      <th>Player</th>\n",
       "      <th>Team</th>\n",
       "      <th>Hand</th>\n",
       "      <th>Type</th>\n",
       "      <th>Country</th>\n",
       "      <th>I</th>\n",
       "      <th>O</th>\n",
       "      <th>Balls</th>\n",
       "      <th>R</th>\n",
       "      <th>Extras</th>\n",
       "      <th>W</th>\n",
       "      <th>Econ</th>\n",
       "      <th>Avg</th>\n",
       "      <th>SR</th>\n",
       "      <th>4s</th>\n",
       "      <th>6s</th>\n",
       "      <th>Dots</th>\n",
       "      <th>O/I</th>\n",
       "      <th>W/I</th>\n",
       "      <th>Dot %</th>\n",
       "    </tr>\n",
       "  </thead>\n",
       "  <tbody>\n",
       "    <tr>\n",
       "      <th>1</th>\n",
       "      <td>A Nortje</td>\n",
       "      <td>DC</td>\n",
       "      <td>R</td>\n",
       "      <td>Fast</td>\n",
       "      <td>South Africa</td>\n",
       "      <td>6</td>\n",
       "      <td>22.2</td>\n",
       "      <td>134</td>\n",
       "      <td>217</td>\n",
       "      <td>9</td>\n",
       "      <td>9</td>\n",
       "      <td>9.72</td>\n",
       "      <td>24.11</td>\n",
       "      <td>14.89</td>\n",
       "      <td>21</td>\n",
       "      <td>10</td>\n",
       "      <td>47</td>\n",
       "      <td>3.700</td>\n",
       "      <td>1.500</td>\n",
       "      <td>35.07</td>\n",
       "    </tr>\n",
       "    <tr>\n",
       "      <th>4</th>\n",
       "      <td>AD Russell</td>\n",
       "      <td>KKR</td>\n",
       "      <td>R</td>\n",
       "      <td>Medium Fast</td>\n",
       "      <td>West Indies</td>\n",
       "      <td>13</td>\n",
       "      <td>28.1</td>\n",
       "      <td>169</td>\n",
       "      <td>278</td>\n",
       "      <td>11</td>\n",
       "      <td>17</td>\n",
       "      <td>9.87</td>\n",
       "      <td>16.35</td>\n",
       "      <td>9.94</td>\n",
       "      <td>27</td>\n",
       "      <td>12</td>\n",
       "      <td>57</td>\n",
       "      <td>2.162</td>\n",
       "      <td>1.308</td>\n",
       "      <td>33.73</td>\n",
       "    </tr>\n",
       "    <tr>\n",
       "      <th>6</th>\n",
       "      <td>AJ Tye</td>\n",
       "      <td>LSG</td>\n",
       "      <td>R</td>\n",
       "      <td>Medium Fast</td>\n",
       "      <td>Australia</td>\n",
       "      <td>3</td>\n",
       "      <td>11.0</td>\n",
       "      <td>66</td>\n",
       "      <td>107</td>\n",
       "      <td>3</td>\n",
       "      <td>2</td>\n",
       "      <td>9.73</td>\n",
       "      <td>53.50</td>\n",
       "      <td>33.00</td>\n",
       "      <td>13</td>\n",
       "      <td>4</td>\n",
       "      <td>21</td>\n",
       "      <td>3.667</td>\n",
       "      <td>0.667</td>\n",
       "      <td>31.82</td>\n",
       "    </tr>\n",
       "    <tr>\n",
       "      <th>8</th>\n",
       "      <td>Akash Deep</td>\n",
       "      <td>RCB</td>\n",
       "      <td>R</td>\n",
       "      <td>Medium</td>\n",
       "      <td>India</td>\n",
       "      <td>5</td>\n",
       "      <td>18.5</td>\n",
       "      <td>113</td>\n",
       "      <td>205</td>\n",
       "      <td>6</td>\n",
       "      <td>5</td>\n",
       "      <td>10.88</td>\n",
       "      <td>41.00</td>\n",
       "      <td>22.60</td>\n",
       "      <td>15</td>\n",
       "      <td>14</td>\n",
       "      <td>39</td>\n",
       "      <td>3.700</td>\n",
       "      <td>1.000</td>\n",
       "      <td>34.51</td>\n",
       "    </tr>\n",
       "    <tr>\n",
       "      <th>10</th>\n",
       "      <td>AR Patel</td>\n",
       "      <td>DC</td>\n",
       "      <td>L</td>\n",
       "      <td>Offbreak</td>\n",
       "      <td>India</td>\n",
       "      <td>13</td>\n",
       "      <td>43.0</td>\n",
       "      <td>258</td>\n",
       "      <td>321</td>\n",
       "      <td>4</td>\n",
       "      <td>6</td>\n",
       "      <td>7.47</td>\n",
       "      <td>53.50</td>\n",
       "      <td>43.00</td>\n",
       "      <td>20</td>\n",
       "      <td>15</td>\n",
       "      <td>85</td>\n",
       "      <td>3.308</td>\n",
       "      <td>0.462</td>\n",
       "      <td>32.95</td>\n",
       "    </tr>\n",
       "  </tbody>\n",
       "</table>\n",
       "</div>"
      ],
      "text/plain": [
       "        Player Team Hand         Type       Country   I     O  Balls    R  \\\n",
       "1     A Nortje   DC    R         Fast  South Africa   6  22.2    134  217   \n",
       "4   AD Russell  KKR    R  Medium Fast   West Indies  13  28.1    169  278   \n",
       "6       AJ Tye  LSG    R  Medium Fast     Australia   3  11.0     66  107   \n",
       "8   Akash Deep  RCB    R       Medium         India   5  18.5    113  205   \n",
       "10    AR Patel   DC    L     Offbreak         India  13  43.0    258  321   \n",
       "\n",
       "    Extras   W   Econ    Avg     SR  4s  6s  Dots    O/I    W/I  Dot %  \n",
       "1        9   9   9.72  24.11  14.89  21  10    47  3.700  1.500  35.07  \n",
       "4       11  17   9.87  16.35   9.94  27  12    57  2.162  1.308  33.73  \n",
       "6        3   2   9.73  53.50  33.00  13   4    21  3.667  0.667  31.82  \n",
       "8        6   5  10.88  41.00  22.60  15  14    39  3.700  1.000  34.51  \n",
       "10       4   6   7.47  53.50  43.00  20  15    85  3.308  0.462  32.95  "
      ]
     },
     "execution_count": 25,
     "metadata": {},
     "output_type": "execute_result"
    }
   ],
   "source": [
    "updated_df['Dot %'] = round((updated_df['Dots']/updated_df['Balls']),4)*100\n",
    "\n",
    "updated_df.head()"
   ]
  },
  {
   "cell_type": "markdown",
   "id": "c09fc6d2",
   "metadata": {},
   "source": [
    "`Bound%` "
   ]
  },
  {
   "cell_type": "code",
   "execution_count": 26,
   "id": "e8d0fa9d",
   "metadata": {},
   "outputs": [],
   "source": [
    "updated_df.insert(loc=19,column='Bound%',value=round(((updated_df['4s']+updated_df['6s'])/updated_df['Balls'])*100,2))"
   ]
  },
  {
   "cell_type": "markdown",
   "id": "0e300905",
   "metadata": {},
   "source": [
    "`ESRA` "
   ]
  },
  {
   "cell_type": "code",
   "execution_count": 27,
   "id": "5b0a071d",
   "metadata": {},
   "outputs": [],
   "source": [
    "updated_df.insert(loc=14,column='ESRA',value=round((np.sqrt(updated_df['SR'] + updated_df['Avg']) + updated_df['Econ']),3))"
   ]
  },
  {
   "cell_type": "markdown",
   "id": "59e1bdb9",
   "metadata": {},
   "source": [
    " \n",
    "`Bound/Dots_%` "
   ]
  },
  {
   "cell_type": "code",
   "execution_count": 28,
   "id": "89316991",
   "metadata": {},
   "outputs": [],
   "source": [
    "updated_df['Bound/Dots_%'] = round(((updated_df['4s']+updated_df['6s'])/updated_df['Dots'])*100,2)"
   ]
  },
  {
   "cell_type": "markdown",
   "id": "3bb36d74",
   "metadata": {},
   "source": [
    " \n",
    "`6/4_ratio` "
   ]
  },
  {
   "cell_type": "code",
   "execution_count": 29,
   "id": "ae5e8028",
   "metadata": {},
   "outputs": [],
   "source": [
    "updated_df.insert(loc=20,column='6/4_ratio',value=round((updated_df['6s']/updated_df['4s']),2))"
   ]
  },
  {
   "cell_type": "markdown",
   "id": "eb5a963c",
   "metadata": {},
   "source": [
    "Now we'll use the updated_df for further analysis."
   ]
  },
  {
   "cell_type": "code",
   "execution_count": 30,
   "id": "98a688c0",
   "metadata": {},
   "outputs": [
    {
     "data": {
      "text/html": [
       "<div>\n",
       "<style scoped>\n",
       "    .dataframe tbody tr th:only-of-type {\n",
       "        vertical-align: middle;\n",
       "    }\n",
       "\n",
       "    .dataframe tbody tr th {\n",
       "        vertical-align: top;\n",
       "    }\n",
       "\n",
       "    .dataframe thead th {\n",
       "        text-align: right;\n",
       "    }\n",
       "</style>\n",
       "<table border=\"1\" class=\"dataframe\">\n",
       "  <thead>\n",
       "    <tr style=\"text-align: right;\">\n",
       "      <th></th>\n",
       "      <th>Player</th>\n",
       "      <th>Team</th>\n",
       "      <th>Hand</th>\n",
       "      <th>Type</th>\n",
       "      <th>Country</th>\n",
       "      <th>I</th>\n",
       "      <th>O</th>\n",
       "      <th>Balls</th>\n",
       "      <th>R</th>\n",
       "      <th>Extras</th>\n",
       "      <th>W</th>\n",
       "      <th>Econ</th>\n",
       "      <th>Avg</th>\n",
       "      <th>SR</th>\n",
       "      <th>ESRA</th>\n",
       "      <th>4s</th>\n",
       "      <th>6s</th>\n",
       "      <th>Dots</th>\n",
       "      <th>O/I</th>\n",
       "      <th>W/I</th>\n",
       "      <th>6/4_ratio</th>\n",
       "      <th>Bound%</th>\n",
       "      <th>Dot %</th>\n",
       "      <th>Bound/Dots_%</th>\n",
       "    </tr>\n",
       "  </thead>\n",
       "  <tbody>\n",
       "    <tr>\n",
       "      <th>1</th>\n",
       "      <td>A Nortje</td>\n",
       "      <td>DC</td>\n",
       "      <td>R</td>\n",
       "      <td>Fast</td>\n",
       "      <td>South Africa</td>\n",
       "      <td>6</td>\n",
       "      <td>22.2</td>\n",
       "      <td>134</td>\n",
       "      <td>217</td>\n",
       "      <td>9</td>\n",
       "      <td>9</td>\n",
       "      <td>9.72</td>\n",
       "      <td>24.11</td>\n",
       "      <td>14.89</td>\n",
       "      <td>15.965</td>\n",
       "      <td>21</td>\n",
       "      <td>10</td>\n",
       "      <td>47</td>\n",
       "      <td>3.700</td>\n",
       "      <td>1.500</td>\n",
       "      <td>0.48</td>\n",
       "      <td>23.13</td>\n",
       "      <td>35.07</td>\n",
       "      <td>65.96</td>\n",
       "    </tr>\n",
       "    <tr>\n",
       "      <th>4</th>\n",
       "      <td>AD Russell</td>\n",
       "      <td>KKR</td>\n",
       "      <td>R</td>\n",
       "      <td>Medium Fast</td>\n",
       "      <td>West Indies</td>\n",
       "      <td>13</td>\n",
       "      <td>28.1</td>\n",
       "      <td>169</td>\n",
       "      <td>278</td>\n",
       "      <td>11</td>\n",
       "      <td>17</td>\n",
       "      <td>9.87</td>\n",
       "      <td>16.35</td>\n",
       "      <td>9.94</td>\n",
       "      <td>14.997</td>\n",
       "      <td>27</td>\n",
       "      <td>12</td>\n",
       "      <td>57</td>\n",
       "      <td>2.162</td>\n",
       "      <td>1.308</td>\n",
       "      <td>0.44</td>\n",
       "      <td>23.08</td>\n",
       "      <td>33.73</td>\n",
       "      <td>68.42</td>\n",
       "    </tr>\n",
       "    <tr>\n",
       "      <th>6</th>\n",
       "      <td>AJ Tye</td>\n",
       "      <td>LSG</td>\n",
       "      <td>R</td>\n",
       "      <td>Medium Fast</td>\n",
       "      <td>Australia</td>\n",
       "      <td>3</td>\n",
       "      <td>11.0</td>\n",
       "      <td>66</td>\n",
       "      <td>107</td>\n",
       "      <td>3</td>\n",
       "      <td>2</td>\n",
       "      <td>9.73</td>\n",
       "      <td>53.50</td>\n",
       "      <td>33.00</td>\n",
       "      <td>19.031</td>\n",
       "      <td>13</td>\n",
       "      <td>4</td>\n",
       "      <td>21</td>\n",
       "      <td>3.667</td>\n",
       "      <td>0.667</td>\n",
       "      <td>0.31</td>\n",
       "      <td>25.76</td>\n",
       "      <td>31.82</td>\n",
       "      <td>80.95</td>\n",
       "    </tr>\n",
       "    <tr>\n",
       "      <th>8</th>\n",
       "      <td>Akash Deep</td>\n",
       "      <td>RCB</td>\n",
       "      <td>R</td>\n",
       "      <td>Medium</td>\n",
       "      <td>India</td>\n",
       "      <td>5</td>\n",
       "      <td>18.5</td>\n",
       "      <td>113</td>\n",
       "      <td>205</td>\n",
       "      <td>6</td>\n",
       "      <td>5</td>\n",
       "      <td>10.88</td>\n",
       "      <td>41.00</td>\n",
       "      <td>22.60</td>\n",
       "      <td>18.855</td>\n",
       "      <td>15</td>\n",
       "      <td>14</td>\n",
       "      <td>39</td>\n",
       "      <td>3.700</td>\n",
       "      <td>1.000</td>\n",
       "      <td>0.93</td>\n",
       "      <td>25.66</td>\n",
       "      <td>34.51</td>\n",
       "      <td>74.36</td>\n",
       "    </tr>\n",
       "    <tr>\n",
       "      <th>10</th>\n",
       "      <td>AR Patel</td>\n",
       "      <td>DC</td>\n",
       "      <td>L</td>\n",
       "      <td>Offbreak</td>\n",
       "      <td>India</td>\n",
       "      <td>13</td>\n",
       "      <td>43.0</td>\n",
       "      <td>258</td>\n",
       "      <td>321</td>\n",
       "      <td>4</td>\n",
       "      <td>6</td>\n",
       "      <td>7.47</td>\n",
       "      <td>53.50</td>\n",
       "      <td>43.00</td>\n",
       "      <td>17.293</td>\n",
       "      <td>20</td>\n",
       "      <td>15</td>\n",
       "      <td>85</td>\n",
       "      <td>3.308</td>\n",
       "      <td>0.462</td>\n",
       "      <td>0.75</td>\n",
       "      <td>13.57</td>\n",
       "      <td>32.95</td>\n",
       "      <td>41.18</td>\n",
       "    </tr>\n",
       "  </tbody>\n",
       "</table>\n",
       "</div>"
      ],
      "text/plain": [
       "        Player Team Hand         Type       Country   I     O  Balls    R  \\\n",
       "1     A Nortje   DC    R         Fast  South Africa   6  22.2    134  217   \n",
       "4   AD Russell  KKR    R  Medium Fast   West Indies  13  28.1    169  278   \n",
       "6       AJ Tye  LSG    R  Medium Fast     Australia   3  11.0     66  107   \n",
       "8   Akash Deep  RCB    R       Medium         India   5  18.5    113  205   \n",
       "10    AR Patel   DC    L     Offbreak         India  13  43.0    258  321   \n",
       "\n",
       "    Extras   W   Econ    Avg     SR    ESRA  4s  6s  Dots    O/I    W/I  \\\n",
       "1        9   9   9.72  24.11  14.89  15.965  21  10    47  3.700  1.500   \n",
       "4       11  17   9.87  16.35   9.94  14.997  27  12    57  2.162  1.308   \n",
       "6        3   2   9.73  53.50  33.00  19.031  13   4    21  3.667  0.667   \n",
       "8        6   5  10.88  41.00  22.60  18.855  15  14    39  3.700  1.000   \n",
       "10       4   6   7.47  53.50  43.00  17.293  20  15    85  3.308  0.462   \n",
       "\n",
       "    6/4_ratio  Bound%  Dot %  Bound/Dots_%  \n",
       "1        0.48   23.13  35.07         65.96  \n",
       "4        0.44   23.08  33.73         68.42  \n",
       "6        0.31   25.76  31.82         80.95  \n",
       "8        0.93   25.66  34.51         74.36  \n",
       "10       0.75   13.57  32.95         41.18  "
      ]
     },
     "execution_count": 30,
     "metadata": {},
     "output_type": "execute_result"
    }
   ],
   "source": [
    "updated_df.head()"
   ]
  },
  {
   "cell_type": "markdown",
   "id": "7d63b56b",
   "metadata": {},
   "source": [
    "**Building a correlation chart**"
   ]
  },
  {
   "cell_type": "code",
   "execution_count": 31,
   "id": "cb9eb2ea",
   "metadata": {},
   "outputs": [
    {
     "data": {
      "image/png": "[encoded data removed]",
      "text/plain": [
       "<Figure size 1440x1080 with 2 Axes>"
      ]
     },
     "metadata": {
      "needs_background": "light"
     },
     "output_type": "display_data"
    }
   ],
   "source": [
    "plt.figure(figsize=(20,15))\n",
    "sns.heatmap(updated_df.corr()[(abs(updated_df.corr())>0.5) & (updated_df.corr()!= 1)],\n",
    "            annot=True,cmap='summer_r',linewidths=0.5,mask = np.triu(np.ones_like(updated_df.corr())) )\n",
    "plt.show()\n"
   ]
  },
  {
   "cell_type": "markdown",
   "id": "38a7f8c9",
   "metadata": {},
   "source": [
    "We can see there are a lot of correlation between the variables, since they are really derived off the 4 basic stats - Innings, Overs, Wickets and Runs conceded."
   ]
  },
  {
   "cell_type": "markdown",
   "id": "3a4b360b",
   "metadata": {},
   "source": [
    "**Analysing the dexterity of bowlers**"
   ]
  },
  {
   "cell_type": "code",
   "execution_count": 32,
   "id": "c5ff6a23",
   "metadata": {},
   "outputs": [],
   "source": [
    "tt= pd.crosstab(columns = updated_df['Hand'], index = updated_df['Type'])"
   ]
  },
  {
   "cell_type": "code",
   "execution_count": 33,
   "id": "0665885d",
   "metadata": {},
   "outputs": [
    {
     "data": {
      "application/vnd.plotly.v1+json": {
       "config": {
        "plotlyServerURL": "https://plot.ly"
       },
       "data": [
        {
         "domain": {
          "x": [
           0,
           0.45
          ],
          "y": [
           0,
           1
          ]
         },
         "labels": [
          "R",
          "L"
         ],
         "marker": {
          "colors": [
           "#00CC96",
           "gold"
          ]
         },
         "type": "pie",
         "values": [
          56,
          27
         ]
        },
        {
         "marker": {
          "color": "gold"
         },
         "name": "Left-Armers",
         "text": [
          2,
          1,
          1,
          7,
          8,
          8
         ],
         "type": "bar",
         "x": [
          "Fast",
          "Legbreak",
          "Legbreak Googly",
          "Medium",
          "Medium Fast",
          "Offbreak"
         ],
         "xaxis": "x",
         "y": [
          2,
          1,
          1,
          7,
          8,
          8
         ],
         "yaxis": "y"
        },
        {
         "name": "Right-Armers",
         "text": [
          14,
          5,
          4,
          12,
          13,
          8
         ],
         "type": "bar",
         "x": [
          "Fast",
          "Legbreak",
          "Legbreak Googly",
          "Medium",
          "Medium Fast",
          "Offbreak"
         ],
         "xaxis": "x",
         "y": [
          14,
          5,
          4,
          12,
          13,
          8
         ],
         "yaxis": "y"
        }
       ],
       "layout": {
        "height": 400,
        "template": {
         "data": {
          "bar": [
           {
            "error_x": {
             "color": "#2a3f5f"
            },
            "error_y": {
             "color": "#2a3f5f"
            },
            "marker": {
             "line": {
              "color": "#E5ECF6",
              "width": 0.5
             },
             "pattern": {
              "fillmode": "overlay",
              "size": 10,
              "solidity": 0.2
             }
            },
            "type": "bar"
           }
          ],
          "barpolar": [
           {
            "marker": {
             "line": {
              "color": "#E5ECF6",
              "width": 0.5
             },
             "pattern": {
              "fillmode": "overlay",
              "size": 10,
              "solidity": 0.2
             }
            },
            "type": "barpolar"
           }
          ],
          "carpet": [
           {
            "aaxis": {
             "endlinecolor": "#2a3f5f",
             "gridcolor": "white",
             "linecolor": "white",
             "minorgridcolor": "white",
             "startlinecolor": "#2a3f5f"
            },
            "baxis": {
             "endlinecolor": "#2a3f5f",
             "gridcolor": "white",
             "linecolor": "white",
             "minorgridcolor": "white",
             "startlinecolor": "#2a3f5f"
            },
            "type": "carpet"
           }
          ],
          "choropleth": [
           {
            "colorbar": {
             "outlinewidth": 0,
             "ticks": ""
            },
            "type": "choropleth"
           }
          ],
          "contour": [
           {
            "colorbar": {
             "outlinewidth": 0,
             "ticks": ""
            },
            "colorscale": [
             [
              0,
              "#0d0887"
             ],
             [
              0.1111111111111111,
              "#46039f"
             ],
             [
              0.2222222222222222,
              "#7201a8"
             ],
             [
              0.3333333333333333,
              "#9c179e"
             ],
             [
              0.4444444444444444,
              "#bd3786"
             ],
             [
              0.5555555555555556,
              "#d8576b"
             ],
             [
              0.6666666666666666,
              "#ed7953"
             ],
             [
              0.7777777777777778,
              "#fb9f3a"
             ],
             [
              0.8888888888888888,
              "#fdca26"
             ],
             [
              1,
              "#f0f921"
             ]
            ],
            "type": "contour"
           }
          ],
          "contourcarpet": [
           {
            "colorbar": {
             "outlinewidth": 0,
             "ticks": ""
            },
            "type": "contourcarpet"
           }
          ],
          "heatmap": [
           {
            "colorbar": {
             "outlinewidth": 0,
             "ticks": ""
            },
            "colorscale": [
             [
              0,
              "#0d0887"
             ],
             [
              0.1111111111111111,
              "#46039f"
             ],
             [
              0.2222222222222222,
              "#7201a8"
             ],
             [
              0.3333333333333333,
              "#9c179e"
             ],
             [
              0.4444444444444444,
              "#bd3786"
             ],
             [
              0.5555555555555556,
              "#d8576b"
             ],
             [
              0.6666666666666666,
              "#ed7953"
             ],
             [
              0.7777777777777778,
              "#fb9f3a"
             ],
             [
              0.8888888888888888,
              "#fdca26"
             ],
             [
              1,
              "#f0f921"
             ]
            ],
            "type": "heatmap"
           }
          ],
          "heatmapgl": [
           {
            "colorbar": {
             "outlinewidth": 0,
             "ticks": ""
            },
            "colorscale": [
             [
              0,
              "#0d0887"
             ],
             [
              0.1111111111111111,
              "#46039f"
             ],
             [
              0.2222222222222222,
              "#7201a8"
             ],
             [
              0.3333333333333333,
              "#9c179e"
             ],
             [
              0.4444444444444444,
              "#bd3786"
             ],
             [
              0.5555555555555556,
              "#d8576b"
             ],
             [
              0.6666666666666666,
              "#ed7953"
             ],
             [
              0.7777777777777778,
              "#fb9f3a"
             ],
             [
              0.8888888888888888,
              "#fdca26"
             ],
             [
              1,
              "#f0f921"
             ]
            ],
            "type": "heatmapgl"
           }
          ],
          "histogram": [
           {
            "marker": {
             "pattern": {
              "fillmode": "overlay",
              "size": 10,
              "solidity": 0.2
             }
            },
            "type": "histogram"
           }
          ],
          "histogram2d": [
           {
            "colorbar": {
             "outlinewidth": 0,
             "ticks": ""
            },
            "colorscale": [
             [
              0,
              "#0d0887"
             ],
             [
              0.1111111111111111,
              "#46039f"
             ],
             [
              0.2222222222222222,
              "#7201a8"
             ],
             [
              0.3333333333333333,
              "#9c179e"
             ],
             [
              0.4444444444444444,
              "#bd3786"
             ],
             [
              0.5555555555555556,
              "#d8576b"
             ],
             [
              0.6666666666666666,
              "#ed7953"
             ],
             [
              0.7777777777777778,
              "#fb9f3a"
             ],
             [
              0.8888888888888888,
              "#fdca26"
             ],
             [
              1,
              "#f0f921"
             ]
            ],
            "type": "histogram2d"
           }
          ],
          "histogram2dcontour": [
           {
            "colorbar": {
             "outlinewidth": 0,
             "ticks": ""
            },
            "colorscale": [
             [
              0,
              "#0d0887"
             ],
             [
              0.1111111111111111,
              "#46039f"
             ],
             [
              0.2222222222222222,
              "#7201a8"
             ],
             [
              0.3333333333333333,
              "#9c179e"
             ],
             [
              0.4444444444444444,
              "#bd3786"
             ],
             [
              0.5555555555555556,
              "#d8576b"
             ],
             [
              0.6666666666666666,
              "#ed7953"
             ],
             [
              0.7777777777777778,
              "#fb9f3a"
             ],
             [
              0.8888888888888888,
              "#fdca26"
             ],
             [
              1,
              "#f0f921"
             ]
            ],
            "type": "histogram2dcontour"
           }
          ],
          "mesh3d": [
           {
            "colorbar": {
             "outlinewidth": 0,
             "ticks": ""
            },
            "type": "mesh3d"
           }
          ],
          "parcoords": [
           {
            "line": {
             "colorbar": {
              "outlinewidth": 0,
              "ticks": ""
             }
            },
            "type": "parcoords"
           }
          ],
          "pie": [
           {
            "automargin": true,
            "type": "pie"
           }
          ],
          "scatter": [
           {
            "marker": {
             "colorbar": {
              "outlinewidth": 0,
              "ticks": ""
             }
            },
            "type": "scatter"
           }
          ],
          "scatter3d": [
           {
            "line": {
             "colorbar": {
              "outlinewidth": 0,
              "ticks": ""
             }
            },
            "marker": {
             "colorbar": {
              "outlinewidth": 0,
              "ticks": ""
             }
            },
            "type": "scatter3d"
           }
          ],
          "scattercarpet": [
           {
            "marker": {
             "colorbar": {
              "outlinewidth": 0,
              "ticks": ""
             }
            },
            "type": "scattercarpet"
           }
          ],
          "scattergeo": [
           {
            "marker": {
             "colorbar": {
              "outlinewidth": 0,
              "ticks": ""
             }
            },
            "type": "scattergeo"
           }
          ],
          "scattergl": [
           {
            "marker": {
             "colorbar": {
              "outlinewidth": 0,
              "ticks": ""
             }
            },
            "type": "scattergl"
           }
          ],
          "scattermapbox": [
           {
            "marker": {
             "colorbar": {
              "outlinewidth": 0,
              "ticks": ""
             }
            },
            "type": "scattermapbox"
           }
          ],
          "scatterpolar": [
           {
            "marker": {
             "colorbar": {
              "outlinewidth": 0,
              "ticks": ""
             }
            },
            "type": "scatterpolar"
           }
          ],
          "scatterpolargl": [
           {
            "marker": {
             "colorbar": {
              "outlinewidth": 0,
              "ticks": ""
             }
            },
            "type": "scatterpolargl"
           }
          ],
          "scatterternary": [
           {
            "marker": {
             "colorbar": {
              "outlinewidth": 0,
              "ticks": ""
             }
            },
            "type": "scatterternary"
           }
          ],
          "surface": [
           {
            "colorbar": {
             "outlinewidth": 0,
             "ticks": ""
            },
            "colorscale": [
             [
              0,
              "#0d0887"
             ],
             [
              0.1111111111111111,
              "#46039f"
             ],
             [
              0.2222222222222222,
              "#7201a8"
             ],
             [
              0.3333333333333333,
              "#9c179e"
             ],
             [
              0.4444444444444444,
              "#bd3786"
             ],
             [
              0.5555555555555556,
              "#d8576b"
             ],
             [
              0.6666666666666666,
              "#ed7953"
             ],
             [
              0.7777777777777778,
              "#fb9f3a"
             ],
             [
              0.8888888888888888,
              "#fdca26"
             ],
             [
              1,
              "#f0f921"
             ]
            ],
            "type": "surface"
           }
          ],
          "table": [
           {
            "cells": {
             "fill": {
              "color": "#EBF0F8"
             },
             "line": {
              "color": "white"
             }
            },
            "header": {
             "fill": {
              "color": "#C8D4E3"
             },
             "line": {
              "color": "white"
             }
            },
            "type": "table"
           }
          ]
         },
         "layout": {
          "annotationdefaults": {
           "arrowcolor": "#2a3f5f",
           "arrowhead": 0,
           "arrowwidth": 1
          },
          "autotypenumbers": "strict",
          "coloraxis": {
           "colorbar": {
            "outlinewidth": 0,
            "ticks": ""
           }
          },
          "colorscale": {
           "diverging": [
            [
             0,
             "#8e0152"
            ],
            [
             0.1,
             "#c51b7d"
            ],
            [
             0.2,
             "#de77ae"
            ],
            [
             0.3,
             "#f1b6da"
            ],
            [
             0.4,
             "#fde0ef"
            ],
            [
             0.5,
             "#f7f7f7"
            ],
            [
             0.6,
             "#e6f5d0"
            ],
            [
             0.7,
             "#b8e186"
            ],
            [
             0.8,
             "#7fbc41"
            ],
            [
             0.9,
             "#4d9221"
            ],
            [
             1,
             "#276419"
            ]
           ],
           "sequential": [
            [
             0,
             "#0d0887"
            ],
            [
             0.1111111111111111,
             "#46039f"
            ],
            [
             0.2222222222222222,
             "#7201a8"
            ],
            [
             0.3333333333333333,
             "#9c179e"
            ],
            [
             0.4444444444444444,
             "#bd3786"
            ],
            [
             0.5555555555555556,
             "#d8576b"
            ],
            [
             0.6666666666666666,
             "#ed7953"
            ],
            [
             0.7777777777777778,
             "#fb9f3a"
            ],
            [
             0.8888888888888888,
             "#fdca26"
            ],
            [
             1,
             "#f0f921"
            ]
           ],
           "sequentialminus": [
            [
             0,
             "#0d0887"
            ],
            [
             0.1111111111111111,
             "#46039f"
            ],
            [
             0.2222222222222222,
             "#7201a8"
            ],
            [
             0.3333333333333333,
             "#9c179e"
            ],
            [
             0.4444444444444444,
             "#bd3786"
            ],
            [
             0.5555555555555556,
             "#d8576b"
            ],
            [
             0.6666666666666666,
             "#ed7953"
            ],
            [
             0.7777777777777778,
             "#fb9f3a"
            ],
            [
             0.8888888888888888,
             "#fdca26"
            ],
            [
             1,
             "#f0f921"
            ]
           ]
          },
          "colorway": [
           "#636efa",
           "#EF553B",
           "#00cc96",
           "#ab63fa",
           "#FFA15A",
           "#19d3f3",
           "#FF6692",
           "#B6E880",
           "#FF97FF",
           "#FECB52"
          ],
          "font": {
           "color": "#2a3f5f"
          },
          "geo": {
           "bgcolor": "white",
           "lakecolor": "white",
           "landcolor": "#E5ECF6",
           "showlakes": true,
           "showland": true,
           "subunitcolor": "white"
          },
          "hoverlabel": {
           "align": "left"
          },
          "hovermode": "closest",
          "mapbox": {
           "style": "light"
          },
          "paper_bgcolor": "white",
          "plot_bgcolor": "#E5ECF6",
          "polar": {
           "angularaxis": {
            "gridcolor": "white",
            "linecolor": "white",
            "ticks": ""
           },
           "bgcolor": "#E5ECF6",
           "radialaxis": {
            "gridcolor": "white",
            "linecolor": "white",
            "ticks": ""
           }
          },
          "scene": {
           "xaxis": {
            "backgroundcolor": "#E5ECF6",
            "gridcolor": "white",
            "gridwidth": 2,
            "linecolor": "white",
            "showbackground": true,
            "ticks": "",
            "zerolinecolor": "white"
           },
           "yaxis": {
            "backgroundcolor": "#E5ECF6",
            "gridcolor": "white",
            "gridwidth": 2,
            "linecolor": "white",
            "showbackground": true,
            "ticks": "",
            "zerolinecolor": "white"
           },
           "zaxis": {
            "backgroundcolor": "#E5ECF6",
            "gridcolor": "white",
            "gridwidth": 2,
            "linecolor": "white",
            "showbackground": true,
            "ticks": "",
            "zerolinecolor": "white"
           }
          },
          "shapedefaults": {
           "line": {
            "color": "#2a3f5f"
           }
          },
          "ternary": {
           "aaxis": {
            "gridcolor": "white",
            "linecolor": "white",
            "ticks": ""
           },
           "baxis": {
            "gridcolor": "white",
            "linecolor": "white",
            "ticks": ""
           },
           "bgcolor": "#E5ECF6",
           "caxis": {
            "gridcolor": "white",
            "linecolor": "white",
            "ticks": ""
           }
          },
          "title": {
           "x": 0.05
          },
          "xaxis": {
           "automargin": true,
           "gridcolor": "white",
           "linecolor": "white",
           "ticks": "",
           "title": {
            "standoff": 15
           },
           "zerolinecolor": "white",
           "zerolinewidth": 2
          },
          "yaxis": {
           "automargin": true,
           "gridcolor": "white",
           "linecolor": "white",
           "ticks": "",
           "title": {
            "standoff": 15
           },
           "zerolinecolor": "white",
           "zerolinewidth": 2
          }
         }
        },
        "title": {
         "text": "Count of bowlers according to their dexterity"
        },
        "width": 980,
        "xaxis": {
         "anchor": "y",
         "domain": [
          0.55,
          1
         ]
        },
        "yaxis": {
         "anchor": "x",
         "domain": [
          0,
          1
         ]
        }
       }
      },
      "text/html": [
       "<div>                            <div id=\"0f88fc02-11c1-48a5-84ce-82605bc74879\" class=\"plotly-graph-div\" style=\"height:400px; width:980px;\"></div>            <script type=\"text/javascript\">                require([\"plotly\"], function(Plotly) {                    window.PLOTLYENV=window.PLOTLYENV || {};                                    if (document.getElementById(\"0f88fc02-11c1-48a5-84ce-82605bc74879\")) {                    Plotly.newPlot(                        \"0f88fc02-11c1-48a5-84ce-82605bc74879\",                        [{\"labels\":[\"R\",\"L\"],\"marker\":{\"colors\":[\"#00CC96\",\"gold\"]},\"values\":[56,27],\"type\":\"pie\",\"domain\":{\"x\":[0.0,0.45],\"y\":[0.0,1.0]}},{\"marker\":{\"color\":\"gold\"},\"name\":\"Left-Armers\",\"text\":[2.0,1.0,1.0,7.0,8.0,8.0],\"x\":[\"Fast\",\"Legbreak\",\"Legbreak Googly\",\"Medium\",\"Medium Fast\",\"Offbreak\"],\"y\":[2,1,1,7,8,8],\"type\":\"bar\",\"xaxis\":\"x\",\"yaxis\":\"y\"},{\"name\":\"Right-Armers\",\"text\":[14.0,5.0,4.0,12.0,13.0,8.0],\"x\":[\"Fast\",\"Legbreak\",\"Legbreak Googly\",\"Medium\",\"Medium Fast\",\"Offbreak\"],\"y\":[14,5,4,12,13,8],\"type\":\"bar\",\"xaxis\":\"x\",\"yaxis\":\"y\"}],                        {\"template\":{\"data\":{\"bar\":[{\"error_x\":{\"color\":\"#2a3f5f\"},\"error_y\":{\"color\":\"#2a3f5f\"},\"marker\":{\"line\":{\"color\":\"#E5ECF6\",\"width\":0.5},\"pattern\":{\"fillmode\":\"overlay\",\"size\":10,\"solidity\":0.2}},\"type\":\"bar\"}],\"barpolar\":[{\"marker\":{\"line\":{\"color\":\"#E5ECF6\",\"width\":0.5},\"pattern\":{\"fillmode\":\"overlay\",\"size\":10,\"solidity\":0.2}},\"type\":\"barpolar\"}],\"carpet\":[{\"aaxis\":{\"endlinecolor\":\"#2a3f5f\",\"gridcolor\":\"white\",\"linecolor\":\"white\",\"minorgridcolor\":\"white\",\"startlinecolor\":\"#2a3f5f\"},\"baxis\":{\"endlinecolor\":\"#2a3f5f\",\"gridcolor\":\"white\",\"linecolor\":\"white\",\"minorgridcolor\":\"white\",\"startlinecolor\":\"#2a3f5f\"},\"type\":\"carpet\"}],\"choropleth\":[{\"colorbar\":{\"outlinewidth\":0,\"ticks\":\"\"},\"type\":\"choropleth\"}],\"contour\":[{\"colorbar\":{\"outlinewidth\":0,\"ticks\":\"\"},\"colorscale\":[[0.0,\"#0d0887\"],[0.1111111111111111,\"#46039f\"],[0.2222222222222222,\"#7201a8\"],[0.3333333333333333,\"#9c179e\"],[0.4444444444444444,\"#bd3786\"],[0.5555555555555556,\"#d8576b\"],[0.6666666666666666,\"#ed7953\"],[0.7777777777777778,\"#fb9f3a\"],[0.8888888888888888,\"#fdca26\"],[1.0,\"#f0f921\"]],\"type\":\"contour\"}],\"contourcarpet\":[{\"colorbar\":{\"outlinewidth\":0,\"ticks\":\"\"},\"type\":\"contourcarpet\"}],\"heatmap\":[{\"colorbar\":{\"outlinewidth\":0,\"ticks\":\"\"},\"colorscale\":[[0.0,\"#0d0887\"],[0.1111111111111111,\"#46039f\"],[0.2222222222222222,\"#7201a8\"],[0.3333333333333333,\"#9c179e\"],[0.4444444444444444,\"#bd3786\"],[0.5555555555555556,\"#d8576b\"],[0.6666666666666666,\"#ed7953\"],[0.7777777777777778,\"#fb9f3a\"],[0.8888888888888888,\"#fdca26\"],[1.0,\"#f0f921\"]],\"type\":\"heatmap\"}],\"heatmapgl\":[{\"colorbar\":{\"outlinewidth\":0,\"ticks\":\"\"},\"colorscale\":[[0.0,\"#0d0887\"],[0.1111111111111111,\"#46039f\"],[0.2222222222222222,\"#7201a8\"],[0.3333333333333333,\"#9c179e\"],[0.4444444444444444,\"#bd3786\"],[0.5555555555555556,\"#d8576b\"],[0.6666666666666666,\"#ed7953\"],[0.7777777777777778,\"#fb9f3a\"],[0.8888888888888888,\"#fdca26\"],[1.0,\"#f0f921\"]],\"type\":\"heatmapgl\"}],\"histogram\":[{\"marker\":{\"pattern\":{\"fillmode\":\"overlay\",\"size\":10,\"solidity\":0.2}},\"type\":\"histogram\"}],\"histogram2d\":[{\"colorbar\":{\"outlinewidth\":0,\"ticks\":\"\"},\"colorscale\":[[0.0,\"#0d0887\"],[0.1111111111111111,\"#46039f\"],[0.2222222222222222,\"#7201a8\"],[0.3333333333333333,\"#9c179e\"],[0.4444444444444444,\"#bd3786\"],[0.5555555555555556,\"#d8576b\"],[0.6666666666666666,\"#ed7953\"],[0.7777777777777778,\"#fb9f3a\"],[0.8888888888888888,\"#fdca26\"],[1.0,\"#f0f921\"]],\"type\":\"histogram2d\"}],\"histogram2dcontour\":[{\"colorbar\":{\"outlinewidth\":0,\"ticks\":\"\"},\"colorscale\":[[0.0,\"#0d0887\"],[0.1111111111111111,\"#46039f\"],[0.2222222222222222,\"#7201a8\"],[0.3333333333333333,\"#9c179e\"],[0.4444444444444444,\"#bd3786\"],[0.5555555555555556,\"#d8576b\"],[0.6666666666666666,\"#ed7953\"],[0.7777777777777778,\"#fb9f3a\"],[0.8888888888888888,\"#fdca26\"],[1.0,\"#f0f921\"]],\"type\":\"histogram2dcontour\"}],\"mesh3d\":[{\"colorbar\":{\"outlinewidth\":0,\"ticks\":\"\"},\"type\":\"mesh3d\"}],\"parcoords\":[{\"line\":{\"colorbar\":{\"outlinewidth\":0,\"ticks\":\"\"}},\"type\":\"parcoords\"}],\"pie\":[{\"automargin\":true,\"type\":\"pie\"}],\"scatter\":[{\"marker\":{\"colorbar\":{\"outlinewidth\":0,\"ticks\":\"\"}},\"type\":\"scatter\"}],\"scatter3d\":[{\"line\":{\"colorbar\":{\"outlinewidth\":0,\"ticks\":\"\"}},\"marker\":{\"colorbar\":{\"outlinewidth\":0,\"ticks\":\"\"}},\"type\":\"scatter3d\"}],\"scattercarpet\":[{\"marker\":{\"colorbar\":{\"outlinewidth\":0,\"ticks\":\"\"}},\"type\":\"scattercarpet\"}],\"scattergeo\":[{\"marker\":{\"colorbar\":{\"outlinewidth\":0,\"ticks\":\"\"}},\"type\":\"scattergeo\"}],\"scattergl\":[{\"marker\":{\"colorbar\":{\"outlinewidth\":0,\"ticks\":\"\"}},\"type\":\"scattergl\"}],\"scattermapbox\":[{\"marker\":{\"colorbar\":{\"outlinewidth\":0,\"ticks\":\"\"}},\"type\":\"scattermapbox\"}],\"scatterpolar\":[{\"marker\":{\"colorbar\":{\"outlinewidth\":0,\"ticks\":\"\"}},\"type\":\"scatterpolar\"}],\"scatterpolargl\":[{\"marker\":{\"colorbar\":{\"outlinewidth\":0,\"ticks\":\"\"}},\"type\":\"scatterpolargl\"}],\"scatterternary\":[{\"marker\":{\"colorbar\":{\"outlinewidth\":0,\"ticks\":\"\"}},\"type\":\"scatterternary\"}],\"surface\":[{\"colorbar\":{\"outlinewidth\":0,\"ticks\":\"\"},\"colorscale\":[[0.0,\"#0d0887\"],[0.1111111111111111,\"#46039f\"],[0.2222222222222222,\"#7201a8\"],[0.3333333333333333,\"#9c179e\"],[0.4444444444444444,\"#bd3786\"],[0.5555555555555556,\"#d8576b\"],[0.6666666666666666,\"#ed7953\"],[0.7777777777777778,\"#fb9f3a\"],[0.8888888888888888,\"#fdca26\"],[1.0,\"#f0f921\"]],\"type\":\"surface\"}],\"table\":[{\"cells\":{\"fill\":{\"color\":\"#EBF0F8\"},\"line\":{\"color\":\"white\"}},\"header\":{\"fill\":{\"color\":\"#C8D4E3\"},\"line\":{\"color\":\"white\"}},\"type\":\"table\"}]},\"layout\":{\"annotationdefaults\":{\"arrowcolor\":\"#2a3f5f\",\"arrowhead\":0,\"arrowwidth\":1},\"autotypenumbers\":\"strict\",\"coloraxis\":{\"colorbar\":{\"outlinewidth\":0,\"ticks\":\"\"}},\"colorscale\":{\"diverging\":[[0,\"#8e0152\"],[0.1,\"#c51b7d\"],[0.2,\"#de77ae\"],[0.3,\"#f1b6da\"],[0.4,\"#fde0ef\"],[0.5,\"#f7f7f7\"],[0.6,\"#e6f5d0\"],[0.7,\"#b8e186\"],[0.8,\"#7fbc41\"],[0.9,\"#4d9221\"],[1,\"#276419\"]],\"sequential\":[[0.0,\"#0d0887\"],[0.1111111111111111,\"#46039f\"],[0.2222222222222222,\"#7201a8\"],[0.3333333333333333,\"#9c179e\"],[0.4444444444444444,\"#bd3786\"],[0.5555555555555556,\"#d8576b\"],[0.6666666666666666,\"#ed7953\"],[0.7777777777777778,\"#fb9f3a\"],[0.8888888888888888,\"#fdca26\"],[1.0,\"#f0f921\"]],\"sequentialminus\":[[0.0,\"#0d0887\"],[0.1111111111111111,\"#46039f\"],[0.2222222222222222,\"#7201a8\"],[0.3333333333333333,\"#9c179e\"],[0.4444444444444444,\"#bd3786\"],[0.5555555555555556,\"#d8576b\"],[0.6666666666666666,\"#ed7953\"],[0.7777777777777778,\"#fb9f3a\"],[0.8888888888888888,\"#fdca26\"],[1.0,\"#f0f921\"]]},\"colorway\":[\"#636efa\",\"#EF553B\",\"#00cc96\",\"#ab63fa\",\"#FFA15A\",\"#19d3f3\",\"#FF6692\",\"#B6E880\",\"#FF97FF\",\"#FECB52\"],\"font\":{\"color\":\"#2a3f5f\"},\"geo\":{\"bgcolor\":\"white\",\"lakecolor\":\"white\",\"landcolor\":\"#E5ECF6\",\"showlakes\":true,\"showland\":true,\"subunitcolor\":\"white\"},\"hoverlabel\":{\"align\":\"left\"},\"hovermode\":\"closest\",\"mapbox\":{\"style\":\"light\"},\"paper_bgcolor\":\"white\",\"plot_bgcolor\":\"#E5ECF6\",\"polar\":{\"angularaxis\":{\"gridcolor\":\"white\",\"linecolor\":\"white\",\"ticks\":\"\"},\"bgcolor\":\"#E5ECF6\",\"radialaxis\":{\"gridcolor\":\"white\",\"linecolor\":\"white\",\"ticks\":\"\"}},\"scene\":{\"xaxis\":{\"backgroundcolor\":\"#E5ECF6\",\"gridcolor\":\"white\",\"gridwidth\":2,\"linecolor\":\"white\",\"showbackground\":true,\"ticks\":\"\",\"zerolinecolor\":\"white\"},\"yaxis\":{\"backgroundcolor\":\"#E5ECF6\",\"gridcolor\":\"white\",\"gridwidth\":2,\"linecolor\":\"white\",\"showbackground\":true,\"ticks\":\"\",\"zerolinecolor\":\"white\"},\"zaxis\":{\"backgroundcolor\":\"#E5ECF6\",\"gridcolor\":\"white\",\"gridwidth\":2,\"linecolor\":\"white\",\"showbackground\":true,\"ticks\":\"\",\"zerolinecolor\":\"white\"}},\"shapedefaults\":{\"line\":{\"color\":\"#2a3f5f\"}},\"ternary\":{\"aaxis\":{\"gridcolor\":\"white\",\"linecolor\":\"white\",\"ticks\":\"\"},\"baxis\":{\"gridcolor\":\"white\",\"linecolor\":\"white\",\"ticks\":\"\"},\"bgcolor\":\"#E5ECF6\",\"caxis\":{\"gridcolor\":\"white\",\"linecolor\":\"white\",\"ticks\":\"\"}},\"title\":{\"x\":0.05},\"xaxis\":{\"automargin\":true,\"gridcolor\":\"white\",\"linecolor\":\"white\",\"ticks\":\"\",\"title\":{\"standoff\":15},\"zerolinecolor\":\"white\",\"zerolinewidth\":2},\"yaxis\":{\"automargin\":true,\"gridcolor\":\"white\",\"linecolor\":\"white\",\"ticks\":\"\",\"title\":{\"standoff\":15},\"zerolinecolor\":\"white\",\"zerolinewidth\":2}}},\"xaxis\":{\"anchor\":\"y\",\"domain\":[0.55,1.0]},\"yaxis\":{\"anchor\":\"x\",\"domain\":[0.0,1.0]},\"title\":{\"text\":\"Count of bowlers according to their dexterity\"},\"height\":400,\"width\":980},                        {\"responsive\": true}                    ).then(function(){\n",
       "                            \n",
       "var gd = document.getElementById('0f88fc02-11c1-48a5-84ce-82605bc74879');\n",
       "var x = new MutationObserver(function (mutations, observer) {{\n",
       "        var display = window.getComputedStyle(gd).display;\n",
       "        if (!display || display === 'none') {{\n",
       "            console.log([gd, 'removed!']);\n",
       "            Plotly.purge(gd);\n",
       "            observer.disconnect();\n",
       "        }}\n",
       "}});\n",
       "\n",
       "// Listen for the removal of the full notebook cells\n",
       "var notebookContainer = gd.closest('#notebook-container');\n",
       "if (notebookContainer) {{\n",
       "    x.observe(notebookContainer, {childList: true});\n",
       "}}\n",
       "\n",
       "// Listen for the clearing of the current output cell\n",
       "var outputEl = gd.closest('.output');\n",
       "if (outputEl) {{\n",
       "    x.observe(outputEl, {childList: true});\n",
       "}}\n",
       "\n",
       "                        })                };                });            </script>        </div>"
      ]
     },
     "metadata": {},
     "output_type": "display_data"
    },
    {
     "data": {
      "text/html": [
       "<div>\n",
       "<style scoped>\n",
       "    .dataframe tbody tr th:only-of-type {\n",
       "        vertical-align: middle;\n",
       "    }\n",
       "\n",
       "    .dataframe tbody tr th {\n",
       "        vertical-align: top;\n",
       "    }\n",
       "\n",
       "    .dataframe thead th {\n",
       "        text-align: right;\n",
       "    }\n",
       "</style>\n",
       "<table border=\"1\" class=\"dataframe\">\n",
       "  <thead>\n",
       "    <tr style=\"text-align: right;\">\n",
       "      <th>Hand</th>\n",
       "      <th>L</th>\n",
       "      <th>R</th>\n",
       "      <th>Total</th>\n",
       "    </tr>\n",
       "    <tr>\n",
       "      <th>Type</th>\n",
       "      <th></th>\n",
       "      <th></th>\n",
       "      <th></th>\n",
       "    </tr>\n",
       "  </thead>\n",
       "  <tbody>\n",
       "    <tr>\n",
       "      <th>Fast</th>\n",
       "      <td>2</td>\n",
       "      <td>14</td>\n",
       "      <td>16</td>\n",
       "    </tr>\n",
       "    <tr>\n",
       "      <th>Legbreak</th>\n",
       "      <td>1</td>\n",
       "      <td>5</td>\n",
       "      <td>6</td>\n",
       "    </tr>\n",
       "    <tr>\n",
       "      <th>Legbreak Googly</th>\n",
       "      <td>1</td>\n",
       "      <td>4</td>\n",
       "      <td>5</td>\n",
       "    </tr>\n",
       "    <tr>\n",
       "      <th>Medium</th>\n",
       "      <td>7</td>\n",
       "      <td>12</td>\n",
       "      <td>19</td>\n",
       "    </tr>\n",
       "    <tr>\n",
       "      <th>Medium Fast</th>\n",
       "      <td>8</td>\n",
       "      <td>13</td>\n",
       "      <td>21</td>\n",
       "    </tr>\n",
       "    <tr>\n",
       "      <th>Offbreak</th>\n",
       "      <td>8</td>\n",
       "      <td>8</td>\n",
       "      <td>16</td>\n",
       "    </tr>\n",
       "    <tr>\n",
       "      <th>Total</th>\n",
       "      <td>27</td>\n",
       "      <td>56</td>\n",
       "      <td>83</td>\n",
       "    </tr>\n",
       "  </tbody>\n",
       "</table>\n",
       "</div>"
      ],
      "text/plain": [
       "Hand              L   R  Total\n",
       "Type                          \n",
       "Fast              2  14     16\n",
       "Legbreak          1   5      6\n",
       "Legbreak Googly   1   4      5\n",
       "Medium            7  12     19\n",
       "Medium Fast       8  13     21\n",
       "Offbreak          8   8     16\n",
       "Total            27  56     83"
      ]
     },
     "execution_count": 33,
     "metadata": {},
     "output_type": "execute_result"
    }
   ],
   "source": [
    "from plotly.subplots import make_subplots\n",
    "import plotly.graph_objects as go\n",
    "\n",
    "fig = make_subplots(rows=1, cols=2,specs=[[{'type':'Domain'},{'type':'xy'}]])\n",
    "\n",
    "fig.add_trace(go.Pie(labels=updated_df['Hand'].value_counts().index,\n",
    "                     values=updated_df['Hand'].value_counts().values,\n",
    "                     marker_colors=['#00CC96','gold']),row=1, col=1)\n",
    "\n",
    "fig.add_trace(go.Bar(name='Left-Armers', x=tt.index, y=tt['L'],text=tt['L'],marker_color='gold'),row=1, col=2)\n",
    "fig.add_trace(go.Bar(name='Right-Armers', x=tt.index, y=tt['R'],text=tt['R']),row=1, col=2)\n",
    "\n",
    "\n",
    "\n",
    "fig.update_layout(height=400, width=980, title_text=\"Count of bowlers according to their dexterity\")\n",
    "fig.show()\n",
    "pd.crosstab(columns = updated_df['Hand'], index = updated_df['Type'],margins=True,margins_name='Total')"
   ]
  },
  {
   "cell_type": "markdown",
   "id": "f2dd6548",
   "metadata": {},
   "source": [
    "Here, we see the total constitution of the types of bowlers and their handedness. "
   ]
  },
  {
   "cell_type": "markdown",
   "id": "600a8f25",
   "metadata": {},
   "source": [
    "32.5 % of the bowlers are left handed, which is definitely an indication that T20 is moving towards out-strategizing, since left-armers give that edge to the teams. The angle from which they bowl is difficult for the batters to face since there aren't a lot of leftie bowlers to begin with at the grassroots level."
   ]
  },
  {
   "cell_type": "code",
   "execution_count": 34,
   "id": "a9e580a2",
   "metadata": {},
   "outputs": [
    {
     "name": "stdout",
     "output_type": "stream",
     "text": [
      "Indian bowler constituency\n"
     ]
    },
    {
     "data": {
      "text/html": [
       "<div>\n",
       "<style scoped>\n",
       "    .dataframe tbody tr th:only-of-type {\n",
       "        vertical-align: middle;\n",
       "    }\n",
       "\n",
       "    .dataframe tbody tr th {\n",
       "        vertical-align: top;\n",
       "    }\n",
       "\n",
       "    .dataframe thead th {\n",
       "        text-align: right;\n",
       "    }\n",
       "</style>\n",
       "<table border=\"1\" class=\"dataframe\">\n",
       "  <thead>\n",
       "    <tr style=\"text-align: right;\">\n",
       "      <th>Hand</th>\n",
       "      <th>L</th>\n",
       "      <th>R</th>\n",
       "      <th>Total</th>\n",
       "    </tr>\n",
       "    <tr>\n",
       "      <th>Type</th>\n",
       "      <th></th>\n",
       "      <th></th>\n",
       "      <th></th>\n",
       "    </tr>\n",
       "  </thead>\n",
       "  <tbody>\n",
       "    <tr>\n",
       "      <th>Fast</th>\n",
       "      <td>1</td>\n",
       "      <td>6</td>\n",
       "      <td>7</td>\n",
       "    </tr>\n",
       "    <tr>\n",
       "      <th>Legbreak</th>\n",
       "      <td>1</td>\n",
       "      <td>3</td>\n",
       "      <td>4</td>\n",
       "    </tr>\n",
       "    <tr>\n",
       "      <th>Legbreak Googly</th>\n",
       "      <td>1</td>\n",
       "      <td>2</td>\n",
       "      <td>3</td>\n",
       "    </tr>\n",
       "    <tr>\n",
       "      <th>Medium</th>\n",
       "      <td>4</td>\n",
       "      <td>7</td>\n",
       "      <td>11</td>\n",
       "    </tr>\n",
       "    <tr>\n",
       "      <th>Medium Fast</th>\n",
       "      <td>4</td>\n",
       "      <td>7</td>\n",
       "      <td>11</td>\n",
       "    </tr>\n",
       "    <tr>\n",
       "      <th>Offbreak</th>\n",
       "      <td>7</td>\n",
       "      <td>5</td>\n",
       "      <td>12</td>\n",
       "    </tr>\n",
       "    <tr>\n",
       "      <th>Total</th>\n",
       "      <td>18</td>\n",
       "      <td>30</td>\n",
       "      <td>48</td>\n",
       "    </tr>\n",
       "  </tbody>\n",
       "</table>\n",
       "</div>"
      ],
      "text/plain": [
       "Hand              L   R  Total\n",
       "Type                          \n",
       "Fast              1   6      7\n",
       "Legbreak          1   3      4\n",
       "Legbreak Googly   1   2      3\n",
       "Medium            4   7     11\n",
       "Medium Fast       4   7     11\n",
       "Offbreak          7   5     12\n",
       "Total            18  30     48"
      ]
     },
     "execution_count": 34,
     "metadata": {},
     "output_type": "execute_result"
    }
   ],
   "source": [
    "print('Indian bowler constituency')\n",
    "pd.crosstab(columns = updated_df[updated_df['Country'] == 'India']['Hand'],\n",
    "            index = updated_df[updated_df['Country'] == 'India']['Type'],\n",
    "            margins = True,\n",
    "            margins_name='Total')"
   ]
  },
  {
   "cell_type": "markdown",
   "id": "a75e9f91",
   "metadata": {},
   "source": [
    "India seems to be doing really well in the lefties department, 37.5% of the total bowlers are left-armers, compared to the overall percentage of 32.5 %. "
   ]
  },
  {
   "cell_type": "code",
   "execution_count": 35,
   "id": "24b1f106",
   "metadata": {},
   "outputs": [
    {
     "data": {
      "text/html": [
       "<div>\n",
       "<style scoped>\n",
       "    .dataframe tbody tr th:only-of-type {\n",
       "        vertical-align: middle;\n",
       "    }\n",
       "\n",
       "    .dataframe tbody tr th {\n",
       "        vertical-align: top;\n",
       "    }\n",
       "\n",
       "    .dataframe thead th {\n",
       "        text-align: right;\n",
       "    }\n",
       "</style>\n",
       "<table border=\"1\" class=\"dataframe\">\n",
       "  <thead>\n",
       "    <tr style=\"text-align: right;\">\n",
       "      <th>Hand</th>\n",
       "      <th>L</th>\n",
       "      <th>R</th>\n",
       "    </tr>\n",
       "  </thead>\n",
       "  <tbody>\n",
       "    <tr>\n",
       "      <th>Econ</th>\n",
       "      <td>8.227</td>\n",
       "      <td>8.593</td>\n",
       "    </tr>\n",
       "    <tr>\n",
       "      <th>Avg</th>\n",
       "      <td>33.395</td>\n",
       "      <td>32.032</td>\n",
       "    </tr>\n",
       "    <tr>\n",
       "      <th>SR</th>\n",
       "      <td>24.686</td>\n",
       "      <td>22.494</td>\n",
       "    </tr>\n",
       "    <tr>\n",
       "      <th>ESRA</th>\n",
       "      <td>15.662</td>\n",
       "      <td>15.837</td>\n",
       "    </tr>\n",
       "    <tr>\n",
       "      <th>4s</th>\n",
       "      <td>20.963</td>\n",
       "      <td>23.357</td>\n",
       "    </tr>\n",
       "    <tr>\n",
       "      <th>6s</th>\n",
       "      <td>10.000</td>\n",
       "      <td>12.696</td>\n",
       "    </tr>\n",
       "    <tr>\n",
       "      <th>Dots</th>\n",
       "      <td>65.222</td>\n",
       "      <td>77.393</td>\n",
       "    </tr>\n",
       "    <tr>\n",
       "      <th>O/I</th>\n",
       "      <td>3.499</td>\n",
       "      <td>3.381</td>\n",
       "    </tr>\n",
       "    <tr>\n",
       "      <th>W/I</th>\n",
       "      <td>1.030</td>\n",
       "      <td>1.032</td>\n",
       "    </tr>\n",
       "    <tr>\n",
       "      <th>6/4_ratio</th>\n",
       "      <td>0.537</td>\n",
       "      <td>0.659</td>\n",
       "    </tr>\n",
       "    <tr>\n",
       "      <th>Bound%</th>\n",
       "      <td>17.218</td>\n",
       "      <td>18.731</td>\n",
       "    </tr>\n",
       "    <tr>\n",
       "      <th>Dot %</th>\n",
       "      <td>35.986</td>\n",
       "      <td>37.260</td>\n",
       "    </tr>\n",
       "    <tr>\n",
       "      <th>Bound/Dots_%</th>\n",
       "      <td>49.475</td>\n",
       "      <td>51.553</td>\n",
       "    </tr>\n",
       "  </tbody>\n",
       "</table>\n",
       "</div>"
      ],
      "text/plain": [
       "Hand               L       R\n",
       "Econ           8.227   8.593\n",
       "Avg           33.395  32.032\n",
       "SR            24.686  22.494\n",
       "ESRA          15.662  15.837\n",
       "4s            20.963  23.357\n",
       "6s            10.000  12.696\n",
       "Dots          65.222  77.393\n",
       "O/I            3.499   3.381\n",
       "W/I            1.030   1.032\n",
       "6/4_ratio      0.537   0.659\n",
       "Bound%        17.218  18.731\n",
       "Dot %         35.986  37.260\n",
       "Bound/Dots_%  49.475  51.553"
      ]
     },
     "execution_count": 35,
     "metadata": {},
     "output_type": "execute_result"
    }
   ],
   "source": [
    "round(updated_df.groupby('Hand')[[ 'Econ', 'Avg', 'SR', 'ESRA', '4s', '6s', 'Dots', 'O/I',\n",
    "       'W/I', '6/4_ratio', 'Bound%', 'Dot %', 'Bound/Dots_%']].mean().T,3)"
   ]
  },
  {
   "cell_type": "markdown",
   "id": "4a973e3e",
   "metadata": {},
   "source": [
    "Inferences:\n",
    "\n",
    "- Batters strike at a higher rate while facing right-handed bowlers. However this could be because there are more right-handed bowlers\n",
    "\n",
    "\n",
    "- Right-Handed bowlers seems to have a higher wicket taking rate and economy. This could mean that there are more strike bowlers that are right handed.\n",
    "\n",
    "\n",
    "- Average ESRA index is lower for lefties, meaning they are better rounded.\n",
    "\n",
    "\n",
    "- Surprisingly, southpaws seem to have a lower dot% and bound/dot_% than the right-armers. This is puzzling. "
   ]
  },
  {
   "cell_type": "markdown",
   "id": "5975c6bc",
   "metadata": {},
   "source": [
    "-------------------------------------------------------------------------------------------------------------------------"
   ]
  },
  {
   "cell_type": "markdown",
   "id": "6ecac15b",
   "metadata": {},
   "source": [
    "**Analysing the types of bowlers**"
   ]
  },
  {
   "cell_type": "code",
   "execution_count": 36,
   "id": "abb6988c",
   "metadata": {},
   "outputs": [],
   "source": [
    "comp_chart = round(updated_df.groupby('Type')[['Econ', 'Avg', 'SR', 'ESRA', '4s', '6s', 'O/I',\n",
    "       'W/I', '6/4_ratio', 'Bound%', 'Dot %', 'Bound/Dots_%']].mean().T,6)"
   ]
  },
  {
   "cell_type": "code",
   "execution_count": 37,
   "id": "cdc8da33",
   "metadata": {},
   "outputs": [
    {
     "data": {
      "text/html": [
       "<style type=\"text/css\">\n",
       "#T_d802c_row0_col0, #T_d802c_row1_col5, #T_d802c_row2_col5, #T_d802c_row3_col0, #T_d802c_row4_col0, #T_d802c_row5_col1, #T_d802c_row6_col2, #T_d802c_row7_col1, #T_d802c_row8_col5, #T_d802c_row9_col0, #T_d802c_row10_col0, #T_d802c_row11_col0 {\n",
       "  background-color: #fa7066;\n",
       "}\n",
       "#T_d802c_row0_col2, #T_d802c_row1_col1, #T_d802c_row2_col1, #T_d802c_row3_col1, #T_d802c_row4_col5, #T_d802c_row5_col3, #T_d802c_row6_col5, #T_d802c_row7_col5, #T_d802c_row8_col4, #T_d802c_row9_col1, #T_d802c_row10_col1, #T_d802c_row11_col1 {\n",
       "  background-color: #86fa86;\n",
       "}\n",
       "</style>\n",
       "<table id=\"T_d802c\">\n",
       "  <thead>\n",
       "    <tr>\n",
       "      <th class=\"index_name level0\" >Type</th>\n",
       "      <th id=\"T_d802c_level0_col0\" class=\"col_heading level0 col0\" >Fast</th>\n",
       "      <th id=\"T_d802c_level0_col1\" class=\"col_heading level0 col1\" >Legbreak</th>\n",
       "      <th id=\"T_d802c_level0_col2\" class=\"col_heading level0 col2\" >Legbreak Googly</th>\n",
       "      <th id=\"T_d802c_level0_col3\" class=\"col_heading level0 col3\" >Medium</th>\n",
       "      <th id=\"T_d802c_level0_col4\" class=\"col_heading level0 col4\" >Medium Fast</th>\n",
       "      <th id=\"T_d802c_level0_col5\" class=\"col_heading level0 col5\" >Offbreak</th>\n",
       "    </tr>\n",
       "  </thead>\n",
       "  <tbody>\n",
       "    <tr>\n",
       "      <th id=\"T_d802c_level0_row0\" class=\"row_heading level0 row0\" >Econ</th>\n",
       "      <td id=\"T_d802c_row0_col0\" class=\"data row0 col0\" >9.051875</td>\n",
       "      <td id=\"T_d802c_row0_col1\" class=\"data row0 col1\" >7.650000</td>\n",
       "      <td id=\"T_d802c_row0_col2\" class=\"data row0 col2\" >7.554000</td>\n",
       "      <td id=\"T_d802c_row0_col3\" class=\"data row0 col3\" >8.715263</td>\n",
       "      <td id=\"T_d802c_row0_col4\" class=\"data row0 col4\" >8.714762</td>\n",
       "      <td id=\"T_d802c_row0_col5\" class=\"data row0 col5\" >7.890625</td>\n",
       "    </tr>\n",
       "    <tr>\n",
       "      <th id=\"T_d802c_level0_row1\" class=\"row_heading level0 row1\" >Avg</th>\n",
       "      <td id=\"T_d802c_row1_col0\" class=\"data row1 col0\" >31.513750</td>\n",
       "      <td id=\"T_d802c_row1_col1\" class=\"data row1 col1\" >21.535000</td>\n",
       "      <td id=\"T_d802c_row1_col2\" class=\"data row1 col2\" >33.414000</td>\n",
       "      <td id=\"T_d802c_row1_col3\" class=\"data row1 col3\" >30.773684</td>\n",
       "      <td id=\"T_d802c_row1_col4\" class=\"data row1 col4\" >33.525238</td>\n",
       "      <td id=\"T_d802c_row1_col5\" class=\"data row1 col5\" >37.890000</td>\n",
       "    </tr>\n",
       "    <tr>\n",
       "      <th id=\"T_d802c_level0_row2\" class=\"row_heading level0 row2\" >SR</th>\n",
       "      <td id=\"T_d802c_row2_col0\" class=\"data row2 col0\" >20.705000</td>\n",
       "      <td id=\"T_d802c_row2_col1\" class=\"data row2 col1\" >16.990000</td>\n",
       "      <td id=\"T_d802c_row2_col2\" class=\"data row2 col2\" >26.904000</td>\n",
       "      <td id=\"T_d802c_row2_col3\" class=\"data row2 col3\" >21.327895</td>\n",
       "      <td id=\"T_d802c_row2_col4\" class=\"data row2 col4\" >23.744762</td>\n",
       "      <td id=\"T_d802c_row2_col5\" class=\"data row2 col5\" >28.413125</td>\n",
       "    </tr>\n",
       "    <tr>\n",
       "      <th id=\"T_d802c_level0_row3\" class=\"row_heading level0 row3\" >ESRA</th>\n",
       "      <td id=\"T_d802c_row3_col0\" class=\"data row3 col0\" >16.173875</td>\n",
       "      <td id=\"T_d802c_row3_col1\" class=\"data row3 col1\" >13.837667</td>\n",
       "      <td id=\"T_d802c_row3_col2\" class=\"data row3 col2\" >15.195800</td>\n",
       "      <td id=\"T_d802c_row3_col3\" class=\"data row3 col3\" >15.735895</td>\n",
       "      <td id=\"T_d802c_row3_col4\" class=\"data row3 col4\" >16.151238</td>\n",
       "      <td id=\"T_d802c_row3_col5\" class=\"data row3 col5\" >15.864312</td>\n",
       "    </tr>\n",
       "    <tr>\n",
       "      <th id=\"T_d802c_level0_row4\" class=\"row_heading level0 row4\" >4s</th>\n",
       "      <td id=\"T_d802c_row4_col0\" class=\"data row4 col0\" >31.875000</td>\n",
       "      <td id=\"T_d802c_row4_col1\" class=\"data row4 col1\" >21.500000</td>\n",
       "      <td id=\"T_d802c_row4_col2\" class=\"data row4 col2\" >19.000000</td>\n",
       "      <td id=\"T_d802c_row4_col3\" class=\"data row4 col3\" >18.631579</td>\n",
       "      <td id=\"T_d802c_row4_col4\" class=\"data row4 col4\" >28.142857</td>\n",
       "      <td id=\"T_d802c_row4_col5\" class=\"data row4 col5\" >12.187500</td>\n",
       "    </tr>\n",
       "    <tr>\n",
       "      <th id=\"T_d802c_level0_row5\" class=\"row_heading level0 row5\" >6s</th>\n",
       "      <td id=\"T_d802c_row5_col0\" class=\"data row5 col0\" >12.750000</td>\n",
       "      <td id=\"T_d802c_row5_col1\" class=\"data row5 col1\" >20.333333</td>\n",
       "      <td id=\"T_d802c_row5_col2\" class=\"data row5 col2\" >13.000000</td>\n",
       "      <td id=\"T_d802c_row5_col3\" class=\"data row5 col3\" >8.842105</td>\n",
       "      <td id=\"T_d802c_row5_col4\" class=\"data row5 col4\" >12.047619</td>\n",
       "      <td id=\"T_d802c_row5_col5\" class=\"data row5 col5\" >10.562500</td>\n",
       "    </tr>\n",
       "    <tr>\n",
       "      <th id=\"T_d802c_level0_row6\" class=\"row_heading level0 row6\" >O/I</th>\n",
       "      <td id=\"T_d802c_row6_col0\" class=\"data row6 col0\" >3.531812</td>\n",
       "      <td id=\"T_d802c_row6_col1\" class=\"data row6 col1\" >3.709000</td>\n",
       "      <td id=\"T_d802c_row6_col2\" class=\"data row6 col2\" >3.710200</td>\n",
       "      <td id=\"T_d802c_row6_col3\" class=\"data row6 col3\" >3.456842</td>\n",
       "      <td id=\"T_d802c_row6_col4\" class=\"data row6 col4\" >3.478524</td>\n",
       "      <td id=\"T_d802c_row6_col5\" class=\"data row6 col5\" >2.987500</td>\n",
       "    </tr>\n",
       "    <tr>\n",
       "      <th id=\"T_d802c_level0_row7\" class=\"row_heading level0 row7\" >W/I</th>\n",
       "      <td id=\"T_d802c_row7_col0\" class=\"data row7 col0\" >1.122625</td>\n",
       "      <td id=\"T_d802c_row7_col1\" class=\"data row7 col1\" >1.350500</td>\n",
       "      <td id=\"T_d802c_row7_col2\" class=\"data row7 col2\" >0.940000</td>\n",
       "      <td id=\"T_d802c_row7_col3\" class=\"data row7 col3\" >1.154263</td>\n",
       "      <td id=\"T_d802c_row7_col4\" class=\"data row7 col4\" >1.010905</td>\n",
       "      <td id=\"T_d802c_row7_col5\" class=\"data row7 col5\" >0.728375</td>\n",
       "    </tr>\n",
       "    <tr>\n",
       "      <th id=\"T_d802c_level0_row8\" class=\"row_heading level0 row8\" >6/4_ratio</th>\n",
       "      <td id=\"T_d802c_row8_col0\" class=\"data row8 col0\" >0.476875</td>\n",
       "      <td id=\"T_d802c_row8_col1\" class=\"data row8 col1\" >0.951667</td>\n",
       "      <td id=\"T_d802c_row8_col2\" class=\"data row8 col2\" >0.766000</td>\n",
       "      <td id=\"T_d802c_row8_col3\" class=\"data row8 col3\" >0.476316</td>\n",
       "      <td id=\"T_d802c_row8_col4\" class=\"data row8 col4\" >0.470476</td>\n",
       "      <td id=\"T_d802c_row8_col5\" class=\"data row8 col5\" >0.956875</td>\n",
       "    </tr>\n",
       "    <tr>\n",
       "      <th id=\"T_d802c_level0_row9\" class=\"row_heading level0 row9\" >Bound%</th>\n",
       "      <td id=\"T_d802c_row9_col0\" class=\"data row9 col0\" >21.684375</td>\n",
       "      <td id=\"T_d802c_row9_col1\" class=\"data row9 col1\" >13.728333</td>\n",
       "      <td id=\"T_d802c_row9_col2\" class=\"data row9 col2\" >14.208000</td>\n",
       "      <td id=\"T_d802c_row9_col3\" class=\"data row9 col3\" >19.044211</td>\n",
       "      <td id=\"T_d802c_row9_col4\" class=\"data row9 col4\" >19.731905</td>\n",
       "      <td id=\"T_d802c_row9_col5\" class=\"data row9 col5\" >14.826875</td>\n",
       "    </tr>\n",
       "    <tr>\n",
       "      <th id=\"T_d802c_level0_row10\" class=\"row_heading level0 row10\" >Dot %</th>\n",
       "      <td id=\"T_d802c_row10_col0\" class=\"data row10 col0\" >40.173125</td>\n",
       "      <td id=\"T_d802c_row10_col1\" class=\"data row10 col1\" >34.625000</td>\n",
       "      <td id=\"T_d802c_row10_col2\" class=\"data row10 col2\" >35.950000</td>\n",
       "      <td id=\"T_d802c_row10_col3\" class=\"data row10 col3\" >34.796316</td>\n",
       "      <td id=\"T_d802c_row10_col4\" class=\"data row10 col4\" >38.596667</td>\n",
       "      <td id=\"T_d802c_row10_col5\" class=\"data row10 col5\" >34.766250</td>\n",
       "    </tr>\n",
       "    <tr>\n",
       "      <th id=\"T_d802c_level0_row11\" class=\"row_heading level0 row11\" >Bound/Dots_%</th>\n",
       "      <td id=\"T_d802c_row11_col0\" class=\"data row11 col0\" >56.866250</td>\n",
       "      <td id=\"T_d802c_row11_col1\" class=\"data row11 col1\" >39.651667</td>\n",
       "      <td id=\"T_d802c_row11_col2\" class=\"data row11 col2\" >40.350000</td>\n",
       "      <td id=\"T_d802c_row11_col3\" class=\"data row11 col3\" >56.295263</td>\n",
       "      <td id=\"T_d802c_row11_col4\" class=\"data row11 col4\" >52.496190</td>\n",
       "      <td id=\"T_d802c_row11_col5\" class=\"data row11 col5\" >43.828125</td>\n",
       "    </tr>\n",
       "  </tbody>\n",
       "</table>\n"
      ],
      "text/plain": [
       "<pandas.io.formats.style.Styler at 0x1b6bb715070>"
      ]
     },
     "execution_count": 37,
     "metadata": {},
     "output_type": "execute_result"
    }
   ],
   "source": [
    "(comp_chart.style.highlight_max(axis=1,\n",
    "                                props='background-color:#fa7066;').highlight_min(axis=1, \n",
    "                                props='background-color:#86fa86;'))"
   ]
  },
  {
   "cell_type": "markdown",
   "id": "7c299d5a",
   "metadata": {},
   "source": [
    "I've just taken the average of %ratios of the bowlers, since I consider it to be a ratio and average would be a better indicator of central tendency, than just grouping by bowlers and taking total average."
   ]
  },
  {
   "cell_type": "markdown",
   "id": "0a8caced",
   "metadata": {},
   "source": [
    "**Inferences from the above table:**\n",
    "\n",
    "- Pace bowlers are often taken to the cleaners, seeing that their `Econ` is at *~8.88*, with a high `boundary %`. Meanwhile against spinners, batters strike at just *~7.75* per over on an average. This shouldn't come as a surprise as pacers perform the thankless task of bowling at the powerplay and the death.\n",
    "\n",
    "\n",
    "- Legbreak bowlers, having the likes of Rashid Khan and Hasaranga de Silva, are the most economical and best wicket takers of the lot.\n",
    "\n",
    "\n",
    "- Mystery bowlers(Legbreak googly) are the second most economical bowlers and have the least `bound%` and `bound/dots_%`, understandably so, with their variations. I bet Sunil Narine alone has brought this value down with his exceptional defence.\n",
    "\n",
    "\n",
    "- `ESRA index` for the leg-spinners is the least, meaning they are well rounded and more important to the team than other types of bowlers. Also they average a high number of wickets taken, meaning that they usually are the strike bowlers of the team.\n",
    "\n",
    "\n",
    "- `Bound/Dots_%` of medium bowlers are the most, meaning that *115 - 125 kph* bowling dibbly-dobblers are punished for their bad balls more often than not. Harshal Patel really stands out from this lot, having just *35* `bound/dots_%` value.\n",
    "\n",
    "\n",
    "- `6/4 ratio` is the high amongst all spinners, meaning it is easier to slog *90 kph* balls into the stands if they connect, than driving it to the rope, since there is barely any pace on the ball.\n",
    "\n",
    "\n",
    "- Offbreak bowlers are probably there to contain batters, seeing that the `average` and `strike-rate` is the highest for them, while average wickets taken column is the lowest.\n"
   ]
  },
  {
   "cell_type": "markdown",
   "id": "7b7d8302",
   "metadata": {},
   "source": [
    "**ESRA index vs Bound/Dots_% :**\n",
    "\n",
    "\n",
    "Conditions for being a strike bowler : `An ESRA index` lower than 15.5, and `W/I` above 1.2 . An ESRA index lesser than 15.5 ensures that overtly expensive bowlers like Cummins or Nortje don't come into the cluster, while W/I greater than 1.2 would be helpful with how active the bowlers were, with respect to taking wickets."
   ]
  },
  {
   "cell_type": "code",
   "execution_count": 38,
   "id": "044f94ec",
   "metadata": {},
   "outputs": [
    {
     "data": {
      "application/vnd.plotly.v1+json": {
       "config": {
        "plotlyServerURL": "https://plot.ly"
       },
       "data": [
        {
         "hovertemplate": "<b>%{hovertext}</b><br><br>Type=Fast<br>ESRA (lower the better)=%{x}<br>Wickets per Innings (higher the better)=%{y}<extra></extra>",
         "hovertext": [
          "A Nortje",
          "AS Joseph",
          "CJ Jordan",
          "JJ Bumrah",
          "K Rabada",
          "KR Sen",
          "LH Ferguson",
          "M Prasidh Krishna",
          "Mohammed Shami",
          "Mohsin Khan",
          "OF Smith",
          "PVD Chameera",
          "RP Meredith",
          "Shivam Mavi",
          "TS Mills",
          "Umran Malik"
         ],
         "legendgroup": "Fast",
         "marker": {
          "color": "#636efa",
          "symbol": "star-triangle-up"
         },
         "mode": "markers",
         "name": "Fast",
         "orientation": "v",
         "showlegend": true,
         "type": "scatter",
         "x": [
          15.965,
          16.764,
          20.816,
          14.025,
          13.953,
          16.384,
          16.668,
          15.361,
          14.535,
          11.281,
          18.554,
          17.215,
          15.536,
          18.793,
          18.156,
          14.776
         ],
         "xaxis": "x",
         "y": [
          1.5,
          0.778,
          0.5,
          1.071,
          1.769,
          1.143,
          0.923,
          1.118,
          1.25,
          1.556,
          1,
          0.75,
          1,
          0.833,
          1.2,
          1.571
         ],
         "yaxis": "y"
        },
        {
         "hovertemplate": "<b>%{hovertext}</b><br><br>Type=Medium Fast<br>ESRA (lower the better)=%{x}<br>Wickets per Innings (higher the better)=%{y}<extra></extra>",
         "hovertext": [
          "AD Russell",
          "AJ Tye",
          "Arshdeep Singh",
          "Avesh Khan",
          "B Kumar",
          "C Sakariya",
          "D Pretorius",
          "DJ Willey",
          "DR Sams",
          "HH Pandya",
          "JR Hazlewood",
          "M Jansen",
          "Mohammed Siraj",
          "Mukesh Choudhary",
          "PJ Cummins",
          "R Shepherd",
          "Simarjeet Singh",
          "SN Thakur",
          "TA Boult",
          "UT Yadav",
          "Yash Dayal"
         ],
         "legendgroup": "Medium Fast",
         "marker": {
          "color": "#EF553B",
          "symbol": "circle"
         },
         "mode": "markers",
         "name": "Medium Fast",
         "orientation": "v",
         "showlegend": true,
         "type": "scatter",
         "x": [
          14.997,
          19.031,
          15.976,
          14.975,
          14.956,
          14.711,
          17.483,
          18.297,
          15.727,
          14.395,
          13.837,
          16.719,
          19.625,
          15.92,
          17.567,
          18.008,
          15.512,
          16.922,
          15.288,
          13.32,
          15.91
         ],
         "xaxis": "x",
         "y": [
          1.308,
          0.667,
          0.714,
          1.385,
          0.857,
          1,
          1,
          0.25,
          1.182,
          0.8,
          1.667,
          0.875,
          0.6,
          1.231,
          1.4,
          1,
          0.667,
          1.071,
          1,
          1.333,
          1.222
         ],
         "yaxis": "y"
        },
        {
         "hovertemplate": "<b>%{hovertext}</b><br><br>Type=Medium<br>ESRA (lower the better)=%{x}<br>Wickets per Innings (higher the better)=%{y}<extra></extra>",
         "hovertext": [
          "Akash Deep",
          "Basil Thampi",
          "DJ Bravo",
          "Fazalhaq Farooqi",
          "HV Patel",
          "JD Unadkat",
          "JO Holder",
          "KA Pollard",
          "KK Ahmed",
          "MR Marsh",
          "Mustafizur Rahman",
          "OC McCoy",
          "PJ Sangwan",
          "R Dhawan",
          "Ramandeep Singh",
          "Sandeep Sharma",
          "T Natarajan",
          "TG Southee",
          "VG Arora"
         ],
         "legendgroup": "Medium",
         "marker": {
          "color": "#00cc96",
          "symbol": "diamond-tall"
         },
         "mode": "markers",
         "name": "Medium",
         "orientation": "v",
         "showlegend": true,
         "type": "scatter",
         "x": [
          18.855,
          16.543,
          14.329,
          18.709,
          13.862,
          16.688,
          16.182,
          16.158,
          13.903,
          15.095,
          15.002,
          15.049,
          13.518,
          14.918,
          12.873,
          19.333,
          15.514,
          13.746,
          18.705
         ],
         "xaxis": "x",
         "y": [
          1,
          1,
          1.6,
          0.667,
          1.267,
          1.2,
          1.167,
          0.667,
          1.6,
          1,
          1,
          1.571,
          1,
          1,
          2,
          0.4,
          1.636,
          1.556,
          0.6
         ],
         "yaxis": "y"
        },
        {
         "hovertemplate": "<b>%{hovertext}</b><br><br>Type=Offbreak<br>ESRA (lower the better)=%{x}<br>Wickets per Innings (higher the better)=%{y}<extra></extra>",
         "hovertext": [
          "AR Patel",
          "GJ Maxwell",
          "Harpreet Brar",
          "HR Shokeen",
          "J Suchith",
          "K Gowtham",
          "KH Pandya",
          "Lalit Yadav",
          "LS Livingstone",
          "MJ Santner",
          "MM Ali",
          "R Ashwin",
          "R Sai Kishore",
          "RA Jadeja",
          "Shahbaz Ahmed",
          "Washington Sundar"
         ],
         "legendgroup": "Offbreak",
         "marker": {
          "color": "#ab63fa",
          "symbol": "square"
         },
         "mode": "markers",
         "name": "Offbreak",
         "orientation": "v",
         "showlegend": true,
         "type": "scatter",
         "x": [
          17.293,
          14.056,
          16.898,
          18.886,
          13.732,
          14.098,
          13.991,
          16.361,
          16.308,
          14.65,
          12.764,
          16.194,
          13.574,
          16.965,
          21.283,
          16.776
         ],
         "xaxis": "x",
         "y": [
          0.462,
          0.6,
          0.8,
          0.4,
          1.4,
          1.25,
          0.833,
          0.5,
          0.5,
          0.667,
          0.8,
          0.706,
          1.2,
          0.5,
          0.286,
          0.75
         ],
         "yaxis": "y"
        },
        {
         "hovertemplate": "<b>%{hovertext}</b><br><br>Type=Legbreak Googly<br>ESRA (lower the better)=%{x}<br>Wickets per Innings (higher the better)=%{y}<extra></extra>",
         "hovertext": [
          "CV Varun",
          "K Kartikeya",
          "M Theekshana",
          "Ravi Bishnoi",
          "SP Narine"
         ],
         "legendgroup": "Legbreak Googly",
         "marker": {
          "color": "#FFA15A",
          "symbol": "star"
         },
         "mode": "markers",
         "name": "Legbreak Googly",
         "orientation": "v",
         "showlegend": true,
         "type": "scatter",
         "x": [
          18.163,
          13.85,
          13.725,
          16.186,
          14.055
         ],
         "xaxis": "x",
         "y": [
          0.545,
          1.25,
          1.333,
          0.929,
          0.643
         ],
         "yaxis": "y"
        },
        {
         "hovertemplate": "<b>%{hovertext}</b><br><br>Type=Legbreak<br>ESRA (lower the better)=%{x}<br>Wickets per Innings (higher the better)=%{y}<extra></extra>",
         "hovertext": [
          "Kuldeep Yadav",
          "M Ashwin",
          "PWH de Silva",
          "Rashid Khan",
          "RD Chahar",
          "YS Chahal"
         ],
         "legendgroup": "Legbreak",
         "marker": {
          "color": "#19d3f3",
          "symbol": "diamond"
         },
         "mode": "markers",
         "name": "Legbreak",
         "orientation": "v",
         "showlegend": true,
         "type": "scatter",
         "x": [
          14.283,
          14.543,
          12.989,
          13.105,
          14.471,
          13.635
         ],
         "xaxis": "x",
         "y": [
          1.5,
          1.125,
          1.625,
          1.188,
          1.077,
          1.588
         ],
         "yaxis": "y"
        }
       ],
       "layout": {
        "legend": {
         "title": {
          "text": "Type"
         },
         "tracegroupgap": 0
        },
        "shapes": [
         {
          "fillcolor": "lightyellow",
          "layer": "below",
          "opacity": 0.5,
          "type": "circle",
          "x0": 12,
          "x1": 15.5,
          "y0": 1.15,
          "y1": 2.2
         }
        ],
        "template": {
         "data": {
          "bar": [
           {
            "error_x": {
             "color": "#2a3f5f"
            },
            "error_y": {
             "color": "#2a3f5f"
            },
            "marker": {
             "line": {
              "color": "#E5ECF6",
              "width": 0.5
             },
             "pattern": {
              "fillmode": "overlay",
              "size": 10,
              "solidity": 0.2
             }
            },
            "type": "bar"
           }
          ],
          "barpolar": [
           {
            "marker": {
             "line": {
              "color": "#E5ECF6",
              "width": 0.5
             },
             "pattern": {
              "fillmode": "overlay",
              "size": 10,
              "solidity": 0.2
             }
            },
            "type": "barpolar"
           }
          ],
          "carpet": [
           {
            "aaxis": {
             "endlinecolor": "#2a3f5f",
             "gridcolor": "white",
             "linecolor": "white",
             "minorgridcolor": "white",
             "startlinecolor": "#2a3f5f"
            },
            "baxis": {
             "endlinecolor": "#2a3f5f",
             "gridcolor": "white",
             "linecolor": "white",
             "minorgridcolor": "white",
             "startlinecolor": "#2a3f5f"
            },
            "type": "carpet"
           }
          ],
          "choropleth": [
           {
            "colorbar": {
             "outlinewidth": 0,
             "ticks": ""
            },
            "type": "choropleth"
           }
          ],
          "contour": [
           {
            "colorbar": {
             "outlinewidth": 0,
             "ticks": ""
            },
            "colorscale": [
             [
              0,
              "#0d0887"
             ],
             [
              0.1111111111111111,
              "#46039f"
             ],
             [
              0.2222222222222222,
              "#7201a8"
             ],
             [
              0.3333333333333333,
              "#9c179e"
             ],
             [
              0.4444444444444444,
              "#bd3786"
             ],
             [
              0.5555555555555556,
              "#d8576b"
             ],
             [
              0.6666666666666666,
              "#ed7953"
             ],
             [
              0.7777777777777778,
              "#fb9f3a"
             ],
             [
              0.8888888888888888,
              "#fdca26"
             ],
             [
              1,
              "#f0f921"
             ]
            ],
            "type": "contour"
           }
          ],
          "contourcarpet": [
           {
            "colorbar": {
             "outlinewidth": 0,
             "ticks": ""
            },
            "type": "contourcarpet"
           }
          ],
          "heatmap": [
           {
            "colorbar": {
             "outlinewidth": 0,
             "ticks": ""
            },
            "colorscale": [
             [
              0,
              "#0d0887"
             ],
             [
              0.1111111111111111,
              "#46039f"
             ],
             [
              0.2222222222222222,
              "#7201a8"
             ],
             [
              0.3333333333333333,
              "#9c179e"
             ],
             [
              0.4444444444444444,
              "#bd3786"
             ],
             [
              0.5555555555555556,
              "#d8576b"
             ],
             [
              0.6666666666666666,
              "#ed7953"
             ],
             [
              0.7777777777777778,
              "#fb9f3a"
             ],
             [
              0.8888888888888888,
              "#fdca26"
             ],
             [
              1,
              "#f0f921"
             ]
            ],
            "type": "heatmap"
           }
          ],
          "heatmapgl": [
           {
            "colorbar": {
             "outlinewidth": 0,
             "ticks": ""
            },
            "colorscale": [
             [
              0,
              "#0d0887"
             ],
             [
              0.1111111111111111,
              "#46039f"
             ],
             [
              0.2222222222222222,
              "#7201a8"
             ],
             [
              0.3333333333333333,
              "#9c179e"
             ],
             [
              0.4444444444444444,
              "#bd3786"
             ],
             [
              0.5555555555555556,
              "#d8576b"
             ],
             [
              0.6666666666666666,
              "#ed7953"
             ],
             [
              0.7777777777777778,
              "#fb9f3a"
             ],
             [
              0.8888888888888888,
              "#fdca26"
             ],
             [
              1,
              "#f0f921"
             ]
            ],
            "type": "heatmapgl"
           }
          ],
          "histogram": [
           {
            "marker": {
             "pattern": {
              "fillmode": "overlay",
              "size": 10,
              "solidity": 0.2
             }
            },
            "type": "histogram"
           }
          ],
          "histogram2d": [
           {
            "colorbar": {
             "outlinewidth": 0,
             "ticks": ""
            },
            "colorscale": [
             [
              0,
              "#0d0887"
             ],
             [
              0.1111111111111111,
              "#46039f"
             ],
             [
              0.2222222222222222,
              "#7201a8"
             ],
             [
              0.3333333333333333,
              "#9c179e"
             ],
             [
              0.4444444444444444,
              "#bd3786"
             ],
             [
              0.5555555555555556,
              "#d8576b"
             ],
             [
              0.6666666666666666,
              "#ed7953"
             ],
             [
              0.7777777777777778,
              "#fb9f3a"
             ],
             [
              0.8888888888888888,
              "#fdca26"
             ],
             [
              1,
              "#f0f921"
             ]
            ],
            "type": "histogram2d"
           }
          ],
          "histogram2dcontour": [
           {
            "colorbar": {
             "outlinewidth": 0,
             "ticks": ""
            },
            "colorscale": [
             [
              0,
              "#0d0887"
             ],
             [
              0.1111111111111111,
              "#46039f"
             ],
             [
              0.2222222222222222,
              "#7201a8"
             ],
             [
              0.3333333333333333,
              "#9c179e"
             ],
             [
              0.4444444444444444,
              "#bd3786"
             ],
             [
              0.5555555555555556,
              "#d8576b"
             ],
             [
              0.6666666666666666,
              "#ed7953"
             ],
             [
              0.7777777777777778,
              "#fb9f3a"
             ],
             [
              0.8888888888888888,
              "#fdca26"
             ],
             [
              1,
              "#f0f921"
             ]
            ],
            "type": "histogram2dcontour"
           }
          ],
          "mesh3d": [
           {
            "colorbar": {
             "outlinewidth": 0,
             "ticks": ""
            },
            "type": "mesh3d"
           }
          ],
          "parcoords": [
           {
            "line": {
             "colorbar": {
              "outlinewidth": 0,
              "ticks": ""
             }
            },
            "type": "parcoords"
           }
          ],
          "pie": [
           {
            "automargin": true,
            "type": "pie"
           }
          ],
          "scatter": [
           {
            "marker": {
             "colorbar": {
              "outlinewidth": 0,
              "ticks": ""
             }
            },
            "type": "scatter"
           }
          ],
          "scatter3d": [
           {
            "line": {
             "colorbar": {
              "outlinewidth": 0,
              "ticks": ""
             }
            },
            "marker": {
             "colorbar": {
              "outlinewidth": 0,
              "ticks": ""
             }
            },
            "type": "scatter3d"
           }
          ],
          "scattercarpet": [
           {
            "marker": {
             "colorbar": {
              "outlinewidth": 0,
              "ticks": ""
             }
            },
            "type": "scattercarpet"
           }
          ],
          "scattergeo": [
           {
            "marker": {
             "colorbar": {
              "outlinewidth": 0,
              "ticks": ""
             }
            },
            "type": "scattergeo"
           }
          ],
          "scattergl": [
           {
            "marker": {
             "colorbar": {
              "outlinewidth": 0,
              "ticks": ""
             }
            },
            "type": "scattergl"
           }
          ],
          "scattermapbox": [
           {
            "marker": {
             "colorbar": {
              "outlinewidth": 0,
              "ticks": ""
             }
            },
            "type": "scattermapbox"
           }
          ],
          "scatterpolar": [
           {
            "marker": {
             "colorbar": {
              "outlinewidth": 0,
              "ticks": ""
             }
            },
            "type": "scatterpolar"
           }
          ],
          "scatterpolargl": [
           {
            "marker": {
             "colorbar": {
              "outlinewidth": 0,
              "ticks": ""
             }
            },
            "type": "scatterpolargl"
           }
          ],
          "scatterternary": [
           {
            "marker": {
             "colorbar": {
              "outlinewidth": 0,
              "ticks": ""
             }
            },
            "type": "scatterternary"
           }
          ],
          "surface": [
           {
            "colorbar": {
             "outlinewidth": 0,
             "ticks": ""
            },
            "colorscale": [
             [
              0,
              "#0d0887"
             ],
             [
              0.1111111111111111,
              "#46039f"
             ],
             [
              0.2222222222222222,
              "#7201a8"
             ],
             [
              0.3333333333333333,
              "#9c179e"
             ],
             [
              0.4444444444444444,
              "#bd3786"
             ],
             [
              0.5555555555555556,
              "#d8576b"
             ],
             [
              0.6666666666666666,
              "#ed7953"
             ],
             [
              0.7777777777777778,
              "#fb9f3a"
             ],
             [
              0.8888888888888888,
              "#fdca26"
             ],
             [
              1,
              "#f0f921"
             ]
            ],
            "type": "surface"
           }
          ],
          "table": [
           {
            "cells": {
             "fill": {
              "color": "#EBF0F8"
             },
             "line": {
              "color": "white"
             }
            },
            "header": {
             "fill": {
              "color": "#C8D4E3"
             },
             "line": {
              "color": "white"
             }
            },
            "type": "table"
           }
          ]
         },
         "layout": {
          "annotationdefaults": {
           "arrowcolor": "#2a3f5f",
           "arrowhead": 0,
           "arrowwidth": 1
          },
          "autotypenumbers": "strict",
          "coloraxis": {
           "colorbar": {
            "outlinewidth": 0,
            "ticks": ""
           }
          },
          "colorscale": {
           "diverging": [
            [
             0,
             "#8e0152"
            ],
            [
             0.1,
             "#c51b7d"
            ],
            [
             0.2,
             "#de77ae"
            ],
            [
             0.3,
             "#f1b6da"
            ],
            [
             0.4,
             "#fde0ef"
            ],
            [
             0.5,
             "#f7f7f7"
            ],
            [
             0.6,
             "#e6f5d0"
            ],
            [
             0.7,
             "#b8e186"
            ],
            [
             0.8,
             "#7fbc41"
            ],
            [
             0.9,
             "#4d9221"
            ],
            [
             1,
             "#276419"
            ]
           ],
           "sequential": [
            [
             0,
             "#0d0887"
            ],
            [
             0.1111111111111111,
             "#46039f"
            ],
            [
             0.2222222222222222,
             "#7201a8"
            ],
            [
             0.3333333333333333,
             "#9c179e"
            ],
            [
             0.4444444444444444,
             "#bd3786"
            ],
            [
             0.5555555555555556,
             "#d8576b"
            ],
            [
             0.6666666666666666,
             "#ed7953"
            ],
            [
             0.7777777777777778,
             "#fb9f3a"
            ],
            [
             0.8888888888888888,
             "#fdca26"
            ],
            [
             1,
             "#f0f921"
            ]
           ],
           "sequentialminus": [
            [
             0,
             "#0d0887"
            ],
            [
             0.1111111111111111,
             "#46039f"
            ],
            [
             0.2222222222222222,
             "#7201a8"
            ],
            [
             0.3333333333333333,
             "#9c179e"
            ],
            [
             0.4444444444444444,
             "#bd3786"
            ],
            [
             0.5555555555555556,
             "#d8576b"
            ],
            [
             0.6666666666666666,
             "#ed7953"
            ],
            [
             0.7777777777777778,
             "#fb9f3a"
            ],
            [
             0.8888888888888888,
             "#fdca26"
            ],
            [
             1,
             "#f0f921"
            ]
           ]
          },
          "colorway": [
           "#636efa",
           "#EF553B",
           "#00cc96",
           "#ab63fa",
           "#FFA15A",
           "#19d3f3",
           "#FF6692",
           "#B6E880",
           "#FF97FF",
           "#FECB52"
          ],
          "font": {
           "color": "#2a3f5f"
          },
          "geo": {
           "bgcolor": "white",
           "lakecolor": "white",
           "landcolor": "#E5ECF6",
           "showlakes": true,
           "showland": true,
           "subunitcolor": "white"
          },
          "hoverlabel": {
           "align": "left"
          },
          "hovermode": "closest",
          "mapbox": {
           "style": "light"
          },
          "paper_bgcolor": "white",
          "plot_bgcolor": "#E5ECF6",
          "polar": {
           "angularaxis": {
            "gridcolor": "white",
            "linecolor": "white",
            "ticks": ""
           },
           "bgcolor": "#E5ECF6",
           "radialaxis": {
            "gridcolor": "white",
            "linecolor": "white",
            "ticks": ""
           }
          },
          "scene": {
           "xaxis": {
            "backgroundcolor": "#E5ECF6",
            "gridcolor": "white",
            "gridwidth": 2,
            "linecolor": "white",
            "showbackground": true,
            "ticks": "",
            "zerolinecolor": "white"
           },
           "yaxis": {
            "backgroundcolor": "#E5ECF6",
            "gridcolor": "white",
            "gridwidth": 2,
            "linecolor": "white",
            "showbackground": true,
            "ticks": "",
            "zerolinecolor": "white"
           },
           "zaxis": {
            "backgroundcolor": "#E5ECF6",
            "gridcolor": "white",
            "gridwidth": 2,
            "linecolor": "white",
            "showbackground": true,
            "ticks": "",
            "zerolinecolor": "white"
           }
          },
          "shapedefaults": {
           "line": {
            "color": "#2a3f5f"
           }
          },
          "ternary": {
           "aaxis": {
            "gridcolor": "white",
            "linecolor": "white",
            "ticks": ""
           },
           "baxis": {
            "gridcolor": "white",
            "linecolor": "white",
            "ticks": ""
           },
           "bgcolor": "#E5ECF6",
           "caxis": {
            "gridcolor": "white",
            "linecolor": "white",
            "ticks": ""
           }
          },
          "title": {
           "x": 0.05
          },
          "xaxis": {
           "automargin": true,
           "gridcolor": "white",
           "linecolor": "white",
           "ticks": "",
           "title": {
            "standoff": 15
           },
           "zerolinecolor": "white",
           "zerolinewidth": 2
          },
          "yaxis": {
           "automargin": true,
           "gridcolor": "white",
           "linecolor": "white",
           "ticks": "",
           "title": {
            "standoff": 15
           },
           "zerolinecolor": "white",
           "zerolinewidth": 2
          }
         }
        },
        "title": {
         "text": "ESRA-index vs W/I"
        },
        "xaxis": {
         "anchor": "y",
         "domain": [
          0,
          1
         ],
         "title": {
          "text": "ESRA (lower the better)"
         }
        },
        "yaxis": {
         "anchor": "x",
         "domain": [
          0,
          1
         ],
         "title": {
          "text": "Wickets per Innings (higher the better)"
         }
        }
       }
      },
      "text/html": [
       "<div>                            <div id=\"1c63f5c2-efc4-4cee-855d-cc8cb104dc0a\" class=\"plotly-graph-div\" style=\"height:525px; width:100%;\"></div>            <script type=\"text/javascript\">                require([\"plotly\"], function(Plotly) {                    window.PLOTLYENV=window.PLOTLYENV || {};                                    if (document.getElementById(\"1c63f5c2-efc4-4cee-855d-cc8cb104dc0a\")) {                    Plotly.newPlot(                        \"1c63f5c2-efc4-4cee-855d-cc8cb104dc0a\",                        [{\"hovertemplate\":\"<b>%{hovertext}</b><br><br>Type=Fast<br>ESRA (lower the better)=%{x}<br>Wickets per Innings (higher the better)=%{y}<extra></extra>\",\"hovertext\":[\"A Nortje\",\"AS Joseph\",\"CJ Jordan\",\"JJ Bumrah\",\"K Rabada\",\"KR Sen\",\"LH Ferguson\",\"M Prasidh Krishna\",\"Mohammed Shami\",\"Mohsin Khan\",\"OF Smith\",\"PVD Chameera\",\"RP Meredith\",\"Shivam Mavi\",\"TS Mills\",\"Umran Malik\"],\"legendgroup\":\"Fast\",\"marker\":{\"color\":\"#636efa\",\"symbol\":\"star-triangle-up\"},\"mode\":\"markers\",\"name\":\"Fast\",\"orientation\":\"v\",\"showlegend\":true,\"x\":[15.965,16.764,20.816,14.025,13.953,16.384,16.668,15.361,14.535,11.281,18.554,17.215,15.536,18.793,18.156,14.776],\"xaxis\":\"x\",\"y\":[1.5,0.778,0.5,1.071,1.769,1.143,0.923,1.118,1.25,1.556,1.0,0.75,1.0,0.833,1.2,1.571],\"yaxis\":\"y\",\"type\":\"scatter\"},{\"hovertemplate\":\"<b>%{hovertext}</b><br><br>Type=Medium Fast<br>ESRA (lower the better)=%{x}<br>Wickets per Innings (higher the better)=%{y}<extra></extra>\",\"hovertext\":[\"AD Russell\",\"AJ Tye\",\"Arshdeep Singh\",\"Avesh Khan\",\"B Kumar\",\"C Sakariya\",\"D Pretorius\",\"DJ Willey\",\"DR Sams\",\"HH Pandya\",\"JR Hazlewood\",\"M Jansen\",\"Mohammed Siraj\",\"Mukesh Choudhary\",\"PJ Cummins\",\"R Shepherd\",\"Simarjeet Singh\",\"SN Thakur\",\"TA Boult\",\"UT Yadav\",\"Yash Dayal\"],\"legendgroup\":\"Medium Fast\",\"marker\":{\"color\":\"#EF553B\",\"symbol\":\"circle\"},\"mode\":\"markers\",\"name\":\"Medium Fast\",\"orientation\":\"v\",\"showlegend\":true,\"x\":[14.997,19.031,15.976,14.975,14.956,14.711,17.483,18.297,15.727,14.395,13.837,16.719,19.625,15.92,17.567,18.008,15.512,16.922,15.288,13.32,15.91],\"xaxis\":\"x\",\"y\":[1.308,0.667,0.714,1.385,0.857,1.0,1.0,0.25,1.182,0.8,1.667,0.875,0.6,1.231,1.4,1.0,0.667,1.071,1.0,1.333,1.222],\"yaxis\":\"y\",\"type\":\"scatter\"},{\"hovertemplate\":\"<b>%{hovertext}</b><br><br>Type=Medium<br>ESRA (lower the better)=%{x}<br>Wickets per Innings (higher the better)=%{y}<extra></extra>\",\"hovertext\":[\"Akash Deep\",\"Basil Thampi\",\"DJ Bravo\",\"Fazalhaq Farooqi\",\"HV Patel\",\"JD Unadkat\",\"JO Holder\",\"KA Pollard\",\"KK Ahmed\",\"MR Marsh\",\"Mustafizur Rahman\",\"OC McCoy\",\"PJ Sangwan\",\"R Dhawan\",\"Ramandeep Singh\",\"Sandeep Sharma\",\"T Natarajan\",\"TG Southee\",\"VG Arora\"],\"legendgroup\":\"Medium\",\"marker\":{\"color\":\"#00cc96\",\"symbol\":\"diamond-tall\"},\"mode\":\"markers\",\"name\":\"Medium\",\"orientation\":\"v\",\"showlegend\":true,\"x\":[18.855,16.543,14.329,18.709,13.862,16.688,16.182,16.158,13.903,15.095,15.002,15.049,13.518,14.918,12.873,19.333,15.514,13.746,18.705],\"xaxis\":\"x\",\"y\":[1.0,1.0,1.6,0.667,1.267,1.2,1.167,0.667,1.6,1.0,1.0,1.571,1.0,1.0,2.0,0.4,1.636,1.556,0.6],\"yaxis\":\"y\",\"type\":\"scatter\"},{\"hovertemplate\":\"<b>%{hovertext}</b><br><br>Type=Offbreak<br>ESRA (lower the better)=%{x}<br>Wickets per Innings (higher the better)=%{y}<extra></extra>\",\"hovertext\":[\"AR Patel\",\"GJ Maxwell\",\"Harpreet Brar\",\"HR Shokeen\",\"J Suchith\",\"K Gowtham\",\"KH Pandya\",\"Lalit Yadav\",\"LS Livingstone\",\"MJ Santner\",\"MM Ali\",\"R Ashwin\",\"R Sai Kishore\",\"RA Jadeja\",\"Shahbaz Ahmed\",\"Washington Sundar\"],\"legendgroup\":\"Offbreak\",\"marker\":{\"color\":\"#ab63fa\",\"symbol\":\"square\"},\"mode\":\"markers\",\"name\":\"Offbreak\",\"orientation\":\"v\",\"showlegend\":true,\"x\":[17.293,14.056,16.898,18.886,13.732,14.098,13.991,16.361,16.308,14.65,12.764,16.194,13.574,16.965,21.283,16.776],\"xaxis\":\"x\",\"y\":[0.462,0.6,0.8,0.4,1.4,1.25,0.833,0.5,0.5,0.667,0.8,0.706,1.2,0.5,0.286,0.75],\"yaxis\":\"y\",\"type\":\"scatter\"},{\"hovertemplate\":\"<b>%{hovertext}</b><br><br>Type=Legbreak Googly<br>ESRA (lower the better)=%{x}<br>Wickets per Innings (higher the better)=%{y}<extra></extra>\",\"hovertext\":[\"CV Varun\",\"K Kartikeya\",\"M Theekshana\",\"Ravi Bishnoi\",\"SP Narine\"],\"legendgroup\":\"Legbreak Googly\",\"marker\":{\"color\":\"#FFA15A\",\"symbol\":\"star\"},\"mode\":\"markers\",\"name\":\"Legbreak Googly\",\"orientation\":\"v\",\"showlegend\":true,\"x\":[18.163,13.85,13.725,16.186,14.055],\"xaxis\":\"x\",\"y\":[0.545,1.25,1.333,0.929,0.643],\"yaxis\":\"y\",\"type\":\"scatter\"},{\"hovertemplate\":\"<b>%{hovertext}</b><br><br>Type=Legbreak<br>ESRA (lower the better)=%{x}<br>Wickets per Innings (higher the better)=%{y}<extra></extra>\",\"hovertext\":[\"Kuldeep Yadav\",\"M Ashwin\",\"PWH de Silva\",\"Rashid Khan\",\"RD Chahar\",\"YS Chahal\"],\"legendgroup\":\"Legbreak\",\"marker\":{\"color\":\"#19d3f3\",\"symbol\":\"diamond\"},\"mode\":\"markers\",\"name\":\"Legbreak\",\"orientation\":\"v\",\"showlegend\":true,\"x\":[14.283,14.543,12.989,13.105,14.471,13.635],\"xaxis\":\"x\",\"y\":[1.5,1.125,1.625,1.188,1.077,1.588],\"yaxis\":\"y\",\"type\":\"scatter\"}],                        {\"template\":{\"data\":{\"bar\":[{\"error_x\":{\"color\":\"#2a3f5f\"},\"error_y\":{\"color\":\"#2a3f5f\"},\"marker\":{\"line\":{\"color\":\"#E5ECF6\",\"width\":0.5},\"pattern\":{\"fillmode\":\"overlay\",\"size\":10,\"solidity\":0.2}},\"type\":\"bar\"}],\"barpolar\":[{\"marker\":{\"line\":{\"color\":\"#E5ECF6\",\"width\":0.5},\"pattern\":{\"fillmode\":\"overlay\",\"size\":10,\"solidity\":0.2}},\"type\":\"barpolar\"}],\"carpet\":[{\"aaxis\":{\"endlinecolor\":\"#2a3f5f\",\"gridcolor\":\"white\",\"linecolor\":\"white\",\"minorgridcolor\":\"white\",\"startlinecolor\":\"#2a3f5f\"},\"baxis\":{\"endlinecolor\":\"#2a3f5f\",\"gridcolor\":\"white\",\"linecolor\":\"white\",\"minorgridcolor\":\"white\",\"startlinecolor\":\"#2a3f5f\"},\"type\":\"carpet\"}],\"choropleth\":[{\"colorbar\":{\"outlinewidth\":0,\"ticks\":\"\"},\"type\":\"choropleth\"}],\"contour\":[{\"colorbar\":{\"outlinewidth\":0,\"ticks\":\"\"},\"colorscale\":[[0.0,\"#0d0887\"],[0.1111111111111111,\"#46039f\"],[0.2222222222222222,\"#7201a8\"],[0.3333333333333333,\"#9c179e\"],[0.4444444444444444,\"#bd3786\"],[0.5555555555555556,\"#d8576b\"],[0.6666666666666666,\"#ed7953\"],[0.7777777777777778,\"#fb9f3a\"],[0.8888888888888888,\"#fdca26\"],[1.0,\"#f0f921\"]],\"type\":\"contour\"}],\"contourcarpet\":[{\"colorbar\":{\"outlinewidth\":0,\"ticks\":\"\"},\"type\":\"contourcarpet\"}],\"heatmap\":[{\"colorbar\":{\"outlinewidth\":0,\"ticks\":\"\"},\"colorscale\":[[0.0,\"#0d0887\"],[0.1111111111111111,\"#46039f\"],[0.2222222222222222,\"#7201a8\"],[0.3333333333333333,\"#9c179e\"],[0.4444444444444444,\"#bd3786\"],[0.5555555555555556,\"#d8576b\"],[0.6666666666666666,\"#ed7953\"],[0.7777777777777778,\"#fb9f3a\"],[0.8888888888888888,\"#fdca26\"],[1.0,\"#f0f921\"]],\"type\":\"heatmap\"}],\"heatmapgl\":[{\"colorbar\":{\"outlinewidth\":0,\"ticks\":\"\"},\"colorscale\":[[0.0,\"#0d0887\"],[0.1111111111111111,\"#46039f\"],[0.2222222222222222,\"#7201a8\"],[0.3333333333333333,\"#9c179e\"],[0.4444444444444444,\"#bd3786\"],[0.5555555555555556,\"#d8576b\"],[0.6666666666666666,\"#ed7953\"],[0.7777777777777778,\"#fb9f3a\"],[0.8888888888888888,\"#fdca26\"],[1.0,\"#f0f921\"]],\"type\":\"heatmapgl\"}],\"histogram\":[{\"marker\":{\"pattern\":{\"fillmode\":\"overlay\",\"size\":10,\"solidity\":0.2}},\"type\":\"histogram\"}],\"histogram2d\":[{\"colorbar\":{\"outlinewidth\":0,\"ticks\":\"\"},\"colorscale\":[[0.0,\"#0d0887\"],[0.1111111111111111,\"#46039f\"],[0.2222222222222222,\"#7201a8\"],[0.3333333333333333,\"#9c179e\"],[0.4444444444444444,\"#bd3786\"],[0.5555555555555556,\"#d8576b\"],[0.6666666666666666,\"#ed7953\"],[0.7777777777777778,\"#fb9f3a\"],[0.8888888888888888,\"#fdca26\"],[1.0,\"#f0f921\"]],\"type\":\"histogram2d\"}],\"histogram2dcontour\":[{\"colorbar\":{\"outlinewidth\":0,\"ticks\":\"\"},\"colorscale\":[[0.0,\"#0d0887\"],[0.1111111111111111,\"#46039f\"],[0.2222222222222222,\"#7201a8\"],[0.3333333333333333,\"#9c179e\"],[0.4444444444444444,\"#bd3786\"],[0.5555555555555556,\"#d8576b\"],[0.6666666666666666,\"#ed7953\"],[0.7777777777777778,\"#fb9f3a\"],[0.8888888888888888,\"#fdca26\"],[1.0,\"#f0f921\"]],\"type\":\"histogram2dcontour\"}],\"mesh3d\":[{\"colorbar\":{\"outlinewidth\":0,\"ticks\":\"\"},\"type\":\"mesh3d\"}],\"parcoords\":[{\"line\":{\"colorbar\":{\"outlinewidth\":0,\"ticks\":\"\"}},\"type\":\"parcoords\"}],\"pie\":[{\"automargin\":true,\"type\":\"pie\"}],\"scatter\":[{\"marker\":{\"colorbar\":{\"outlinewidth\":0,\"ticks\":\"\"}},\"type\":\"scatter\"}],\"scatter3d\":[{\"line\":{\"colorbar\":{\"outlinewidth\":0,\"ticks\":\"\"}},\"marker\":{\"colorbar\":{\"outlinewidth\":0,\"ticks\":\"\"}},\"type\":\"scatter3d\"}],\"scattercarpet\":[{\"marker\":{\"colorbar\":{\"outlinewidth\":0,\"ticks\":\"\"}},\"type\":\"scattercarpet\"}],\"scattergeo\":[{\"marker\":{\"colorbar\":{\"outlinewidth\":0,\"ticks\":\"\"}},\"type\":\"scattergeo\"}],\"scattergl\":[{\"marker\":{\"colorbar\":{\"outlinewidth\":0,\"ticks\":\"\"}},\"type\":\"scattergl\"}],\"scattermapbox\":[{\"marker\":{\"colorbar\":{\"outlinewidth\":0,\"ticks\":\"\"}},\"type\":\"scattermapbox\"}],\"scatterpolar\":[{\"marker\":{\"colorbar\":{\"outlinewidth\":0,\"ticks\":\"\"}},\"type\":\"scatterpolar\"}],\"scatterpolargl\":[{\"marker\":{\"colorbar\":{\"outlinewidth\":0,\"ticks\":\"\"}},\"type\":\"scatterpolargl\"}],\"scatterternary\":[{\"marker\":{\"colorbar\":{\"outlinewidth\":0,\"ticks\":\"\"}},\"type\":\"scatterternary\"}],\"surface\":[{\"colorbar\":{\"outlinewidth\":0,\"ticks\":\"\"},\"colorscale\":[[0.0,\"#0d0887\"],[0.1111111111111111,\"#46039f\"],[0.2222222222222222,\"#7201a8\"],[0.3333333333333333,\"#9c179e\"],[0.4444444444444444,\"#bd3786\"],[0.5555555555555556,\"#d8576b\"],[0.6666666666666666,\"#ed7953\"],[0.7777777777777778,\"#fb9f3a\"],[0.8888888888888888,\"#fdca26\"],[1.0,\"#f0f921\"]],\"type\":\"surface\"}],\"table\":[{\"cells\":{\"fill\":{\"color\":\"#EBF0F8\"},\"line\":{\"color\":\"white\"}},\"header\":{\"fill\":{\"color\":\"#C8D4E3\"},\"line\":{\"color\":\"white\"}},\"type\":\"table\"}]},\"layout\":{\"annotationdefaults\":{\"arrowcolor\":\"#2a3f5f\",\"arrowhead\":0,\"arrowwidth\":1},\"autotypenumbers\":\"strict\",\"coloraxis\":{\"colorbar\":{\"outlinewidth\":0,\"ticks\":\"\"}},\"colorscale\":{\"diverging\":[[0,\"#8e0152\"],[0.1,\"#c51b7d\"],[0.2,\"#de77ae\"],[0.3,\"#f1b6da\"],[0.4,\"#fde0ef\"],[0.5,\"#f7f7f7\"],[0.6,\"#e6f5d0\"],[0.7,\"#b8e186\"],[0.8,\"#7fbc41\"],[0.9,\"#4d9221\"],[1,\"#276419\"]],\"sequential\":[[0.0,\"#0d0887\"],[0.1111111111111111,\"#46039f\"],[0.2222222222222222,\"#7201a8\"],[0.3333333333333333,\"#9c179e\"],[0.4444444444444444,\"#bd3786\"],[0.5555555555555556,\"#d8576b\"],[0.6666666666666666,\"#ed7953\"],[0.7777777777777778,\"#fb9f3a\"],[0.8888888888888888,\"#fdca26\"],[1.0,\"#f0f921\"]],\"sequentialminus\":[[0.0,\"#0d0887\"],[0.1111111111111111,\"#46039f\"],[0.2222222222222222,\"#7201a8\"],[0.3333333333333333,\"#9c179e\"],[0.4444444444444444,\"#bd3786\"],[0.5555555555555556,\"#d8576b\"],[0.6666666666666666,\"#ed7953\"],[0.7777777777777778,\"#fb9f3a\"],[0.8888888888888888,\"#fdca26\"],[1.0,\"#f0f921\"]]},\"colorway\":[\"#636efa\",\"#EF553B\",\"#00cc96\",\"#ab63fa\",\"#FFA15A\",\"#19d3f3\",\"#FF6692\",\"#B6E880\",\"#FF97FF\",\"#FECB52\"],\"font\":{\"color\":\"#2a3f5f\"},\"geo\":{\"bgcolor\":\"white\",\"lakecolor\":\"white\",\"landcolor\":\"#E5ECF6\",\"showlakes\":true,\"showland\":true,\"subunitcolor\":\"white\"},\"hoverlabel\":{\"align\":\"left\"},\"hovermode\":\"closest\",\"mapbox\":{\"style\":\"light\"},\"paper_bgcolor\":\"white\",\"plot_bgcolor\":\"#E5ECF6\",\"polar\":{\"angularaxis\":{\"gridcolor\":\"white\",\"linecolor\":\"white\",\"ticks\":\"\"},\"bgcolor\":\"#E5ECF6\",\"radialaxis\":{\"gridcolor\":\"white\",\"linecolor\":\"white\",\"ticks\":\"\"}},\"scene\":{\"xaxis\":{\"backgroundcolor\":\"#E5ECF6\",\"gridcolor\":\"white\",\"gridwidth\":2,\"linecolor\":\"white\",\"showbackground\":true,\"ticks\":\"\",\"zerolinecolor\":\"white\"},\"yaxis\":{\"backgroundcolor\":\"#E5ECF6\",\"gridcolor\":\"white\",\"gridwidth\":2,\"linecolor\":\"white\",\"showbackground\":true,\"ticks\":\"\",\"zerolinecolor\":\"white\"},\"zaxis\":{\"backgroundcolor\":\"#E5ECF6\",\"gridcolor\":\"white\",\"gridwidth\":2,\"linecolor\":\"white\",\"showbackground\":true,\"ticks\":\"\",\"zerolinecolor\":\"white\"}},\"shapedefaults\":{\"line\":{\"color\":\"#2a3f5f\"}},\"ternary\":{\"aaxis\":{\"gridcolor\":\"white\",\"linecolor\":\"white\",\"ticks\":\"\"},\"baxis\":{\"gridcolor\":\"white\",\"linecolor\":\"white\",\"ticks\":\"\"},\"bgcolor\":\"#E5ECF6\",\"caxis\":{\"gridcolor\":\"white\",\"linecolor\":\"white\",\"ticks\":\"\"}},\"title\":{\"x\":0.05},\"xaxis\":{\"automargin\":true,\"gridcolor\":\"white\",\"linecolor\":\"white\",\"ticks\":\"\",\"title\":{\"standoff\":15},\"zerolinecolor\":\"white\",\"zerolinewidth\":2},\"yaxis\":{\"automargin\":true,\"gridcolor\":\"white\",\"linecolor\":\"white\",\"ticks\":\"\",\"title\":{\"standoff\":15},\"zerolinecolor\":\"white\",\"zerolinewidth\":2}}},\"xaxis\":{\"anchor\":\"y\",\"domain\":[0.0,1.0],\"title\":{\"text\":\"ESRA (lower the better)\"}},\"yaxis\":{\"anchor\":\"x\",\"domain\":[0.0,1.0],\"title\":{\"text\":\"Wickets per Innings (higher the better)\"}},\"legend\":{\"title\":{\"text\":\"Type\"},\"tracegroupgap\":0},\"title\":{\"text\":\"ESRA-index vs W/I\"},\"shapes\":[{\"fillcolor\":\"lightyellow\",\"layer\":\"below\",\"opacity\":0.5,\"type\":\"circle\",\"x0\":12,\"x1\":15.5,\"y0\":1.15,\"y1\":2.2}]},                        {\"responsive\": true}                    ).then(function(){\n",
       "                            \n",
       "var gd = document.getElementById('1c63f5c2-efc4-4cee-855d-cc8cb104dc0a');\n",
       "var x = new MutationObserver(function (mutations, observer) {{\n",
       "        var display = window.getComputedStyle(gd).display;\n",
       "        if (!display || display === 'none') {{\n",
       "            console.log([gd, 'removed!']);\n",
       "            Plotly.purge(gd);\n",
       "            observer.disconnect();\n",
       "        }}\n",
       "}});\n",
       "\n",
       "// Listen for the removal of the full notebook cells\n",
       "var notebookContainer = gd.closest('#notebook-container');\n",
       "if (notebookContainer) {{\n",
       "    x.observe(notebookContainer, {childList: true});\n",
       "}}\n",
       "\n",
       "// Listen for the clearing of the current output cell\n",
       "var outputEl = gd.closest('.output');\n",
       "if (outputEl) {{\n",
       "    x.observe(outputEl, {childList: true});\n",
       "}}\n",
       "\n",
       "                        })                };                });            </script>        </div>"
      ]
     },
     "metadata": {},
     "output_type": "display_data"
    },
    {
     "data": {
      "text/html": [
       "<div>\n",
       "<style scoped>\n",
       "    .dataframe tbody tr th:only-of-type {\n",
       "        vertical-align: middle;\n",
       "    }\n",
       "\n",
       "    .dataframe tbody tr th {\n",
       "        vertical-align: top;\n",
       "    }\n",
       "\n",
       "    .dataframe thead th {\n",
       "        text-align: right;\n",
       "    }\n",
       "</style>\n",
       "<table border=\"1\" class=\"dataframe\">\n",
       "  <thead>\n",
       "    <tr style=\"text-align: right;\">\n",
       "      <th></th>\n",
       "      <th>Player</th>\n",
       "      <th>Type</th>\n",
       "      <th>W/I</th>\n",
       "      <th>ESRA</th>\n",
       "    </tr>\n",
       "  </thead>\n",
       "  <tbody>\n",
       "    <tr>\n",
       "      <th>44</th>\n",
       "      <td>K Rabada</td>\n",
       "      <td>Fast</td>\n",
       "      <td>1.769</td>\n",
       "      <td>13.953</td>\n",
       "    </tr>\n",
       "    <tr>\n",
       "      <th>41</th>\n",
       "      <td>JR Hazlewood</td>\n",
       "      <td>Medium Fast</td>\n",
       "      <td>1.667</td>\n",
       "      <td>13.837</td>\n",
       "    </tr>\n",
       "    <tr>\n",
       "      <th>82</th>\n",
       "      <td>PWH de Silva</td>\n",
       "      <td>Legbreak</td>\n",
       "      <td>1.625</td>\n",
       "      <td>12.989</td>\n",
       "    </tr>\n",
       "    <tr>\n",
       "      <th>23</th>\n",
       "      <td>DJ Bravo</td>\n",
       "      <td>Medium</td>\n",
       "      <td>1.600</td>\n",
       "      <td>14.329</td>\n",
       "    </tr>\n",
       "    <tr>\n",
       "      <th>48</th>\n",
       "      <td>KK Ahmed</td>\n",
       "      <td>Medium</td>\n",
       "      <td>1.600</td>\n",
       "      <td>13.903</td>\n",
       "    </tr>\n",
       "  </tbody>\n",
       "</table>\n",
       "</div>"
      ],
      "text/plain": [
       "          Player         Type    W/I    ESRA\n",
       "44      K Rabada         Fast  1.769  13.953\n",
       "41  JR Hazlewood  Medium Fast  1.667  13.837\n",
       "82  PWH de Silva     Legbreak  1.625  12.989\n",
       "23      DJ Bravo       Medium  1.600  14.329\n",
       "48      KK Ahmed       Medium  1.600  13.903"
      ]
     },
     "execution_count": 38,
     "metadata": {},
     "output_type": "execute_result"
    }
   ],
   "source": [
    "ESRAvsBound_Dots = px.scatter(data_frame=updated_df,x='ESRA',y='W/I',\n",
    "           hover_name='Player',color='Type',symbol='Type',\n",
    "           symbol_sequence= ['star-triangle-up', 'circle', 'diamond-tall', 'square','star','diamond'],\n",
    "                              labels={'ESRA':'ESRA (lower the better)','W/I':'Wickets per Innings (higher the better)'},\n",
    "                              title='ESRA-index vs W/I')\n",
    "ESRAvsBound_Dots.add_shape(type='circle',x0=12,x1=15.5,y0=1.15,y1=2.2,fillcolor='lightyellow',opacity=0.5,layer='below')\n",
    "ESRAvsBound_Dots.show()\n",
    "strike_bowlers = updated_df[(updated_df['ESRA']<15.5)&(updated_df['W/I']>1)&(updated_df['I']>5)].sort_values('W/I',ascending=False)[['Player','Type','W/I','ESRA']]\n",
    "strike_bowlers.head()"
   ]
  },
  {
   "cell_type": "code",
   "execution_count": 39,
   "id": "4fd6474f",
   "metadata": {},
   "outputs": [
    {
     "data": {
      "text/plain": [
       "Fast               6\n",
       "Legbreak           6\n",
       "Medium             5\n",
       "Medium Fast        4\n",
       "Legbreak Googly    1\n",
       "Name: Type, dtype: int64"
      ]
     },
     "execution_count": 39,
     "metadata": {},
     "output_type": "execute_result"
    }
   ],
   "source": [
    "updated_df[(updated_df['ESRA']<15.5)&(updated_df['W/I']>1)&(updated_df['I']>5)].sort_values('W/I',ascending=False)[['Player','Type','W/I','ESRA']]['Type'].value_counts()"
   ]
  },
  {
   "cell_type": "markdown",
   "id": "07b688cf",
   "metadata": {},
   "source": [
    "Inferences:\n",
    "- No surprises withstanding, again, leg-break bowlers dominate the cluster. Chahal, Hasaranga, Rabada, Hazlewood, Mohsin Khan and McCoy seem to have really had a stellar IPL. Props to Obed McCoy for arriving only in the second half of the IPL and becoming a key part of Rajasthan's death bowling unit. Talking about McCoy, slowerball specialists like McCoy, Bravo, Harshal Patel, Russell are appearing in this cluster, especially being death bowlers. Seems like slow balls is a valid tactic.\n",
    "\n",
    "\n",
    "- Medium fast and off-break bowlers aren't really successful in getting the wickets of the batsmen."
   ]
  },
  {
   "cell_type": "markdown",
   "id": "6fcf8897",
   "metadata": {},
   "source": [
    "**Economy vs Bound/Dots_%**"
   ]
  },
  {
   "cell_type": "markdown",
   "id": "462495c0",
   "metadata": {},
   "source": [
    "The box shows us the cluster of players who would be great additions as defensive bowlers to a playing XI. "
   ]
  },
  {
   "cell_type": "code",
   "execution_count": 40,
   "id": "b28e1070",
   "metadata": {},
   "outputs": [
    {
     "data": {
      "application/vnd.plotly.v1+json": {
       "config": {
        "plotlyServerURL": "https://plot.ly"
       },
       "data": [
        {
         "hovertemplate": "<b>%{hovertext}</b><br><br>Type=Fast<br>Econ=%{x}<br>Bound/Dots_%=%{y}<extra></extra>",
         "hovertext": [
          "A Nortje",
          "AS Joseph",
          "CJ Jordan",
          "JJ Bumrah",
          "K Rabada",
          "KR Sen",
          "LH Ferguson",
          "M Prasidh Krishna",
          "Mohammed Shami",
          "Mohsin Khan",
          "OF Smith",
          "PVD Chameera",
          "RP Meredith",
          "Shivam Mavi",
          "TS Mills",
          "Umran Malik"
         ],
         "legendgroup": "Fast",
         "marker": {
          "color": "#636efa",
          "symbol": "star-triangle-up"
         },
         "mode": "markers",
         "name": "Fast",
         "orientation": "v",
         "showlegend": true,
         "type": "scatter",
         "x": [
          9.72,
          8.8,
          10.52,
          7.18,
          8.46,
          9.42,
          8.96,
          8.29,
          8,
          5.97,
          11.87,
          8.73,
          8.43,
          10.32,
          11.18,
          8.98
         ],
         "xaxis": "x",
         "y": [
          65.96,
          55.22,
          81.82,
          36.09,
          46.09,
          62.5,
          56.36,
          43.52,
          40.24,
          21.9,
          80,
          52.14,
          42.25,
          65.96,
          107.14,
          52.67
         ],
         "yaxis": "y"
        },
        {
         "hovertemplate": "<b>%{hovertext}</b><br><br>Type=Medium Fast<br>Econ=%{x}<br>Bound/Dots_%=%{y}<extra></extra>",
         "hovertext": [
          "AD Russell",
          "AJ Tye",
          "Arshdeep Singh",
          "Avesh Khan",
          "B Kumar",
          "C Sakariya",
          "D Pretorius",
          "DJ Willey",
          "DR Sams",
          "HH Pandya",
          "JR Hazlewood",
          "M Jansen",
          "Mohammed Siraj",
          "Mukesh Choudhary",
          "PJ Cummins",
          "R Shepherd",
          "Simarjeet Singh",
          "SN Thakur",
          "TA Boult",
          "UT Yadav",
          "Yash Dayal"
         ],
         "legendgroup": "Medium Fast",
         "marker": {
          "color": "#EF553B",
          "symbol": "circle"
         },
         "mode": "markers",
         "name": "Medium Fast",
         "orientation": "v",
         "showlegend": true,
         "type": "scatter",
         "x": [
          9.87,
          9.73,
          7.7,
          8.73,
          7.34,
          7.64,
          10,
          6.55,
          8.81,
          7.28,
          8.11,
          8.56,
          10.08,
          9.32,
          10.69,
          10.89,
          7.67,
          9.79,
          7.94,
          7.06,
          9.25
         ],
         "xaxis": "x",
         "y": [
          68.42,
          80.95,
          44.12,
          52.46,
          33.33,
          44.44,
          64.71,
          33.33,
          45.71,
          37.5,
          44.17,
          46.84,
          61.48,
          54.24,
          87.88,
          65.22,
          38.18,
          64.36,
          42.94,
          35.56,
          56.58
         ],
         "yaxis": "y"
        },
        {
         "hovertemplate": "<b>%{hovertext}</b><br><br>Type=Medium<br>Econ=%{x}<br>Bound/Dots_%=%{y}<extra></extra>",
         "hovertext": [
          "Akash Deep",
          "Basil Thampi",
          "DJ Bravo",
          "Fazalhaq Farooqi",
          "HV Patel",
          "JD Unadkat",
          "JO Holder",
          "KA Pollard",
          "KK Ahmed",
          "MR Marsh",
          "Mustafizur Rahman",
          "OC McCoy",
          "PJ Sangwan",
          "R Dhawan",
          "Ramandeep Singh",
          "Sandeep Sharma",
          "T Natarajan",
          "TG Southee",
          "VG Arora"
         ],
         "legendgroup": "Medium",
         "marker": {
          "color": "#00cc96",
          "symbol": "diamond-tall"
         },
         "mode": "markers",
         "name": "Medium",
         "orientation": "v",
         "showlegend": true,
         "type": "scatter",
         "x": [
          10.88,
          9.5,
          8.71,
          9.17,
          7.66,
          9.5,
          9.42,
          8.93,
          8.04,
          8.5,
          7.62,
          9.08,
          7.22,
          8.21,
          9,
          7.65,
          9.44,
          7.86,
          9.2
         ],
         "xaxis": "x",
         "y": [
          74.36,
          55.26,
          53.03,
          58.33,
          37.4,
          71.43,
          66.67,
          78.95,
          42.73,
          60,
          43.06,
          57.45,
          42.86,
          51.61,
          58.33,
          41.38,
          66.67,
          41.67,
          68.42
         ],
         "yaxis": "y"
        },
        {
         "hovertemplate": "<b>%{hovertext}</b><br><br>Type=Offbreak<br>Econ=%{x}<br>Bound/Dots_%=%{y}<extra></extra>",
         "hovertext": [
          "AR Patel",
          "GJ Maxwell",
          "Harpreet Brar",
          "HR Shokeen",
          "J Suchith",
          "K Gowtham",
          "KH Pandya",
          "Lalit Yadav",
          "LS Livingstone",
          "MJ Santner",
          "MM Ali",
          "R Ashwin",
          "R Sai Kishore",
          "RA Jadeja",
          "Shahbaz Ahmed",
          "Washington Sundar"
         ],
         "legendgroup": "Offbreak",
         "marker": {
          "color": "#ab63fa",
          "symbol": "square"
         },
         "mode": "markers",
         "name": "Offbreak",
         "orientation": "v",
         "showlegend": true,
         "type": "scatter",
         "x": [
          7.47,
          6.88,
          9.12,
          8.47,
          7.78,
          8.25,
          6.97,
          8.33,
          8.78,
          6.84,
          6.63,
          7.51,
          7.56,
          7.52,
          9.6,
          8.54
         ],
         "xaxis": "x",
         "y": [
          41.18,
          27.42,
          52.78,
          41.46,
          33.33,
          45.16,
          38.24,
          48.65,
          55.26,
          34.15,
          29.09,
          38.66,
          46.15,
          39.06,
          73.21,
          57.45
         ],
         "yaxis": "y"
        },
        {
         "hovertemplate": "<b>%{hovertext}</b><br><br>Type=Legbreak Googly<br>Econ=%{x}<br>Bound/Dots_%=%{y}<extra></extra>",
         "hovertext": [
          "CV Varun",
          "K Kartikeya",
          "M Theekshana",
          "Ravi Bishnoi",
          "SP Narine"
         ],
         "legendgroup": "Legbreak Googly",
         "marker": {
          "color": "#FFA15A",
          "symbol": "star"
         },
         "mode": "markers",
         "name": "Legbreak Googly",
         "orientation": "v",
         "showlegend": true,
         "type": "scatter",
         "x": [
          8.45,
          7.85,
          7.46,
          8.44,
          5.57
         ],
         "xaxis": "x",
         "y": [
          45.35,
          44.83,
          43.08,
          51.82,
          16.67
         ],
         "yaxis": "y"
        },
        {
         "hovertemplate": "<b>%{hovertext}</b><br><br>Type=Legbreak<br>Econ=%{x}<br>Bound/Dots_%=%{y}<extra></extra>",
         "hovertext": [
          "Kuldeep Yadav",
          "M Ashwin",
          "PWH de Silva",
          "Rashid Khan",
          "RD Chahar",
          "YS Chahal"
         ],
         "legendgroup": "Legbreak",
         "marker": {
          "color": "#19d3f3",
          "symbol": "diamond"
         },
         "mode": "markers",
         "name": "Legbreak",
         "orientation": "v",
         "showlegend": true,
         "type": "scatter",
         "x": [
          8.44,
          7.86,
          7.54,
          6.6,
          7.71,
          7.75
         ],
         "xaxis": "x",
         "y": [
          53.12,
          43.08,
          37.96,
          26.02,
          37.11,
          40.62
         ],
         "yaxis": "y"
        }
       ],
       "layout": {
        "legend": {
         "title": {
          "text": "Type"
         },
         "tracegroupgap": 0
        },
        "shapes": [
         {
          "fillcolor": "lightyellow",
          "layer": "below",
          "opacity": 0.5,
          "type": "rect",
          "x0": 6.05,
          "x1": 7.98,
          "y0": 20.5,
          "y1": 53
         }
        ],
        "template": {
         "data": {
          "bar": [
           {
            "error_x": {
             "color": "#2a3f5f"
            },
            "error_y": {
             "color": "#2a3f5f"
            },
            "marker": {
             "line": {
              "color": "#E5ECF6",
              "width": 0.5
             },
             "pattern": {
              "fillmode": "overlay",
              "size": 10,
              "solidity": 0.2
             }
            },
            "type": "bar"
           }
          ],
          "barpolar": [
           {
            "marker": {
             "line": {
              "color": "#E5ECF6",
              "width": 0.5
             },
             "pattern": {
              "fillmode": "overlay",
              "size": 10,
              "solidity": 0.2
             }
            },
            "type": "barpolar"
           }
          ],
          "carpet": [
           {
            "aaxis": {
             "endlinecolor": "#2a3f5f",
             "gridcolor": "white",
             "linecolor": "white",
             "minorgridcolor": "white",
             "startlinecolor": "#2a3f5f"
            },
            "baxis": {
             "endlinecolor": "#2a3f5f",
             "gridcolor": "white",
             "linecolor": "white",
             "minorgridcolor": "white",
             "startlinecolor": "#2a3f5f"
            },
            "type": "carpet"
           }
          ],
          "choropleth": [
           {
            "colorbar": {
             "outlinewidth": 0,
             "ticks": ""
            },
            "type": "choropleth"
           }
          ],
          "contour": [
           {
            "colorbar": {
             "outlinewidth": 0,
             "ticks": ""
            },
            "colorscale": [
             [
              0,
              "#0d0887"
             ],
             [
              0.1111111111111111,
              "#46039f"
             ],
             [
              0.2222222222222222,
              "#7201a8"
             ],
             [
              0.3333333333333333,
              "#9c179e"
             ],
             [
              0.4444444444444444,
              "#bd3786"
             ],
             [
              0.5555555555555556,
              "#d8576b"
             ],
             [
              0.6666666666666666,
              "#ed7953"
             ],
             [
              0.7777777777777778,
              "#fb9f3a"
             ],
             [
              0.8888888888888888,
              "#fdca26"
             ],
             [
              1,
              "#f0f921"
             ]
            ],
            "type": "contour"
           }
          ],
          "contourcarpet": [
           {
            "colorbar": {
             "outlinewidth": 0,
             "ticks": ""
            },
            "type": "contourcarpet"
           }
          ],
          "heatmap": [
           {
            "colorbar": {
             "outlinewidth": 0,
             "ticks": ""
            },
            "colorscale": [
             [
              0,
              "#0d0887"
             ],
             [
              0.1111111111111111,
              "#46039f"
             ],
             [
              0.2222222222222222,
              "#7201a8"
             ],
             [
              0.3333333333333333,
              "#9c179e"
             ],
             [
              0.4444444444444444,
              "#bd3786"
             ],
             [
              0.5555555555555556,
              "#d8576b"
             ],
             [
              0.6666666666666666,
              "#ed7953"
             ],
             [
              0.7777777777777778,
              "#fb9f3a"
             ],
             [
              0.8888888888888888,
              "#fdca26"
             ],
             [
              1,
              "#f0f921"
             ]
            ],
            "type": "heatmap"
           }
          ],
          "heatmapgl": [
           {
            "colorbar": {
             "outlinewidth": 0,
             "ticks": ""
            },
            "colorscale": [
             [
              0,
              "#0d0887"
             ],
             [
              0.1111111111111111,
              "#46039f"
             ],
             [
              0.2222222222222222,
              "#7201a8"
             ],
             [
              0.3333333333333333,
              "#9c179e"
             ],
             [
              0.4444444444444444,
              "#bd3786"
             ],
             [
              0.5555555555555556,
              "#d8576b"
             ],
             [
              0.6666666666666666,
              "#ed7953"
             ],
             [
              0.7777777777777778,
              "#fb9f3a"
             ],
             [
              0.8888888888888888,
              "#fdca26"
             ],
             [
              1,
              "#f0f921"
             ]
            ],
            "type": "heatmapgl"
           }
          ],
          "histogram": [
           {
            "marker": {
             "pattern": {
              "fillmode": "overlay",
              "size": 10,
              "solidity": 0.2
             }
            },
            "type": "histogram"
           }
          ],
          "histogram2d": [
           {
            "colorbar": {
             "outlinewidth": 0,
             "ticks": ""
            },
            "colorscale": [
             [
              0,
              "#0d0887"
             ],
             [
              0.1111111111111111,
              "#46039f"
             ],
             [
              0.2222222222222222,
              "#7201a8"
             ],
             [
              0.3333333333333333,
              "#9c179e"
             ],
             [
              0.4444444444444444,
              "#bd3786"
             ],
             [
              0.5555555555555556,
              "#d8576b"
             ],
             [
              0.6666666666666666,
              "#ed7953"
             ],
             [
              0.7777777777777778,
              "#fb9f3a"
             ],
             [
              0.8888888888888888,
              "#fdca26"
             ],
             [
              1,
              "#f0f921"
             ]
            ],
            "type": "histogram2d"
           }
          ],
          "histogram2dcontour": [
           {
            "colorbar": {
             "outlinewidth": 0,
             "ticks": ""
            },
            "colorscale": [
             [
              0,
              "#0d0887"
             ],
             [
              0.1111111111111111,
              "#46039f"
             ],
             [
              0.2222222222222222,
              "#7201a8"
             ],
             [
              0.3333333333333333,
              "#9c179e"
             ],
             [
              0.4444444444444444,
              "#bd3786"
             ],
             [
              0.5555555555555556,
              "#d8576b"
             ],
             [
              0.6666666666666666,
              "#ed7953"
             ],
             [
              0.7777777777777778,
              "#fb9f3a"
             ],
             [
              0.8888888888888888,
              "#fdca26"
             ],
             [
              1,
              "#f0f921"
             ]
            ],
            "type": "histogram2dcontour"
           }
          ],
          "mesh3d": [
           {
            "colorbar": {
             "outlinewidth": 0,
             "ticks": ""
            },
            "type": "mesh3d"
           }
          ],
          "parcoords": [
           {
            "line": {
             "colorbar": {
              "outlinewidth": 0,
              "ticks": ""
             }
            },
            "type": "parcoords"
           }
          ],
          "pie": [
           {
            "automargin": true,
            "type": "pie"
           }
          ],
          "scatter": [
           {
            "marker": {
             "colorbar": {
              "outlinewidth": 0,
              "ticks": ""
             }
            },
            "type": "scatter"
           }
          ],
          "scatter3d": [
           {
            "line": {
             "colorbar": {
              "outlinewidth": 0,
              "ticks": ""
             }
            },
            "marker": {
             "colorbar": {
              "outlinewidth": 0,
              "ticks": ""
             }
            },
            "type": "scatter3d"
           }
          ],
          "scattercarpet": [
           {
            "marker": {
             "colorbar": {
              "outlinewidth": 0,
              "ticks": ""
             }
            },
            "type": "scattercarpet"
           }
          ],
          "scattergeo": [
           {
            "marker": {
             "colorbar": {
              "outlinewidth": 0,
              "ticks": ""
             }
            },
            "type": "scattergeo"
           }
          ],
          "scattergl": [
           {
            "marker": {
             "colorbar": {
              "outlinewidth": 0,
              "ticks": ""
             }
            },
            "type": "scattergl"
           }
          ],
          "scattermapbox": [
           {
            "marker": {
             "colorbar": {
              "outlinewidth": 0,
              "ticks": ""
             }
            },
            "type": "scattermapbox"
           }
          ],
          "scatterpolar": [
           {
            "marker": {
             "colorbar": {
              "outlinewidth": 0,
              "ticks": ""
             }
            },
            "type": "scatterpolar"
           }
          ],
          "scatterpolargl": [
           {
            "marker": {
             "colorbar": {
              "outlinewidth": 0,
              "ticks": ""
             }
            },
            "type": "scatterpolargl"
           }
          ],
          "scatterternary": [
           {
            "marker": {
             "colorbar": {
              "outlinewidth": 0,
              "ticks": ""
             }
            },
            "type": "scatterternary"
           }
          ],
          "surface": [
           {
            "colorbar": {
             "outlinewidth": 0,
             "ticks": ""
            },
            "colorscale": [
             [
              0,
              "#0d0887"
             ],
             [
              0.1111111111111111,
              "#46039f"
             ],
             [
              0.2222222222222222,
              "#7201a8"
             ],
             [
              0.3333333333333333,
              "#9c179e"
             ],
             [
              0.4444444444444444,
              "#bd3786"
             ],
             [
              0.5555555555555556,
              "#d8576b"
             ],
             [
              0.6666666666666666,
              "#ed7953"
             ],
             [
              0.7777777777777778,
              "#fb9f3a"
             ],
             [
              0.8888888888888888,
              "#fdca26"
             ],
             [
              1,
              "#f0f921"
             ]
            ],
            "type": "surface"
           }
          ],
          "table": [
           {
            "cells": {
             "fill": {
              "color": "#EBF0F8"
             },
             "line": {
              "color": "white"
             }
            },
            "header": {
             "fill": {
              "color": "#C8D4E3"
             },
             "line": {
              "color": "white"
             }
            },
            "type": "table"
           }
          ]
         },
         "layout": {
          "annotationdefaults": {
           "arrowcolor": "#2a3f5f",
           "arrowhead": 0,
           "arrowwidth": 1
          },
          "autotypenumbers": "strict",
          "coloraxis": {
           "colorbar": {
            "outlinewidth": 0,
            "ticks": ""
           }
          },
          "colorscale": {
           "diverging": [
            [
             0,
             "#8e0152"
            ],
            [
             0.1,
             "#c51b7d"
            ],
            [
             0.2,
             "#de77ae"
            ],
            [
             0.3,
             "#f1b6da"
            ],
            [
             0.4,
             "#fde0ef"
            ],
            [
             0.5,
             "#f7f7f7"
            ],
            [
             0.6,
             "#e6f5d0"
            ],
            [
             0.7,
             "#b8e186"
            ],
            [
             0.8,
             "#7fbc41"
            ],
            [
             0.9,
             "#4d9221"
            ],
            [
             1,
             "#276419"
            ]
           ],
           "sequential": [
            [
             0,
             "#0d0887"
            ],
            [
             0.1111111111111111,
             "#46039f"
            ],
            [
             0.2222222222222222,
             "#7201a8"
            ],
            [
             0.3333333333333333,
             "#9c179e"
            ],
            [
             0.4444444444444444,
             "#bd3786"
            ],
            [
             0.5555555555555556,
             "#d8576b"
            ],
            [
             0.6666666666666666,
             "#ed7953"
            ],
            [
             0.7777777777777778,
             "#fb9f3a"
            ],
            [
             0.8888888888888888,
             "#fdca26"
            ],
            [
             1,
             "#f0f921"
            ]
           ],
           "sequentialminus": [
            [
             0,
             "#0d0887"
            ],
            [
             0.1111111111111111,
             "#46039f"
            ],
            [
             0.2222222222222222,
             "#7201a8"
            ],
            [
             0.3333333333333333,
             "#9c179e"
            ],
            [
             0.4444444444444444,
             "#bd3786"
            ],
            [
             0.5555555555555556,
             "#d8576b"
            ],
            [
             0.6666666666666666,
             "#ed7953"
            ],
            [
             0.7777777777777778,
             "#fb9f3a"
            ],
            [
             0.8888888888888888,
             "#fdca26"
            ],
            [
             1,
             "#f0f921"
            ]
           ]
          },
          "colorway": [
           "#636efa",
           "#EF553B",
           "#00cc96",
           "#ab63fa",
           "#FFA15A",
           "#19d3f3",
           "#FF6692",
           "#B6E880",
           "#FF97FF",
           "#FECB52"
          ],
          "font": {
           "color": "#2a3f5f"
          },
          "geo": {
           "bgcolor": "white",
           "lakecolor": "white",
           "landcolor": "#E5ECF6",
           "showlakes": true,
           "showland": true,
           "subunitcolor": "white"
          },
          "hoverlabel": {
           "align": "left"
          },
          "hovermode": "closest",
          "mapbox": {
           "style": "light"
          },
          "paper_bgcolor": "white",
          "plot_bgcolor": "#E5ECF6",
          "polar": {
           "angularaxis": {
            "gridcolor": "white",
            "linecolor": "white",
            "ticks": ""
           },
           "bgcolor": "#E5ECF6",
           "radialaxis": {
            "gridcolor": "white",
            "linecolor": "white",
            "ticks": ""
           }
          },
          "scene": {
           "xaxis": {
            "backgroundcolor": "#E5ECF6",
            "gridcolor": "white",
            "gridwidth": 2,
            "linecolor": "white",
            "showbackground": true,
            "ticks": "",
            "zerolinecolor": "white"
           },
           "yaxis": {
            "backgroundcolor": "#E5ECF6",
            "gridcolor": "white",
            "gridwidth": 2,
            "linecolor": "white",
            "showbackground": true,
            "ticks": "",
            "zerolinecolor": "white"
           },
           "zaxis": {
            "backgroundcolor": "#E5ECF6",
            "gridcolor": "white",
            "gridwidth": 2,
            "linecolor": "white",
            "showbackground": true,
            "ticks": "",
            "zerolinecolor": "white"
           }
          },
          "shapedefaults": {
           "line": {
            "color": "#2a3f5f"
           }
          },
          "ternary": {
           "aaxis": {
            "gridcolor": "white",
            "linecolor": "white",
            "ticks": ""
           },
           "baxis": {
            "gridcolor": "white",
            "linecolor": "white",
            "ticks": ""
           },
           "bgcolor": "#E5ECF6",
           "caxis": {
            "gridcolor": "white",
            "linecolor": "white",
            "ticks": ""
           }
          },
          "title": {
           "x": 0.05
          },
          "xaxis": {
           "automargin": true,
           "gridcolor": "white",
           "linecolor": "white",
           "ticks": "",
           "title": {
            "standoff": 15
           },
           "zerolinecolor": "white",
           "zerolinewidth": 2
          },
          "yaxis": {
           "automargin": true,
           "gridcolor": "white",
           "linecolor": "white",
           "ticks": "",
           "title": {
            "standoff": 15
           },
           "zerolinecolor": "white",
           "zerolinewidth": 2
          }
         }
        },
        "title": {
         "text": "Economy vs Bound/Dot%"
        },
        "xaxis": {
         "anchor": "y",
         "domain": [
          0,
          1
         ],
         "title": {
          "text": "Econ"
         }
        },
        "yaxis": {
         "anchor": "x",
         "domain": [
          0,
          1
         ],
         "title": {
          "text": "Bound/Dots_%"
         }
        }
       }
      },
      "text/html": [
       "<div>                            <div id=\"ee8a6c22-87e7-49c6-bb39-eb22e12d0d66\" class=\"plotly-graph-div\" style=\"height:525px; width:100%;\"></div>            <script type=\"text/javascript\">                require([\"plotly\"], function(Plotly) {                    window.PLOTLYENV=window.PLOTLYENV || {};                                    if (document.getElementById(\"ee8a6c22-87e7-49c6-bb39-eb22e12d0d66\")) {                    Plotly.newPlot(                        \"ee8a6c22-87e7-49c6-bb39-eb22e12d0d66\",                        [{\"hovertemplate\":\"<b>%{hovertext}</b><br><br>Type=Fast<br>Econ=%{x}<br>Bound/Dots_%=%{y}<extra></extra>\",\"hovertext\":[\"A Nortje\",\"AS Joseph\",\"CJ Jordan\",\"JJ Bumrah\",\"K Rabada\",\"KR Sen\",\"LH Ferguson\",\"M Prasidh Krishna\",\"Mohammed Shami\",\"Mohsin Khan\",\"OF Smith\",\"PVD Chameera\",\"RP Meredith\",\"Shivam Mavi\",\"TS Mills\",\"Umran Malik\"],\"legendgroup\":\"Fast\",\"marker\":{\"color\":\"#636efa\",\"symbol\":\"star-triangle-up\"},\"mode\":\"markers\",\"name\":\"Fast\",\"orientation\":\"v\",\"showlegend\":true,\"x\":[9.72,8.8,10.52,7.18,8.46,9.42,8.96,8.29,8.0,5.97,11.87,8.73,8.43,10.32,11.18,8.98],\"xaxis\":\"x\",\"y\":[65.96,55.22,81.82,36.09,46.09,62.5,56.36,43.52,40.24,21.9,80.0,52.14,42.25,65.96,107.14,52.67],\"yaxis\":\"y\",\"type\":\"scatter\"},{\"hovertemplate\":\"<b>%{hovertext}</b><br><br>Type=Medium Fast<br>Econ=%{x}<br>Bound/Dots_%=%{y}<extra></extra>\",\"hovertext\":[\"AD Russell\",\"AJ Tye\",\"Arshdeep Singh\",\"Avesh Khan\",\"B Kumar\",\"C Sakariya\",\"D Pretorius\",\"DJ Willey\",\"DR Sams\",\"HH Pandya\",\"JR Hazlewood\",\"M Jansen\",\"Mohammed Siraj\",\"Mukesh Choudhary\",\"PJ Cummins\",\"R Shepherd\",\"Simarjeet Singh\",\"SN Thakur\",\"TA Boult\",\"UT Yadav\",\"Yash Dayal\"],\"legendgroup\":\"Medium Fast\",\"marker\":{\"color\":\"#EF553B\",\"symbol\":\"circle\"},\"mode\":\"markers\",\"name\":\"Medium Fast\",\"orientation\":\"v\",\"showlegend\":true,\"x\":[9.87,9.73,7.7,8.73,7.34,7.64,10.0,6.55,8.81,7.28,8.11,8.56,10.08,9.32,10.69,10.89,7.67,9.79,7.94,7.06,9.25],\"xaxis\":\"x\",\"y\":[68.42,80.95,44.12,52.46,33.33,44.44,64.71,33.33,45.71,37.5,44.17,46.84,61.48,54.24,87.88,65.22,38.18,64.36,42.94,35.56,56.58],\"yaxis\":\"y\",\"type\":\"scatter\"},{\"hovertemplate\":\"<b>%{hovertext}</b><br><br>Type=Medium<br>Econ=%{x}<br>Bound/Dots_%=%{y}<extra></extra>\",\"hovertext\":[\"Akash Deep\",\"Basil Thampi\",\"DJ Bravo\",\"Fazalhaq Farooqi\",\"HV Patel\",\"JD Unadkat\",\"JO Holder\",\"KA Pollard\",\"KK Ahmed\",\"MR Marsh\",\"Mustafizur Rahman\",\"OC McCoy\",\"PJ Sangwan\",\"R Dhawan\",\"Ramandeep Singh\",\"Sandeep Sharma\",\"T Natarajan\",\"TG Southee\",\"VG Arora\"],\"legendgroup\":\"Medium\",\"marker\":{\"color\":\"#00cc96\",\"symbol\":\"diamond-tall\"},\"mode\":\"markers\",\"name\":\"Medium\",\"orientation\":\"v\",\"showlegend\":true,\"x\":[10.88,9.5,8.71,9.17,7.66,9.5,9.42,8.93,8.04,8.5,7.62,9.08,7.22,8.21,9.0,7.65,9.44,7.86,9.2],\"xaxis\":\"x\",\"y\":[74.36,55.26,53.03,58.33,37.4,71.43,66.67,78.95,42.73,60.0,43.06,57.45,42.86,51.61,58.33,41.38,66.67,41.67,68.42],\"yaxis\":\"y\",\"type\":\"scatter\"},{\"hovertemplate\":\"<b>%{hovertext}</b><br><br>Type=Offbreak<br>Econ=%{x}<br>Bound/Dots_%=%{y}<extra></extra>\",\"hovertext\":[\"AR Patel\",\"GJ Maxwell\",\"Harpreet Brar\",\"HR Shokeen\",\"J Suchith\",\"K Gowtham\",\"KH Pandya\",\"Lalit Yadav\",\"LS Livingstone\",\"MJ Santner\",\"MM Ali\",\"R Ashwin\",\"R Sai Kishore\",\"RA Jadeja\",\"Shahbaz Ahmed\",\"Washington Sundar\"],\"legendgroup\":\"Offbreak\",\"marker\":{\"color\":\"#ab63fa\",\"symbol\":\"square\"},\"mode\":\"markers\",\"name\":\"Offbreak\",\"orientation\":\"v\",\"showlegend\":true,\"x\":[7.47,6.88,9.12,8.47,7.78,8.25,6.97,8.33,8.78,6.84,6.63,7.51,7.56,7.52,9.6,8.54],\"xaxis\":\"x\",\"y\":[41.18,27.42,52.78,41.46,33.33,45.16,38.24,48.65,55.26,34.15,29.09,38.66,46.15,39.06,73.21,57.45],\"yaxis\":\"y\",\"type\":\"scatter\"},{\"hovertemplate\":\"<b>%{hovertext}</b><br><br>Type=Legbreak Googly<br>Econ=%{x}<br>Bound/Dots_%=%{y}<extra></extra>\",\"hovertext\":[\"CV Varun\",\"K Kartikeya\",\"M Theekshana\",\"Ravi Bishnoi\",\"SP Narine\"],\"legendgroup\":\"Legbreak Googly\",\"marker\":{\"color\":\"#FFA15A\",\"symbol\":\"star\"},\"mode\":\"markers\",\"name\":\"Legbreak Googly\",\"orientation\":\"v\",\"showlegend\":true,\"x\":[8.45,7.85,7.46,8.44,5.57],\"xaxis\":\"x\",\"y\":[45.35,44.83,43.08,51.82,16.67],\"yaxis\":\"y\",\"type\":\"scatter\"},{\"hovertemplate\":\"<b>%{hovertext}</b><br><br>Type=Legbreak<br>Econ=%{x}<br>Bound/Dots_%=%{y}<extra></extra>\",\"hovertext\":[\"Kuldeep Yadav\",\"M Ashwin\",\"PWH de Silva\",\"Rashid Khan\",\"RD Chahar\",\"YS Chahal\"],\"legendgroup\":\"Legbreak\",\"marker\":{\"color\":\"#19d3f3\",\"symbol\":\"diamond\"},\"mode\":\"markers\",\"name\":\"Legbreak\",\"orientation\":\"v\",\"showlegend\":true,\"x\":[8.44,7.86,7.54,6.6,7.71,7.75],\"xaxis\":\"x\",\"y\":[53.12,43.08,37.96,26.02,37.11,40.62],\"yaxis\":\"y\",\"type\":\"scatter\"}],                        {\"template\":{\"data\":{\"bar\":[{\"error_x\":{\"color\":\"#2a3f5f\"},\"error_y\":{\"color\":\"#2a3f5f\"},\"marker\":{\"line\":{\"color\":\"#E5ECF6\",\"width\":0.5},\"pattern\":{\"fillmode\":\"overlay\",\"size\":10,\"solidity\":0.2}},\"type\":\"bar\"}],\"barpolar\":[{\"marker\":{\"line\":{\"color\":\"#E5ECF6\",\"width\":0.5},\"pattern\":{\"fillmode\":\"overlay\",\"size\":10,\"solidity\":0.2}},\"type\":\"barpolar\"}],\"carpet\":[{\"aaxis\":{\"endlinecolor\":\"#2a3f5f\",\"gridcolor\":\"white\",\"linecolor\":\"white\",\"minorgridcolor\":\"white\",\"startlinecolor\":\"#2a3f5f\"},\"baxis\":{\"endlinecolor\":\"#2a3f5f\",\"gridcolor\":\"white\",\"linecolor\":\"white\",\"minorgridcolor\":\"white\",\"startlinecolor\":\"#2a3f5f\"},\"type\":\"carpet\"}],\"choropleth\":[{\"colorbar\":{\"outlinewidth\":0,\"ticks\":\"\"},\"type\":\"choropleth\"}],\"contour\":[{\"colorbar\":{\"outlinewidth\":0,\"ticks\":\"\"},\"colorscale\":[[0.0,\"#0d0887\"],[0.1111111111111111,\"#46039f\"],[0.2222222222222222,\"#7201a8\"],[0.3333333333333333,\"#9c179e\"],[0.4444444444444444,\"#bd3786\"],[0.5555555555555556,\"#d8576b\"],[0.6666666666666666,\"#ed7953\"],[0.7777777777777778,\"#fb9f3a\"],[0.8888888888888888,\"#fdca26\"],[1.0,\"#f0f921\"]],\"type\":\"contour\"}],\"contourcarpet\":[{\"colorbar\":{\"outlinewidth\":0,\"ticks\":\"\"},\"type\":\"contourcarpet\"}],\"heatmap\":[{\"colorbar\":{\"outlinewidth\":0,\"ticks\":\"\"},\"colorscale\":[[0.0,\"#0d0887\"],[0.1111111111111111,\"#46039f\"],[0.2222222222222222,\"#7201a8\"],[0.3333333333333333,\"#9c179e\"],[0.4444444444444444,\"#bd3786\"],[0.5555555555555556,\"#d8576b\"],[0.6666666666666666,\"#ed7953\"],[0.7777777777777778,\"#fb9f3a\"],[0.8888888888888888,\"#fdca26\"],[1.0,\"#f0f921\"]],\"type\":\"heatmap\"}],\"heatmapgl\":[{\"colorbar\":{\"outlinewidth\":0,\"ticks\":\"\"},\"colorscale\":[[0.0,\"#0d0887\"],[0.1111111111111111,\"#46039f\"],[0.2222222222222222,\"#7201a8\"],[0.3333333333333333,\"#9c179e\"],[0.4444444444444444,\"#bd3786\"],[0.5555555555555556,\"#d8576b\"],[0.6666666666666666,\"#ed7953\"],[0.7777777777777778,\"#fb9f3a\"],[0.8888888888888888,\"#fdca26\"],[1.0,\"#f0f921\"]],\"type\":\"heatmapgl\"}],\"histogram\":[{\"marker\":{\"pattern\":{\"fillmode\":\"overlay\",\"size\":10,\"solidity\":0.2}},\"type\":\"histogram\"}],\"histogram2d\":[{\"colorbar\":{\"outlinewidth\":0,\"ticks\":\"\"},\"colorscale\":[[0.0,\"#0d0887\"],[0.1111111111111111,\"#46039f\"],[0.2222222222222222,\"#7201a8\"],[0.3333333333333333,\"#9c179e\"],[0.4444444444444444,\"#bd3786\"],[0.5555555555555556,\"#d8576b\"],[0.6666666666666666,\"#ed7953\"],[0.7777777777777778,\"#fb9f3a\"],[0.8888888888888888,\"#fdca26\"],[1.0,\"#f0f921\"]],\"type\":\"histogram2d\"}],\"histogram2dcontour\":[{\"colorbar\":{\"outlinewidth\":0,\"ticks\":\"\"},\"colorscale\":[[0.0,\"#0d0887\"],[0.1111111111111111,\"#46039f\"],[0.2222222222222222,\"#7201a8\"],[0.3333333333333333,\"#9c179e\"],[0.4444444444444444,\"#bd3786\"],[0.5555555555555556,\"#d8576b\"],[0.6666666666666666,\"#ed7953\"],[0.7777777777777778,\"#fb9f3a\"],[0.8888888888888888,\"#fdca26\"],[1.0,\"#f0f921\"]],\"type\":\"histogram2dcontour\"}],\"mesh3d\":[{\"colorbar\":{\"outlinewidth\":0,\"ticks\":\"\"},\"type\":\"mesh3d\"}],\"parcoords\":[{\"line\":{\"colorbar\":{\"outlinewidth\":0,\"ticks\":\"\"}},\"type\":\"parcoords\"}],\"pie\":[{\"automargin\":true,\"type\":\"pie\"}],\"scatter\":[{\"marker\":{\"colorbar\":{\"outlinewidth\":0,\"ticks\":\"\"}},\"type\":\"scatter\"}],\"scatter3d\":[{\"line\":{\"colorbar\":{\"outlinewidth\":0,\"ticks\":\"\"}},\"marker\":{\"colorbar\":{\"outlinewidth\":0,\"ticks\":\"\"}},\"type\":\"scatter3d\"}],\"scattercarpet\":[{\"marker\":{\"colorbar\":{\"outlinewidth\":0,\"ticks\":\"\"}},\"type\":\"scattercarpet\"}],\"scattergeo\":[{\"marker\":{\"colorbar\":{\"outlinewidth\":0,\"ticks\":\"\"}},\"type\":\"scattergeo\"}],\"scattergl\":[{\"marker\":{\"colorbar\":{\"outlinewidth\":0,\"ticks\":\"\"}},\"type\":\"scattergl\"}],\"scattermapbox\":[{\"marker\":{\"colorbar\":{\"outlinewidth\":0,\"ticks\":\"\"}},\"type\":\"scattermapbox\"}],\"scatterpolar\":[{\"marker\":{\"colorbar\":{\"outlinewidth\":0,\"ticks\":\"\"}},\"type\":\"scatterpolar\"}],\"scatterpolargl\":[{\"marker\":{\"colorbar\":{\"outlinewidth\":0,\"ticks\":\"\"}},\"type\":\"scatterpolargl\"}],\"scatterternary\":[{\"marker\":{\"colorbar\":{\"outlinewidth\":0,\"ticks\":\"\"}},\"type\":\"scatterternary\"}],\"surface\":[{\"colorbar\":{\"outlinewidth\":0,\"ticks\":\"\"},\"colorscale\":[[0.0,\"#0d0887\"],[0.1111111111111111,\"#46039f\"],[0.2222222222222222,\"#7201a8\"],[0.3333333333333333,\"#9c179e\"],[0.4444444444444444,\"#bd3786\"],[0.5555555555555556,\"#d8576b\"],[0.6666666666666666,\"#ed7953\"],[0.7777777777777778,\"#fb9f3a\"],[0.8888888888888888,\"#fdca26\"],[1.0,\"#f0f921\"]],\"type\":\"surface\"}],\"table\":[{\"cells\":{\"fill\":{\"color\":\"#EBF0F8\"},\"line\":{\"color\":\"white\"}},\"header\":{\"fill\":{\"color\":\"#C8D4E3\"},\"line\":{\"color\":\"white\"}},\"type\":\"table\"}]},\"layout\":{\"annotationdefaults\":{\"arrowcolor\":\"#2a3f5f\",\"arrowhead\":0,\"arrowwidth\":1},\"autotypenumbers\":\"strict\",\"coloraxis\":{\"colorbar\":{\"outlinewidth\":0,\"ticks\":\"\"}},\"colorscale\":{\"diverging\":[[0,\"#8e0152\"],[0.1,\"#c51b7d\"],[0.2,\"#de77ae\"],[0.3,\"#f1b6da\"],[0.4,\"#fde0ef\"],[0.5,\"#f7f7f7\"],[0.6,\"#e6f5d0\"],[0.7,\"#b8e186\"],[0.8,\"#7fbc41\"],[0.9,\"#4d9221\"],[1,\"#276419\"]],\"sequential\":[[0.0,\"#0d0887\"],[0.1111111111111111,\"#46039f\"],[0.2222222222222222,\"#7201a8\"],[0.3333333333333333,\"#9c179e\"],[0.4444444444444444,\"#bd3786\"],[0.5555555555555556,\"#d8576b\"],[0.6666666666666666,\"#ed7953\"],[0.7777777777777778,\"#fb9f3a\"],[0.8888888888888888,\"#fdca26\"],[1.0,\"#f0f921\"]],\"sequentialminus\":[[0.0,\"#0d0887\"],[0.1111111111111111,\"#46039f\"],[0.2222222222222222,\"#7201a8\"],[0.3333333333333333,\"#9c179e\"],[0.4444444444444444,\"#bd3786\"],[0.5555555555555556,\"#d8576b\"],[0.6666666666666666,\"#ed7953\"],[0.7777777777777778,\"#fb9f3a\"],[0.8888888888888888,\"#fdca26\"],[1.0,\"#f0f921\"]]},\"colorway\":[\"#636efa\",\"#EF553B\",\"#00cc96\",\"#ab63fa\",\"#FFA15A\",\"#19d3f3\",\"#FF6692\",\"#B6E880\",\"#FF97FF\",\"#FECB52\"],\"font\":{\"color\":\"#2a3f5f\"},\"geo\":{\"bgcolor\":\"white\",\"lakecolor\":\"white\",\"landcolor\":\"#E5ECF6\",\"showlakes\":true,\"showland\":true,\"subunitcolor\":\"white\"},\"hoverlabel\":{\"align\":\"left\"},\"hovermode\":\"closest\",\"mapbox\":{\"style\":\"light\"},\"paper_bgcolor\":\"white\",\"plot_bgcolor\":\"#E5ECF6\",\"polar\":{\"angularaxis\":{\"gridcolor\":\"white\",\"linecolor\":\"white\",\"ticks\":\"\"},\"bgcolor\":\"#E5ECF6\",\"radialaxis\":{\"gridcolor\":\"white\",\"linecolor\":\"white\",\"ticks\":\"\"}},\"scene\":{\"xaxis\":{\"backgroundcolor\":\"#E5ECF6\",\"gridcolor\":\"white\",\"gridwidth\":2,\"linecolor\":\"white\",\"showbackground\":true,\"ticks\":\"\",\"zerolinecolor\":\"white\"},\"yaxis\":{\"backgroundcolor\":\"#E5ECF6\",\"gridcolor\":\"white\",\"gridwidth\":2,\"linecolor\":\"white\",\"showbackground\":true,\"ticks\":\"\",\"zerolinecolor\":\"white\"},\"zaxis\":{\"backgroundcolor\":\"#E5ECF6\",\"gridcolor\":\"white\",\"gridwidth\":2,\"linecolor\":\"white\",\"showbackground\":true,\"ticks\":\"\",\"zerolinecolor\":\"white\"}},\"shapedefaults\":{\"line\":{\"color\":\"#2a3f5f\"}},\"ternary\":{\"aaxis\":{\"gridcolor\":\"white\",\"linecolor\":\"white\",\"ticks\":\"\"},\"baxis\":{\"gridcolor\":\"white\",\"linecolor\":\"white\",\"ticks\":\"\"},\"bgcolor\":\"#E5ECF6\",\"caxis\":{\"gridcolor\":\"white\",\"linecolor\":\"white\",\"ticks\":\"\"}},\"title\":{\"x\":0.05},\"xaxis\":{\"automargin\":true,\"gridcolor\":\"white\",\"linecolor\":\"white\",\"ticks\":\"\",\"title\":{\"standoff\":15},\"zerolinecolor\":\"white\",\"zerolinewidth\":2},\"yaxis\":{\"automargin\":true,\"gridcolor\":\"white\",\"linecolor\":\"white\",\"ticks\":\"\",\"title\":{\"standoff\":15},\"zerolinecolor\":\"white\",\"zerolinewidth\":2}}},\"xaxis\":{\"anchor\":\"y\",\"domain\":[0.0,1.0],\"title\":{\"text\":\"Econ\"}},\"yaxis\":{\"anchor\":\"x\",\"domain\":[0.0,1.0],\"title\":{\"text\":\"Bound/Dots_%\"}},\"legend\":{\"title\":{\"text\":\"Type\"},\"tracegroupgap\":0},\"title\":{\"text\":\"Economy vs Bound/Dot%\"},\"shapes\":[{\"fillcolor\":\"lightyellow\",\"layer\":\"below\",\"opacity\":0.5,\"type\":\"rect\",\"x0\":6.05,\"x1\":7.98,\"y0\":20.5,\"y1\":53}]},                        {\"responsive\": true}                    ).then(function(){\n",
       "                            \n",
       "var gd = document.getElementById('ee8a6c22-87e7-49c6-bb39-eb22e12d0d66');\n",
       "var x = new MutationObserver(function (mutations, observer) {{\n",
       "        var display = window.getComputedStyle(gd).display;\n",
       "        if (!display || display === 'none') {{\n",
       "            console.log([gd, 'removed!']);\n",
       "            Plotly.purge(gd);\n",
       "            observer.disconnect();\n",
       "        }}\n",
       "}});\n",
       "\n",
       "// Listen for the removal of the full notebook cells\n",
       "var notebookContainer = gd.closest('#notebook-container');\n",
       "if (notebookContainer) {{\n",
       "    x.observe(notebookContainer, {childList: true});\n",
       "}}\n",
       "\n",
       "// Listen for the clearing of the current output cell\n",
       "var outputEl = gd.closest('.output');\n",
       "if (outputEl) {{\n",
       "    x.observe(outputEl, {childList: true});\n",
       "}}\n",
       "\n",
       "                        })                };                });            </script>        </div>"
      ]
     },
     "metadata": {},
     "output_type": "display_data"
    }
   ],
   "source": [
    "E_BDpercent = px.scatter(data_frame=updated_df,x='Econ',y='Bound/Dots_%',\n",
    "           hover_name='Player',color='Type',symbol='Type',\n",
    "           symbol_sequence= ['star-triangle-up', 'circle', 'diamond-tall', 'square','star','diamond'],\n",
    "                        title='Economy vs Bound/Dot%')\n",
    "E_BDpercent.add_shape(type='rect',x0=6.05,x1=7.98,y0=20.5,y1=53,fillcolor='lightyellow',opacity=0.5,layer='below' )"
   ]
  },
  {
   "cell_type": "markdown",
   "id": "134c9482",
   "metadata": {},
   "source": [
    "(Sunil Narine is missing because of my inability to create a slant ellipse, much to my frustration.)"
   ]
  },
  {
   "cell_type": "markdown",
   "id": "ba575ebb",
   "metadata": {},
   "source": [
    "**Quadrant analysis of bowlers and deciphering their types**"
   ]
  },
  {
   "cell_type": "markdown",
   "id": "f3181fda",
   "metadata": {},
   "source": [
    "A quadrant analysis of bowlers based on economy rate and strike rate would help understanding the characteristics of individual bowlers."
   ]
  },
  {
   "cell_type": "code",
   "execution_count": 41,
   "id": "868bba07",
   "metadata": {},
   "outputs": [
    {
     "data": {
      "application/vnd.plotly.v1+json": {
       "config": {
        "plotlyServerURL": "https://plot.ly"
       },
       "data": [
        {
         "hovertemplate": "<b>%{hovertext}</b><br><br>Type=Fast<br>Strike Rate (lower the better)=%{x}<br>Economy (lower the better)=%{y}<extra></extra>",
         "hovertext": [
          "A Nortje",
          "AS Joseph",
          "CJ Jordan",
          "JJ Bumrah",
          "K Rabada",
          "KR Sen",
          "LH Ferguson",
          "M Prasidh Krishna",
          "Mohammed Shami",
          "Mohsin Khan",
          "OF Smith",
          "PVD Chameera",
          "RP Meredith",
          "Shivam Mavi",
          "TS Mills",
          "Umran Malik"
         ],
         "legendgroup": "Fast",
         "marker": {
          "color": "#636efa",
          "symbol": "star-triangle-up"
         },
         "mode": "markers",
         "name": "Fast",
         "orientation": "v",
         "showlegend": true,
         "type": "scatter",
         "x": [
          14.89,
          25.71,
          38.5,
          21.33,
          12.52,
          18.88,
          23.83,
          21,
          18.3,
          14.14,
          15,
          29.33,
          21,
          26.4,
          17,
          13.45
         ],
         "xaxis": "x",
         "y": [
          9.72,
          8.8,
          10.52,
          7.18,
          8.46,
          9.42,
          8.96,
          8.29,
          8,
          5.97,
          11.87,
          8.73,
          8.43,
          10.32,
          11.18,
          8.98
         ],
         "yaxis": "y"
        },
        {
         "hovertemplate": "<b>%{hovertext}</b><br><br>Type=Medium Fast<br>Strike Rate (lower the better)=%{x}<br>Economy (lower the better)=%{y}<extra></extra>",
         "hovertext": [
          "AD Russell",
          "AJ Tye",
          "Arshdeep Singh",
          "Avesh Khan",
          "B Kumar",
          "C Sakariya",
          "D Pretorius",
          "DJ Willey",
          "DR Sams",
          "HH Pandya",
          "JR Hazlewood",
          "M Jansen",
          "Mohammed Siraj",
          "Mukesh Choudhary",
          "PJ Cummins",
          "R Shepherd",
          "Simarjeet Singh",
          "SN Thakur",
          "TA Boult",
          "UT Yadav",
          "Yash Dayal"
         ],
         "legendgroup": "Medium Fast",
         "marker": {
          "color": "#EF553B",
          "symbol": "circle"
         },
         "mode": "markers",
         "name": "Medium Fast",
         "orientation": "v",
         "showlegend": true,
         "type": "scatter",
         "x": [
          9.94,
          33,
          30,
          15.89,
          26.08,
          22,
          21,
          66,
          19.38,
          22.88,
          13.95,
          27.43,
          34,
          17.06,
          17,
          18,
          27,
          19.33,
          23.25,
          18,
          17.45
         ],
         "xaxis": "x",
         "y": [
          9.87,
          9.73,
          7.7,
          8.73,
          7.34,
          7.64,
          10,
          6.55,
          8.81,
          7.28,
          8.11,
          8.56,
          10.08,
          9.32,
          10.69,
          10.89,
          7.67,
          9.79,
          7.94,
          7.06,
          9.25
         ],
         "yaxis": "y"
        },
        {
         "hovertemplate": "<b>%{hovertext}</b><br><br>Type=Medium<br>Strike Rate (lower the better)=%{x}<br>Economy (lower the better)=%{y}<extra></extra>",
         "hovertext": [
          "Akash Deep",
          "Basil Thampi",
          "DJ Bravo",
          "Fazalhaq Farooqi",
          "HV Patel",
          "JD Unadkat",
          "JO Holder",
          "KA Pollard",
          "KK Ahmed",
          "MR Marsh",
          "Mustafizur Rahman",
          "OC McCoy",
          "PJ Sangwan",
          "R Dhawan",
          "Ramandeep Singh",
          "Sandeep Sharma",
          "T Natarajan",
          "TG Southee",
          "VG Arora"
         ],
         "legendgroup": "Medium",
         "marker": {
          "color": "#00cc96",
          "symbol": "diamond-tall"
         },
         "mode": "markers",
         "name": "Medium",
         "orientation": "v",
         "showlegend": true,
         "type": "scatter",
         "x": [
          22.6,
          19.2,
          12.88,
          36,
          16.89,
          20,
          17.79,
          21,
          14.69,
          18,
          24,
          14.18,
          18,
          19,
          6,
          60,
          14.33,
          15,
          35.67
         ],
         "xaxis": "x",
         "y": [
          10.88,
          9.5,
          8.71,
          9.17,
          7.66,
          9.5,
          9.42,
          8.93,
          8.04,
          8.5,
          7.62,
          9.08,
          7.22,
          8.21,
          9,
          7.65,
          9.44,
          7.86,
          9.2
         ],
         "yaxis": "y"
        },
        {
         "hovertemplate": "<b>%{hovertext}</b><br><br>Type=Offbreak<br>Strike Rate (lower the better)=%{x}<br>Economy (lower the better)=%{y}<extra></extra>",
         "hovertext": [
          "AR Patel",
          "GJ Maxwell",
          "Harpreet Brar",
          "HR Shokeen",
          "J Suchith",
          "K Gowtham",
          "KH Pandya",
          "Lalit Yadav",
          "LS Livingstone",
          "MJ Santner",
          "MM Ali",
          "R Ashwin",
          "R Sai Kishore",
          "RA Jadeja",
          "Shahbaz Ahmed",
          "Washington Sundar"
         ],
         "legendgroup": "Offbreak",
         "marker": {
          "color": "#ab63fa",
          "symbol": "square"
         },
         "mode": "markers",
         "name": "Offbreak",
         "orientation": "v",
         "showlegend": true,
         "type": "scatter",
         "x": [
          43,
          24,
          24,
          45,
          15.43,
          14.4,
          22.8,
          27,
          23,
          28.5,
          17.88,
          33.5,
          16,
          39.6,
          52.5,
          28
         ],
         "xaxis": "x",
         "y": [
          7.47,
          6.88,
          9.12,
          8.47,
          7.78,
          8.25,
          6.97,
          8.33,
          8.78,
          6.84,
          6.63,
          7.51,
          7.56,
          7.52,
          9.6,
          8.54
         ],
         "yaxis": "y"
        },
        {
         "hovertemplate": "<b>%{hovertext}</b><br><br>Type=Legbreak Googly<br>Strike Rate (lower the better)=%{x}<br>Economy (lower the better)=%{y}<extra></extra>",
         "hovertext": [
          "CV Varun",
          "K Kartikeya",
          "M Theekshana",
          "Ravi Bishnoi",
          "SP Narine"
         ],
         "legendgroup": "Legbreak Googly",
         "marker": {
          "color": "#FFA15A",
          "symbol": "star"
         },
         "mode": "markers",
         "name": "Legbreak Googly",
         "orientation": "v",
         "showlegend": true,
         "type": "scatter",
         "x": [
          39.17,
          15.6,
          17.5,
          24.92,
          37.33
         ],
         "xaxis": "x",
         "y": [
          8.45,
          7.85,
          7.46,
          8.44,
          5.57
         ],
         "yaxis": "y"
        },
        {
         "hovertemplate": "<b>%{hovertext}</b><br><br>Type=Legbreak<br>Strike Rate (lower the better)=%{x}<br>Economy (lower the better)=%{y}<extra></extra>",
         "hovertext": [
          "Kuldeep Yadav",
          "M Ashwin",
          "PWH de Silva",
          "Rashid Khan",
          "RD Chahar",
          "YS Chahal"
         ],
         "legendgroup": "Legbreak",
         "marker": {
          "color": "#19d3f3",
          "symbol": "diamond"
         },
         "mode": "markers",
         "name": "Legbreak",
         "orientation": "v",
         "showlegend": true,
         "type": "scatter",
         "x": [
          14.19,
          19.33,
          13.15,
          20.16,
          20,
          15.11
         ],
         "xaxis": "x",
         "y": [
          8.44,
          7.86,
          7.54,
          6.6,
          7.71,
          7.75
         ],
         "yaxis": "y"
        }
       ],
       "layout": {
        "legend": {
         "title": {
          "text": "Type"
         },
         "tracegroupgap": 0
        },
        "margin": {
         "t": 60
        },
        "shapes": [
         {
          "line": {
           "color": "black"
          },
          "opacity": 0.5,
          "type": "line",
          "x0": 20,
          "x1": 20,
          "xref": "x",
          "y0": 0,
          "y1": 1,
          "yref": "y domain"
         },
         {
          "line": {
           "color": "black"
          },
          "opacity": 0.5,
          "type": "line",
          "x0": 0,
          "x1": 1,
          "xref": "x domain",
          "y0": 8,
          "y1": 8,
          "yref": "y"
         },
         {
          "fillcolor": "#86fa86",
          "layer": "below",
          "line": {
           "width": 0
          },
          "opacity": 0.3,
          "x0": 10,
          "x1": 20,
          "y0": 6,
          "y1": 8
         },
         {
          "fillcolor": "#ffd966",
          "layer": "below",
          "line": {
           "width": 0
          },
          "opacity": 0.3,
          "x0": 10,
          "x1": 20,
          "y0": 8,
          "y1": 10
         },
         {
          "fillcolor": "#6fa8dc",
          "layer": "below",
          "line": {
           "width": 0
          },
          "opacity": 0.3,
          "x0": 20,
          "x1": 30,
          "y0": 6,
          "y1": 8
         },
         {
          "fillcolor": "#fa7066",
          "layer": "below",
          "line": {
           "width": 0
          },
          "opacity": 0.3,
          "x0": 20,
          "x1": 30,
          "y0": 8,
          "y1": 10
         }
        ],
        "template": {
         "data": {
          "bar": [
           {
            "error_x": {
             "color": "#2a3f5f"
            },
            "error_y": {
             "color": "#2a3f5f"
            },
            "marker": {
             "line": {
              "color": "#E5ECF6",
              "width": 0.5
             },
             "pattern": {
              "fillmode": "overlay",
              "size": 10,
              "solidity": 0.2
             }
            },
            "type": "bar"
           }
          ],
          "barpolar": [
           {
            "marker": {
             "line": {
              "color": "#E5ECF6",
              "width": 0.5
             },
             "pattern": {
              "fillmode": "overlay",
              "size": 10,
              "solidity": 0.2
             }
            },
            "type": "barpolar"
           }
          ],
          "carpet": [
           {
            "aaxis": {
             "endlinecolor": "#2a3f5f",
             "gridcolor": "white",
             "linecolor": "white",
             "minorgridcolor": "white",
             "startlinecolor": "#2a3f5f"
            },
            "baxis": {
             "endlinecolor": "#2a3f5f",
             "gridcolor": "white",
             "linecolor": "white",
             "minorgridcolor": "white",
             "startlinecolor": "#2a3f5f"
            },
            "type": "carpet"
           }
          ],
          "choropleth": [
           {
            "colorbar": {
             "outlinewidth": 0,
             "ticks": ""
            },
            "type": "choropleth"
           }
          ],
          "contour": [
           {
            "colorbar": {
             "outlinewidth": 0,
             "ticks": ""
            },
            "colorscale": [
             [
              0,
              "#0d0887"
             ],
             [
              0.1111111111111111,
              "#46039f"
             ],
             [
              0.2222222222222222,
              "#7201a8"
             ],
             [
              0.3333333333333333,
              "#9c179e"
             ],
             [
              0.4444444444444444,
              "#bd3786"
             ],
             [
              0.5555555555555556,
              "#d8576b"
             ],
             [
              0.6666666666666666,
              "#ed7953"
             ],
             [
              0.7777777777777778,
              "#fb9f3a"
             ],
             [
              0.8888888888888888,
              "#fdca26"
             ],
             [
              1,
              "#f0f921"
             ]
            ],
            "type": "contour"
           }
          ],
          "contourcarpet": [
           {
            "colorbar": {
             "outlinewidth": 0,
             "ticks": ""
            },
            "type": "contourcarpet"
           }
          ],
          "heatmap": [
           {
            "colorbar": {
             "outlinewidth": 0,
             "ticks": ""
            },
            "colorscale": [
             [
              0,
              "#0d0887"
             ],
             [
              0.1111111111111111,
              "#46039f"
             ],
             [
              0.2222222222222222,
              "#7201a8"
             ],
             [
              0.3333333333333333,
              "#9c179e"
             ],
             [
              0.4444444444444444,
              "#bd3786"
             ],
             [
              0.5555555555555556,
              "#d8576b"
             ],
             [
              0.6666666666666666,
              "#ed7953"
             ],
             [
              0.7777777777777778,
              "#fb9f3a"
             ],
             [
              0.8888888888888888,
              "#fdca26"
             ],
             [
              1,
              "#f0f921"
             ]
            ],
            "type": "heatmap"
           }
          ],
          "heatmapgl": [
           {
            "colorbar": {
             "outlinewidth": 0,
             "ticks": ""
            },
            "colorscale": [
             [
              0,
              "#0d0887"
             ],
             [
              0.1111111111111111,
              "#46039f"
             ],
             [
              0.2222222222222222,
              "#7201a8"
             ],
             [
              0.3333333333333333,
              "#9c179e"
             ],
             [
              0.4444444444444444,
              "#bd3786"
             ],
             [
              0.5555555555555556,
              "#d8576b"
             ],
             [
              0.6666666666666666,
              "#ed7953"
             ],
             [
              0.7777777777777778,
              "#fb9f3a"
             ],
             [
              0.8888888888888888,
              "#fdca26"
             ],
             [
              1,
              "#f0f921"
             ]
            ],
            "type": "heatmapgl"
           }
          ],
          "histogram": [
           {
            "marker": {
             "pattern": {
              "fillmode": "overlay",
              "size": 10,
              "solidity": 0.2
             }
            },
            "type": "histogram"
           }
          ],
          "histogram2d": [
           {
            "colorbar": {
             "outlinewidth": 0,
             "ticks": ""
            },
            "colorscale": [
             [
              0,
              "#0d0887"
             ],
             [
              0.1111111111111111,
              "#46039f"
             ],
             [
              0.2222222222222222,
              "#7201a8"
             ],
             [
              0.3333333333333333,
              "#9c179e"
             ],
             [
              0.4444444444444444,
              "#bd3786"
             ],
             [
              0.5555555555555556,
              "#d8576b"
             ],
             [
              0.6666666666666666,
              "#ed7953"
             ],
             [
              0.7777777777777778,
              "#fb9f3a"
             ],
             [
              0.8888888888888888,
              "#fdca26"
             ],
             [
              1,
              "#f0f921"
             ]
            ],
            "type": "histogram2d"
           }
          ],
          "histogram2dcontour": [
           {
            "colorbar": {
             "outlinewidth": 0,
             "ticks": ""
            },
            "colorscale": [
             [
              0,
              "#0d0887"
             ],
             [
              0.1111111111111111,
              "#46039f"
             ],
             [
              0.2222222222222222,
              "#7201a8"
             ],
             [
              0.3333333333333333,
              "#9c179e"
             ],
             [
              0.4444444444444444,
              "#bd3786"
             ],
             [
              0.5555555555555556,
              "#d8576b"
             ],
             [
              0.6666666666666666,
              "#ed7953"
             ],
             [
              0.7777777777777778,
              "#fb9f3a"
             ],
             [
              0.8888888888888888,
              "#fdca26"
             ],
             [
              1,
              "#f0f921"
             ]
            ],
            "type": "histogram2dcontour"
           }
          ],
          "mesh3d": [
           {
            "colorbar": {
             "outlinewidth": 0,
             "ticks": ""
            },
            "type": "mesh3d"
           }
          ],
          "parcoords": [
           {
            "line": {
             "colorbar": {
              "outlinewidth": 0,
              "ticks": ""
             }
            },
            "type": "parcoords"
           }
          ],
          "pie": [
           {
            "automargin": true,
            "type": "pie"
           }
          ],
          "scatter": [
           {
            "marker": {
             "colorbar": {
              "outlinewidth": 0,
              "ticks": ""
             }
            },
            "type": "scatter"
           }
          ],
          "scatter3d": [
           {
            "line": {
             "colorbar": {
              "outlinewidth": 0,
              "ticks": ""
             }
            },
            "marker": {
             "colorbar": {
              "outlinewidth": 0,
              "ticks": ""
             }
            },
            "type": "scatter3d"
           }
          ],
          "scattercarpet": [
           {
            "marker": {
             "colorbar": {
              "outlinewidth": 0,
              "ticks": ""
             }
            },
            "type": "scattercarpet"
           }
          ],
          "scattergeo": [
           {
            "marker": {
             "colorbar": {
              "outlinewidth": 0,
              "ticks": ""
             }
            },
            "type": "scattergeo"
           }
          ],
          "scattergl": [
           {
            "marker": {
             "colorbar": {
              "outlinewidth": 0,
              "ticks": ""
             }
            },
            "type": "scattergl"
           }
          ],
          "scattermapbox": [
           {
            "marker": {
             "colorbar": {
              "outlinewidth": 0,
              "ticks": ""
             }
            },
            "type": "scattermapbox"
           }
          ],
          "scatterpolar": [
           {
            "marker": {
             "colorbar": {
              "outlinewidth": 0,
              "ticks": ""
             }
            },
            "type": "scatterpolar"
           }
          ],
          "scatterpolargl": [
           {
            "marker": {
             "colorbar": {
              "outlinewidth": 0,
              "ticks": ""
             }
            },
            "type": "scatterpolargl"
           }
          ],
          "scatterternary": [
           {
            "marker": {
             "colorbar": {
              "outlinewidth": 0,
              "ticks": ""
             }
            },
            "type": "scatterternary"
           }
          ],
          "surface": [
           {
            "colorbar": {
             "outlinewidth": 0,
             "ticks": ""
            },
            "colorscale": [
             [
              0,
              "#0d0887"
             ],
             [
              0.1111111111111111,
              "#46039f"
             ],
             [
              0.2222222222222222,
              "#7201a8"
             ],
             [
              0.3333333333333333,
              "#9c179e"
             ],
             [
              0.4444444444444444,
              "#bd3786"
             ],
             [
              0.5555555555555556,
              "#d8576b"
             ],
             [
              0.6666666666666666,
              "#ed7953"
             ],
             [
              0.7777777777777778,
              "#fb9f3a"
             ],
             [
              0.8888888888888888,
              "#fdca26"
             ],
             [
              1,
              "#f0f921"
             ]
            ],
            "type": "surface"
           }
          ],
          "table": [
           {
            "cells": {
             "fill": {
              "color": "#EBF0F8"
             },
             "line": {
              "color": "white"
             }
            },
            "header": {
             "fill": {
              "color": "#C8D4E3"
             },
             "line": {
              "color": "white"
             }
            },
            "type": "table"
           }
          ]
         },
         "layout": {
          "annotationdefaults": {
           "arrowcolor": "#2a3f5f",
           "arrowhead": 0,
           "arrowwidth": 1
          },
          "autotypenumbers": "strict",
          "coloraxis": {
           "colorbar": {
            "outlinewidth": 0,
            "ticks": ""
           }
          },
          "colorscale": {
           "diverging": [
            [
             0,
             "#8e0152"
            ],
            [
             0.1,
             "#c51b7d"
            ],
            [
             0.2,
             "#de77ae"
            ],
            [
             0.3,
             "#f1b6da"
            ],
            [
             0.4,
             "#fde0ef"
            ],
            [
             0.5,
             "#f7f7f7"
            ],
            [
             0.6,
             "#e6f5d0"
            ],
            [
             0.7,
             "#b8e186"
            ],
            [
             0.8,
             "#7fbc41"
            ],
            [
             0.9,
             "#4d9221"
            ],
            [
             1,
             "#276419"
            ]
           ],
           "sequential": [
            [
             0,
             "#0d0887"
            ],
            [
             0.1111111111111111,
             "#46039f"
            ],
            [
             0.2222222222222222,
             "#7201a8"
            ],
            [
             0.3333333333333333,
             "#9c179e"
            ],
            [
             0.4444444444444444,
             "#bd3786"
            ],
            [
             0.5555555555555556,
             "#d8576b"
            ],
            [
             0.6666666666666666,
             "#ed7953"
            ],
            [
             0.7777777777777778,
             "#fb9f3a"
            ],
            [
             0.8888888888888888,
             "#fdca26"
            ],
            [
             1,
             "#f0f921"
            ]
           ],
           "sequentialminus": [
            [
             0,
             "#0d0887"
            ],
            [
             0.1111111111111111,
             "#46039f"
            ],
            [
             0.2222222222222222,
             "#7201a8"
            ],
            [
             0.3333333333333333,
             "#9c179e"
            ],
            [
             0.4444444444444444,
             "#bd3786"
            ],
            [
             0.5555555555555556,
             "#d8576b"
            ],
            [
             0.6666666666666666,
             "#ed7953"
            ],
            [
             0.7777777777777778,
             "#fb9f3a"
            ],
            [
             0.8888888888888888,
             "#fdca26"
            ],
            [
             1,
             "#f0f921"
            ]
           ]
          },
          "colorway": [
           "#636efa",
           "#EF553B",
           "#00cc96",
           "#ab63fa",
           "#FFA15A",
           "#19d3f3",
           "#FF6692",
           "#B6E880",
           "#FF97FF",
           "#FECB52"
          ],
          "font": {
           "color": "#2a3f5f"
          },
          "geo": {
           "bgcolor": "white",
           "lakecolor": "white",
           "landcolor": "#E5ECF6",
           "showlakes": true,
           "showland": true,
           "subunitcolor": "white"
          },
          "hoverlabel": {
           "align": "left"
          },
          "hovermode": "closest",
          "mapbox": {
           "style": "light"
          },
          "paper_bgcolor": "white",
          "plot_bgcolor": "#E5ECF6",
          "polar": {
           "angularaxis": {
            "gridcolor": "white",
            "linecolor": "white",
            "ticks": ""
           },
           "bgcolor": "#E5ECF6",
           "radialaxis": {
            "gridcolor": "white",
            "linecolor": "white",
            "ticks": ""
           }
          },
          "scene": {
           "xaxis": {
            "backgroundcolor": "#E5ECF6",
            "gridcolor": "white",
            "gridwidth": 2,
            "linecolor": "white",
            "showbackground": true,
            "ticks": "",
            "zerolinecolor": "white"
           },
           "yaxis": {
            "backgroundcolor": "#E5ECF6",
            "gridcolor": "white",
            "gridwidth": 2,
            "linecolor": "white",
            "showbackground": true,
            "ticks": "",
            "zerolinecolor": "white"
           },
           "zaxis": {
            "backgroundcolor": "#E5ECF6",
            "gridcolor": "white",
            "gridwidth": 2,
            "linecolor": "white",
            "showbackground": true,
            "ticks": "",
            "zerolinecolor": "white"
           }
          },
          "shapedefaults": {
           "line": {
            "color": "#2a3f5f"
           }
          },
          "ternary": {
           "aaxis": {
            "gridcolor": "white",
            "linecolor": "white",
            "ticks": ""
           },
           "baxis": {
            "gridcolor": "white",
            "linecolor": "white",
            "ticks": ""
           },
           "bgcolor": "#E5ECF6",
           "caxis": {
            "gridcolor": "white",
            "linecolor": "white",
            "ticks": ""
           }
          },
          "title": {
           "x": 0.05
          },
          "xaxis": {
           "automargin": true,
           "gridcolor": "white",
           "linecolor": "white",
           "ticks": "",
           "title": {
            "standoff": 15
           },
           "zerolinecolor": "white",
           "zerolinewidth": 2
          },
          "yaxis": {
           "automargin": true,
           "gridcolor": "white",
           "linecolor": "white",
           "ticks": "",
           "title": {
            "standoff": 15
           },
           "zerolinecolor": "white",
           "zerolinewidth": 2
          }
         }
        },
        "xaxis": {
         "anchor": "y",
         "domain": [
          0,
          1
         ],
         "title": {
          "text": "Strike Rate (lower the better)"
         }
        },
        "yaxis": {
         "anchor": "x",
         "domain": [
          0,
          1
         ],
         "title": {
          "text": "Economy (lower the better)"
         }
        }
       }
      },
      "text/html": [
       "<div>                            <div id=\"25970282-6fe9-4736-973a-adeb24ca1b7b\" class=\"plotly-graph-div\" style=\"height:525px; width:100%;\"></div>            <script type=\"text/javascript\">                require([\"plotly\"], function(Plotly) {                    window.PLOTLYENV=window.PLOTLYENV || {};                                    if (document.getElementById(\"25970282-6fe9-4736-973a-adeb24ca1b7b\")) {                    Plotly.newPlot(                        \"25970282-6fe9-4736-973a-adeb24ca1b7b\",                        [{\"hovertemplate\":\"<b>%{hovertext}</b><br><br>Type=Fast<br>Strike Rate (lower the better)=%{x}<br>Economy (lower the better)=%{y}<extra></extra>\",\"hovertext\":[\"A Nortje\",\"AS Joseph\",\"CJ Jordan\",\"JJ Bumrah\",\"K Rabada\",\"KR Sen\",\"LH Ferguson\",\"M Prasidh Krishna\",\"Mohammed Shami\",\"Mohsin Khan\",\"OF Smith\",\"PVD Chameera\",\"RP Meredith\",\"Shivam Mavi\",\"TS Mills\",\"Umran Malik\"],\"legendgroup\":\"Fast\",\"marker\":{\"color\":\"#636efa\",\"symbol\":\"star-triangle-up\"},\"mode\":\"markers\",\"name\":\"Fast\",\"orientation\":\"v\",\"showlegend\":true,\"x\":[14.89,25.71,38.5,21.33,12.52,18.88,23.83,21.0,18.3,14.14,15.0,29.33,21.0,26.4,17.0,13.45],\"xaxis\":\"x\",\"y\":[9.72,8.8,10.52,7.18,8.46,9.42,8.96,8.29,8.0,5.97,11.87,8.73,8.43,10.32,11.18,8.98],\"yaxis\":\"y\",\"type\":\"scatter\"},{\"hovertemplate\":\"<b>%{hovertext}</b><br><br>Type=Medium Fast<br>Strike Rate (lower the better)=%{x}<br>Economy (lower the better)=%{y}<extra></extra>\",\"hovertext\":[\"AD Russell\",\"AJ Tye\",\"Arshdeep Singh\",\"Avesh Khan\",\"B Kumar\",\"C Sakariya\",\"D Pretorius\",\"DJ Willey\",\"DR Sams\",\"HH Pandya\",\"JR Hazlewood\",\"M Jansen\",\"Mohammed Siraj\",\"Mukesh Choudhary\",\"PJ Cummins\",\"R Shepherd\",\"Simarjeet Singh\",\"SN Thakur\",\"TA Boult\",\"UT Yadav\",\"Yash Dayal\"],\"legendgroup\":\"Medium Fast\",\"marker\":{\"color\":\"#EF553B\",\"symbol\":\"circle\"},\"mode\":\"markers\",\"name\":\"Medium Fast\",\"orientation\":\"v\",\"showlegend\":true,\"x\":[9.94,33.0,30.0,15.89,26.08,22.0,21.0,66.0,19.38,22.88,13.95,27.43,34.0,17.06,17.0,18.0,27.0,19.33,23.25,18.0,17.45],\"xaxis\":\"x\",\"y\":[9.87,9.73,7.7,8.73,7.34,7.64,10.0,6.55,8.81,7.28,8.11,8.56,10.08,9.32,10.69,10.89,7.67,9.79,7.94,7.06,9.25],\"yaxis\":\"y\",\"type\":\"scatter\"},{\"hovertemplate\":\"<b>%{hovertext}</b><br><br>Type=Medium<br>Strike Rate (lower the better)=%{x}<br>Economy (lower the better)=%{y}<extra></extra>\",\"hovertext\":[\"Akash Deep\",\"Basil Thampi\",\"DJ Bravo\",\"Fazalhaq Farooqi\",\"HV Patel\",\"JD Unadkat\",\"JO Holder\",\"KA Pollard\",\"KK Ahmed\",\"MR Marsh\",\"Mustafizur Rahman\",\"OC McCoy\",\"PJ Sangwan\",\"R Dhawan\",\"Ramandeep Singh\",\"Sandeep Sharma\",\"T Natarajan\",\"TG Southee\",\"VG Arora\"],\"legendgroup\":\"Medium\",\"marker\":{\"color\":\"#00cc96\",\"symbol\":\"diamond-tall\"},\"mode\":\"markers\",\"name\":\"Medium\",\"orientation\":\"v\",\"showlegend\":true,\"x\":[22.6,19.2,12.88,36.0,16.89,20.0,17.79,21.0,14.69,18.0,24.0,14.18,18.0,19.0,6.0,60.0,14.33,15.0,35.67],\"xaxis\":\"x\",\"y\":[10.88,9.5,8.71,9.17,7.66,9.5,9.42,8.93,8.04,8.5,7.62,9.08,7.22,8.21,9.0,7.65,9.44,7.86,9.2],\"yaxis\":\"y\",\"type\":\"scatter\"},{\"hovertemplate\":\"<b>%{hovertext}</b><br><br>Type=Offbreak<br>Strike Rate (lower the better)=%{x}<br>Economy (lower the better)=%{y}<extra></extra>\",\"hovertext\":[\"AR Patel\",\"GJ Maxwell\",\"Harpreet Brar\",\"HR Shokeen\",\"J Suchith\",\"K Gowtham\",\"KH Pandya\",\"Lalit Yadav\",\"LS Livingstone\",\"MJ Santner\",\"MM Ali\",\"R Ashwin\",\"R Sai Kishore\",\"RA Jadeja\",\"Shahbaz Ahmed\",\"Washington Sundar\"],\"legendgroup\":\"Offbreak\",\"marker\":{\"color\":\"#ab63fa\",\"symbol\":\"square\"},\"mode\":\"markers\",\"name\":\"Offbreak\",\"orientation\":\"v\",\"showlegend\":true,\"x\":[43.0,24.0,24.0,45.0,15.43,14.4,22.8,27.0,23.0,28.5,17.88,33.5,16.0,39.6,52.5,28.0],\"xaxis\":\"x\",\"y\":[7.47,6.88,9.12,8.47,7.78,8.25,6.97,8.33,8.78,6.84,6.63,7.51,7.56,7.52,9.6,8.54],\"yaxis\":\"y\",\"type\":\"scatter\"},{\"hovertemplate\":\"<b>%{hovertext}</b><br><br>Type=Legbreak Googly<br>Strike Rate (lower the better)=%{x}<br>Economy (lower the better)=%{y}<extra></extra>\",\"hovertext\":[\"CV Varun\",\"K Kartikeya\",\"M Theekshana\",\"Ravi Bishnoi\",\"SP Narine\"],\"legendgroup\":\"Legbreak Googly\",\"marker\":{\"color\":\"#FFA15A\",\"symbol\":\"star\"},\"mode\":\"markers\",\"name\":\"Legbreak Googly\",\"orientation\":\"v\",\"showlegend\":true,\"x\":[39.17,15.6,17.5,24.92,37.33],\"xaxis\":\"x\",\"y\":[8.45,7.85,7.46,8.44,5.57],\"yaxis\":\"y\",\"type\":\"scatter\"},{\"hovertemplate\":\"<b>%{hovertext}</b><br><br>Type=Legbreak<br>Strike Rate (lower the better)=%{x}<br>Economy (lower the better)=%{y}<extra></extra>\",\"hovertext\":[\"Kuldeep Yadav\",\"M Ashwin\",\"PWH de Silva\",\"Rashid Khan\",\"RD Chahar\",\"YS Chahal\"],\"legendgroup\":\"Legbreak\",\"marker\":{\"color\":\"#19d3f3\",\"symbol\":\"diamond\"},\"mode\":\"markers\",\"name\":\"Legbreak\",\"orientation\":\"v\",\"showlegend\":true,\"x\":[14.19,19.33,13.15,20.16,20.0,15.11],\"xaxis\":\"x\",\"y\":[8.44,7.86,7.54,6.6,7.71,7.75],\"yaxis\":\"y\",\"type\":\"scatter\"}],                        {\"template\":{\"data\":{\"bar\":[{\"error_x\":{\"color\":\"#2a3f5f\"},\"error_y\":{\"color\":\"#2a3f5f\"},\"marker\":{\"line\":{\"color\":\"#E5ECF6\",\"width\":0.5},\"pattern\":{\"fillmode\":\"overlay\",\"size\":10,\"solidity\":0.2}},\"type\":\"bar\"}],\"barpolar\":[{\"marker\":{\"line\":{\"color\":\"#E5ECF6\",\"width\":0.5},\"pattern\":{\"fillmode\":\"overlay\",\"size\":10,\"solidity\":0.2}},\"type\":\"barpolar\"}],\"carpet\":[{\"aaxis\":{\"endlinecolor\":\"#2a3f5f\",\"gridcolor\":\"white\",\"linecolor\":\"white\",\"minorgridcolor\":\"white\",\"startlinecolor\":\"#2a3f5f\"},\"baxis\":{\"endlinecolor\":\"#2a3f5f\",\"gridcolor\":\"white\",\"linecolor\":\"white\",\"minorgridcolor\":\"white\",\"startlinecolor\":\"#2a3f5f\"},\"type\":\"carpet\"}],\"choropleth\":[{\"colorbar\":{\"outlinewidth\":0,\"ticks\":\"\"},\"type\":\"choropleth\"}],\"contour\":[{\"colorbar\":{\"outlinewidth\":0,\"ticks\":\"\"},\"colorscale\":[[0.0,\"#0d0887\"],[0.1111111111111111,\"#46039f\"],[0.2222222222222222,\"#7201a8\"],[0.3333333333333333,\"#9c179e\"],[0.4444444444444444,\"#bd3786\"],[0.5555555555555556,\"#d8576b\"],[0.6666666666666666,\"#ed7953\"],[0.7777777777777778,\"#fb9f3a\"],[0.8888888888888888,\"#fdca26\"],[1.0,\"#f0f921\"]],\"type\":\"contour\"}],\"contourcarpet\":[{\"colorbar\":{\"outlinewidth\":0,\"ticks\":\"\"},\"type\":\"contourcarpet\"}],\"heatmap\":[{\"colorbar\":{\"outlinewidth\":0,\"ticks\":\"\"},\"colorscale\":[[0.0,\"#0d0887\"],[0.1111111111111111,\"#46039f\"],[0.2222222222222222,\"#7201a8\"],[0.3333333333333333,\"#9c179e\"],[0.4444444444444444,\"#bd3786\"],[0.5555555555555556,\"#d8576b\"],[0.6666666666666666,\"#ed7953\"],[0.7777777777777778,\"#fb9f3a\"],[0.8888888888888888,\"#fdca26\"],[1.0,\"#f0f921\"]],\"type\":\"heatmap\"}],\"heatmapgl\":[{\"colorbar\":{\"outlinewidth\":0,\"ticks\":\"\"},\"colorscale\":[[0.0,\"#0d0887\"],[0.1111111111111111,\"#46039f\"],[0.2222222222222222,\"#7201a8\"],[0.3333333333333333,\"#9c179e\"],[0.4444444444444444,\"#bd3786\"],[0.5555555555555556,\"#d8576b\"],[0.6666666666666666,\"#ed7953\"],[0.7777777777777778,\"#fb9f3a\"],[0.8888888888888888,\"#fdca26\"],[1.0,\"#f0f921\"]],\"type\":\"heatmapgl\"}],\"histogram\":[{\"marker\":{\"pattern\":{\"fillmode\":\"overlay\",\"size\":10,\"solidity\":0.2}},\"type\":\"histogram\"}],\"histogram2d\":[{\"colorbar\":{\"outlinewidth\":0,\"ticks\":\"\"},\"colorscale\":[[0.0,\"#0d0887\"],[0.1111111111111111,\"#46039f\"],[0.2222222222222222,\"#7201a8\"],[0.3333333333333333,\"#9c179e\"],[0.4444444444444444,\"#bd3786\"],[0.5555555555555556,\"#d8576b\"],[0.6666666666666666,\"#ed7953\"],[0.7777777777777778,\"#fb9f3a\"],[0.8888888888888888,\"#fdca26\"],[1.0,\"#f0f921\"]],\"type\":\"histogram2d\"}],\"histogram2dcontour\":[{\"colorbar\":{\"outlinewidth\":0,\"ticks\":\"\"},\"colorscale\":[[0.0,\"#0d0887\"],[0.1111111111111111,\"#46039f\"],[0.2222222222222222,\"#7201a8\"],[0.3333333333333333,\"#9c179e\"],[0.4444444444444444,\"#bd3786\"],[0.5555555555555556,\"#d8576b\"],[0.6666666666666666,\"#ed7953\"],[0.7777777777777778,\"#fb9f3a\"],[0.8888888888888888,\"#fdca26\"],[1.0,\"#f0f921\"]],\"type\":\"histogram2dcontour\"}],\"mesh3d\":[{\"colorbar\":{\"outlinewidth\":0,\"ticks\":\"\"},\"type\":\"mesh3d\"}],\"parcoords\":[{\"line\":{\"colorbar\":{\"outlinewidth\":0,\"ticks\":\"\"}},\"type\":\"parcoords\"}],\"pie\":[{\"automargin\":true,\"type\":\"pie\"}],\"scatter\":[{\"marker\":{\"colorbar\":{\"outlinewidth\":0,\"ticks\":\"\"}},\"type\":\"scatter\"}],\"scatter3d\":[{\"line\":{\"colorbar\":{\"outlinewidth\":0,\"ticks\":\"\"}},\"marker\":{\"colorbar\":{\"outlinewidth\":0,\"ticks\":\"\"}},\"type\":\"scatter3d\"}],\"scattercarpet\":[{\"marker\":{\"colorbar\":{\"outlinewidth\":0,\"ticks\":\"\"}},\"type\":\"scattercarpet\"}],\"scattergeo\":[{\"marker\":{\"colorbar\":{\"outlinewidth\":0,\"ticks\":\"\"}},\"type\":\"scattergeo\"}],\"scattergl\":[{\"marker\":{\"colorbar\":{\"outlinewidth\":0,\"ticks\":\"\"}},\"type\":\"scattergl\"}],\"scattermapbox\":[{\"marker\":{\"colorbar\":{\"outlinewidth\":0,\"ticks\":\"\"}},\"type\":\"scattermapbox\"}],\"scatterpolar\":[{\"marker\":{\"colorbar\":{\"outlinewidth\":0,\"ticks\":\"\"}},\"type\":\"scatterpolar\"}],\"scatterpolargl\":[{\"marker\":{\"colorbar\":{\"outlinewidth\":0,\"ticks\":\"\"}},\"type\":\"scatterpolargl\"}],\"scatterternary\":[{\"marker\":{\"colorbar\":{\"outlinewidth\":0,\"ticks\":\"\"}},\"type\":\"scatterternary\"}],\"surface\":[{\"colorbar\":{\"outlinewidth\":0,\"ticks\":\"\"},\"colorscale\":[[0.0,\"#0d0887\"],[0.1111111111111111,\"#46039f\"],[0.2222222222222222,\"#7201a8\"],[0.3333333333333333,\"#9c179e\"],[0.4444444444444444,\"#bd3786\"],[0.5555555555555556,\"#d8576b\"],[0.6666666666666666,\"#ed7953\"],[0.7777777777777778,\"#fb9f3a\"],[0.8888888888888888,\"#fdca26\"],[1.0,\"#f0f921\"]],\"type\":\"surface\"}],\"table\":[{\"cells\":{\"fill\":{\"color\":\"#EBF0F8\"},\"line\":{\"color\":\"white\"}},\"header\":{\"fill\":{\"color\":\"#C8D4E3\"},\"line\":{\"color\":\"white\"}},\"type\":\"table\"}]},\"layout\":{\"annotationdefaults\":{\"arrowcolor\":\"#2a3f5f\",\"arrowhead\":0,\"arrowwidth\":1},\"autotypenumbers\":\"strict\",\"coloraxis\":{\"colorbar\":{\"outlinewidth\":0,\"ticks\":\"\"}},\"colorscale\":{\"diverging\":[[0,\"#8e0152\"],[0.1,\"#c51b7d\"],[0.2,\"#de77ae\"],[0.3,\"#f1b6da\"],[0.4,\"#fde0ef\"],[0.5,\"#f7f7f7\"],[0.6,\"#e6f5d0\"],[0.7,\"#b8e186\"],[0.8,\"#7fbc41\"],[0.9,\"#4d9221\"],[1,\"#276419\"]],\"sequential\":[[0.0,\"#0d0887\"],[0.1111111111111111,\"#46039f\"],[0.2222222222222222,\"#7201a8\"],[0.3333333333333333,\"#9c179e\"],[0.4444444444444444,\"#bd3786\"],[0.5555555555555556,\"#d8576b\"],[0.6666666666666666,\"#ed7953\"],[0.7777777777777778,\"#fb9f3a\"],[0.8888888888888888,\"#fdca26\"],[1.0,\"#f0f921\"]],\"sequentialminus\":[[0.0,\"#0d0887\"],[0.1111111111111111,\"#46039f\"],[0.2222222222222222,\"#7201a8\"],[0.3333333333333333,\"#9c179e\"],[0.4444444444444444,\"#bd3786\"],[0.5555555555555556,\"#d8576b\"],[0.6666666666666666,\"#ed7953\"],[0.7777777777777778,\"#fb9f3a\"],[0.8888888888888888,\"#fdca26\"],[1.0,\"#f0f921\"]]},\"colorway\":[\"#636efa\",\"#EF553B\",\"#00cc96\",\"#ab63fa\",\"#FFA15A\",\"#19d3f3\",\"#FF6692\",\"#B6E880\",\"#FF97FF\",\"#FECB52\"],\"font\":{\"color\":\"#2a3f5f\"},\"geo\":{\"bgcolor\":\"white\",\"lakecolor\":\"white\",\"landcolor\":\"#E5ECF6\",\"showlakes\":true,\"showland\":true,\"subunitcolor\":\"white\"},\"hoverlabel\":{\"align\":\"left\"},\"hovermode\":\"closest\",\"mapbox\":{\"style\":\"light\"},\"paper_bgcolor\":\"white\",\"plot_bgcolor\":\"#E5ECF6\",\"polar\":{\"angularaxis\":{\"gridcolor\":\"white\",\"linecolor\":\"white\",\"ticks\":\"\"},\"bgcolor\":\"#E5ECF6\",\"radialaxis\":{\"gridcolor\":\"white\",\"linecolor\":\"white\",\"ticks\":\"\"}},\"scene\":{\"xaxis\":{\"backgroundcolor\":\"#E5ECF6\",\"gridcolor\":\"white\",\"gridwidth\":2,\"linecolor\":\"white\",\"showbackground\":true,\"ticks\":\"\",\"zerolinecolor\":\"white\"},\"yaxis\":{\"backgroundcolor\":\"#E5ECF6\",\"gridcolor\":\"white\",\"gridwidth\":2,\"linecolor\":\"white\",\"showbackground\":true,\"ticks\":\"\",\"zerolinecolor\":\"white\"},\"zaxis\":{\"backgroundcolor\":\"#E5ECF6\",\"gridcolor\":\"white\",\"gridwidth\":2,\"linecolor\":\"white\",\"showbackground\":true,\"ticks\":\"\",\"zerolinecolor\":\"white\"}},\"shapedefaults\":{\"line\":{\"color\":\"#2a3f5f\"}},\"ternary\":{\"aaxis\":{\"gridcolor\":\"white\",\"linecolor\":\"white\",\"ticks\":\"\"},\"baxis\":{\"gridcolor\":\"white\",\"linecolor\":\"white\",\"ticks\":\"\"},\"bgcolor\":\"#E5ECF6\",\"caxis\":{\"gridcolor\":\"white\",\"linecolor\":\"white\",\"ticks\":\"\"}},\"title\":{\"x\":0.05},\"xaxis\":{\"automargin\":true,\"gridcolor\":\"white\",\"linecolor\":\"white\",\"ticks\":\"\",\"title\":{\"standoff\":15},\"zerolinecolor\":\"white\",\"zerolinewidth\":2},\"yaxis\":{\"automargin\":true,\"gridcolor\":\"white\",\"linecolor\":\"white\",\"ticks\":\"\",\"title\":{\"standoff\":15},\"zerolinecolor\":\"white\",\"zerolinewidth\":2}}},\"xaxis\":{\"anchor\":\"y\",\"domain\":[0.0,1.0],\"title\":{\"text\":\"Strike Rate (lower the better)\"}},\"yaxis\":{\"anchor\":\"x\",\"domain\":[0.0,1.0],\"title\":{\"text\":\"Economy (lower the better)\"}},\"legend\":{\"title\":{\"text\":\"Type\"},\"tracegroupgap\":0},\"margin\":{\"t\":60},\"shapes\":[{\"line\":{\"color\":\"black\"},\"opacity\":0.5,\"type\":\"line\",\"x0\":20,\"x1\":20,\"xref\":\"x\",\"y0\":0,\"y1\":1,\"yref\":\"y domain\"},{\"line\":{\"color\":\"black\"},\"opacity\":0.5,\"type\":\"line\",\"x0\":0,\"x1\":1,\"xref\":\"x domain\",\"y0\":8,\"y1\":8,\"yref\":\"y\"},{\"fillcolor\":\"#86fa86\",\"layer\":\"below\",\"line\":{\"width\":0},\"opacity\":0.3,\"x0\":10,\"x1\":20,\"y0\":6,\"y1\":8},{\"fillcolor\":\"#ffd966\",\"layer\":\"below\",\"line\":{\"width\":0},\"opacity\":0.3,\"x0\":10,\"x1\":20,\"y0\":8,\"y1\":10},{\"fillcolor\":\"#6fa8dc\",\"layer\":\"below\",\"line\":{\"width\":0},\"opacity\":0.3,\"x0\":20,\"x1\":30,\"y0\":6,\"y1\":8},{\"fillcolor\":\"#fa7066\",\"layer\":\"below\",\"line\":{\"width\":0},\"opacity\":0.3,\"x0\":20,\"x1\":30,\"y0\":8,\"y1\":10}]},                        {\"responsive\": true}                    ).then(function(){\n",
       "                            \n",
       "var gd = document.getElementById('25970282-6fe9-4736-973a-adeb24ca1b7b');\n",
       "var x = new MutationObserver(function (mutations, observer) {{\n",
       "        var display = window.getComputedStyle(gd).display;\n",
       "        if (!display || display === 'none') {{\n",
       "            console.log([gd, 'removed!']);\n",
       "            Plotly.purge(gd);\n",
       "            observer.disconnect();\n",
       "        }}\n",
       "}});\n",
       "\n",
       "// Listen for the removal of the full notebook cells\n",
       "var notebookContainer = gd.closest('#notebook-container');\n",
       "if (notebookContainer) {{\n",
       "    x.observe(notebookContainer, {childList: true});\n",
       "}}\n",
       "\n",
       "// Listen for the clearing of the current output cell\n",
       "var outputEl = gd.closest('.output');\n",
       "if (outputEl) {{\n",
       "    x.observe(outputEl, {childList: true});\n",
       "}}\n",
       "\n",
       "                        })                };                });            </script>        </div>"
      ]
     },
     "metadata": {},
     "output_type": "display_data"
    }
   ],
   "source": [
    "fg = px.scatter(data_frame=updated_df,x='SR',y='Econ',\n",
    "                labels={'SR':'Strike Rate (lower the better)','Econ':'Economy (lower the better)'},\n",
    "                hover_name='Player',color='Type',symbol='Type',\n",
    "                symbol_sequence=['star-triangle-up', 'circle', 'diamond-tall', 'square','star','diamond'])\n",
    "fg.add_vline(x=20, line_color=\"black\",opacity=0.5)\n",
    "fg.add_hline(y=8,line_color=\"black\",opacity=0.5)\n",
    "# fg.add_shape(type='rect',x0=10.01,x1=19.9,y0=8.01, y1=9.99, line_width=0, fillcolor=\"white\", opacity=0.6,name='Servicable bowlers')\n",
    "fg.add_shape(y0= 6,y1=8,x0=10,x1=20, line_width=0, fillcolor=\"#86fa86\",layer='below',opacity=0.3)\n",
    "fg.add_shape(y0= 8,y1=10,x0=10,x1=20, line_width=0, fillcolor=\"#ffd966\",layer='below', opacity=0.3)\n",
    "fg.add_shape(y0= 6,y1=8,x0=20,x1=30, line_width=0, fillcolor=\"#6fa8dc\",layer='below', opacity=0.3)\n",
    "fg.add_shape(y0= 8,y1=10,x0=20,x1=30, line_width=0, fillcolor=\"#fa7066\",layer='below', opacity=0.3)"
   ]
  },
  {
   "cell_type": "markdown",
   "id": "ba09b361",
   "metadata": {},
   "source": [
    "- The green quadrant consists of bowlers who are very good at being both economical and taking wickets. Let's call them `Jacks` as a reference to the 'Jack of all trades' adage.\n",
    "\n",
    "\n",
    "- The blue quadrant consists of bowlers who we will call as `Defensive-bowlers` or `Defenders` , since their economy rate is < 8 , while their strike rate is > 20, meaning wickets just don't come easily to them.\n",
    "\n",
    "\n",
    "- The yellow quadrant consists of the third bowlers, who are expensive, but still take wickets at regular intervals. They aren't their sides MVPs, but are still good enough to be a part of the bowling unit. Shardul Thakur being a part of this quadrant is personally funny, since he was the epitome of this kind of bowling during his CSK days.`Attackers` is a good name(?)\n",
    "\n",
    "\n",
    "- The red quadrant is for the bowlers who had nothing going for them this IPL. Players like Shabhaz Ahmed, Siraj, Varun, Jordan and Jansen are part of this quadrant. You shouldn't be looking upto these bowlers to make a difference in a game. While bowlers like Prasidh and Boult end up in this cluster, note that they are closer to the centre of the diagram."
   ]
  },
  {
   "cell_type": "markdown",
   "id": "396fb46e",
   "metadata": {},
   "source": [
    "**A closer look at the quadrants :**"
   ]
  },
  {
   "cell_type": "code",
   "execution_count": 42,
   "id": "28922152",
   "metadata": {},
   "outputs": [
    {
     "data": {
      "application/vnd.plotly.v1+json": {
       "config": {
        "plotlyServerURL": "https://plot.ly"
       },
       "data": [
        {
         "hovertemplate": "<b>%{hovertext}</b><br><br>Type=Fast<br>Strike Rate (lower the better)=%{x}<br>Economy (lower the better)=%{y}<extra></extra>",
         "hovertext": [
          "A Nortje",
          "AS Joseph",
          "CJ Jordan",
          "JJ Bumrah",
          "K Rabada",
          "KR Sen",
          "LH Ferguson",
          "M Prasidh Krishna",
          "Mohammed Shami",
          "Mohsin Khan",
          "OF Smith",
          "PVD Chameera",
          "RP Meredith",
          "Shivam Mavi",
          "TS Mills",
          "Umran Malik"
         ],
         "legendgroup": "Fast",
         "marker": {
          "color": "#636efa",
          "symbol": "star-triangle-up"
         },
         "mode": "markers",
         "name": "Fast",
         "orientation": "v",
         "showlegend": true,
         "type": "scatter",
         "x": [
          14.89,
          25.71,
          38.5,
          21.33,
          12.52,
          18.88,
          23.83,
          21,
          18.3,
          14.14,
          15,
          29.33,
          21,
          26.4,
          17,
          13.45
         ],
         "xaxis": "x",
         "y": [
          9.72,
          8.8,
          10.52,
          7.18,
          8.46,
          9.42,
          8.96,
          8.29,
          8,
          5.97,
          11.87,
          8.73,
          8.43,
          10.32,
          11.18,
          8.98
         ],
         "yaxis": "y"
        },
        {
         "hovertemplate": "<b>%{hovertext}</b><br><br>Type=Medium Fast<br>Strike Rate (lower the better)=%{x}<br>Economy (lower the better)=%{y}<extra></extra>",
         "hovertext": [
          "AD Russell",
          "AJ Tye",
          "Arshdeep Singh",
          "Avesh Khan",
          "B Kumar",
          "C Sakariya",
          "D Pretorius",
          "DJ Willey",
          "DR Sams",
          "HH Pandya",
          "JR Hazlewood",
          "M Jansen",
          "Mohammed Siraj",
          "Mukesh Choudhary",
          "PJ Cummins",
          "R Shepherd",
          "Simarjeet Singh",
          "SN Thakur",
          "TA Boult",
          "UT Yadav",
          "Yash Dayal"
         ],
         "legendgroup": "Medium Fast",
         "marker": {
          "color": "#EF553B",
          "symbol": "circle"
         },
         "mode": "markers",
         "name": "Medium Fast",
         "orientation": "v",
         "showlegend": true,
         "type": "scatter",
         "x": [
          9.94,
          33,
          30,
          15.89,
          26.08,
          22,
          21,
          66,
          19.38,
          22.88,
          13.95,
          27.43,
          34,
          17.06,
          17,
          18,
          27,
          19.33,
          23.25,
          18,
          17.45
         ],
         "xaxis": "x",
         "y": [
          9.87,
          9.73,
          7.7,
          8.73,
          7.34,
          7.64,
          10,
          6.55,
          8.81,
          7.28,
          8.11,
          8.56,
          10.08,
          9.32,
          10.69,
          10.89,
          7.67,
          9.79,
          7.94,
          7.06,
          9.25
         ],
         "yaxis": "y"
        },
        {
         "hovertemplate": "<b>%{hovertext}</b><br><br>Type=Medium<br>Strike Rate (lower the better)=%{x}<br>Economy (lower the better)=%{y}<extra></extra>",
         "hovertext": [
          "Akash Deep",
          "Basil Thampi",
          "DJ Bravo",
          "Fazalhaq Farooqi",
          "HV Patel",
          "JD Unadkat",
          "JO Holder",
          "KA Pollard",
          "KK Ahmed",
          "MR Marsh",
          "Mustafizur Rahman",
          "OC McCoy",
          "PJ Sangwan",
          "R Dhawan",
          "Ramandeep Singh",
          "Sandeep Sharma",
          "T Natarajan",
          "TG Southee",
          "VG Arora"
         ],
         "legendgroup": "Medium",
         "marker": {
          "color": "#00cc96",
          "symbol": "diamond-tall"
         },
         "mode": "markers",
         "name": "Medium",
         "orientation": "v",
         "showlegend": true,
         "type": "scatter",
         "x": [
          22.6,
          19.2,
          12.88,
          36,
          16.89,
          20,
          17.79,
          21,
          14.69,
          18,
          24,
          14.18,
          18,
          19,
          6,
          60,
          14.33,
          15,
          35.67
         ],
         "xaxis": "x",
         "y": [
          10.88,
          9.5,
          8.71,
          9.17,
          7.66,
          9.5,
          9.42,
          8.93,
          8.04,
          8.5,
          7.62,
          9.08,
          7.22,
          8.21,
          9,
          7.65,
          9.44,
          7.86,
          9.2
         ],
         "yaxis": "y"
        },
        {
         "hovertemplate": "<b>%{hovertext}</b><br><br>Type=Offbreak<br>Strike Rate (lower the better)=%{x}<br>Economy (lower the better)=%{y}<extra></extra>",
         "hovertext": [
          "AR Patel",
          "GJ Maxwell",
          "Harpreet Brar",
          "HR Shokeen",
          "J Suchith",
          "K Gowtham",
          "KH Pandya",
          "Lalit Yadav",
          "LS Livingstone",
          "MJ Santner",
          "MM Ali",
          "R Ashwin",
          "R Sai Kishore",
          "RA Jadeja",
          "Shahbaz Ahmed",
          "Washington Sundar"
         ],
         "legendgroup": "Offbreak",
         "marker": {
          "color": "#ab63fa",
          "symbol": "square"
         },
         "mode": "markers",
         "name": "Offbreak",
         "orientation": "v",
         "showlegend": true,
         "type": "scatter",
         "x": [
          43,
          24,
          24,
          45,
          15.43,
          14.4,
          22.8,
          27,
          23,
          28.5,
          17.88,
          33.5,
          16,
          39.6,
          52.5,
          28
         ],
         "xaxis": "x",
         "y": [
          7.47,
          6.88,
          9.12,
          8.47,
          7.78,
          8.25,
          6.97,
          8.33,
          8.78,
          6.84,
          6.63,
          7.51,
          7.56,
          7.52,
          9.6,
          8.54
         ],
         "yaxis": "y"
        },
        {
         "hovertemplate": "<b>%{hovertext}</b><br><br>Type=Legbreak Googly<br>Strike Rate (lower the better)=%{x}<br>Economy (lower the better)=%{y}<extra></extra>",
         "hovertext": [
          "CV Varun",
          "K Kartikeya",
          "M Theekshana",
          "Ravi Bishnoi",
          "SP Narine"
         ],
         "legendgroup": "Legbreak Googly",
         "marker": {
          "color": "#FFA15A",
          "symbol": "star"
         },
         "mode": "markers",
         "name": "Legbreak Googly",
         "orientation": "v",
         "showlegend": true,
         "type": "scatter",
         "x": [
          39.17,
          15.6,
          17.5,
          24.92,
          37.33
         ],
         "xaxis": "x",
         "y": [
          8.45,
          7.85,
          7.46,
          8.44,
          5.57
         ],
         "yaxis": "y"
        },
        {
         "hovertemplate": "<b>%{hovertext}</b><br><br>Type=Legbreak<br>Strike Rate (lower the better)=%{x}<br>Economy (lower the better)=%{y}<extra></extra>",
         "hovertext": [
          "Kuldeep Yadav",
          "M Ashwin",
          "PWH de Silva",
          "Rashid Khan",
          "RD Chahar",
          "YS Chahal"
         ],
         "legendgroup": "Legbreak",
         "marker": {
          "color": "#19d3f3",
          "symbol": "diamond"
         },
         "mode": "markers",
         "name": "Legbreak",
         "orientation": "v",
         "showlegend": true,
         "type": "scatter",
         "x": [
          14.19,
          19.33,
          13.15,
          20.16,
          20,
          15.11
         ],
         "xaxis": "x",
         "y": [
          8.44,
          7.86,
          7.54,
          6.6,
          7.71,
          7.75
         ],
         "yaxis": "y"
        }
       ],
       "layout": {
        "legend": {
         "title": {
          "text": "Type"
         },
         "tracegroupgap": 0
        },
        "margin": {
         "t": 60
        },
        "shapes": [
         {
          "line": {
           "color": "black"
          },
          "opacity": 0.4,
          "type": "line",
          "x0": 20,
          "x1": 20,
          "xref": "x",
          "y0": 0,
          "y1": 1,
          "yref": "y domain"
         },
         {
          "line": {
           "color": "black"
          },
          "opacity": 0.4,
          "type": "line",
          "x0": 0,
          "x1": 1,
          "xref": "x domain",
          "y0": 8,
          "y1": 8,
          "yref": "y"
         },
         {
          "fillcolor": "#86fa86",
          "layer": "below",
          "line": {
           "width": 0
          },
          "opacity": 0.1,
          "x0": 10,
          "x1": 20,
          "y0": 6,
          "y1": 8
         },
         {
          "fillcolor": "#ffd966",
          "layer": "below",
          "line": {
           "width": 0
          },
          "opacity": 0.1,
          "x0": 10,
          "x1": 20,
          "y0": 8,
          "y1": 10
         },
         {
          "fillcolor": "#6fa8dc",
          "layer": "below",
          "line": {
           "width": 0
          },
          "opacity": 0.1,
          "x0": 20,
          "x1": 30,
          "y0": 6,
          "y1": 8
         },
         {
          "fillcolor": "#fa7066",
          "layer": "below",
          "line": {
           "width": 0
          },
          "opacity": 0.1,
          "x0": 20,
          "x1": 30,
          "y0": 8,
          "y1": 10
         }
        ],
        "template": {
         "data": {
          "bar": [
           {
            "error_x": {
             "color": "#2a3f5f"
            },
            "error_y": {
             "color": "#2a3f5f"
            },
            "marker": {
             "line": {
              "color": "#E5ECF6",
              "width": 0.5
             },
             "pattern": {
              "fillmode": "overlay",
              "size": 10,
              "solidity": 0.2
             }
            },
            "type": "bar"
           }
          ],
          "barpolar": [
           {
            "marker": {
             "line": {
              "color": "#E5ECF6",
              "width": 0.5
             },
             "pattern": {
              "fillmode": "overlay",
              "size": 10,
              "solidity": 0.2
             }
            },
            "type": "barpolar"
           }
          ],
          "carpet": [
           {
            "aaxis": {
             "endlinecolor": "#2a3f5f",
             "gridcolor": "white",
             "linecolor": "white",
             "minorgridcolor": "white",
             "startlinecolor": "#2a3f5f"
            },
            "baxis": {
             "endlinecolor": "#2a3f5f",
             "gridcolor": "white",
             "linecolor": "white",
             "minorgridcolor": "white",
             "startlinecolor": "#2a3f5f"
            },
            "type": "carpet"
           }
          ],
          "choropleth": [
           {
            "colorbar": {
             "outlinewidth": 0,
             "ticks": ""
            },
            "type": "choropleth"
           }
          ],
          "contour": [
           {
            "colorbar": {
             "outlinewidth": 0,
             "ticks": ""
            },
            "colorscale": [
             [
              0,
              "#0d0887"
             ],
             [
              0.1111111111111111,
              "#46039f"
             ],
             [
              0.2222222222222222,
              "#7201a8"
             ],
             [
              0.3333333333333333,
              "#9c179e"
             ],
             [
              0.4444444444444444,
              "#bd3786"
             ],
             [
              0.5555555555555556,
              "#d8576b"
             ],
             [
              0.6666666666666666,
              "#ed7953"
             ],
             [
              0.7777777777777778,
              "#fb9f3a"
             ],
             [
              0.8888888888888888,
              "#fdca26"
             ],
             [
              1,
              "#f0f921"
             ]
            ],
            "type": "contour"
           }
          ],
          "contourcarpet": [
           {
            "colorbar": {
             "outlinewidth": 0,
             "ticks": ""
            },
            "type": "contourcarpet"
           }
          ],
          "heatmap": [
           {
            "colorbar": {
             "outlinewidth": 0,
             "ticks": ""
            },
            "colorscale": [
             [
              0,
              "#0d0887"
             ],
             [
              0.1111111111111111,
              "#46039f"
             ],
             [
              0.2222222222222222,
              "#7201a8"
             ],
             [
              0.3333333333333333,
              "#9c179e"
             ],
             [
              0.4444444444444444,
              "#bd3786"
             ],
             [
              0.5555555555555556,
              "#d8576b"
             ],
             [
              0.6666666666666666,
              "#ed7953"
             ],
             [
              0.7777777777777778,
              "#fb9f3a"
             ],
             [
              0.8888888888888888,
              "#fdca26"
             ],
             [
              1,
              "#f0f921"
             ]
            ],
            "type": "heatmap"
           }
          ],
          "heatmapgl": [
           {
            "colorbar": {
             "outlinewidth": 0,
             "ticks": ""
            },
            "colorscale": [
             [
              0,
              "#0d0887"
             ],
             [
              0.1111111111111111,
              "#46039f"
             ],
             [
              0.2222222222222222,
              "#7201a8"
             ],
             [
              0.3333333333333333,
              "#9c179e"
             ],
             [
              0.4444444444444444,
              "#bd3786"
             ],
             [
              0.5555555555555556,
              "#d8576b"
             ],
             [
              0.6666666666666666,
              "#ed7953"
             ],
             [
              0.7777777777777778,
              "#fb9f3a"
             ],
             [
              0.8888888888888888,
              "#fdca26"
             ],
             [
              1,
              "#f0f921"
             ]
            ],
            "type": "heatmapgl"
           }
          ],
          "histogram": [
           {
            "marker": {
             "pattern": {
              "fillmode": "overlay",
              "size": 10,
              "solidity": 0.2
             }
            },
            "type": "histogram"
           }
          ],
          "histogram2d": [
           {
            "colorbar": {
             "outlinewidth": 0,
             "ticks": ""
            },
            "colorscale": [
             [
              0,
              "#0d0887"
             ],
             [
              0.1111111111111111,
              "#46039f"
             ],
             [
              0.2222222222222222,
              "#7201a8"
             ],
             [
              0.3333333333333333,
              "#9c179e"
             ],
             [
              0.4444444444444444,
              "#bd3786"
             ],
             [
              0.5555555555555556,
              "#d8576b"
             ],
             [
              0.6666666666666666,
              "#ed7953"
             ],
             [
              0.7777777777777778,
              "#fb9f3a"
             ],
             [
              0.8888888888888888,
              "#fdca26"
             ],
             [
              1,
              "#f0f921"
             ]
            ],
            "type": "histogram2d"
           }
          ],
          "histogram2dcontour": [
           {
            "colorbar": {
             "outlinewidth": 0,
             "ticks": ""
            },
            "colorscale": [
             [
              0,
              "#0d0887"
             ],
             [
              0.1111111111111111,
              "#46039f"
             ],
             [
              0.2222222222222222,
              "#7201a8"
             ],
             [
              0.3333333333333333,
              "#9c179e"
             ],
             [
              0.4444444444444444,
              "#bd3786"
             ],
             [
              0.5555555555555556,
              "#d8576b"
             ],
             [
              0.6666666666666666,
              "#ed7953"
             ],
             [
              0.7777777777777778,
              "#fb9f3a"
             ],
             [
              0.8888888888888888,
              "#fdca26"
             ],
             [
              1,
              "#f0f921"
             ]
            ],
            "type": "histogram2dcontour"
           }
          ],
          "mesh3d": [
           {
            "colorbar": {
             "outlinewidth": 0,
             "ticks": ""
            },
            "type": "mesh3d"
           }
          ],
          "parcoords": [
           {
            "line": {
             "colorbar": {
              "outlinewidth": 0,
              "ticks": ""
             }
            },
            "type": "parcoords"
           }
          ],
          "pie": [
           {
            "automargin": true,
            "type": "pie"
           }
          ],
          "scatter": [
           {
            "marker": {
             "colorbar": {
              "outlinewidth": 0,
              "ticks": ""
             }
            },
            "type": "scatter"
           }
          ],
          "scatter3d": [
           {
            "line": {
             "colorbar": {
              "outlinewidth": 0,
              "ticks": ""
             }
            },
            "marker": {
             "colorbar": {
              "outlinewidth": 0,
              "ticks": ""
             }
            },
            "type": "scatter3d"
           }
          ],
          "scattercarpet": [
           {
            "marker": {
             "colorbar": {
              "outlinewidth": 0,
              "ticks": ""
             }
            },
            "type": "scattercarpet"
           }
          ],
          "scattergeo": [
           {
            "marker": {
             "colorbar": {
              "outlinewidth": 0,
              "ticks": ""
             }
            },
            "type": "scattergeo"
           }
          ],
          "scattergl": [
           {
            "marker": {
             "colorbar": {
              "outlinewidth": 0,
              "ticks": ""
             }
            },
            "type": "scattergl"
           }
          ],
          "scattermapbox": [
           {
            "marker": {
             "colorbar": {
              "outlinewidth": 0,
              "ticks": ""
             }
            },
            "type": "scattermapbox"
           }
          ],
          "scatterpolar": [
           {
            "marker": {
             "colorbar": {
              "outlinewidth": 0,
              "ticks": ""
             }
            },
            "type": "scatterpolar"
           }
          ],
          "scatterpolargl": [
           {
            "marker": {
             "colorbar": {
              "outlinewidth": 0,
              "ticks": ""
             }
            },
            "type": "scatterpolargl"
           }
          ],
          "scatterternary": [
           {
            "marker": {
             "colorbar": {
              "outlinewidth": 0,
              "ticks": ""
             }
            },
            "type": "scatterternary"
           }
          ],
          "surface": [
           {
            "colorbar": {
             "outlinewidth": 0,
             "ticks": ""
            },
            "colorscale": [
             [
              0,
              "#0d0887"
             ],
             [
              0.1111111111111111,
              "#46039f"
             ],
             [
              0.2222222222222222,
              "#7201a8"
             ],
             [
              0.3333333333333333,
              "#9c179e"
             ],
             [
              0.4444444444444444,
              "#bd3786"
             ],
             [
              0.5555555555555556,
              "#d8576b"
             ],
             [
              0.6666666666666666,
              "#ed7953"
             ],
             [
              0.7777777777777778,
              "#fb9f3a"
             ],
             [
              0.8888888888888888,
              "#fdca26"
             ],
             [
              1,
              "#f0f921"
             ]
            ],
            "type": "surface"
           }
          ],
          "table": [
           {
            "cells": {
             "fill": {
              "color": "#EBF0F8"
             },
             "line": {
              "color": "white"
             }
            },
            "header": {
             "fill": {
              "color": "#C8D4E3"
             },
             "line": {
              "color": "white"
             }
            },
            "type": "table"
           }
          ]
         },
         "layout": {
          "annotationdefaults": {
           "arrowcolor": "#2a3f5f",
           "arrowhead": 0,
           "arrowwidth": 1
          },
          "autotypenumbers": "strict",
          "coloraxis": {
           "colorbar": {
            "outlinewidth": 0,
            "ticks": ""
           }
          },
          "colorscale": {
           "diverging": [
            [
             0,
             "#8e0152"
            ],
            [
             0.1,
             "#c51b7d"
            ],
            [
             0.2,
             "#de77ae"
            ],
            [
             0.3,
             "#f1b6da"
            ],
            [
             0.4,
             "#fde0ef"
            ],
            [
             0.5,
             "#f7f7f7"
            ],
            [
             0.6,
             "#e6f5d0"
            ],
            [
             0.7,
             "#b8e186"
            ],
            [
             0.8,
             "#7fbc41"
            ],
            [
             0.9,
             "#4d9221"
            ],
            [
             1,
             "#276419"
            ]
           ],
           "sequential": [
            [
             0,
             "#0d0887"
            ],
            [
             0.1111111111111111,
             "#46039f"
            ],
            [
             0.2222222222222222,
             "#7201a8"
            ],
            [
             0.3333333333333333,
             "#9c179e"
            ],
            [
             0.4444444444444444,
             "#bd3786"
            ],
            [
             0.5555555555555556,
             "#d8576b"
            ],
            [
             0.6666666666666666,
             "#ed7953"
            ],
            [
             0.7777777777777778,
             "#fb9f3a"
            ],
            [
             0.8888888888888888,
             "#fdca26"
            ],
            [
             1,
             "#f0f921"
            ]
           ],
           "sequentialminus": [
            [
             0,
             "#0d0887"
            ],
            [
             0.1111111111111111,
             "#46039f"
            ],
            [
             0.2222222222222222,
             "#7201a8"
            ],
            [
             0.3333333333333333,
             "#9c179e"
            ],
            [
             0.4444444444444444,
             "#bd3786"
            ],
            [
             0.5555555555555556,
             "#d8576b"
            ],
            [
             0.6666666666666666,
             "#ed7953"
            ],
            [
             0.7777777777777778,
             "#fb9f3a"
            ],
            [
             0.8888888888888888,
             "#fdca26"
            ],
            [
             1,
             "#f0f921"
            ]
           ]
          },
          "colorway": [
           "#636efa",
           "#EF553B",
           "#00cc96",
           "#ab63fa",
           "#FFA15A",
           "#19d3f3",
           "#FF6692",
           "#B6E880",
           "#FF97FF",
           "#FECB52"
          ],
          "font": {
           "color": "#2a3f5f"
          },
          "geo": {
           "bgcolor": "white",
           "lakecolor": "white",
           "landcolor": "#E5ECF6",
           "showlakes": true,
           "showland": true,
           "subunitcolor": "white"
          },
          "hoverlabel": {
           "align": "left"
          },
          "hovermode": "closest",
          "mapbox": {
           "style": "light"
          },
          "paper_bgcolor": "white",
          "plot_bgcolor": "#E5ECF6",
          "polar": {
           "angularaxis": {
            "gridcolor": "white",
            "linecolor": "white",
            "ticks": ""
           },
           "bgcolor": "#E5ECF6",
           "radialaxis": {
            "gridcolor": "white",
            "linecolor": "white",
            "ticks": ""
           }
          },
          "scene": {
           "xaxis": {
            "backgroundcolor": "#E5ECF6",
            "gridcolor": "white",
            "gridwidth": 2,
            "linecolor": "white",
            "showbackground": true,
            "ticks": "",
            "zerolinecolor": "white"
           },
           "yaxis": {
            "backgroundcolor": "#E5ECF6",
            "gridcolor": "white",
            "gridwidth": 2,
            "linecolor": "white",
            "showbackground": true,
            "ticks": "",
            "zerolinecolor": "white"
           },
           "zaxis": {
            "backgroundcolor": "#E5ECF6",
            "gridcolor": "white",
            "gridwidth": 2,
            "linecolor": "white",
            "showbackground": true,
            "ticks": "",
            "zerolinecolor": "white"
           }
          },
          "shapedefaults": {
           "line": {
            "color": "#2a3f5f"
           }
          },
          "ternary": {
           "aaxis": {
            "gridcolor": "white",
            "linecolor": "white",
            "ticks": ""
           },
           "baxis": {
            "gridcolor": "white",
            "linecolor": "white",
            "ticks": ""
           },
           "bgcolor": "#E5ECF6",
           "caxis": {
            "gridcolor": "white",
            "linecolor": "white",
            "ticks": ""
           }
          },
          "title": {
           "x": 0.05
          },
          "xaxis": {
           "automargin": true,
           "gridcolor": "white",
           "linecolor": "white",
           "ticks": "",
           "title": {
            "standoff": 15
           },
           "zerolinecolor": "white",
           "zerolinewidth": 2
          },
          "yaxis": {
           "automargin": true,
           "gridcolor": "white",
           "linecolor": "white",
           "ticks": "",
           "title": {
            "standoff": 15
           },
           "zerolinecolor": "white",
           "zerolinewidth": 2
          }
         }
        },
        "xaxis": {
         "anchor": "y",
         "domain": [
          0,
          1
         ],
         "range": [
          10,
          30
         ],
         "title": {
          "text": "Strike Rate (lower the better)"
         }
        },
        "yaxis": {
         "anchor": "x",
         "domain": [
          0,
          1
         ],
         "range": [
          6,
          10
         ],
         "title": {
          "text": "Economy (lower the better)"
         }
        }
       }
      },
      "text/html": [
       "<div>                            <div id=\"a55bedac-30c0-4fbd-8d26-5e6cb885b1fb\" class=\"plotly-graph-div\" style=\"height:525px; width:100%;\"></div>            <script type=\"text/javascript\">                require([\"plotly\"], function(Plotly) {                    window.PLOTLYENV=window.PLOTLYENV || {};                                    if (document.getElementById(\"a55bedac-30c0-4fbd-8d26-5e6cb885b1fb\")) {                    Plotly.newPlot(                        \"a55bedac-30c0-4fbd-8d26-5e6cb885b1fb\",                        [{\"hovertemplate\":\"<b>%{hovertext}</b><br><br>Type=Fast<br>Strike Rate (lower the better)=%{x}<br>Economy (lower the better)=%{y}<extra></extra>\",\"hovertext\":[\"A Nortje\",\"AS Joseph\",\"CJ Jordan\",\"JJ Bumrah\",\"K Rabada\",\"KR Sen\",\"LH Ferguson\",\"M Prasidh Krishna\",\"Mohammed Shami\",\"Mohsin Khan\",\"OF Smith\",\"PVD Chameera\",\"RP Meredith\",\"Shivam Mavi\",\"TS Mills\",\"Umran Malik\"],\"legendgroup\":\"Fast\",\"marker\":{\"color\":\"#636efa\",\"symbol\":\"star-triangle-up\"},\"mode\":\"markers\",\"name\":\"Fast\",\"orientation\":\"v\",\"showlegend\":true,\"x\":[14.89,25.71,38.5,21.33,12.52,18.88,23.83,21.0,18.3,14.14,15.0,29.33,21.0,26.4,17.0,13.45],\"xaxis\":\"x\",\"y\":[9.72,8.8,10.52,7.18,8.46,9.42,8.96,8.29,8.0,5.97,11.87,8.73,8.43,10.32,11.18,8.98],\"yaxis\":\"y\",\"type\":\"scatter\"},{\"hovertemplate\":\"<b>%{hovertext}</b><br><br>Type=Medium Fast<br>Strike Rate (lower the better)=%{x}<br>Economy (lower the better)=%{y}<extra></extra>\",\"hovertext\":[\"AD Russell\",\"AJ Tye\",\"Arshdeep Singh\",\"Avesh Khan\",\"B Kumar\",\"C Sakariya\",\"D Pretorius\",\"DJ Willey\",\"DR Sams\",\"HH Pandya\",\"JR Hazlewood\",\"M Jansen\",\"Mohammed Siraj\",\"Mukesh Choudhary\",\"PJ Cummins\",\"R Shepherd\",\"Simarjeet Singh\",\"SN Thakur\",\"TA Boult\",\"UT Yadav\",\"Yash Dayal\"],\"legendgroup\":\"Medium Fast\",\"marker\":{\"color\":\"#EF553B\",\"symbol\":\"circle\"},\"mode\":\"markers\",\"name\":\"Medium Fast\",\"orientation\":\"v\",\"showlegend\":true,\"x\":[9.94,33.0,30.0,15.89,26.08,22.0,21.0,66.0,19.38,22.88,13.95,27.43,34.0,17.06,17.0,18.0,27.0,19.33,23.25,18.0,17.45],\"xaxis\":\"x\",\"y\":[9.87,9.73,7.7,8.73,7.34,7.64,10.0,6.55,8.81,7.28,8.11,8.56,10.08,9.32,10.69,10.89,7.67,9.79,7.94,7.06,9.25],\"yaxis\":\"y\",\"type\":\"scatter\"},{\"hovertemplate\":\"<b>%{hovertext}</b><br><br>Type=Medium<br>Strike Rate (lower the better)=%{x}<br>Economy (lower the better)=%{y}<extra></extra>\",\"hovertext\":[\"Akash Deep\",\"Basil Thampi\",\"DJ Bravo\",\"Fazalhaq Farooqi\",\"HV Patel\",\"JD Unadkat\",\"JO Holder\",\"KA Pollard\",\"KK Ahmed\",\"MR Marsh\",\"Mustafizur Rahman\",\"OC McCoy\",\"PJ Sangwan\",\"R Dhawan\",\"Ramandeep Singh\",\"Sandeep Sharma\",\"T Natarajan\",\"TG Southee\",\"VG Arora\"],\"legendgroup\":\"Medium\",\"marker\":{\"color\":\"#00cc96\",\"symbol\":\"diamond-tall\"},\"mode\":\"markers\",\"name\":\"Medium\",\"orientation\":\"v\",\"showlegend\":true,\"x\":[22.6,19.2,12.88,36.0,16.89,20.0,17.79,21.0,14.69,18.0,24.0,14.18,18.0,19.0,6.0,60.0,14.33,15.0,35.67],\"xaxis\":\"x\",\"y\":[10.88,9.5,8.71,9.17,7.66,9.5,9.42,8.93,8.04,8.5,7.62,9.08,7.22,8.21,9.0,7.65,9.44,7.86,9.2],\"yaxis\":\"y\",\"type\":\"scatter\"},{\"hovertemplate\":\"<b>%{hovertext}</b><br><br>Type=Offbreak<br>Strike Rate (lower the better)=%{x}<br>Economy (lower the better)=%{y}<extra></extra>\",\"hovertext\":[\"AR Patel\",\"GJ Maxwell\",\"Harpreet Brar\",\"HR Shokeen\",\"J Suchith\",\"K Gowtham\",\"KH Pandya\",\"Lalit Yadav\",\"LS Livingstone\",\"MJ Santner\",\"MM Ali\",\"R Ashwin\",\"R Sai Kishore\",\"RA Jadeja\",\"Shahbaz Ahmed\",\"Washington Sundar\"],\"legendgroup\":\"Offbreak\",\"marker\":{\"color\":\"#ab63fa\",\"symbol\":\"square\"},\"mode\":\"markers\",\"name\":\"Offbreak\",\"orientation\":\"v\",\"showlegend\":true,\"x\":[43.0,24.0,24.0,45.0,15.43,14.4,22.8,27.0,23.0,28.5,17.88,33.5,16.0,39.6,52.5,28.0],\"xaxis\":\"x\",\"y\":[7.47,6.88,9.12,8.47,7.78,8.25,6.97,8.33,8.78,6.84,6.63,7.51,7.56,7.52,9.6,8.54],\"yaxis\":\"y\",\"type\":\"scatter\"},{\"hovertemplate\":\"<b>%{hovertext}</b><br><br>Type=Legbreak Googly<br>Strike Rate (lower the better)=%{x}<br>Economy (lower the better)=%{y}<extra></extra>\",\"hovertext\":[\"CV Varun\",\"K Kartikeya\",\"M Theekshana\",\"Ravi Bishnoi\",\"SP Narine\"],\"legendgroup\":\"Legbreak Googly\",\"marker\":{\"color\":\"#FFA15A\",\"symbol\":\"star\"},\"mode\":\"markers\",\"name\":\"Legbreak Googly\",\"orientation\":\"v\",\"showlegend\":true,\"x\":[39.17,15.6,17.5,24.92,37.33],\"xaxis\":\"x\",\"y\":[8.45,7.85,7.46,8.44,5.57],\"yaxis\":\"y\",\"type\":\"scatter\"},{\"hovertemplate\":\"<b>%{hovertext}</b><br><br>Type=Legbreak<br>Strike Rate (lower the better)=%{x}<br>Economy (lower the better)=%{y}<extra></extra>\",\"hovertext\":[\"Kuldeep Yadav\",\"M Ashwin\",\"PWH de Silva\",\"Rashid Khan\",\"RD Chahar\",\"YS Chahal\"],\"legendgroup\":\"Legbreak\",\"marker\":{\"color\":\"#19d3f3\",\"symbol\":\"diamond\"},\"mode\":\"markers\",\"name\":\"Legbreak\",\"orientation\":\"v\",\"showlegend\":true,\"x\":[14.19,19.33,13.15,20.16,20.0,15.11],\"xaxis\":\"x\",\"y\":[8.44,7.86,7.54,6.6,7.71,7.75],\"yaxis\":\"y\",\"type\":\"scatter\"}],                        {\"template\":{\"data\":{\"bar\":[{\"error_x\":{\"color\":\"#2a3f5f\"},\"error_y\":{\"color\":\"#2a3f5f\"},\"marker\":{\"line\":{\"color\":\"#E5ECF6\",\"width\":0.5},\"pattern\":{\"fillmode\":\"overlay\",\"size\":10,\"solidity\":0.2}},\"type\":\"bar\"}],\"barpolar\":[{\"marker\":{\"line\":{\"color\":\"#E5ECF6\",\"width\":0.5},\"pattern\":{\"fillmode\":\"overlay\",\"size\":10,\"solidity\":0.2}},\"type\":\"barpolar\"}],\"carpet\":[{\"aaxis\":{\"endlinecolor\":\"#2a3f5f\",\"gridcolor\":\"white\",\"linecolor\":\"white\",\"minorgridcolor\":\"white\",\"startlinecolor\":\"#2a3f5f\"},\"baxis\":{\"endlinecolor\":\"#2a3f5f\",\"gridcolor\":\"white\",\"linecolor\":\"white\",\"minorgridcolor\":\"white\",\"startlinecolor\":\"#2a3f5f\"},\"type\":\"carpet\"}],\"choropleth\":[{\"colorbar\":{\"outlinewidth\":0,\"ticks\":\"\"},\"type\":\"choropleth\"}],\"contour\":[{\"colorbar\":{\"outlinewidth\":0,\"ticks\":\"\"},\"colorscale\":[[0.0,\"#0d0887\"],[0.1111111111111111,\"#46039f\"],[0.2222222222222222,\"#7201a8\"],[0.3333333333333333,\"#9c179e\"],[0.4444444444444444,\"#bd3786\"],[0.5555555555555556,\"#d8576b\"],[0.6666666666666666,\"#ed7953\"],[0.7777777777777778,\"#fb9f3a\"],[0.8888888888888888,\"#fdca26\"],[1.0,\"#f0f921\"]],\"type\":\"contour\"}],\"contourcarpet\":[{\"colorbar\":{\"outlinewidth\":0,\"ticks\":\"\"},\"type\":\"contourcarpet\"}],\"heatmap\":[{\"colorbar\":{\"outlinewidth\":0,\"ticks\":\"\"},\"colorscale\":[[0.0,\"#0d0887\"],[0.1111111111111111,\"#46039f\"],[0.2222222222222222,\"#7201a8\"],[0.3333333333333333,\"#9c179e\"],[0.4444444444444444,\"#bd3786\"],[0.5555555555555556,\"#d8576b\"],[0.6666666666666666,\"#ed7953\"],[0.7777777777777778,\"#fb9f3a\"],[0.8888888888888888,\"#fdca26\"],[1.0,\"#f0f921\"]],\"type\":\"heatmap\"}],\"heatmapgl\":[{\"colorbar\":{\"outlinewidth\":0,\"ticks\":\"\"},\"colorscale\":[[0.0,\"#0d0887\"],[0.1111111111111111,\"#46039f\"],[0.2222222222222222,\"#7201a8\"],[0.3333333333333333,\"#9c179e\"],[0.4444444444444444,\"#bd3786\"],[0.5555555555555556,\"#d8576b\"],[0.6666666666666666,\"#ed7953\"],[0.7777777777777778,\"#fb9f3a\"],[0.8888888888888888,\"#fdca26\"],[1.0,\"#f0f921\"]],\"type\":\"heatmapgl\"}],\"histogram\":[{\"marker\":{\"pattern\":{\"fillmode\":\"overlay\",\"size\":10,\"solidity\":0.2}},\"type\":\"histogram\"}],\"histogram2d\":[{\"colorbar\":{\"outlinewidth\":0,\"ticks\":\"\"},\"colorscale\":[[0.0,\"#0d0887\"],[0.1111111111111111,\"#46039f\"],[0.2222222222222222,\"#7201a8\"],[0.3333333333333333,\"#9c179e\"],[0.4444444444444444,\"#bd3786\"],[0.5555555555555556,\"#d8576b\"],[0.6666666666666666,\"#ed7953\"],[0.7777777777777778,\"#fb9f3a\"],[0.8888888888888888,\"#fdca26\"],[1.0,\"#f0f921\"]],\"type\":\"histogram2d\"}],\"histogram2dcontour\":[{\"colorbar\":{\"outlinewidth\":0,\"ticks\":\"\"},\"colorscale\":[[0.0,\"#0d0887\"],[0.1111111111111111,\"#46039f\"],[0.2222222222222222,\"#7201a8\"],[0.3333333333333333,\"#9c179e\"],[0.4444444444444444,\"#bd3786\"],[0.5555555555555556,\"#d8576b\"],[0.6666666666666666,\"#ed7953\"],[0.7777777777777778,\"#fb9f3a\"],[0.8888888888888888,\"#fdca26\"],[1.0,\"#f0f921\"]],\"type\":\"histogram2dcontour\"}],\"mesh3d\":[{\"colorbar\":{\"outlinewidth\":0,\"ticks\":\"\"},\"type\":\"mesh3d\"}],\"parcoords\":[{\"line\":{\"colorbar\":{\"outlinewidth\":0,\"ticks\":\"\"}},\"type\":\"parcoords\"}],\"pie\":[{\"automargin\":true,\"type\":\"pie\"}],\"scatter\":[{\"marker\":{\"colorbar\":{\"outlinewidth\":0,\"ticks\":\"\"}},\"type\":\"scatter\"}],\"scatter3d\":[{\"line\":{\"colorbar\":{\"outlinewidth\":0,\"ticks\":\"\"}},\"marker\":{\"colorbar\":{\"outlinewidth\":0,\"ticks\":\"\"}},\"type\":\"scatter3d\"}],\"scattercarpet\":[{\"marker\":{\"colorbar\":{\"outlinewidth\":0,\"ticks\":\"\"}},\"type\":\"scattercarpet\"}],\"scattergeo\":[{\"marker\":{\"colorbar\":{\"outlinewidth\":0,\"ticks\":\"\"}},\"type\":\"scattergeo\"}],\"scattergl\":[{\"marker\":{\"colorbar\":{\"outlinewidth\":0,\"ticks\":\"\"}},\"type\":\"scattergl\"}],\"scattermapbox\":[{\"marker\":{\"colorbar\":{\"outlinewidth\":0,\"ticks\":\"\"}},\"type\":\"scattermapbox\"}],\"scatterpolar\":[{\"marker\":{\"colorbar\":{\"outlinewidth\":0,\"ticks\":\"\"}},\"type\":\"scatterpolar\"}],\"scatterpolargl\":[{\"marker\":{\"colorbar\":{\"outlinewidth\":0,\"ticks\":\"\"}},\"type\":\"scatterpolargl\"}],\"scatterternary\":[{\"marker\":{\"colorbar\":{\"outlinewidth\":0,\"ticks\":\"\"}},\"type\":\"scatterternary\"}],\"surface\":[{\"colorbar\":{\"outlinewidth\":0,\"ticks\":\"\"},\"colorscale\":[[0.0,\"#0d0887\"],[0.1111111111111111,\"#46039f\"],[0.2222222222222222,\"#7201a8\"],[0.3333333333333333,\"#9c179e\"],[0.4444444444444444,\"#bd3786\"],[0.5555555555555556,\"#d8576b\"],[0.6666666666666666,\"#ed7953\"],[0.7777777777777778,\"#fb9f3a\"],[0.8888888888888888,\"#fdca26\"],[1.0,\"#f0f921\"]],\"type\":\"surface\"}],\"table\":[{\"cells\":{\"fill\":{\"color\":\"#EBF0F8\"},\"line\":{\"color\":\"white\"}},\"header\":{\"fill\":{\"color\":\"#C8D4E3\"},\"line\":{\"color\":\"white\"}},\"type\":\"table\"}]},\"layout\":{\"annotationdefaults\":{\"arrowcolor\":\"#2a3f5f\",\"arrowhead\":0,\"arrowwidth\":1},\"autotypenumbers\":\"strict\",\"coloraxis\":{\"colorbar\":{\"outlinewidth\":0,\"ticks\":\"\"}},\"colorscale\":{\"diverging\":[[0,\"#8e0152\"],[0.1,\"#c51b7d\"],[0.2,\"#de77ae\"],[0.3,\"#f1b6da\"],[0.4,\"#fde0ef\"],[0.5,\"#f7f7f7\"],[0.6,\"#e6f5d0\"],[0.7,\"#b8e186\"],[0.8,\"#7fbc41\"],[0.9,\"#4d9221\"],[1,\"#276419\"]],\"sequential\":[[0.0,\"#0d0887\"],[0.1111111111111111,\"#46039f\"],[0.2222222222222222,\"#7201a8\"],[0.3333333333333333,\"#9c179e\"],[0.4444444444444444,\"#bd3786\"],[0.5555555555555556,\"#d8576b\"],[0.6666666666666666,\"#ed7953\"],[0.7777777777777778,\"#fb9f3a\"],[0.8888888888888888,\"#fdca26\"],[1.0,\"#f0f921\"]],\"sequentialminus\":[[0.0,\"#0d0887\"],[0.1111111111111111,\"#46039f\"],[0.2222222222222222,\"#7201a8\"],[0.3333333333333333,\"#9c179e\"],[0.4444444444444444,\"#bd3786\"],[0.5555555555555556,\"#d8576b\"],[0.6666666666666666,\"#ed7953\"],[0.7777777777777778,\"#fb9f3a\"],[0.8888888888888888,\"#fdca26\"],[1.0,\"#f0f921\"]]},\"colorway\":[\"#636efa\",\"#EF553B\",\"#00cc96\",\"#ab63fa\",\"#FFA15A\",\"#19d3f3\",\"#FF6692\",\"#B6E880\",\"#FF97FF\",\"#FECB52\"],\"font\":{\"color\":\"#2a3f5f\"},\"geo\":{\"bgcolor\":\"white\",\"lakecolor\":\"white\",\"landcolor\":\"#E5ECF6\",\"showlakes\":true,\"showland\":true,\"subunitcolor\":\"white\"},\"hoverlabel\":{\"align\":\"left\"},\"hovermode\":\"closest\",\"mapbox\":{\"style\":\"light\"},\"paper_bgcolor\":\"white\",\"plot_bgcolor\":\"#E5ECF6\",\"polar\":{\"angularaxis\":{\"gridcolor\":\"white\",\"linecolor\":\"white\",\"ticks\":\"\"},\"bgcolor\":\"#E5ECF6\",\"radialaxis\":{\"gridcolor\":\"white\",\"linecolor\":\"white\",\"ticks\":\"\"}},\"scene\":{\"xaxis\":{\"backgroundcolor\":\"#E5ECF6\",\"gridcolor\":\"white\",\"gridwidth\":2,\"linecolor\":\"white\",\"showbackground\":true,\"ticks\":\"\",\"zerolinecolor\":\"white\"},\"yaxis\":{\"backgroundcolor\":\"#E5ECF6\",\"gridcolor\":\"white\",\"gridwidth\":2,\"linecolor\":\"white\",\"showbackground\":true,\"ticks\":\"\",\"zerolinecolor\":\"white\"},\"zaxis\":{\"backgroundcolor\":\"#E5ECF6\",\"gridcolor\":\"white\",\"gridwidth\":2,\"linecolor\":\"white\",\"showbackground\":true,\"ticks\":\"\",\"zerolinecolor\":\"white\"}},\"shapedefaults\":{\"line\":{\"color\":\"#2a3f5f\"}},\"ternary\":{\"aaxis\":{\"gridcolor\":\"white\",\"linecolor\":\"white\",\"ticks\":\"\"},\"baxis\":{\"gridcolor\":\"white\",\"linecolor\":\"white\",\"ticks\":\"\"},\"bgcolor\":\"#E5ECF6\",\"caxis\":{\"gridcolor\":\"white\",\"linecolor\":\"white\",\"ticks\":\"\"}},\"title\":{\"x\":0.05},\"xaxis\":{\"automargin\":true,\"gridcolor\":\"white\",\"linecolor\":\"white\",\"ticks\":\"\",\"title\":{\"standoff\":15},\"zerolinecolor\":\"white\",\"zerolinewidth\":2},\"yaxis\":{\"automargin\":true,\"gridcolor\":\"white\",\"linecolor\":\"white\",\"ticks\":\"\",\"title\":{\"standoff\":15},\"zerolinecolor\":\"white\",\"zerolinewidth\":2}}},\"xaxis\":{\"anchor\":\"y\",\"domain\":[0.0,1.0],\"title\":{\"text\":\"Strike Rate (lower the better)\"},\"range\":[10,30]},\"yaxis\":{\"anchor\":\"x\",\"domain\":[0.0,1.0],\"title\":{\"text\":\"Economy (lower the better)\"},\"range\":[6,10]},\"legend\":{\"title\":{\"text\":\"Type\"},\"tracegroupgap\":0},\"margin\":{\"t\":60},\"shapes\":[{\"line\":{\"color\":\"black\"},\"opacity\":0.4,\"type\":\"line\",\"x0\":20,\"x1\":20,\"xref\":\"x\",\"y0\":0,\"y1\":1,\"yref\":\"y domain\"},{\"line\":{\"color\":\"black\"},\"opacity\":0.4,\"type\":\"line\",\"x0\":0,\"x1\":1,\"xref\":\"x domain\",\"y0\":8,\"y1\":8,\"yref\":\"y\"},{\"fillcolor\":\"#86fa86\",\"layer\":\"below\",\"line\":{\"width\":0},\"opacity\":0.1,\"x0\":10,\"x1\":20,\"y0\":6,\"y1\":8},{\"fillcolor\":\"#ffd966\",\"layer\":\"below\",\"line\":{\"width\":0},\"opacity\":0.1,\"x0\":10,\"x1\":20,\"y0\":8,\"y1\":10},{\"fillcolor\":\"#6fa8dc\",\"layer\":\"below\",\"line\":{\"width\":0},\"opacity\":0.1,\"x0\":20,\"x1\":30,\"y0\":6,\"y1\":8},{\"fillcolor\":\"#fa7066\",\"layer\":\"below\",\"line\":{\"width\":0},\"opacity\":0.1,\"x0\":20,\"x1\":30,\"y0\":8,\"y1\":10}]},                        {\"responsive\": true}                    ).then(function(){\n",
       "                            \n",
       "var gd = document.getElementById('a55bedac-30c0-4fbd-8d26-5e6cb885b1fb');\n",
       "var x = new MutationObserver(function (mutations, observer) {{\n",
       "        var display = window.getComputedStyle(gd).display;\n",
       "        if (!display || display === 'none') {{\n",
       "            console.log([gd, 'removed!']);\n",
       "            Plotly.purge(gd);\n",
       "            observer.disconnect();\n",
       "        }}\n",
       "}});\n",
       "\n",
       "// Listen for the removal of the full notebook cells\n",
       "var notebookContainer = gd.closest('#notebook-container');\n",
       "if (notebookContainer) {{\n",
       "    x.observe(notebookContainer, {childList: true});\n",
       "}}\n",
       "\n",
       "// Listen for the clearing of the current output cell\n",
       "var outputEl = gd.closest('.output');\n",
       "if (outputEl) {{\n",
       "    x.observe(outputEl, {childList: true});\n",
       "}}\n",
       "\n",
       "                        })                };                });            </script>        </div>"
      ]
     },
     "metadata": {},
     "output_type": "display_data"
    }
   ],
   "source": [
    "fg = px.scatter(data_frame=updated_df,x='SR',y='Econ',\n",
    "                labels={'SR':'Strike Rate (lower the better)','Econ':'Economy (lower the better)'},\n",
    "                hover_name='Player',color='Type',symbol='Type',\n",
    "                symbol_sequence=['star-triangle-up', 'circle', 'diamond-tall', 'square','star','diamond'])\n",
    "fg.add_vline(x=20, line_color=\"black\",opacity=0.4)\n",
    "fg.add_hline(y=8,line_color=\"black\",opacity=0.4)\n",
    "# fg.add_shape(type='rect',x0=10.01,x1=19.9,y0=8.01, y1=9.99, line_width=0, fillcolor=\"white\", opacity=0.6,name='Servicable bowlers')\n",
    "fg.add_shape(y0= 6,y1=8,x0=10,x1=20, line_width=0, fillcolor=\"#86fa86\",layer='below',opacity=0.1)\n",
    "fg.add_shape(y0= 8,y1=10,x0=10,x1=20, line_width=0, fillcolor=\"#ffd966\",layer='below', opacity=0.1)\n",
    "fg.add_shape(y0= 6,y1=8,x0=20,x1=30, line_width=0, fillcolor=\"#6fa8dc\",layer='below', opacity=0.1)\n",
    "fg.add_shape(y0= 8,y1=10,x0=20,x1=30, line_width=0, fillcolor=\"#fa7066\",layer='below', opacity=0.1)\n",
    "fg.update_xaxes(range=[10,30])\n",
    "fg.update_yaxes(range=[6,10])"
   ]
  },
  {
   "cell_type": "markdown",
   "id": "d082c01b",
   "metadata": {},
   "source": [
    "\n",
    "- The leg-break bowlers seem to be dominating the `Jacks` quadrant. Only Kuldeep Yadav is missing from this. Other notable inclusions are Harshal Patel, Mohammad Shami, Umesh Yadav, Tim Southee, who was in and out of the team in place of Cummins, before KKR finally deciding to keep him. CSK spin duo Maheesh Theekshana and Moeen Ali too find their places here, owing to the management clearly delineating their roles I guess.\n",
    "\n",
    "\n",
    "- Off break bowlers seem to be plenty in the `Defenders` cabinet, with Sunil Narine being the minister. Bhuvaneshwar Kumar, Arshdeep Singh and Simarjeet Singh are part of this quadrant as well, I guess due to them relying mainly on their line and length.\n",
    "\n",
    "\n",
    "- In the `Attackers` quadrant, we can see a lot of medium and medium fast bowlers. Mukesh Choudhary, Umran Malik, Daniel Sams, Kagiso Rabada are part of this quadrant. Daniel Sams has done a lot of home-work to join this group after a pretty poor showing in the earlier part of the season."
   ]
  },
  {
   "cell_type": "markdown",
   "id": "9dc490e5",
   "metadata": {},
   "source": [
    "--------"
   ]
  },
  {
   "cell_type": "markdown",
   "id": "86df502f",
   "metadata": {},
   "source": [
    "**Analysis based on teams**"
   ]
  },
  {
   "cell_type": "code",
   "execution_count": 43,
   "id": "4f559a81",
   "metadata": {},
   "outputs": [],
   "source": [
    "teams_chart = round(updated_df.groupby('Team').mean(),3).T.drop(index=['O','W','Balls','Extras','R','Dots'])"
   ]
  },
  {
   "cell_type": "code",
   "execution_count": 44,
   "id": "0be75c2e",
   "metadata": {},
   "outputs": [
    {
     "data": {
      "text/html": [
       "<style type=\"text/css\">\n",
       "#T_95f84_row0_col5, #T_95f84_row1_col2, #T_95f84_row2_col2, #T_95f84_row3_col2, #T_95f84_row4_col2, #T_95f84_row5_col5, #T_95f84_row6_col0, #T_95f84_row7_col7, #T_95f84_row8_col6, #T_95f84_row9_col4, #T_95f84_row10_col0, #T_95f84_row11_col1, #T_95f84_row12_col2 {\n",
       "  background-color: #86fa86;\n",
       "}\n",
       "#T_95f84_row0_col8, #T_95f84_row1_col9, #T_95f84_row2_col7, #T_95f84_row3_col7, #T_95f84_row4_col7, #T_95f84_row5_col8, #T_95f84_row6_col7, #T_95f84_row7_col8, #T_95f84_row8_col8, #T_95f84_row9_col7, #T_95f84_row10_col5, #T_95f84_row11_col4, #T_95f84_row12_col5 {\n",
       "  background-color: #fa7066;\n",
       "}\n",
       "</style>\n",
       "<table id=\"T_95f84\">\n",
       "  <thead>\n",
       "    <tr>\n",
       "      <th class=\"index_name level0\" >Team</th>\n",
       "      <th id=\"T_95f84_level0_col0\" class=\"col_heading level0 col0\" >CSK</th>\n",
       "      <th id=\"T_95f84_level0_col1\" class=\"col_heading level0 col1\" >DC</th>\n",
       "      <th id=\"T_95f84_level0_col2\" class=\"col_heading level0 col2\" >GT</th>\n",
       "      <th id=\"T_95f84_level0_col3\" class=\"col_heading level0 col3\" >KKR</th>\n",
       "      <th id=\"T_95f84_level0_col4\" class=\"col_heading level0 col4\" >LSG</th>\n",
       "      <th id=\"T_95f84_level0_col5\" class=\"col_heading level0 col5\" >MI</th>\n",
       "      <th id=\"T_95f84_level0_col6\" class=\"col_heading level0 col6\" >PBKS</th>\n",
       "      <th id=\"T_95f84_level0_col7\" class=\"col_heading level0 col7\" >RCB</th>\n",
       "      <th id=\"T_95f84_level0_col8\" class=\"col_heading level0 col8\" >RR</th>\n",
       "      <th id=\"T_95f84_level0_col9\" class=\"col_heading level0 col9\" >SRH</th>\n",
       "    </tr>\n",
       "  </thead>\n",
       "  <tbody>\n",
       "    <tr>\n",
       "      <th id=\"T_95f84_level0_row0\" class=\"row_heading level0 row0\" >I</th>\n",
       "      <td id=\"T_95f84_row0_col0\" class=\"data row0 col0\" >8.222000</td>\n",
       "      <td id=\"T_95f84_row0_col1\" class=\"data row0 col1\" >8.889000</td>\n",
       "      <td id=\"T_95f84_row0_col2\" class=\"data row0 col2\" >10.125000</td>\n",
       "      <td id=\"T_95f84_row0_col3\" class=\"data row0 col3\" >10.000000</td>\n",
       "      <td id=\"T_95f84_row0_col4\" class=\"data row0 col4\" >9.875000</td>\n",
       "      <td id=\"T_95f84_row0_col5\" class=\"data row0 col5\" >6.727000</td>\n",
       "      <td id=\"T_95f84_row0_col6\" class=\"data row0 col6\" >8.778000</td>\n",
       "      <td id=\"T_95f84_row0_col7\" class=\"data row0 col7\" >11.375000</td>\n",
       "      <td id=\"T_95f84_row0_col8\" class=\"data row0 col8\" >13.500000</td>\n",
       "      <td id=\"T_95f84_row0_col9\" class=\"data row0 col9\" >8.250000</td>\n",
       "    </tr>\n",
       "    <tr>\n",
       "      <th id=\"T_95f84_level0_row1\" class=\"row_heading level0 row1\" >Econ</th>\n",
       "      <td id=\"T_95f84_row1_col0\" class=\"data row1 col0\" >8.297000</td>\n",
       "      <td id=\"T_95f84_row1_col1\" class=\"data row1 col1\" >8.394000</td>\n",
       "      <td id=\"T_95f84_row1_col2\" class=\"data row1 col2\" >7.959000</td>\n",
       "      <td id=\"T_95f84_row1_col3\" class=\"data row1 col3\" >8.546000</td>\n",
       "      <td id=\"T_95f84_row1_col4\" class=\"data row1 col4\" >8.280000</td>\n",
       "      <td id=\"T_95f84_row1_col5\" class=\"data row1 col5\" >8.792000</td>\n",
       "      <td id=\"T_95f84_row1_col6\" class=\"data row1 col6\" >8.744000</td>\n",
       "      <td id=\"T_95f84_row1_col7\" class=\"data row1 col7\" >8.412000</td>\n",
       "      <td id=\"T_95f84_row1_col8\" class=\"data row1 col8\" >8.332000</td>\n",
       "      <td id=\"T_95f84_row1_col9\" class=\"data row1 col9\" >8.838000</td>\n",
       "    </tr>\n",
       "    <tr>\n",
       "      <th id=\"T_95f84_level0_row2\" class=\"row_heading level0 row2\" >Avg</th>\n",
       "      <td id=\"T_95f84_row2_col0\" class=\"data row2 col0\" >33.977000</td>\n",
       "      <td id=\"T_95f84_row2_col1\" class=\"data row2 col1\" >30.031000</td>\n",
       "      <td id=\"T_95f84_row2_col2\" class=\"data row2 col2\" >27.044000</td>\n",
       "      <td id=\"T_95f84_row2_col3\" class=\"data row2 col3\" >31.816000</td>\n",
       "      <td id=\"T_95f84_row2_col4\" class=\"data row2 col4\" >30.332000</td>\n",
       "      <td id=\"T_95f84_row2_col5\" class=\"data row2 col5\" >29.701000</td>\n",
       "      <td id=\"T_95f84_row2_col6\" class=\"data row2 col6\" >37.652000</td>\n",
       "      <td id=\"T_95f84_row2_col7\" class=\"data row2 col7\" >42.322000</td>\n",
       "      <td id=\"T_95f84_row2_col8\" class=\"data row2 col8\" >28.710000</td>\n",
       "      <td id=\"T_95f84_row2_col9\" class=\"data row2 col9\" >32.658000</td>\n",
       "    </tr>\n",
       "    <tr>\n",
       "      <th id=\"T_95f84_level0_row3\" class=\"row_heading level0 row3\" >SR</th>\n",
       "      <td id=\"T_95f84_row3_col0\" class=\"data row3 col0\" >24.436000</td>\n",
       "      <td id=\"T_95f84_row3_col1\" class=\"data row3 col1\" >21.900000</td>\n",
       "      <td id=\"T_95f84_row3_col2\" class=\"data row3 col2\" >20.291000</td>\n",
       "      <td id=\"T_95f84_row3_col3\" class=\"data row3 col3\" >23.263000</td>\n",
       "      <td id=\"T_95f84_row3_col4\" class=\"data row3 col4\" >21.534000</td>\n",
       "      <td id=\"T_95f84_row3_col5\" class=\"data row3 col5\" >20.440000</td>\n",
       "      <td id=\"T_95f84_row3_col6\" class=\"data row3 col6\" >26.577000</td>\n",
       "      <td id=\"T_95f84_row3_col7\" class=\"data row3 col7\" >30.386000</td>\n",
       "      <td id=\"T_95f84_row3_col8\" class=\"data row3 col8\" >20.987000</td>\n",
       "      <td id=\"T_95f84_row3_col9\" class=\"data row3 col9\" >22.340000</td>\n",
       "    </tr>\n",
       "    <tr>\n",
       "      <th id=\"T_95f84_level0_row4\" class=\"row_heading level0 row4\" >ESRA</th>\n",
       "      <td id=\"T_95f84_row4_col0\" class=\"data row4 col0\" >15.796000</td>\n",
       "      <td id=\"T_95f84_row4_col1\" class=\"data row4 col1\" >15.504000</td>\n",
       "      <td id=\"T_95f84_row4_col2\" class=\"data row4 col2\" >14.809000</td>\n",
       "      <td id=\"T_95f84_row4_col3\" class=\"data row4 col3\" >15.806000</td>\n",
       "      <td id=\"T_95f84_row4_col4\" class=\"data row4 col4\" >15.370000</td>\n",
       "      <td id=\"T_95f84_row4_col5\" class=\"data row4 col5\" >15.726000</td>\n",
       "      <td id=\"T_95f84_row4_col6\" class=\"data row4 col6\" >16.568000</td>\n",
       "      <td id=\"T_95f84_row4_col7\" class=\"data row4 col7\" >16.600000</td>\n",
       "      <td id=\"T_95f84_row4_col8\" class=\"data row4 col8\" >15.318000</td>\n",
       "      <td id=\"T_95f84_row4_col9\" class=\"data row4 col9\" >16.149000</td>\n",
       "    </tr>\n",
       "    <tr>\n",
       "      <th id=\"T_95f84_level0_row5\" class=\"row_heading level0 row5\" >4s</th>\n",
       "      <td id=\"T_95f84_row5_col0\" class=\"data row5 col0\" >18.111000</td>\n",
       "      <td id=\"T_95f84_row5_col1\" class=\"data row5 col1\" >22.222000</td>\n",
       "      <td id=\"T_95f84_row5_col2\" class=\"data row5 col2\" >25.125000</td>\n",
       "      <td id=\"T_95f84_row5_col3\" class=\"data row5 col3\" >21.429000</td>\n",
       "      <td id=\"T_95f84_row5_col4\" class=\"data row5 col4\" >28.000000</td>\n",
       "      <td id=\"T_95f84_row5_col5\" class=\"data row5 col5\" >16.091000</td>\n",
       "      <td id=\"T_95f84_row5_col6\" class=\"data row5 col6\" >20.667000</td>\n",
       "      <td id=\"T_95f84_row5_col7\" class=\"data row5 col7\" >22.125000</td>\n",
       "      <td id=\"T_95f84_row5_col8\" class=\"data row5 col8\" >36.167000</td>\n",
       "      <td id=\"T_95f84_row5_col9\" class=\"data row5 col9\" >22.375000</td>\n",
       "    </tr>\n",
       "    <tr>\n",
       "      <th id=\"T_95f84_level0_row6\" class=\"row_heading level0 row6\" >6s</th>\n",
       "      <td id=\"T_95f84_row6_col0\" class=\"data row6 col0\" >8.889000</td>\n",
       "      <td id=\"T_95f84_row6_col1\" class=\"data row6 col1\" >11.222000</td>\n",
       "      <td id=\"T_95f84_row6_col2\" class=\"data row6 col2\" >11.125000</td>\n",
       "      <td id=\"T_95f84_row6_col3\" class=\"data row6 col3\" >13.429000</td>\n",
       "      <td id=\"T_95f84_row6_col4\" class=\"data row6 col4\" >10.750000</td>\n",
       "      <td id=\"T_95f84_row6_col5\" class=\"data row6 col5\" >9.545000</td>\n",
       "      <td id=\"T_95f84_row6_col6\" class=\"data row6 col6\" >9.778000</td>\n",
       "      <td id=\"T_95f84_row6_col7\" class=\"data row6 col7\" >18.000000</td>\n",
       "      <td id=\"T_95f84_row6_col8\" class=\"data row6 col8\" >16.667000</td>\n",
       "      <td id=\"T_95f84_row6_col9\" class=\"data row6 col9\" >11.750000</td>\n",
       "    </tr>\n",
       "    <tr>\n",
       "      <th id=\"T_95f84_level0_row7\" class=\"row_heading level0 row7\" >O/I</th>\n",
       "      <td id=\"T_95f84_row7_col0\" class=\"data row7 col0\" >3.248000</td>\n",
       "      <td id=\"T_95f84_row7_col1\" class=\"data row7 col1\" >3.423000</td>\n",
       "      <td id=\"T_95f84_row7_col2\" class=\"data row7 col2\" >3.443000</td>\n",
       "      <td id=\"T_95f84_row7_col3\" class=\"data row7 col3\" >3.596000</td>\n",
       "      <td id=\"T_95f84_row7_col4\" class=\"data row7 col4\" >3.514000</td>\n",
       "      <td id=\"T_95f84_row7_col5\" class=\"data row7 col5\" >3.266000</td>\n",
       "      <td id=\"T_95f84_row7_col6\" class=\"data row7 col6\" >3.235000</td>\n",
       "      <td id=\"T_95f84_row7_col7\" class=\"data row7 col7\" >3.215000</td>\n",
       "      <td id=\"T_95f84_row7_col8\" class=\"data row7 col8\" >3.826000</td>\n",
       "      <td id=\"T_95f84_row7_col9\" class=\"data row7 col9\" >3.656000</td>\n",
       "    </tr>\n",
       "    <tr>\n",
       "      <th id=\"T_95f84_level0_row8\" class=\"row_heading level0 row8\" >W/I</th>\n",
       "      <td id=\"T_95f84_row8_col0\" class=\"data row8 col0\" >0.922000</td>\n",
       "      <td id=\"T_95f84_row8_col1\" class=\"data row8 col1\" >1.070000</td>\n",
       "      <td id=\"T_95f84_row8_col2\" class=\"data row8 col2\" >1.045000</td>\n",
       "      <td id=\"T_95f84_row8_col3\" class=\"data row8 col3\" >1.088000</td>\n",
       "      <td id=\"T_95f84_row8_col4\" class=\"data row8 col4\" >1.067000</td>\n",
       "      <td id=\"T_95f84_row8_col5\" class=\"data row8 col5\" >1.100000</td>\n",
       "      <td id=\"T_95f84_row8_col6\" class=\"data row8 col6\" >0.873000</td>\n",
       "      <td id=\"T_95f84_row8_col7\" class=\"data row8 col7\" >0.912000</td>\n",
       "      <td id=\"T_95f84_row8_col8\" class=\"data row8 col8\" >1.188000</td>\n",
       "      <td id=\"T_95f84_row8_col9\" class=\"data row8 col9\" >1.094000</td>\n",
       "    </tr>\n",
       "    <tr>\n",
       "      <th id=\"T_95f84_level0_row9\" class=\"row_heading level0 row9\" >6/4_ratio</th>\n",
       "      <td id=\"T_95f84_row9_col0\" class=\"data row9 col0\" >0.620000</td>\n",
       "      <td id=\"T_95f84_row9_col1\" class=\"data row9 col1\" >0.514000</td>\n",
       "      <td id=\"T_95f84_row9_col2\" class=\"data row9 col2\" >0.468000</td>\n",
       "      <td id=\"T_95f84_row9_col3\" class=\"data row9 col3\" >0.696000</td>\n",
       "      <td id=\"T_95f84_row9_col4\" class=\"data row9 col4\" >0.454000</td>\n",
       "      <td id=\"T_95f84_row9_col5\" class=\"data row9 col5\" >0.683000</td>\n",
       "      <td id=\"T_95f84_row9_col6\" class=\"data row9 col6\" >0.618000</td>\n",
       "      <td id=\"T_95f84_row9_col7\" class=\"data row9 col7\" >0.906000</td>\n",
       "      <td id=\"T_95f84_row9_col8\" class=\"data row9 col8\" >0.547000</td>\n",
       "      <td id=\"T_95f84_row9_col9\" class=\"data row9 col9\" >0.670000</td>\n",
       "    </tr>\n",
       "    <tr>\n",
       "      <th id=\"T_95f84_level0_row10\" class=\"row_heading level0 row10\" >Bound%</th>\n",
       "      <td id=\"T_95f84_row10_col0\" class=\"data row10 col0\" >16.682000</td>\n",
       "      <td id=\"T_95f84_row10_col1\" class=\"data row10 col1\" >17.999000</td>\n",
       "      <td id=\"T_95f84_row10_col2\" class=\"data row10 col2\" >16.938000</td>\n",
       "      <td id=\"T_95f84_row10_col3\" class=\"data row10 col3\" >18.246000</td>\n",
       "      <td id=\"T_95f84_row10_col4\" class=\"data row10 col4\" >18.822000</td>\n",
       "      <td id=\"T_95f84_row10_col5\" class=\"data row10 col5\" >19.362000</td>\n",
       "      <td id=\"T_95f84_row10_col6\" class=\"data row10 col6\" >19.201000</td>\n",
       "      <td id=\"T_95f84_row10_col7\" class=\"data row10 col7\" >17.769000</td>\n",
       "      <td id=\"T_95f84_row10_col8\" class=\"data row10 col8\" >17.558000</td>\n",
       "      <td id=\"T_95f84_row10_col9\" class=\"data row10 col9\" >19.322000</td>\n",
       "    </tr>\n",
       "    <tr>\n",
       "      <th id=\"T_95f84_level0_row11\" class=\"row_heading level0 row11\" >Dot %</th>\n",
       "      <td id=\"T_95f84_row11_col0\" class=\"data row11 col0\" >35.492000</td>\n",
       "      <td id=\"T_95f84_row11_col1\" class=\"data row11 col1\" >35.069000</td>\n",
       "      <td id=\"T_95f84_row11_col2\" class=\"data row11 col2\" >37.356000</td>\n",
       "      <td id=\"T_95f84_row11_col3\" class=\"data row11 col3\" >37.374000</td>\n",
       "      <td id=\"T_95f84_row11_col4\" class=\"data row11 col4\" >38.448000</td>\n",
       "      <td id=\"T_95f84_row11_col5\" class=\"data row11 col5\" >36.158000</td>\n",
       "      <td id=\"T_95f84_row11_col6\" class=\"data row11 col6\" >36.449000</td>\n",
       "      <td id=\"T_95f84_row11_col7\" class=\"data row11 col7\" >37.732000</td>\n",
       "      <td id=\"T_95f84_row11_col8\" class=\"data row11 col8\" >37.043000</td>\n",
       "      <td id=\"T_95f84_row11_col9\" class=\"data row11 col9\" >38.149000</td>\n",
       "    </tr>\n",
       "    <tr>\n",
       "      <th id=\"T_95f84_level0_row12\" class=\"row_heading level0 row12\" >Bound/Dots_%</th>\n",
       "      <td id=\"T_95f84_row12_col0\" class=\"data row12 col0\" >48.596000</td>\n",
       "      <td id=\"T_95f84_row12_col1\" class=\"data row12 col1\" >51.500000</td>\n",
       "      <td id=\"T_95f84_row12_col2\" class=\"data row12 col2\" >45.116000</td>\n",
       "      <td id=\"T_95f84_row12_col3\" class=\"data row12 col3\" >51.644000</td>\n",
       "      <td id=\"T_95f84_row12_col4\" class=\"data row12 col4\" >51.168000</td>\n",
       "      <td id=\"T_95f84_row12_col5\" class=\"data row12 col5\" >56.775000</td>\n",
       "      <td id=\"T_95f84_row12_col6\" class=\"data row12 col6\" >52.974000</td>\n",
       "      <td id=\"T_95f84_row12_col7\" class=\"data row12 col7\" >48.666000</td>\n",
       "      <td id=\"T_95f84_row12_col8\" class=\"data row12 col8\" >47.615000</td>\n",
       "      <td id=\"T_95f84_row12_col9\" class=\"data row12 col9\" >51.730000</td>\n",
       "    </tr>\n",
       "  </tbody>\n",
       "</table>\n"
      ],
      "text/plain": [
       "<pandas.io.formats.style.Styler at 0x1b6bbd10130>"
      ]
     },
     "execution_count": 44,
     "metadata": {},
     "output_type": "execute_result"
    }
   ],
   "source": [
    "(teams_chart.style.highlight_max(axis=1, \n",
    "                                props='background-color:#fa7066;').highlight_min(axis=1, \n",
    "                                props='background-color:#86fa86;'))"
   ]
  },
  {
   "cell_type": "markdown",
   "id": "cd562f2e",
   "metadata": {},
   "source": [
    "Inferences from the above table:\n",
    "\n",
    "- Bowlers from Mumbai Indians have the lowest average innings played, meaning there was a chopping and changing to set up their bowling attack, while Rajasthan Royals' bowlers have the highest average innings player, probably due to them sticking to the quartet of Boult, Prasidh, Ashwin and Chahal playing all the matches.\n",
    "\n",
    "\n",
    "- Gujarat Titans have the lowest `Econ`, `Avg`, `SR`, `ESRA` meaning they had the best bowling attack of all the teams in the tournament. RR, who are the runners up, have the second lowest of all the measures.\n",
    "\n",
    "\n",
    "- RCB have the worst `Avg`,`SR`, meaning they struggled with taking wickets at regular intervals. They also concede the most sixes in a match, on an average.\n",
    "\n",
    "\n",
    "- SRH have a very high economy rate, understandably so due to having the likes of Marco Jansen and Umran Malik, who went for a lot of runs."
   ]
  },
  {
   "cell_type": "code",
   "execution_count": 45,
   "id": "2ef89e02",
   "metadata": {},
   "outputs": [
    {
     "data": {
      "application/vnd.plotly.v1+json": {
       "config": {
        "plotlyServerURL": "https://plot.ly"
       },
       "data": [
        {
         "hovertemplate": "<b>%{hovertext}</b><br><br>Team=CSK<br>Strike Rate (lower the better)=%{x}<br>Economy (lower the better)=%{y}<br>ESRA=%{marker.size}<extra></extra>",
         "hovertext": [
          "CSK"
         ],
         "legendgroup": "CSK",
         "marker": {
          "color": "#f2cd5e",
          "size": [
           15.796
          ],
          "sizemode": "area",
          "sizeref": 0.0415,
          "symbol": "circle"
         },
         "mode": "markers",
         "name": "CSK",
         "orientation": "v",
         "showlegend": true,
         "type": "scatter",
         "x": [
          24.436
         ],
         "xaxis": "x",
         "y": [
          8.297
         ],
         "yaxis": "y"
        },
        {
         "hovertemplate": "<b>%{hovertext}</b><br><br>Team=DC<br>Strike Rate (lower the better)=%{x}<br>Economy (lower the better)=%{y}<br>ESRA=%{marker.size}<extra></extra>",
         "hovertext": [
          "DC"
         ],
         "legendgroup": "DC",
         "marker": {
          "color": "#073763",
          "size": [
           15.504
          ],
          "sizemode": "area",
          "sizeref": 0.0415,
          "symbol": "circle"
         },
         "mode": "markers",
         "name": "DC",
         "orientation": "v",
         "showlegend": true,
         "type": "scatter",
         "x": [
          21.9
         ],
         "xaxis": "x",
         "y": [
          8.394
         ],
         "yaxis": "y"
        },
        {
         "hovertemplate": "<b>%{hovertext}</b><br><br>Team=GT<br>Strike Rate (lower the better)=%{x}<br>Economy (lower the better)=%{y}<br>ESRA=%{marker.size}<extra></extra>",
         "hovertext": [
          "GT"
         ],
         "legendgroup": "GT",
         "marker": {
          "color": "#38761d",
          "size": [
           14.809
          ],
          "sizemode": "area",
          "sizeref": 0.0415,
          "symbol": "circle"
         },
         "mode": "markers",
         "name": "GT",
         "orientation": "v",
         "showlegend": true,
         "type": "scatter",
         "x": [
          20.291
         ],
         "xaxis": "x",
         "y": [
          7.959
         ],
         "yaxis": "y"
        },
        {
         "hovertemplate": "<b>%{hovertext}</b><br><br>Team=KKR<br>Strike Rate (lower the better)=%{x}<br>Economy (lower the better)=%{y}<br>ESRA=%{marker.size}<extra></extra>",
         "hovertext": [
          "KKR"
         ],
         "legendgroup": "KKR",
         "marker": {
          "color": "#674ea7",
          "size": [
           15.806
          ],
          "sizemode": "area",
          "sizeref": 0.0415,
          "symbol": "circle"
         },
         "mode": "markers",
         "name": "KKR",
         "orientation": "v",
         "showlegend": true,
         "type": "scatter",
         "x": [
          23.263
         ],
         "xaxis": "x",
         "y": [
          8.546
         ],
         "yaxis": "y"
        },
        {
         "hovertemplate": "<b>%{hovertext}</b><br><br>Team=LSG<br>Strike Rate (lower the better)=%{x}<br>Economy (lower the better)=%{y}<br>ESRA=%{marker.size}<extra></extra>",
         "hovertext": [
          "LSG"
         ],
         "legendgroup": "LSG",
         "marker": {
          "color": "#a9f3da",
          "size": [
           15.37
          ],
          "sizemode": "area",
          "sizeref": 0.0415,
          "symbol": "circle"
         },
         "mode": "markers",
         "name": "LSG",
         "orientation": "v",
         "showlegend": true,
         "type": "scatter",
         "x": [
          21.534
         ],
         "xaxis": "x",
         "y": [
          8.28
         ],
         "yaxis": "y"
        },
        {
         "hovertemplate": "<b>%{hovertext}</b><br><br>Team=MI<br>Strike Rate (lower the better)=%{x}<br>Economy (lower the better)=%{y}<br>ESRA=%{marker.size}<extra></extra>",
         "hovertext": [
          "MI"
         ],
         "legendgroup": "MI",
         "marker": {
          "color": "#3d85c6",
          "size": [
           15.726
          ],
          "sizemode": "area",
          "sizeref": 0.0415,
          "symbol": "circle"
         },
         "mode": "markers",
         "name": "MI",
         "orientation": "v",
         "showlegend": true,
         "type": "scatter",
         "x": [
          20.44
         ],
         "xaxis": "x",
         "y": [
          8.792
         ],
         "yaxis": "y"
        },
        {
         "hovertemplate": "<b>%{hovertext}</b><br><br>Team=PBKS<br>Strike Rate (lower the better)=%{x}<br>Economy (lower the better)=%{y}<br>ESRA=%{marker.size}<extra></extra>",
         "hovertext": [
          "PBKS"
         ],
         "legendgroup": "PBKS",
         "marker": {
          "color": "#cc0000",
          "size": [
           16.568
          ],
          "sizemode": "area",
          "sizeref": 0.0415,
          "symbol": "circle"
         },
         "mode": "markers",
         "name": "PBKS",
         "orientation": "v",
         "showlegend": true,
         "type": "scatter",
         "x": [
          26.577
         ],
         "xaxis": "x",
         "y": [
          8.744
         ],
         "yaxis": "y"
        },
        {
         "hovertemplate": "<b>%{hovertext}</b><br><br>Team=RCB<br>Strike Rate (lower the better)=%{x}<br>Economy (lower the better)=%{y}<br>ESRA=%{marker.size}<extra></extra>",
         "hovertext": [
          "RCB"
         ],
         "legendgroup": "RCB",
         "marker": {
          "color": "#000000",
          "size": [
           16.6
          ],
          "sizemode": "area",
          "sizeref": 0.0415,
          "symbol": "circle"
         },
         "mode": "markers",
         "name": "RCB",
         "orientation": "v",
         "showlegend": true,
         "type": "scatter",
         "x": [
          30.386
         ],
         "xaxis": "x",
         "y": [
          8.412
         ],
         "yaxis": "y"
        },
        {
         "hovertemplate": "<b>%{hovertext}</b><br><br>Team=RR<br>Strike Rate (lower the better)=%{x}<br>Economy (lower the better)=%{y}<br>ESRA=%{marker.size}<extra></extra>",
         "hovertext": [
          "RR"
         ],
         "legendgroup": "RR",
         "marker": {
          "color": "#ff71b3",
          "size": [
           15.318
          ],
          "sizemode": "area",
          "sizeref": 0.0415,
          "symbol": "circle"
         },
         "mode": "markers",
         "name": "RR",
         "orientation": "v",
         "showlegend": true,
         "type": "scatter",
         "x": [
          20.987
         ],
         "xaxis": "x",
         "y": [
          8.332
         ],
         "yaxis": "y"
        },
        {
         "hovertemplate": "<b>%{hovertext}</b><br><br>Team=SRH<br>Strike Rate (lower the better)=%{x}<br>Economy (lower the better)=%{y}<br>ESRA=%{marker.size}<extra></extra>",
         "hovertext": [
          "SRH"
         ],
         "legendgroup": "SRH",
         "marker": {
          "color": "#f5783c",
          "size": [
           16.149
          ],
          "sizemode": "area",
          "sizeref": 0.0415,
          "symbol": "circle"
         },
         "mode": "markers",
         "name": "SRH",
         "orientation": "v",
         "showlegend": true,
         "type": "scatter",
         "x": [
          22.34
         ],
         "xaxis": "x",
         "y": [
          8.838
         ],
         "yaxis": "y"
        }
       ],
       "layout": {
        "legend": {
         "itemsizing": "constant",
         "title": {
          "text": "Team"
         },
         "tracegroupgap": 0
        },
        "margin": {
         "t": 60
        },
        "shapes": [
         {
          "line": {
           "color": "black"
          },
          "opacity": 0.4,
          "type": "line",
          "x0": 22,
          "x1": 22,
          "xref": "x",
          "y0": 0,
          "y1": 1,
          "yref": "y domain"
         },
         {
          "line": {
           "color": "black"
          },
          "opacity": 0.4,
          "type": "line",
          "x0": 0,
          "x1": 1,
          "xref": "x domain",
          "y0": 8.4,
          "y1": 8.4,
          "yref": "y"
         }
        ],
        "template": {
         "data": {
          "bar": [
           {
            "error_x": {
             "color": "#2a3f5f"
            },
            "error_y": {
             "color": "#2a3f5f"
            },
            "marker": {
             "line": {
              "color": "#E5ECF6",
              "width": 0.5
             },
             "pattern": {
              "fillmode": "overlay",
              "size": 10,
              "solidity": 0.2
             }
            },
            "type": "bar"
           }
          ],
          "barpolar": [
           {
            "marker": {
             "line": {
              "color": "#E5ECF6",
              "width": 0.5
             },
             "pattern": {
              "fillmode": "overlay",
              "size": 10,
              "solidity": 0.2
             }
            },
            "type": "barpolar"
           }
          ],
          "carpet": [
           {
            "aaxis": {
             "endlinecolor": "#2a3f5f",
             "gridcolor": "white",
             "linecolor": "white",
             "minorgridcolor": "white",
             "startlinecolor": "#2a3f5f"
            },
            "baxis": {
             "endlinecolor": "#2a3f5f",
             "gridcolor": "white",
             "linecolor": "white",
             "minorgridcolor": "white",
             "startlinecolor": "#2a3f5f"
            },
            "type": "carpet"
           }
          ],
          "choropleth": [
           {
            "colorbar": {
             "outlinewidth": 0,
             "ticks": ""
            },
            "type": "choropleth"
           }
          ],
          "contour": [
           {
            "colorbar": {
             "outlinewidth": 0,
             "ticks": ""
            },
            "colorscale": [
             [
              0,
              "#0d0887"
             ],
             [
              0.1111111111111111,
              "#46039f"
             ],
             [
              0.2222222222222222,
              "#7201a8"
             ],
             [
              0.3333333333333333,
              "#9c179e"
             ],
             [
              0.4444444444444444,
              "#bd3786"
             ],
             [
              0.5555555555555556,
              "#d8576b"
             ],
             [
              0.6666666666666666,
              "#ed7953"
             ],
             [
              0.7777777777777778,
              "#fb9f3a"
             ],
             [
              0.8888888888888888,
              "#fdca26"
             ],
             [
              1,
              "#f0f921"
             ]
            ],
            "type": "contour"
           }
          ],
          "contourcarpet": [
           {
            "colorbar": {
             "outlinewidth": 0,
             "ticks": ""
            },
            "type": "contourcarpet"
           }
          ],
          "heatmap": [
           {
            "colorbar": {
             "outlinewidth": 0,
             "ticks": ""
            },
            "colorscale": [
             [
              0,
              "#0d0887"
             ],
             [
              0.1111111111111111,
              "#46039f"
             ],
             [
              0.2222222222222222,
              "#7201a8"
             ],
             [
              0.3333333333333333,
              "#9c179e"
             ],
             [
              0.4444444444444444,
              "#bd3786"
             ],
             [
              0.5555555555555556,
              "#d8576b"
             ],
             [
              0.6666666666666666,
              "#ed7953"
             ],
             [
              0.7777777777777778,
              "#fb9f3a"
             ],
             [
              0.8888888888888888,
              "#fdca26"
             ],
             [
              1,
              "#f0f921"
             ]
            ],
            "type": "heatmap"
           }
          ],
          "heatmapgl": [
           {
            "colorbar": {
             "outlinewidth": 0,
             "ticks": ""
            },
            "colorscale": [
             [
              0,
              "#0d0887"
             ],
             [
              0.1111111111111111,
              "#46039f"
             ],
             [
              0.2222222222222222,
              "#7201a8"
             ],
             [
              0.3333333333333333,
              "#9c179e"
             ],
             [
              0.4444444444444444,
              "#bd3786"
             ],
             [
              0.5555555555555556,
              "#d8576b"
             ],
             [
              0.6666666666666666,
              "#ed7953"
             ],
             [
              0.7777777777777778,
              "#fb9f3a"
             ],
             [
              0.8888888888888888,
              "#fdca26"
             ],
             [
              1,
              "#f0f921"
             ]
            ],
            "type": "heatmapgl"
           }
          ],
          "histogram": [
           {
            "marker": {
             "pattern": {
              "fillmode": "overlay",
              "size": 10,
              "solidity": 0.2
             }
            },
            "type": "histogram"
           }
          ],
          "histogram2d": [
           {
            "colorbar": {
             "outlinewidth": 0,
             "ticks": ""
            },
            "colorscale": [
             [
              0,
              "#0d0887"
             ],
             [
              0.1111111111111111,
              "#46039f"
             ],
             [
              0.2222222222222222,
              "#7201a8"
             ],
             [
              0.3333333333333333,
              "#9c179e"
             ],
             [
              0.4444444444444444,
              "#bd3786"
             ],
             [
              0.5555555555555556,
              "#d8576b"
             ],
             [
              0.6666666666666666,
              "#ed7953"
             ],
             [
              0.7777777777777778,
              "#fb9f3a"
             ],
             [
              0.8888888888888888,
              "#fdca26"
             ],
             [
              1,
              "#f0f921"
             ]
            ],
            "type": "histogram2d"
           }
          ],
          "histogram2dcontour": [
           {
            "colorbar": {
             "outlinewidth": 0,
             "ticks": ""
            },
            "colorscale": [
             [
              0,
              "#0d0887"
             ],
             [
              0.1111111111111111,
              "#46039f"
             ],
             [
              0.2222222222222222,
              "#7201a8"
             ],
             [
              0.3333333333333333,
              "#9c179e"
             ],
             [
              0.4444444444444444,
              "#bd3786"
             ],
             [
              0.5555555555555556,
              "#d8576b"
             ],
             [
              0.6666666666666666,
              "#ed7953"
             ],
             [
              0.7777777777777778,
              "#fb9f3a"
             ],
             [
              0.8888888888888888,
              "#fdca26"
             ],
             [
              1,
              "#f0f921"
             ]
            ],
            "type": "histogram2dcontour"
           }
          ],
          "mesh3d": [
           {
            "colorbar": {
             "outlinewidth": 0,
             "ticks": ""
            },
            "type": "mesh3d"
           }
          ],
          "parcoords": [
           {
            "line": {
             "colorbar": {
              "outlinewidth": 0,
              "ticks": ""
             }
            },
            "type": "parcoords"
           }
          ],
          "pie": [
           {
            "automargin": true,
            "type": "pie"
           }
          ],
          "scatter": [
           {
            "marker": {
             "colorbar": {
              "outlinewidth": 0,
              "ticks": ""
             }
            },
            "type": "scatter"
           }
          ],
          "scatter3d": [
           {
            "line": {
             "colorbar": {
              "outlinewidth": 0,
              "ticks": ""
             }
            },
            "marker": {
             "colorbar": {
              "outlinewidth": 0,
              "ticks": ""
             }
            },
            "type": "scatter3d"
           }
          ],
          "scattercarpet": [
           {
            "marker": {
             "colorbar": {
              "outlinewidth": 0,
              "ticks": ""
             }
            },
            "type": "scattercarpet"
           }
          ],
          "scattergeo": [
           {
            "marker": {
             "colorbar": {
              "outlinewidth": 0,
              "ticks": ""
             }
            },
            "type": "scattergeo"
           }
          ],
          "scattergl": [
           {
            "marker": {
             "colorbar": {
              "outlinewidth": 0,
              "ticks": ""
             }
            },
            "type": "scattergl"
           }
          ],
          "scattermapbox": [
           {
            "marker": {
             "colorbar": {
              "outlinewidth": 0,
              "ticks": ""
             }
            },
            "type": "scattermapbox"
           }
          ],
          "scatterpolar": [
           {
            "marker": {
             "colorbar": {
              "outlinewidth": 0,
              "ticks": ""
             }
            },
            "type": "scatterpolar"
           }
          ],
          "scatterpolargl": [
           {
            "marker": {
             "colorbar": {
              "outlinewidth": 0,
              "ticks": ""
             }
            },
            "type": "scatterpolargl"
           }
          ],
          "scatterternary": [
           {
            "marker": {
             "colorbar": {
              "outlinewidth": 0,
              "ticks": ""
             }
            },
            "type": "scatterternary"
           }
          ],
          "surface": [
           {
            "colorbar": {
             "outlinewidth": 0,
             "ticks": ""
            },
            "colorscale": [
             [
              0,
              "#0d0887"
             ],
             [
              0.1111111111111111,
              "#46039f"
             ],
             [
              0.2222222222222222,
              "#7201a8"
             ],
             [
              0.3333333333333333,
              "#9c179e"
             ],
             [
              0.4444444444444444,
              "#bd3786"
             ],
             [
              0.5555555555555556,
              "#d8576b"
             ],
             [
              0.6666666666666666,
              "#ed7953"
             ],
             [
              0.7777777777777778,
              "#fb9f3a"
             ],
             [
              0.8888888888888888,
              "#fdca26"
             ],
             [
              1,
              "#f0f921"
             ]
            ],
            "type": "surface"
           }
          ],
          "table": [
           {
            "cells": {
             "fill": {
              "color": "#EBF0F8"
             },
             "line": {
              "color": "white"
             }
            },
            "header": {
             "fill": {
              "color": "#C8D4E3"
             },
             "line": {
              "color": "white"
             }
            },
            "type": "table"
           }
          ]
         },
         "layout": {
          "annotationdefaults": {
           "arrowcolor": "#2a3f5f",
           "arrowhead": 0,
           "arrowwidth": 1
          },
          "autotypenumbers": "strict",
          "coloraxis": {
           "colorbar": {
            "outlinewidth": 0,
            "ticks": ""
           }
          },
          "colorscale": {
           "diverging": [
            [
             0,
             "#8e0152"
            ],
            [
             0.1,
             "#c51b7d"
            ],
            [
             0.2,
             "#de77ae"
            ],
            [
             0.3,
             "#f1b6da"
            ],
            [
             0.4,
             "#fde0ef"
            ],
            [
             0.5,
             "#f7f7f7"
            ],
            [
             0.6,
             "#e6f5d0"
            ],
            [
             0.7,
             "#b8e186"
            ],
            [
             0.8,
             "#7fbc41"
            ],
            [
             0.9,
             "#4d9221"
            ],
            [
             1,
             "#276419"
            ]
           ],
           "sequential": [
            [
             0,
             "#0d0887"
            ],
            [
             0.1111111111111111,
             "#46039f"
            ],
            [
             0.2222222222222222,
             "#7201a8"
            ],
            [
             0.3333333333333333,
             "#9c179e"
            ],
            [
             0.4444444444444444,
             "#bd3786"
            ],
            [
             0.5555555555555556,
             "#d8576b"
            ],
            [
             0.6666666666666666,
             "#ed7953"
            ],
            [
             0.7777777777777778,
             "#fb9f3a"
            ],
            [
             0.8888888888888888,
             "#fdca26"
            ],
            [
             1,
             "#f0f921"
            ]
           ],
           "sequentialminus": [
            [
             0,
             "#0d0887"
            ],
            [
             0.1111111111111111,
             "#46039f"
            ],
            [
             0.2222222222222222,
             "#7201a8"
            ],
            [
             0.3333333333333333,
             "#9c179e"
            ],
            [
             0.4444444444444444,
             "#bd3786"
            ],
            [
             0.5555555555555556,
             "#d8576b"
            ],
            [
             0.6666666666666666,
             "#ed7953"
            ],
            [
             0.7777777777777778,
             "#fb9f3a"
            ],
            [
             0.8888888888888888,
             "#fdca26"
            ],
            [
             1,
             "#f0f921"
            ]
           ]
          },
          "colorway": [
           "#636efa",
           "#EF553B",
           "#00cc96",
           "#ab63fa",
           "#FFA15A",
           "#19d3f3",
           "#FF6692",
           "#B6E880",
           "#FF97FF",
           "#FECB52"
          ],
          "font": {
           "color": "#2a3f5f"
          },
          "geo": {
           "bgcolor": "white",
           "lakecolor": "white",
           "landcolor": "#E5ECF6",
           "showlakes": true,
           "showland": true,
           "subunitcolor": "white"
          },
          "hoverlabel": {
           "align": "left"
          },
          "hovermode": "closest",
          "mapbox": {
           "style": "light"
          },
          "paper_bgcolor": "white",
          "plot_bgcolor": "#E5ECF6",
          "polar": {
           "angularaxis": {
            "gridcolor": "white",
            "linecolor": "white",
            "ticks": ""
           },
           "bgcolor": "#E5ECF6",
           "radialaxis": {
            "gridcolor": "white",
            "linecolor": "white",
            "ticks": ""
           }
          },
          "scene": {
           "xaxis": {
            "backgroundcolor": "#E5ECF6",
            "gridcolor": "white",
            "gridwidth": 2,
            "linecolor": "white",
            "showbackground": true,
            "ticks": "",
            "zerolinecolor": "white"
           },
           "yaxis": {
            "backgroundcolor": "#E5ECF6",
            "gridcolor": "white",
            "gridwidth": 2,
            "linecolor": "white",
            "showbackground": true,
            "ticks": "",
            "zerolinecolor": "white"
           },
           "zaxis": {
            "backgroundcolor": "#E5ECF6",
            "gridcolor": "white",
            "gridwidth": 2,
            "linecolor": "white",
            "showbackground": true,
            "ticks": "",
            "zerolinecolor": "white"
           }
          },
          "shapedefaults": {
           "line": {
            "color": "#2a3f5f"
           }
          },
          "ternary": {
           "aaxis": {
            "gridcolor": "white",
            "linecolor": "white",
            "ticks": ""
           },
           "baxis": {
            "gridcolor": "white",
            "linecolor": "white",
            "ticks": ""
           },
           "bgcolor": "#E5ECF6",
           "caxis": {
            "gridcolor": "white",
            "linecolor": "white",
            "ticks": ""
           }
          },
          "title": {
           "x": 0.05
          },
          "xaxis": {
           "automargin": true,
           "gridcolor": "white",
           "linecolor": "white",
           "ticks": "",
           "title": {
            "standoff": 15
           },
           "zerolinecolor": "white",
           "zerolinewidth": 2
          },
          "yaxis": {
           "automargin": true,
           "gridcolor": "white",
           "linecolor": "white",
           "ticks": "",
           "title": {
            "standoff": 15
           },
           "zerolinecolor": "white",
           "zerolinewidth": 2
          }
         }
        },
        "xaxis": {
         "anchor": "y",
         "domain": [
          0,
          1
         ],
         "title": {
          "text": "Strike Rate (lower the better)"
         }
        },
        "yaxis": {
         "anchor": "x",
         "domain": [
          0,
          1
         ],
         "title": {
          "text": "Economy (lower the better)"
         }
        }
       }
      },
      "text/html": [
       "<div>                            <div id=\"feb2508d-32ae-468d-8ec0-76fbbff2173d\" class=\"plotly-graph-div\" style=\"height:525px; width:100%;\"></div>            <script type=\"text/javascript\">                require([\"plotly\"], function(Plotly) {                    window.PLOTLYENV=window.PLOTLYENV || {};                                    if (document.getElementById(\"feb2508d-32ae-468d-8ec0-76fbbff2173d\")) {                    Plotly.newPlot(                        \"feb2508d-32ae-468d-8ec0-76fbbff2173d\",                        [{\"hovertemplate\":\"<b>%{hovertext}</b><br><br>Team=CSK<br>Strike Rate (lower the better)=%{x}<br>Economy (lower the better)=%{y}<br>ESRA=%{marker.size}<extra></extra>\",\"hovertext\":[\"CSK\"],\"legendgroup\":\"CSK\",\"marker\":{\"color\":\"#f2cd5e\",\"size\":[15.796],\"sizemode\":\"area\",\"sizeref\":0.0415,\"symbol\":\"circle\"},\"mode\":\"markers\",\"name\":\"CSK\",\"orientation\":\"v\",\"showlegend\":true,\"x\":[24.436],\"xaxis\":\"x\",\"y\":[8.297],\"yaxis\":\"y\",\"type\":\"scatter\"},{\"hovertemplate\":\"<b>%{hovertext}</b><br><br>Team=DC<br>Strike Rate (lower the better)=%{x}<br>Economy (lower the better)=%{y}<br>ESRA=%{marker.size}<extra></extra>\",\"hovertext\":[\"DC\"],\"legendgroup\":\"DC\",\"marker\":{\"color\":\"#073763\",\"size\":[15.504],\"sizemode\":\"area\",\"sizeref\":0.0415,\"symbol\":\"circle\"},\"mode\":\"markers\",\"name\":\"DC\",\"orientation\":\"v\",\"showlegend\":true,\"x\":[21.9],\"xaxis\":\"x\",\"y\":[8.394],\"yaxis\":\"y\",\"type\":\"scatter\"},{\"hovertemplate\":\"<b>%{hovertext}</b><br><br>Team=GT<br>Strike Rate (lower the better)=%{x}<br>Economy (lower the better)=%{y}<br>ESRA=%{marker.size}<extra></extra>\",\"hovertext\":[\"GT\"],\"legendgroup\":\"GT\",\"marker\":{\"color\":\"#38761d\",\"size\":[14.809],\"sizemode\":\"area\",\"sizeref\":0.0415,\"symbol\":\"circle\"},\"mode\":\"markers\",\"name\":\"GT\",\"orientation\":\"v\",\"showlegend\":true,\"x\":[20.291],\"xaxis\":\"x\",\"y\":[7.959],\"yaxis\":\"y\",\"type\":\"scatter\"},{\"hovertemplate\":\"<b>%{hovertext}</b><br><br>Team=KKR<br>Strike Rate (lower the better)=%{x}<br>Economy (lower the better)=%{y}<br>ESRA=%{marker.size}<extra></extra>\",\"hovertext\":[\"KKR\"],\"legendgroup\":\"KKR\",\"marker\":{\"color\":\"#674ea7\",\"size\":[15.806],\"sizemode\":\"area\",\"sizeref\":0.0415,\"symbol\":\"circle\"},\"mode\":\"markers\",\"name\":\"KKR\",\"orientation\":\"v\",\"showlegend\":true,\"x\":[23.263],\"xaxis\":\"x\",\"y\":[8.546],\"yaxis\":\"y\",\"type\":\"scatter\"},{\"hovertemplate\":\"<b>%{hovertext}</b><br><br>Team=LSG<br>Strike Rate (lower the better)=%{x}<br>Economy (lower the better)=%{y}<br>ESRA=%{marker.size}<extra></extra>\",\"hovertext\":[\"LSG\"],\"legendgroup\":\"LSG\",\"marker\":{\"color\":\"#a9f3da\",\"size\":[15.37],\"sizemode\":\"area\",\"sizeref\":0.0415,\"symbol\":\"circle\"},\"mode\":\"markers\",\"name\":\"LSG\",\"orientation\":\"v\",\"showlegend\":true,\"x\":[21.534],\"xaxis\":\"x\",\"y\":[8.28],\"yaxis\":\"y\",\"type\":\"scatter\"},{\"hovertemplate\":\"<b>%{hovertext}</b><br><br>Team=MI<br>Strike Rate (lower the better)=%{x}<br>Economy (lower the better)=%{y}<br>ESRA=%{marker.size}<extra></extra>\",\"hovertext\":[\"MI\"],\"legendgroup\":\"MI\",\"marker\":{\"color\":\"#3d85c6\",\"size\":[15.726],\"sizemode\":\"area\",\"sizeref\":0.0415,\"symbol\":\"circle\"},\"mode\":\"markers\",\"name\":\"MI\",\"orientation\":\"v\",\"showlegend\":true,\"x\":[20.44],\"xaxis\":\"x\",\"y\":[8.792],\"yaxis\":\"y\",\"type\":\"scatter\"},{\"hovertemplate\":\"<b>%{hovertext}</b><br><br>Team=PBKS<br>Strike Rate (lower the better)=%{x}<br>Economy (lower the better)=%{y}<br>ESRA=%{marker.size}<extra></extra>\",\"hovertext\":[\"PBKS\"],\"legendgroup\":\"PBKS\",\"marker\":{\"color\":\"#cc0000\",\"size\":[16.568],\"sizemode\":\"area\",\"sizeref\":0.0415,\"symbol\":\"circle\"},\"mode\":\"markers\",\"name\":\"PBKS\",\"orientation\":\"v\",\"showlegend\":true,\"x\":[26.577],\"xaxis\":\"x\",\"y\":[8.744],\"yaxis\":\"y\",\"type\":\"scatter\"},{\"hovertemplate\":\"<b>%{hovertext}</b><br><br>Team=RCB<br>Strike Rate (lower the better)=%{x}<br>Economy (lower the better)=%{y}<br>ESRA=%{marker.size}<extra></extra>\",\"hovertext\":[\"RCB\"],\"legendgroup\":\"RCB\",\"marker\":{\"color\":\"#000000\",\"size\":[16.6],\"sizemode\":\"area\",\"sizeref\":0.0415,\"symbol\":\"circle\"},\"mode\":\"markers\",\"name\":\"RCB\",\"orientation\":\"v\",\"showlegend\":true,\"x\":[30.386],\"xaxis\":\"x\",\"y\":[8.412],\"yaxis\":\"y\",\"type\":\"scatter\"},{\"hovertemplate\":\"<b>%{hovertext}</b><br><br>Team=RR<br>Strike Rate (lower the better)=%{x}<br>Economy (lower the better)=%{y}<br>ESRA=%{marker.size}<extra></extra>\",\"hovertext\":[\"RR\"],\"legendgroup\":\"RR\",\"marker\":{\"color\":\"#ff71b3\",\"size\":[15.318],\"sizemode\":\"area\",\"sizeref\":0.0415,\"symbol\":\"circle\"},\"mode\":\"markers\",\"name\":\"RR\",\"orientation\":\"v\",\"showlegend\":true,\"x\":[20.987],\"xaxis\":\"x\",\"y\":[8.332],\"yaxis\":\"y\",\"type\":\"scatter\"},{\"hovertemplate\":\"<b>%{hovertext}</b><br><br>Team=SRH<br>Strike Rate (lower the better)=%{x}<br>Economy (lower the better)=%{y}<br>ESRA=%{marker.size}<extra></extra>\",\"hovertext\":[\"SRH\"],\"legendgroup\":\"SRH\",\"marker\":{\"color\":\"#f5783c\",\"size\":[16.149],\"sizemode\":\"area\",\"sizeref\":0.0415,\"symbol\":\"circle\"},\"mode\":\"markers\",\"name\":\"SRH\",\"orientation\":\"v\",\"showlegend\":true,\"x\":[22.34],\"xaxis\":\"x\",\"y\":[8.838],\"yaxis\":\"y\",\"type\":\"scatter\"}],                        {\"template\":{\"data\":{\"bar\":[{\"error_x\":{\"color\":\"#2a3f5f\"},\"error_y\":{\"color\":\"#2a3f5f\"},\"marker\":{\"line\":{\"color\":\"#E5ECF6\",\"width\":0.5},\"pattern\":{\"fillmode\":\"overlay\",\"size\":10,\"solidity\":0.2}},\"type\":\"bar\"}],\"barpolar\":[{\"marker\":{\"line\":{\"color\":\"#E5ECF6\",\"width\":0.5},\"pattern\":{\"fillmode\":\"overlay\",\"size\":10,\"solidity\":0.2}},\"type\":\"barpolar\"}],\"carpet\":[{\"aaxis\":{\"endlinecolor\":\"#2a3f5f\",\"gridcolor\":\"white\",\"linecolor\":\"white\",\"minorgridcolor\":\"white\",\"startlinecolor\":\"#2a3f5f\"},\"baxis\":{\"endlinecolor\":\"#2a3f5f\",\"gridcolor\":\"white\",\"linecolor\":\"white\",\"minorgridcolor\":\"white\",\"startlinecolor\":\"#2a3f5f\"},\"type\":\"carpet\"}],\"choropleth\":[{\"colorbar\":{\"outlinewidth\":0,\"ticks\":\"\"},\"type\":\"choropleth\"}],\"contour\":[{\"colorbar\":{\"outlinewidth\":0,\"ticks\":\"\"},\"colorscale\":[[0.0,\"#0d0887\"],[0.1111111111111111,\"#46039f\"],[0.2222222222222222,\"#7201a8\"],[0.3333333333333333,\"#9c179e\"],[0.4444444444444444,\"#bd3786\"],[0.5555555555555556,\"#d8576b\"],[0.6666666666666666,\"#ed7953\"],[0.7777777777777778,\"#fb9f3a\"],[0.8888888888888888,\"#fdca26\"],[1.0,\"#f0f921\"]],\"type\":\"contour\"}],\"contourcarpet\":[{\"colorbar\":{\"outlinewidth\":0,\"ticks\":\"\"},\"type\":\"contourcarpet\"}],\"heatmap\":[{\"colorbar\":{\"outlinewidth\":0,\"ticks\":\"\"},\"colorscale\":[[0.0,\"#0d0887\"],[0.1111111111111111,\"#46039f\"],[0.2222222222222222,\"#7201a8\"],[0.3333333333333333,\"#9c179e\"],[0.4444444444444444,\"#bd3786\"],[0.5555555555555556,\"#d8576b\"],[0.6666666666666666,\"#ed7953\"],[0.7777777777777778,\"#fb9f3a\"],[0.8888888888888888,\"#fdca26\"],[1.0,\"#f0f921\"]],\"type\":\"heatmap\"}],\"heatmapgl\":[{\"colorbar\":{\"outlinewidth\":0,\"ticks\":\"\"},\"colorscale\":[[0.0,\"#0d0887\"],[0.1111111111111111,\"#46039f\"],[0.2222222222222222,\"#7201a8\"],[0.3333333333333333,\"#9c179e\"],[0.4444444444444444,\"#bd3786\"],[0.5555555555555556,\"#d8576b\"],[0.6666666666666666,\"#ed7953\"],[0.7777777777777778,\"#fb9f3a\"],[0.8888888888888888,\"#fdca26\"],[1.0,\"#f0f921\"]],\"type\":\"heatmapgl\"}],\"histogram\":[{\"marker\":{\"pattern\":{\"fillmode\":\"overlay\",\"size\":10,\"solidity\":0.2}},\"type\":\"histogram\"}],\"histogram2d\":[{\"colorbar\":{\"outlinewidth\":0,\"ticks\":\"\"},\"colorscale\":[[0.0,\"#0d0887\"],[0.1111111111111111,\"#46039f\"],[0.2222222222222222,\"#7201a8\"],[0.3333333333333333,\"#9c179e\"],[0.4444444444444444,\"#bd3786\"],[0.5555555555555556,\"#d8576b\"],[0.6666666666666666,\"#ed7953\"],[0.7777777777777778,\"#fb9f3a\"],[0.8888888888888888,\"#fdca26\"],[1.0,\"#f0f921\"]],\"type\":\"histogram2d\"}],\"histogram2dcontour\":[{\"colorbar\":{\"outlinewidth\":0,\"ticks\":\"\"},\"colorscale\":[[0.0,\"#0d0887\"],[0.1111111111111111,\"#46039f\"],[0.2222222222222222,\"#7201a8\"],[0.3333333333333333,\"#9c179e\"],[0.4444444444444444,\"#bd3786\"],[0.5555555555555556,\"#d8576b\"],[0.6666666666666666,\"#ed7953\"],[0.7777777777777778,\"#fb9f3a\"],[0.8888888888888888,\"#fdca26\"],[1.0,\"#f0f921\"]],\"type\":\"histogram2dcontour\"}],\"mesh3d\":[{\"colorbar\":{\"outlinewidth\":0,\"ticks\":\"\"},\"type\":\"mesh3d\"}],\"parcoords\":[{\"line\":{\"colorbar\":{\"outlinewidth\":0,\"ticks\":\"\"}},\"type\":\"parcoords\"}],\"pie\":[{\"automargin\":true,\"type\":\"pie\"}],\"scatter\":[{\"marker\":{\"colorbar\":{\"outlinewidth\":0,\"ticks\":\"\"}},\"type\":\"scatter\"}],\"scatter3d\":[{\"line\":{\"colorbar\":{\"outlinewidth\":0,\"ticks\":\"\"}},\"marker\":{\"colorbar\":{\"outlinewidth\":0,\"ticks\":\"\"}},\"type\":\"scatter3d\"}],\"scattercarpet\":[{\"marker\":{\"colorbar\":{\"outlinewidth\":0,\"ticks\":\"\"}},\"type\":\"scattercarpet\"}],\"scattergeo\":[{\"marker\":{\"colorbar\":{\"outlinewidth\":0,\"ticks\":\"\"}},\"type\":\"scattergeo\"}],\"scattergl\":[{\"marker\":{\"colorbar\":{\"outlinewidth\":0,\"ticks\":\"\"}},\"type\":\"scattergl\"}],\"scattermapbox\":[{\"marker\":{\"colorbar\":{\"outlinewidth\":0,\"ticks\":\"\"}},\"type\":\"scattermapbox\"}],\"scatterpolar\":[{\"marker\":{\"colorbar\":{\"outlinewidth\":0,\"ticks\":\"\"}},\"type\":\"scatterpolar\"}],\"scatterpolargl\":[{\"marker\":{\"colorbar\":{\"outlinewidth\":0,\"ticks\":\"\"}},\"type\":\"scatterpolargl\"}],\"scatterternary\":[{\"marker\":{\"colorbar\":{\"outlinewidth\":0,\"ticks\":\"\"}},\"type\":\"scatterternary\"}],\"surface\":[{\"colorbar\":{\"outlinewidth\":0,\"ticks\":\"\"},\"colorscale\":[[0.0,\"#0d0887\"],[0.1111111111111111,\"#46039f\"],[0.2222222222222222,\"#7201a8\"],[0.3333333333333333,\"#9c179e\"],[0.4444444444444444,\"#bd3786\"],[0.5555555555555556,\"#d8576b\"],[0.6666666666666666,\"#ed7953\"],[0.7777777777777778,\"#fb9f3a\"],[0.8888888888888888,\"#fdca26\"],[1.0,\"#f0f921\"]],\"type\":\"surface\"}],\"table\":[{\"cells\":{\"fill\":{\"color\":\"#EBF0F8\"},\"line\":{\"color\":\"white\"}},\"header\":{\"fill\":{\"color\":\"#C8D4E3\"},\"line\":{\"color\":\"white\"}},\"type\":\"table\"}]},\"layout\":{\"annotationdefaults\":{\"arrowcolor\":\"#2a3f5f\",\"arrowhead\":0,\"arrowwidth\":1},\"autotypenumbers\":\"strict\",\"coloraxis\":{\"colorbar\":{\"outlinewidth\":0,\"ticks\":\"\"}},\"colorscale\":{\"diverging\":[[0,\"#8e0152\"],[0.1,\"#c51b7d\"],[0.2,\"#de77ae\"],[0.3,\"#f1b6da\"],[0.4,\"#fde0ef\"],[0.5,\"#f7f7f7\"],[0.6,\"#e6f5d0\"],[0.7,\"#b8e186\"],[0.8,\"#7fbc41\"],[0.9,\"#4d9221\"],[1,\"#276419\"]],\"sequential\":[[0.0,\"#0d0887\"],[0.1111111111111111,\"#46039f\"],[0.2222222222222222,\"#7201a8\"],[0.3333333333333333,\"#9c179e\"],[0.4444444444444444,\"#bd3786\"],[0.5555555555555556,\"#d8576b\"],[0.6666666666666666,\"#ed7953\"],[0.7777777777777778,\"#fb9f3a\"],[0.8888888888888888,\"#fdca26\"],[1.0,\"#f0f921\"]],\"sequentialminus\":[[0.0,\"#0d0887\"],[0.1111111111111111,\"#46039f\"],[0.2222222222222222,\"#7201a8\"],[0.3333333333333333,\"#9c179e\"],[0.4444444444444444,\"#bd3786\"],[0.5555555555555556,\"#d8576b\"],[0.6666666666666666,\"#ed7953\"],[0.7777777777777778,\"#fb9f3a\"],[0.8888888888888888,\"#fdca26\"],[1.0,\"#f0f921\"]]},\"colorway\":[\"#636efa\",\"#EF553B\",\"#00cc96\",\"#ab63fa\",\"#FFA15A\",\"#19d3f3\",\"#FF6692\",\"#B6E880\",\"#FF97FF\",\"#FECB52\"],\"font\":{\"color\":\"#2a3f5f\"},\"geo\":{\"bgcolor\":\"white\",\"lakecolor\":\"white\",\"landcolor\":\"#E5ECF6\",\"showlakes\":true,\"showland\":true,\"subunitcolor\":\"white\"},\"hoverlabel\":{\"align\":\"left\"},\"hovermode\":\"closest\",\"mapbox\":{\"style\":\"light\"},\"paper_bgcolor\":\"white\",\"plot_bgcolor\":\"#E5ECF6\",\"polar\":{\"angularaxis\":{\"gridcolor\":\"white\",\"linecolor\":\"white\",\"ticks\":\"\"},\"bgcolor\":\"#E5ECF6\",\"radialaxis\":{\"gridcolor\":\"white\",\"linecolor\":\"white\",\"ticks\":\"\"}},\"scene\":{\"xaxis\":{\"backgroundcolor\":\"#E5ECF6\",\"gridcolor\":\"white\",\"gridwidth\":2,\"linecolor\":\"white\",\"showbackground\":true,\"ticks\":\"\",\"zerolinecolor\":\"white\"},\"yaxis\":{\"backgroundcolor\":\"#E5ECF6\",\"gridcolor\":\"white\",\"gridwidth\":2,\"linecolor\":\"white\",\"showbackground\":true,\"ticks\":\"\",\"zerolinecolor\":\"white\"},\"zaxis\":{\"backgroundcolor\":\"#E5ECF6\",\"gridcolor\":\"white\",\"gridwidth\":2,\"linecolor\":\"white\",\"showbackground\":true,\"ticks\":\"\",\"zerolinecolor\":\"white\"}},\"shapedefaults\":{\"line\":{\"color\":\"#2a3f5f\"}},\"ternary\":{\"aaxis\":{\"gridcolor\":\"white\",\"linecolor\":\"white\",\"ticks\":\"\"},\"baxis\":{\"gridcolor\":\"white\",\"linecolor\":\"white\",\"ticks\":\"\"},\"bgcolor\":\"#E5ECF6\",\"caxis\":{\"gridcolor\":\"white\",\"linecolor\":\"white\",\"ticks\":\"\"}},\"title\":{\"x\":0.05},\"xaxis\":{\"automargin\":true,\"gridcolor\":\"white\",\"linecolor\":\"white\",\"ticks\":\"\",\"title\":{\"standoff\":15},\"zerolinecolor\":\"white\",\"zerolinewidth\":2},\"yaxis\":{\"automargin\":true,\"gridcolor\":\"white\",\"linecolor\":\"white\",\"ticks\":\"\",\"title\":{\"standoff\":15},\"zerolinecolor\":\"white\",\"zerolinewidth\":2}}},\"xaxis\":{\"anchor\":\"y\",\"domain\":[0.0,1.0],\"title\":{\"text\":\"Strike Rate (lower the better)\"}},\"yaxis\":{\"anchor\":\"x\",\"domain\":[0.0,1.0],\"title\":{\"text\":\"Economy (lower the better)\"}},\"legend\":{\"title\":{\"text\":\"Team\"},\"tracegroupgap\":0,\"itemsizing\":\"constant\"},\"margin\":{\"t\":60},\"shapes\":[{\"line\":{\"color\":\"black\"},\"opacity\":0.4,\"type\":\"line\",\"x0\":22,\"x1\":22,\"xref\":\"x\",\"y0\":0,\"y1\":1,\"yref\":\"y domain\"},{\"line\":{\"color\":\"black\"},\"opacity\":0.4,\"type\":\"line\",\"x0\":0,\"x1\":1,\"xref\":\"x domain\",\"y0\":8.4,\"y1\":8.4,\"yref\":\"y\"}]},                        {\"responsive\": true}                    ).then(function(){\n",
       "                            \n",
       "var gd = document.getElementById('feb2508d-32ae-468d-8ec0-76fbbff2173d');\n",
       "var x = new MutationObserver(function (mutations, observer) {{\n",
       "        var display = window.getComputedStyle(gd).display;\n",
       "        if (!display || display === 'none') {{\n",
       "            console.log([gd, 'removed!']);\n",
       "            Plotly.purge(gd);\n",
       "            observer.disconnect();\n",
       "        }}\n",
       "}});\n",
       "\n",
       "// Listen for the removal of the full notebook cells\n",
       "var notebookContainer = gd.closest('#notebook-container');\n",
       "if (notebookContainer) {{\n",
       "    x.observe(notebookContainer, {childList: true});\n",
       "}}\n",
       "\n",
       "// Listen for the clearing of the current output cell\n",
       "var outputEl = gd.closest('.output');\n",
       "if (outputEl) {{\n",
       "    x.observe(outputEl, {childList: true});\n",
       "}}\n",
       "\n",
       "                        })                };                });            </script>        </div>"
      ]
     },
     "metadata": {},
     "output_type": "display_data"
    }
   ],
   "source": [
    "teams = teams_chart.T\n",
    "teams['Team'] = teams.index\n",
    "\n",
    "t_fig = px.scatter(data_frame=teams,x='SR',y='Econ',hover_name='Team',color='Team',size='ESRA',\n",
    "                   labels={'SR':'Strike Rate (lower the better)','Econ':'Economy (lower the better)'},\n",
    "        color_discrete_sequence=['#f2cd5e','#073763','#38761d','#674ea7','#a9f3da','#3d85c6','#cc0000','#000000','#ff71b3','#f5783c'])\n",
    "t_fig.add_vline(x=22, line_color=\"black\",opacity=0.4)\n",
    "t_fig.add_hline(y=8.4,line_color=\"black\",opacity=0.4)"
   ]
  },
  {
   "cell_type": "markdown",
   "id": "19daa76b",
   "metadata": {},
   "source": [
    "I've displayed the quadrant lines very arbitrarily, just to make a point about the bowling quality of teams similar to the quadrant analysis of the bowlers. \n",
    "\n",
    "Here, we can see that RR, GT and LSG the teams who made it to play-offs had a very good bowling attack. RCB are an aberration, seeing that their strike rate is really poor, while their economy rate is not the greatest too. Meaning, despite possessing the HHH attack of Harshal, Hazlewood and Hasaranga, their attack was just weak."
   ]
  },
  {
   "cell_type": "markdown",
   "id": "a0a3c0ce",
   "metadata": {},
   "source": [
    "------"
   ]
  },
  {
   "cell_type": "markdown",
   "id": "f24a0405",
   "metadata": {},
   "source": [
    "**Powerplay Overs, Middle Overs and Death Overs analysis**"
   ]
  },
  {
   "cell_type": "markdown",
   "id": "656ca509",
   "metadata": {},
   "source": [
    "**Reading the necessary tables and feature engineering columns as per the analysed dataframe.**"
   ]
  },
  {
   "cell_type": "code",
   "execution_count": 46,
   "id": "8a1a525d",
   "metadata": {},
   "outputs": [],
   "source": [
    "Powerplay_table = pd.read_excel('Powerplay_table.xlsx').drop(columns=['Unnamed: 0'],axis=1)\n",
    "Middle_Overs_table = pd.read_excel('Middle_Overs_table.xlsx').drop(columns=['Unnamed: 0'],axis=1)\n",
    "Death_table = pd.read_excel('Death_table.xlsx').drop(columns=['Unnamed: 0'],axis=1)\n",
    "\n",
    "Powerplay_table['O/I'] = round(Powerplay_table['O']/Powerplay_table['I'],2)\n",
    "Powerplay_table['W/I'] = round(Powerplay_table['W']/Powerplay_table['I'],3)\n",
    "\n",
    "\n",
    "Middle_Overs_table['O/I'] = round(Middle_Overs_table['O']/Middle_Overs_table['I'],2)\n",
    "Middle_Overs_table['W/I'] = round(Middle_Overs_table['W']/Middle_Overs_table['I'],3)\n",
    "\n",
    "\n",
    "Death_table['O/I'] = round(Death_table['O']/Death_table['I'],2)\n",
    "Death_table['W/I'] = round(Death_table['W']/Death_table['I'],3)"
   ]
  },
  {
   "cell_type": "code",
   "execution_count": 47,
   "id": "415ab6b8",
   "metadata": {},
   "outputs": [],
   "source": [
    "Powerplay_table = Powerplay_table[(Powerplay_table['O/I']>= 1.2)&(Powerplay_table['I']>2)&(Powerplay_table['W/I']>0)&(Powerplay_table['O']>=10)]\n",
    "\n",
    "Middle_Overs_table = Middle_Overs_table[(Middle_Overs_table['O/I']>= 1.5)&(Middle_Overs_table['I']>2)&(Middle_Overs_table['O']>=10)]\n",
    "\n",
    "Death_table = Death_table[(Death_table['O/I']>= 1)&(Death_table['I']>2)&(Death_table['O']>=7)]"
   ]
  },
  {
   "cell_type": "code",
   "execution_count": 48,
   "id": "4e6cc66a",
   "metadata": {},
   "outputs": [],
   "source": [
    "# `Dot %`\n",
    "\n",
    "Powerplay_table['Dot %'] = round((Powerplay_table['Dots']/Powerplay_table['Balls']),4)*100\n",
    "Middle_Overs_table['Dot %'] = round((Middle_Overs_table['Dots']/Middle_Overs_table['Balls']),4)*100\n",
    "Death_table['Dot %'] = round((Death_table['Dots']/Death_table['Balls']),4)*100\n",
    "\n",
    "\n",
    "# `Bound%` \n",
    "\n",
    "Powerplay_table.insert(loc=19,column='Bound%',value=round(((Powerplay_table['4s']+Powerplay_table['6s'])/Powerplay_table['Balls'])*100,2))\n",
    "Middle_Overs_table.insert(loc=19,column='Bound%',value=round(((Middle_Overs_table['4s']+Middle_Overs_table['6s'])/Middle_Overs_table['Balls'])*100,2))\n",
    "Death_table.insert(loc=19,column='Bound%',value=round(((Death_table['4s']+Death_table['6s'])/Death_table['Balls'])*100,2))\n",
    "\n",
    "# `ESRA` \n",
    "\n",
    "Powerplay_table.insert(loc=14,column='ESRA',value=round((np.sqrt(Powerplay_table['SR'] + Powerplay_table['Avg']) + Powerplay_table['Econ']),3))\n",
    "Middle_Overs_table.insert(loc=14,column='ESRA',value=round((np.sqrt(Middle_Overs_table['SR'] + Middle_Overs_table['Avg']) + Middle_Overs_table['Econ']),3))\n",
    "Death_table.insert(loc=14,column='ESRA',value=round((np.sqrt(Death_table['SR'] + Death_table['Avg']) + Death_table['Econ']),3))\n",
    "\n",
    "\n",
    "# `Bound/Dots_%` \n",
    "\n",
    "Powerplay_table['Bound/Dots_%'] = round(((Powerplay_table['4s']+Powerplay_table['6s'])/Powerplay_table['Dots'])*100,2)\n",
    "Middle_Overs_table['Bound/Dots_%'] = round(((Middle_Overs_table['4s']+Middle_Overs_table['6s'])/Middle_Overs_table['Dots'])*100,2)\n",
    "Death_table['Bound/Dots_%'] = round(((Death_table['4s']+Death_table['6s'])/Death_table['Dots'])*100,2)\n",
    "\n",
    "\n",
    "# `6/4_ratio` \n",
    "\n",
    "Powerplay_table.insert(loc=20,column='6/4_ratio',value=round((Powerplay_table['6s']/Powerplay_table['4s']),2))\n",
    "Middle_Overs_table.insert(loc=20,column='6/4_ratio',value=round((Middle_Overs_table['6s']/Middle_Overs_table['4s']),2))\n",
    "Death_table.insert(loc=20,column='6/4_ratio',value=round((Death_table['6s']/Death_table['4s']),2))\n",
    "\n",
    "\n",
    "# `Replacing infinity and null values`\n",
    "\n",
    "Powerplay_table.replace({np.nan:0,np.inf:0},inplace=True)\n",
    "Middle_Overs_table.replace({np.nan:0,np.inf:0},inplace=True)\n",
    "Death_table.replace({np.nan:0,np.inf:0},inplace=True)"
   ]
  },
  {
   "cell_type": "markdown",
   "id": "fa699475",
   "metadata": {},
   "source": [
    "---------"
   ]
  },
  {
   "cell_type": "markdown",
   "id": "3e95b76c",
   "metadata": {},
   "source": [
    "T20 strategy has grown so much in the recent years, far from the 2008 season. A bowler is judged by how effective he is in his specified role. Here, in this section, I'm planning to analyze bowlers by phases of play, keep certain criteria for the roles he has to perform during these phases."
   ]
  },
  {
   "cell_type": "markdown",
   "id": "e5a7defa",
   "metadata": {},
   "source": [
    "**Analysing Powerplay bowlers**"
   ]
  },
  {
   "cell_type": "markdown",
   "id": "1dcc92aa",
   "metadata": {},
   "source": [
    "A fielding team always looks to take quick wickets of dangerous openers using the swinging ball during powerplays, when there are just two fielders outside the circle. My criteria is simple. Keep the runrate at less than 9, while taking wickets higher than 0.25"
   ]
  },
  {
   "cell_type": "code",
   "execution_count": 49,
   "id": "f838b6f2",
   "metadata": {},
   "outputs": [],
   "source": [
    "PP = Powerplay_table[Powerplay_table['W/I']>=0.25].sort_values(['ESRA','W/I'],ascending=[True,False]).head(7)"
   ]
  },
  {
   "cell_type": "code",
   "execution_count": 50,
   "id": "83f1b8d4",
   "metadata": {},
   "outputs": [
    {
     "data": {
      "text/html": [
       "<div>\n",
       "<style scoped>\n",
       "    .dataframe tbody tr th:only-of-type {\n",
       "        vertical-align: middle;\n",
       "    }\n",
       "\n",
       "    .dataframe tbody tr th {\n",
       "        vertical-align: top;\n",
       "    }\n",
       "\n",
       "    .dataframe thead th {\n",
       "        text-align: right;\n",
       "    }\n",
       "</style>\n",
       "<table border=\"1\" class=\"dataframe\">\n",
       "  <thead>\n",
       "    <tr style=\"text-align: right;\">\n",
       "      <th></th>\n",
       "      <th>Player</th>\n",
       "      <th>Team</th>\n",
       "      <th>Type</th>\n",
       "      <th>W</th>\n",
       "      <th>Econ</th>\n",
       "      <th>Avg</th>\n",
       "      <th>SR</th>\n",
       "      <th>ESRA</th>\n",
       "      <th>W/I</th>\n",
       "    </tr>\n",
       "  </thead>\n",
       "  <tbody>\n",
       "    <tr>\n",
       "      <th>66</th>\n",
       "      <td>Mohsin Khan</td>\n",
       "      <td>LSG</td>\n",
       "      <td>Fast</td>\n",
       "      <td>6</td>\n",
       "      <td>5.25</td>\n",
       "      <td>14.00</td>\n",
       "      <td>16.00</td>\n",
       "      <td>10.727</td>\n",
       "      <td>0.667</td>\n",
       "    </tr>\n",
       "    <tr>\n",
       "      <th>27</th>\n",
       "      <td>DR Sams</td>\n",
       "      <td>MI</td>\n",
       "      <td>Medium Fast</td>\n",
       "      <td>8</td>\n",
       "      <td>7.05</td>\n",
       "      <td>18.50</td>\n",
       "      <td>15.75</td>\n",
       "      <td>12.902</td>\n",
       "      <td>0.727</td>\n",
       "    </tr>\n",
       "    <tr>\n",
       "      <th>59</th>\n",
       "      <td>M Prasidh Krishna</td>\n",
       "      <td>RR</td>\n",
       "      <td>Fast</td>\n",
       "      <td>10</td>\n",
       "      <td>6.58</td>\n",
       "      <td>23.70</td>\n",
       "      <td>21.60</td>\n",
       "      <td>13.311</td>\n",
       "      <td>0.588</td>\n",
       "    </tr>\n",
       "    <tr>\n",
       "      <th>116</th>\n",
       "      <td>UT Yadav</td>\n",
       "      <td>KKR</td>\n",
       "      <td>Medium Fast</td>\n",
       "      <td>8</td>\n",
       "      <td>6.42</td>\n",
       "      <td>24.88</td>\n",
       "      <td>23.25</td>\n",
       "      <td>13.358</td>\n",
       "      <td>0.667</td>\n",
       "    </tr>\n",
       "    <tr>\n",
       "      <th>64</th>\n",
       "      <td>Mohammed Shami</td>\n",
       "      <td>GT</td>\n",
       "      <td>Fast</td>\n",
       "      <td>11</td>\n",
       "      <td>6.62</td>\n",
       "      <td>24.09</td>\n",
       "      <td>21.82</td>\n",
       "      <td>13.396</td>\n",
       "      <td>0.688</td>\n",
       "    </tr>\n",
       "    <tr>\n",
       "      <th>48</th>\n",
       "      <td>KK Ahmed</td>\n",
       "      <td>DC</td>\n",
       "      <td>Medium</td>\n",
       "      <td>4</td>\n",
       "      <td>6.11</td>\n",
       "      <td>27.50</td>\n",
       "      <td>27.00</td>\n",
       "      <td>13.492</td>\n",
       "      <td>0.400</td>\n",
       "    </tr>\n",
       "    <tr>\n",
       "      <th>41</th>\n",
       "      <td>JR Hazlewood</td>\n",
       "      <td>RCB</td>\n",
       "      <td>Medium Fast</td>\n",
       "      <td>7</td>\n",
       "      <td>6.84</td>\n",
       "      <td>24.43</td>\n",
       "      <td>21.43</td>\n",
       "      <td>13.612</td>\n",
       "      <td>0.583</td>\n",
       "    </tr>\n",
       "  </tbody>\n",
       "</table>\n",
       "</div>"
      ],
      "text/plain": [
       "                Player Team         Type   W  Econ    Avg     SR    ESRA  \\\n",
       "66         Mohsin Khan  LSG         Fast   6  5.25  14.00  16.00  10.727   \n",
       "27             DR Sams   MI  Medium Fast   8  7.05  18.50  15.75  12.902   \n",
       "59   M Prasidh Krishna   RR         Fast  10  6.58  23.70  21.60  13.311   \n",
       "116           UT Yadav  KKR  Medium Fast   8  6.42  24.88  23.25  13.358   \n",
       "64      Mohammed Shami   GT         Fast  11  6.62  24.09  21.82  13.396   \n",
       "48            KK Ahmed   DC       Medium   4  6.11  27.50  27.00  13.492   \n",
       "41        JR Hazlewood  RCB  Medium Fast   7  6.84  24.43  21.43  13.612   \n",
       "\n",
       "       W/I  \n",
       "66   0.667  \n",
       "27   0.727  \n",
       "59   0.588  \n",
       "116  0.667  \n",
       "64   0.688  \n",
       "48   0.400  \n",
       "41   0.583  "
      ]
     },
     "execution_count": 50,
     "metadata": {},
     "output_type": "execute_result"
    }
   ],
   "source": [
    "PP[['Player','Team','Type','W','Econ','Avg','SR','ESRA','W/I']]"
   ]
  },
  {
   "cell_type": "markdown",
   "id": "d0478067",
   "metadata": {},
   "source": [
    "Mohsin Khan seems to be the best bowler of the lot, having a really low economy, while also taking wickets at good intervals. Surprisingly, Daniel Sams makes the list."
   ]
  },
  {
   "cell_type": "markdown",
   "id": "e751574e",
   "metadata": {},
   "source": [
    "Visualizing the best powerplay bowlers"
   ]
  },
  {
   "cell_type": "code",
   "execution_count": 51,
   "id": "d998d5a5",
   "metadata": {},
   "outputs": [
    {
     "data": {
      "application/vnd.plotly.v1+json": {
       "config": {
        "plotlyServerURL": "https://plot.ly"
       },
       "data": [
        {
         "marker": {
          "color": "indianred"
         },
         "name": "W/I",
         "type": "bar",
         "x": [
          "Mohsin Khan",
          "DR Sams",
          "M Prasidh Krishna",
          "UT Yadav",
          "Mohammed Shami",
          "KK Ahmed",
          "JR Hazlewood"
         ],
         "xaxis": "x",
         "y": [
          0.667,
          0.727,
          0.588,
          0.667,
          0.688,
          0.4,
          0.583
         ],
         "yaxis": "y"
        },
        {
         "marker": {
          "color": "#4ab088"
         },
         "name": "Economy",
         "type": "scatter",
         "x": [
          "Mohsin Khan",
          "DR Sams",
          "M Prasidh Krishna",
          "UT Yadav",
          "Mohammed Shami",
          "KK Ahmed",
          "JR Hazlewood"
         ],
         "xaxis": "x2",
         "y": [
          5.25,
          7.05,
          6.58,
          6.42,
          6.62,
          6.11,
          6.84
         ],
         "yaxis": "y2"
        }
       ],
       "layout": {
        "annotations": [
         {
          "font": {
           "size": 16
          },
          "showarrow": false,
          "text": "Wickets per Innings",
          "x": 0.225,
          "xanchor": "center",
          "xref": "paper",
          "y": 1,
          "yanchor": "bottom",
          "yref": "paper"
         },
         {
          "font": {
           "size": 16
          },
          "showarrow": false,
          "text": "Economy",
          "x": 0.775,
          "xanchor": "center",
          "xref": "paper",
          "y": 1,
          "yanchor": "bottom",
          "yref": "paper"
         }
        ],
        "height": 400,
        "template": {
         "data": {
          "bar": [
           {
            "error_x": {
             "color": "#2a3f5f"
            },
            "error_y": {
             "color": "#2a3f5f"
            },
            "marker": {
             "line": {
              "color": "#E5ECF6",
              "width": 0.5
             },
             "pattern": {
              "fillmode": "overlay",
              "size": 10,
              "solidity": 0.2
             }
            },
            "type": "bar"
           }
          ],
          "barpolar": [
           {
            "marker": {
             "line": {
              "color": "#E5ECF6",
              "width": 0.5
             },
             "pattern": {
              "fillmode": "overlay",
              "size": 10,
              "solidity": 0.2
             }
            },
            "type": "barpolar"
           }
          ],
          "carpet": [
           {
            "aaxis": {
             "endlinecolor": "#2a3f5f",
             "gridcolor": "white",
             "linecolor": "white",
             "minorgridcolor": "white",
             "startlinecolor": "#2a3f5f"
            },
            "baxis": {
             "endlinecolor": "#2a3f5f",
             "gridcolor": "white",
             "linecolor": "white",
             "minorgridcolor": "white",
             "startlinecolor": "#2a3f5f"
            },
            "type": "carpet"
           }
          ],
          "choropleth": [
           {
            "colorbar": {
             "outlinewidth": 0,
             "ticks": ""
            },
            "type": "choropleth"
           }
          ],
          "contour": [
           {
            "colorbar": {
             "outlinewidth": 0,
             "ticks": ""
            },
            "colorscale": [
             [
              0,
              "#0d0887"
             ],
             [
              0.1111111111111111,
              "#46039f"
             ],
             [
              0.2222222222222222,
              "#7201a8"
             ],
             [
              0.3333333333333333,
              "#9c179e"
             ],
             [
              0.4444444444444444,
              "#bd3786"
             ],
             [
              0.5555555555555556,
              "#d8576b"
             ],
             [
              0.6666666666666666,
              "#ed7953"
             ],
             [
              0.7777777777777778,
              "#fb9f3a"
             ],
             [
              0.8888888888888888,
              "#fdca26"
             ],
             [
              1,
              "#f0f921"
             ]
            ],
            "type": "contour"
           }
          ],
          "contourcarpet": [
           {
            "colorbar": {
             "outlinewidth": 0,
             "ticks": ""
            },
            "type": "contourcarpet"
           }
          ],
          "heatmap": [
           {
            "colorbar": {
             "outlinewidth": 0,
             "ticks": ""
            },
            "colorscale": [
             [
              0,
              "#0d0887"
             ],
             [
              0.1111111111111111,
              "#46039f"
             ],
             [
              0.2222222222222222,
              "#7201a8"
             ],
             [
              0.3333333333333333,
              "#9c179e"
             ],
             [
              0.4444444444444444,
              "#bd3786"
             ],
             [
              0.5555555555555556,
              "#d8576b"
             ],
             [
              0.6666666666666666,
              "#ed7953"
             ],
             [
              0.7777777777777778,
              "#fb9f3a"
             ],
             [
              0.8888888888888888,
              "#fdca26"
             ],
             [
              1,
              "#f0f921"
             ]
            ],
            "type": "heatmap"
           }
          ],
          "heatmapgl": [
           {
            "colorbar": {
             "outlinewidth": 0,
             "ticks": ""
            },
            "colorscale": [
             [
              0,
              "#0d0887"
             ],
             [
              0.1111111111111111,
              "#46039f"
             ],
             [
              0.2222222222222222,
              "#7201a8"
             ],
             [
              0.3333333333333333,
              "#9c179e"
             ],
             [
              0.4444444444444444,
              "#bd3786"
             ],
             [
              0.5555555555555556,
              "#d8576b"
             ],
             [
              0.6666666666666666,
              "#ed7953"
             ],
             [
              0.7777777777777778,
              "#fb9f3a"
             ],
             [
              0.8888888888888888,
              "#fdca26"
             ],
             [
              1,
              "#f0f921"
             ]
            ],
            "type": "heatmapgl"
           }
          ],
          "histogram": [
           {
            "marker": {
             "pattern": {
              "fillmode": "overlay",
              "size": 10,
              "solidity": 0.2
             }
            },
            "type": "histogram"
           }
          ],
          "histogram2d": [
           {
            "colorbar": {
             "outlinewidth": 0,
             "ticks": ""
            },
            "colorscale": [
             [
              0,
              "#0d0887"
             ],
             [
              0.1111111111111111,
              "#46039f"
             ],
             [
              0.2222222222222222,
              "#7201a8"
             ],
             [
              0.3333333333333333,
              "#9c179e"
             ],
             [
              0.4444444444444444,
              "#bd3786"
             ],
             [
              0.5555555555555556,
              "#d8576b"
             ],
             [
              0.6666666666666666,
              "#ed7953"
             ],
             [
              0.7777777777777778,
              "#fb9f3a"
             ],
             [
              0.8888888888888888,
              "#fdca26"
             ],
             [
              1,
              "#f0f921"
             ]
            ],
            "type": "histogram2d"
           }
          ],
          "histogram2dcontour": [
           {
            "colorbar": {
             "outlinewidth": 0,
             "ticks": ""
            },
            "colorscale": [
             [
              0,
              "#0d0887"
             ],
             [
              0.1111111111111111,
              "#46039f"
             ],
             [
              0.2222222222222222,
              "#7201a8"
             ],
             [
              0.3333333333333333,
              "#9c179e"
             ],
             [
              0.4444444444444444,
              "#bd3786"
             ],
             [
              0.5555555555555556,
              "#d8576b"
             ],
             [
              0.6666666666666666,
              "#ed7953"
             ],
             [
              0.7777777777777778,
              "#fb9f3a"
             ],
             [
              0.8888888888888888,
              "#fdca26"
             ],
             [
              1,
              "#f0f921"
             ]
            ],
            "type": "histogram2dcontour"
           }
          ],
          "mesh3d": [
           {
            "colorbar": {
             "outlinewidth": 0,
             "ticks": ""
            },
            "type": "mesh3d"
           }
          ],
          "parcoords": [
           {
            "line": {
             "colorbar": {
              "outlinewidth": 0,
              "ticks": ""
             }
            },
            "type": "parcoords"
           }
          ],
          "pie": [
           {
            "automargin": true,
            "type": "pie"
           }
          ],
          "scatter": [
           {
            "marker": {
             "colorbar": {
              "outlinewidth": 0,
              "ticks": ""
             }
            },
            "type": "scatter"
           }
          ],
          "scatter3d": [
           {
            "line": {
             "colorbar": {
              "outlinewidth": 0,
              "ticks": ""
             }
            },
            "marker": {
             "colorbar": {
              "outlinewidth": 0,
              "ticks": ""
             }
            },
            "type": "scatter3d"
           }
          ],
          "scattercarpet": [
           {
            "marker": {
             "colorbar": {
              "outlinewidth": 0,
              "ticks": ""
             }
            },
            "type": "scattercarpet"
           }
          ],
          "scattergeo": [
           {
            "marker": {
             "colorbar": {
              "outlinewidth": 0,
              "ticks": ""
             }
            },
            "type": "scattergeo"
           }
          ],
          "scattergl": [
           {
            "marker": {
             "colorbar": {
              "outlinewidth": 0,
              "ticks": ""
             }
            },
            "type": "scattergl"
           }
          ],
          "scattermapbox": [
           {
            "marker": {
             "colorbar": {
              "outlinewidth": 0,
              "ticks": ""
             }
            },
            "type": "scattermapbox"
           }
          ],
          "scatterpolar": [
           {
            "marker": {
             "colorbar": {
              "outlinewidth": 0,
              "ticks": ""
             }
            },
            "type": "scatterpolar"
           }
          ],
          "scatterpolargl": [
           {
            "marker": {
             "colorbar": {
              "outlinewidth": 0,
              "ticks": ""
             }
            },
            "type": "scatterpolargl"
           }
          ],
          "scatterternary": [
           {
            "marker": {
             "colorbar": {
              "outlinewidth": 0,
              "ticks": ""
             }
            },
            "type": "scatterternary"
           }
          ],
          "surface": [
           {
            "colorbar": {
             "outlinewidth": 0,
             "ticks": ""
            },
            "colorscale": [
             [
              0,
              "#0d0887"
             ],
             [
              0.1111111111111111,
              "#46039f"
             ],
             [
              0.2222222222222222,
              "#7201a8"
             ],
             [
              0.3333333333333333,
              "#9c179e"
             ],
             [
              0.4444444444444444,
              "#bd3786"
             ],
             [
              0.5555555555555556,
              "#d8576b"
             ],
             [
              0.6666666666666666,
              "#ed7953"
             ],
             [
              0.7777777777777778,
              "#fb9f3a"
             ],
             [
              0.8888888888888888,
              "#fdca26"
             ],
             [
              1,
              "#f0f921"
             ]
            ],
            "type": "surface"
           }
          ],
          "table": [
           {
            "cells": {
             "fill": {
              "color": "#EBF0F8"
             },
             "line": {
              "color": "white"
             }
            },
            "header": {
             "fill": {
              "color": "#C8D4E3"
             },
             "line": {
              "color": "white"
             }
            },
            "type": "table"
           }
          ]
         },
         "layout": {
          "annotationdefaults": {
           "arrowcolor": "#2a3f5f",
           "arrowhead": 0,
           "arrowwidth": 1
          },
          "autotypenumbers": "strict",
          "coloraxis": {
           "colorbar": {
            "outlinewidth": 0,
            "ticks": ""
           }
          },
          "colorscale": {
           "diverging": [
            [
             0,
             "#8e0152"
            ],
            [
             0.1,
             "#c51b7d"
            ],
            [
             0.2,
             "#de77ae"
            ],
            [
             0.3,
             "#f1b6da"
            ],
            [
             0.4,
             "#fde0ef"
            ],
            [
             0.5,
             "#f7f7f7"
            ],
            [
             0.6,
             "#e6f5d0"
            ],
            [
             0.7,
             "#b8e186"
            ],
            [
             0.8,
             "#7fbc41"
            ],
            [
             0.9,
             "#4d9221"
            ],
            [
             1,
             "#276419"
            ]
           ],
           "sequential": [
            [
             0,
             "#0d0887"
            ],
            [
             0.1111111111111111,
             "#46039f"
            ],
            [
             0.2222222222222222,
             "#7201a8"
            ],
            [
             0.3333333333333333,
             "#9c179e"
            ],
            [
             0.4444444444444444,
             "#bd3786"
            ],
            [
             0.5555555555555556,
             "#d8576b"
            ],
            [
             0.6666666666666666,
             "#ed7953"
            ],
            [
             0.7777777777777778,
             "#fb9f3a"
            ],
            [
             0.8888888888888888,
             "#fdca26"
            ],
            [
             1,
             "#f0f921"
            ]
           ],
           "sequentialminus": [
            [
             0,
             "#0d0887"
            ],
            [
             0.1111111111111111,
             "#46039f"
            ],
            [
             0.2222222222222222,
             "#7201a8"
            ],
            [
             0.3333333333333333,
             "#9c179e"
            ],
            [
             0.4444444444444444,
             "#bd3786"
            ],
            [
             0.5555555555555556,
             "#d8576b"
            ],
            [
             0.6666666666666666,
             "#ed7953"
            ],
            [
             0.7777777777777778,
             "#fb9f3a"
            ],
            [
             0.8888888888888888,
             "#fdca26"
            ],
            [
             1,
             "#f0f921"
            ]
           ]
          },
          "colorway": [
           "#636efa",
           "#EF553B",
           "#00cc96",
           "#ab63fa",
           "#FFA15A",
           "#19d3f3",
           "#FF6692",
           "#B6E880",
           "#FF97FF",
           "#FECB52"
          ],
          "font": {
           "color": "#2a3f5f"
          },
          "geo": {
           "bgcolor": "white",
           "lakecolor": "white",
           "landcolor": "#E5ECF6",
           "showlakes": true,
           "showland": true,
           "subunitcolor": "white"
          },
          "hoverlabel": {
           "align": "left"
          },
          "hovermode": "closest",
          "mapbox": {
           "style": "light"
          },
          "paper_bgcolor": "white",
          "plot_bgcolor": "#E5ECF6",
          "polar": {
           "angularaxis": {
            "gridcolor": "white",
            "linecolor": "white",
            "ticks": ""
           },
           "bgcolor": "#E5ECF6",
           "radialaxis": {
            "gridcolor": "white",
            "linecolor": "white",
            "ticks": ""
           }
          },
          "scene": {
           "xaxis": {
            "backgroundcolor": "#E5ECF6",
            "gridcolor": "white",
            "gridwidth": 2,
            "linecolor": "white",
            "showbackground": true,
            "ticks": "",
            "zerolinecolor": "white"
           },
           "yaxis": {
            "backgroundcolor": "#E5ECF6",
            "gridcolor": "white",
            "gridwidth": 2,
            "linecolor": "white",
            "showbackground": true,
            "ticks": "",
            "zerolinecolor": "white"
           },
           "zaxis": {
            "backgroundcolor": "#E5ECF6",
            "gridcolor": "white",
            "gridwidth": 2,
            "linecolor": "white",
            "showbackground": true,
            "ticks": "",
            "zerolinecolor": "white"
           }
          },
          "shapedefaults": {
           "line": {
            "color": "#2a3f5f"
           }
          },
          "ternary": {
           "aaxis": {
            "gridcolor": "white",
            "linecolor": "white",
            "ticks": ""
           },
           "baxis": {
            "gridcolor": "white",
            "linecolor": "white",
            "ticks": ""
           },
           "bgcolor": "#E5ECF6",
           "caxis": {
            "gridcolor": "white",
            "linecolor": "white",
            "ticks": ""
           }
          },
          "title": {
           "x": 0.05
          },
          "xaxis": {
           "automargin": true,
           "gridcolor": "white",
           "linecolor": "white",
           "ticks": "",
           "title": {
            "standoff": 15
           },
           "zerolinecolor": "white",
           "zerolinewidth": 2
          },
          "yaxis": {
           "automargin": true,
           "gridcolor": "white",
           "linecolor": "white",
           "ticks": "",
           "title": {
            "standoff": 15
           },
           "zerolinecolor": "white",
           "zerolinewidth": 2
          }
         }
        },
        "width": 960,
        "xaxis": {
         "anchor": "y",
         "domain": [
          0,
          0.45
         ]
        },
        "xaxis2": {
         "anchor": "y2",
         "domain": [
          0.55,
          1
         ]
        },
        "yaxis": {
         "anchor": "x",
         "domain": [
          0,
          1
         ]
        },
        "yaxis2": {
         "anchor": "x2",
         "domain": [
          0,
          1
         ]
        }
       }
      },
      "text/html": [
       "<div>                            <div id=\"1b0d682c-86db-4b50-8f3a-5b35bc16f728\" class=\"plotly-graph-div\" style=\"height:400px; width:960px;\"></div>            <script type=\"text/javascript\">                require([\"plotly\"], function(Plotly) {                    window.PLOTLYENV=window.PLOTLYENV || {};                                    if (document.getElementById(\"1b0d682c-86db-4b50-8f3a-5b35bc16f728\")) {                    Plotly.newPlot(                        \"1b0d682c-86db-4b50-8f3a-5b35bc16f728\",                        [{\"marker\":{\"color\":\"indianred\"},\"name\":\"W/I\",\"x\":[\"Mohsin Khan\",\"DR Sams\",\"M Prasidh Krishna\",\"UT Yadav\",\"Mohammed Shami\",\"KK Ahmed\",\"JR Hazlewood\"],\"y\":[0.667,0.727,0.588,0.667,0.688,0.4,0.583],\"type\":\"bar\",\"xaxis\":\"x\",\"yaxis\":\"y\"},{\"marker\":{\"color\":\"#4ab088\"},\"name\":\"Economy\",\"x\":[\"Mohsin Khan\",\"DR Sams\",\"M Prasidh Krishna\",\"UT Yadav\",\"Mohammed Shami\",\"KK Ahmed\",\"JR Hazlewood\"],\"y\":[5.25,7.05,6.58,6.42,6.62,6.11,6.84],\"type\":\"scatter\",\"xaxis\":\"x2\",\"yaxis\":\"y2\"}],                        {\"template\":{\"data\":{\"bar\":[{\"error_x\":{\"color\":\"#2a3f5f\"},\"error_y\":{\"color\":\"#2a3f5f\"},\"marker\":{\"line\":{\"color\":\"#E5ECF6\",\"width\":0.5},\"pattern\":{\"fillmode\":\"overlay\",\"size\":10,\"solidity\":0.2}},\"type\":\"bar\"}],\"barpolar\":[{\"marker\":{\"line\":{\"color\":\"#E5ECF6\",\"width\":0.5},\"pattern\":{\"fillmode\":\"overlay\",\"size\":10,\"solidity\":0.2}},\"type\":\"barpolar\"}],\"carpet\":[{\"aaxis\":{\"endlinecolor\":\"#2a3f5f\",\"gridcolor\":\"white\",\"linecolor\":\"white\",\"minorgridcolor\":\"white\",\"startlinecolor\":\"#2a3f5f\"},\"baxis\":{\"endlinecolor\":\"#2a3f5f\",\"gridcolor\":\"white\",\"linecolor\":\"white\",\"minorgridcolor\":\"white\",\"startlinecolor\":\"#2a3f5f\"},\"type\":\"carpet\"}],\"choropleth\":[{\"colorbar\":{\"outlinewidth\":0,\"ticks\":\"\"},\"type\":\"choropleth\"}],\"contour\":[{\"colorbar\":{\"outlinewidth\":0,\"ticks\":\"\"},\"colorscale\":[[0.0,\"#0d0887\"],[0.1111111111111111,\"#46039f\"],[0.2222222222222222,\"#7201a8\"],[0.3333333333333333,\"#9c179e\"],[0.4444444444444444,\"#bd3786\"],[0.5555555555555556,\"#d8576b\"],[0.6666666666666666,\"#ed7953\"],[0.7777777777777778,\"#fb9f3a\"],[0.8888888888888888,\"#fdca26\"],[1.0,\"#f0f921\"]],\"type\":\"contour\"}],\"contourcarpet\":[{\"colorbar\":{\"outlinewidth\":0,\"ticks\":\"\"},\"type\":\"contourcarpet\"}],\"heatmap\":[{\"colorbar\":{\"outlinewidth\":0,\"ticks\":\"\"},\"colorscale\":[[0.0,\"#0d0887\"],[0.1111111111111111,\"#46039f\"],[0.2222222222222222,\"#7201a8\"],[0.3333333333333333,\"#9c179e\"],[0.4444444444444444,\"#bd3786\"],[0.5555555555555556,\"#d8576b\"],[0.6666666666666666,\"#ed7953\"],[0.7777777777777778,\"#fb9f3a\"],[0.8888888888888888,\"#fdca26\"],[1.0,\"#f0f921\"]],\"type\":\"heatmap\"}],\"heatmapgl\":[{\"colorbar\":{\"outlinewidth\":0,\"ticks\":\"\"},\"colorscale\":[[0.0,\"#0d0887\"],[0.1111111111111111,\"#46039f\"],[0.2222222222222222,\"#7201a8\"],[0.3333333333333333,\"#9c179e\"],[0.4444444444444444,\"#bd3786\"],[0.5555555555555556,\"#d8576b\"],[0.6666666666666666,\"#ed7953\"],[0.7777777777777778,\"#fb9f3a\"],[0.8888888888888888,\"#fdca26\"],[1.0,\"#f0f921\"]],\"type\":\"heatmapgl\"}],\"histogram\":[{\"marker\":{\"pattern\":{\"fillmode\":\"overlay\",\"size\":10,\"solidity\":0.2}},\"type\":\"histogram\"}],\"histogram2d\":[{\"colorbar\":{\"outlinewidth\":0,\"ticks\":\"\"},\"colorscale\":[[0.0,\"#0d0887\"],[0.1111111111111111,\"#46039f\"],[0.2222222222222222,\"#7201a8\"],[0.3333333333333333,\"#9c179e\"],[0.4444444444444444,\"#bd3786\"],[0.5555555555555556,\"#d8576b\"],[0.6666666666666666,\"#ed7953\"],[0.7777777777777778,\"#fb9f3a\"],[0.8888888888888888,\"#fdca26\"],[1.0,\"#f0f921\"]],\"type\":\"histogram2d\"}],\"histogram2dcontour\":[{\"colorbar\":{\"outlinewidth\":0,\"ticks\":\"\"},\"colorscale\":[[0.0,\"#0d0887\"],[0.1111111111111111,\"#46039f\"],[0.2222222222222222,\"#7201a8\"],[0.3333333333333333,\"#9c179e\"],[0.4444444444444444,\"#bd3786\"],[0.5555555555555556,\"#d8576b\"],[0.6666666666666666,\"#ed7953\"],[0.7777777777777778,\"#fb9f3a\"],[0.8888888888888888,\"#fdca26\"],[1.0,\"#f0f921\"]],\"type\":\"histogram2dcontour\"}],\"mesh3d\":[{\"colorbar\":{\"outlinewidth\":0,\"ticks\":\"\"},\"type\":\"mesh3d\"}],\"parcoords\":[{\"line\":{\"colorbar\":{\"outlinewidth\":0,\"ticks\":\"\"}},\"type\":\"parcoords\"}],\"pie\":[{\"automargin\":true,\"type\":\"pie\"}],\"scatter\":[{\"marker\":{\"colorbar\":{\"outlinewidth\":0,\"ticks\":\"\"}},\"type\":\"scatter\"}],\"scatter3d\":[{\"line\":{\"colorbar\":{\"outlinewidth\":0,\"ticks\":\"\"}},\"marker\":{\"colorbar\":{\"outlinewidth\":0,\"ticks\":\"\"}},\"type\":\"scatter3d\"}],\"scattercarpet\":[{\"marker\":{\"colorbar\":{\"outlinewidth\":0,\"ticks\":\"\"}},\"type\":\"scattercarpet\"}],\"scattergeo\":[{\"marker\":{\"colorbar\":{\"outlinewidth\":0,\"ticks\":\"\"}},\"type\":\"scattergeo\"}],\"scattergl\":[{\"marker\":{\"colorbar\":{\"outlinewidth\":0,\"ticks\":\"\"}},\"type\":\"scattergl\"}],\"scattermapbox\":[{\"marker\":{\"colorbar\":{\"outlinewidth\":0,\"ticks\":\"\"}},\"type\":\"scattermapbox\"}],\"scatterpolar\":[{\"marker\":{\"colorbar\":{\"outlinewidth\":0,\"ticks\":\"\"}},\"type\":\"scatterpolar\"}],\"scatterpolargl\":[{\"marker\":{\"colorbar\":{\"outlinewidth\":0,\"ticks\":\"\"}},\"type\":\"scatterpolargl\"}],\"scatterternary\":[{\"marker\":{\"colorbar\":{\"outlinewidth\":0,\"ticks\":\"\"}},\"type\":\"scatterternary\"}],\"surface\":[{\"colorbar\":{\"outlinewidth\":0,\"ticks\":\"\"},\"colorscale\":[[0.0,\"#0d0887\"],[0.1111111111111111,\"#46039f\"],[0.2222222222222222,\"#7201a8\"],[0.3333333333333333,\"#9c179e\"],[0.4444444444444444,\"#bd3786\"],[0.5555555555555556,\"#d8576b\"],[0.6666666666666666,\"#ed7953\"],[0.7777777777777778,\"#fb9f3a\"],[0.8888888888888888,\"#fdca26\"],[1.0,\"#f0f921\"]],\"type\":\"surface\"}],\"table\":[{\"cells\":{\"fill\":{\"color\":\"#EBF0F8\"},\"line\":{\"color\":\"white\"}},\"header\":{\"fill\":{\"color\":\"#C8D4E3\"},\"line\":{\"color\":\"white\"}},\"type\":\"table\"}]},\"layout\":{\"annotationdefaults\":{\"arrowcolor\":\"#2a3f5f\",\"arrowhead\":0,\"arrowwidth\":1},\"autotypenumbers\":\"strict\",\"coloraxis\":{\"colorbar\":{\"outlinewidth\":0,\"ticks\":\"\"}},\"colorscale\":{\"diverging\":[[0,\"#8e0152\"],[0.1,\"#c51b7d\"],[0.2,\"#de77ae\"],[0.3,\"#f1b6da\"],[0.4,\"#fde0ef\"],[0.5,\"#f7f7f7\"],[0.6,\"#e6f5d0\"],[0.7,\"#b8e186\"],[0.8,\"#7fbc41\"],[0.9,\"#4d9221\"],[1,\"#276419\"]],\"sequential\":[[0.0,\"#0d0887\"],[0.1111111111111111,\"#46039f\"],[0.2222222222222222,\"#7201a8\"],[0.3333333333333333,\"#9c179e\"],[0.4444444444444444,\"#bd3786\"],[0.5555555555555556,\"#d8576b\"],[0.6666666666666666,\"#ed7953\"],[0.7777777777777778,\"#fb9f3a\"],[0.8888888888888888,\"#fdca26\"],[1.0,\"#f0f921\"]],\"sequentialminus\":[[0.0,\"#0d0887\"],[0.1111111111111111,\"#46039f\"],[0.2222222222222222,\"#7201a8\"],[0.3333333333333333,\"#9c179e\"],[0.4444444444444444,\"#bd3786\"],[0.5555555555555556,\"#d8576b\"],[0.6666666666666666,\"#ed7953\"],[0.7777777777777778,\"#fb9f3a\"],[0.8888888888888888,\"#fdca26\"],[1.0,\"#f0f921\"]]},\"colorway\":[\"#636efa\",\"#EF553B\",\"#00cc96\",\"#ab63fa\",\"#FFA15A\",\"#19d3f3\",\"#FF6692\",\"#B6E880\",\"#FF97FF\",\"#FECB52\"],\"font\":{\"color\":\"#2a3f5f\"},\"geo\":{\"bgcolor\":\"white\",\"lakecolor\":\"white\",\"landcolor\":\"#E5ECF6\",\"showlakes\":true,\"showland\":true,\"subunitcolor\":\"white\"},\"hoverlabel\":{\"align\":\"left\"},\"hovermode\":\"closest\",\"mapbox\":{\"style\":\"light\"},\"paper_bgcolor\":\"white\",\"plot_bgcolor\":\"#E5ECF6\",\"polar\":{\"angularaxis\":{\"gridcolor\":\"white\",\"linecolor\":\"white\",\"ticks\":\"\"},\"bgcolor\":\"#E5ECF6\",\"radialaxis\":{\"gridcolor\":\"white\",\"linecolor\":\"white\",\"ticks\":\"\"}},\"scene\":{\"xaxis\":{\"backgroundcolor\":\"#E5ECF6\",\"gridcolor\":\"white\",\"gridwidth\":2,\"linecolor\":\"white\",\"showbackground\":true,\"ticks\":\"\",\"zerolinecolor\":\"white\"},\"yaxis\":{\"backgroundcolor\":\"#E5ECF6\",\"gridcolor\":\"white\",\"gridwidth\":2,\"linecolor\":\"white\",\"showbackground\":true,\"ticks\":\"\",\"zerolinecolor\":\"white\"},\"zaxis\":{\"backgroundcolor\":\"#E5ECF6\",\"gridcolor\":\"white\",\"gridwidth\":2,\"linecolor\":\"white\",\"showbackground\":true,\"ticks\":\"\",\"zerolinecolor\":\"white\"}},\"shapedefaults\":{\"line\":{\"color\":\"#2a3f5f\"}},\"ternary\":{\"aaxis\":{\"gridcolor\":\"white\",\"linecolor\":\"white\",\"ticks\":\"\"},\"baxis\":{\"gridcolor\":\"white\",\"linecolor\":\"white\",\"ticks\":\"\"},\"bgcolor\":\"#E5ECF6\",\"caxis\":{\"gridcolor\":\"white\",\"linecolor\":\"white\",\"ticks\":\"\"}},\"title\":{\"x\":0.05},\"xaxis\":{\"automargin\":true,\"gridcolor\":\"white\",\"linecolor\":\"white\",\"ticks\":\"\",\"title\":{\"standoff\":15},\"zerolinecolor\":\"white\",\"zerolinewidth\":2},\"yaxis\":{\"automargin\":true,\"gridcolor\":\"white\",\"linecolor\":\"white\",\"ticks\":\"\",\"title\":{\"standoff\":15},\"zerolinecolor\":\"white\",\"zerolinewidth\":2}}},\"xaxis\":{\"anchor\":\"y\",\"domain\":[0.0,0.45]},\"yaxis\":{\"anchor\":\"x\",\"domain\":[0.0,1.0]},\"xaxis2\":{\"anchor\":\"y2\",\"domain\":[0.55,1.0]},\"yaxis2\":{\"anchor\":\"x2\",\"domain\":[0.0,1.0]},\"annotations\":[{\"font\":{\"size\":16},\"showarrow\":false,\"text\":\"Wickets per Innings\",\"x\":0.225,\"xanchor\":\"center\",\"xref\":\"paper\",\"y\":1.0,\"yanchor\":\"bottom\",\"yref\":\"paper\"},{\"font\":{\"size\":16},\"showarrow\":false,\"text\":\"Economy\",\"x\":0.775,\"xanchor\":\"center\",\"xref\":\"paper\",\"y\":1.0,\"yanchor\":\"bottom\",\"yref\":\"paper\"}],\"height\":400,\"width\":960},                        {\"responsive\": true}                    ).then(function(){\n",
       "                            \n",
       "var gd = document.getElementById('1b0d682c-86db-4b50-8f3a-5b35bc16f728');\n",
       "var x = new MutationObserver(function (mutations, observer) {{\n",
       "        var display = window.getComputedStyle(gd).display;\n",
       "        if (!display || display === 'none') {{\n",
       "            console.log([gd, 'removed!']);\n",
       "            Plotly.purge(gd);\n",
       "            observer.disconnect();\n",
       "        }}\n",
       "}});\n",
       "\n",
       "// Listen for the removal of the full notebook cells\n",
       "var notebookContainer = gd.closest('#notebook-container');\n",
       "if (notebookContainer) {{\n",
       "    x.observe(notebookContainer, {childList: true});\n",
       "}}\n",
       "\n",
       "// Listen for the clearing of the current output cell\n",
       "var outputEl = gd.closest('.output');\n",
       "if (outputEl) {{\n",
       "    x.observe(outputEl, {childList: true});\n",
       "}}\n",
       "\n",
       "                        })                };                });            </script>        </div>"
      ]
     },
     "metadata": {},
     "output_type": "display_data"
    }
   ],
   "source": [
    "\n",
    "fig = make_subplots(rows=1, cols=2,subplot_titles=['Wickets per Innings','Economy'])\n",
    "\n",
    "fig.add_trace(go.Bar(name = 'W/I',x=PP['Player'], y=PP['W/I'],marker_color='indianred'),row=1, col=1)\n",
    "\n",
    "fig.add_trace(go.Scatter(name='Economy',x=PP['Player'], y=PP['Econ'],marker_color='#4ab088'),row=1, col=2)#red\n",
    "# fig.add_trace(go.Scatter(x=PP['Econ'], y=PP['ESRA']),row=2, col=1)\n",
    "\n",
    "fig.update_layout(height=400, width=960)\n",
    "fig.show()"
   ]
  },
  {
   "cell_type": "markdown",
   "id": "02cd70e9",
   "metadata": {},
   "source": [
    "\n"
   ]
  },
  {
   "cell_type": "code",
   "execution_count": 52,
   "id": "93c8a6a5",
   "metadata": {},
   "outputs": [
    {
     "data": {
      "text/html": [
       "<div>\n",
       "<style scoped>\n",
       "    .dataframe tbody tr th:only-of-type {\n",
       "        vertical-align: middle;\n",
       "    }\n",
       "\n",
       "    .dataframe tbody tr th {\n",
       "        vertical-align: top;\n",
       "    }\n",
       "\n",
       "    .dataframe thead th {\n",
       "        text-align: right;\n",
       "    }\n",
       "</style>\n",
       "<table border=\"1\" class=\"dataframe\">\n",
       "  <thead>\n",
       "    <tr style=\"text-align: right;\">\n",
       "      <th></th>\n",
       "      <th>Player</th>\n",
       "      <th>Team</th>\n",
       "      <th>Type</th>\n",
       "      <th>W</th>\n",
       "      <th>Econ</th>\n",
       "      <th>Avg</th>\n",
       "      <th>SR</th>\n",
       "      <th>ESRA</th>\n",
       "      <th>W/I</th>\n",
       "    </tr>\n",
       "  </thead>\n",
       "  <tbody>\n",
       "    <tr>\n",
       "      <th>65</th>\n",
       "      <td>Mohammed Siraj</td>\n",
       "      <td>RCB</td>\n",
       "      <td>Medium Fast</td>\n",
       "      <td>5</td>\n",
       "      <td>10.23</td>\n",
       "      <td>63.4</td>\n",
       "      <td>37.2</td>\n",
       "      <td>20.260</td>\n",
       "      <td>0.333</td>\n",
       "    </tr>\n",
       "    <tr>\n",
       "      <th>1</th>\n",
       "      <td>A Nortje</td>\n",
       "      <td>DC</td>\n",
       "      <td>Fast</td>\n",
       "      <td>3</td>\n",
       "      <td>9.30</td>\n",
       "      <td>31.0</td>\n",
       "      <td>20.0</td>\n",
       "      <td>16.441</td>\n",
       "      <td>0.500</td>\n",
       "    </tr>\n",
       "    <tr>\n",
       "      <th>107</th>\n",
       "      <td>SN Thakur</td>\n",
       "      <td>DC</td>\n",
       "      <td>Medium Fast</td>\n",
       "      <td>4</td>\n",
       "      <td>8.70</td>\n",
       "      <td>43.5</td>\n",
       "      <td>30.0</td>\n",
       "      <td>17.273</td>\n",
       "      <td>0.286</td>\n",
       "    </tr>\n",
       "  </tbody>\n",
       "</table>\n",
       "</div>"
      ],
      "text/plain": [
       "             Player Team         Type  W   Econ   Avg    SR    ESRA    W/I\n",
       "65   Mohammed Siraj  RCB  Medium Fast  5  10.23  63.4  37.2  20.260  0.333\n",
       "1          A Nortje   DC         Fast  3   9.30  31.0  20.0  16.441  0.500\n",
       "107       SN Thakur   DC  Medium Fast  4   8.70  43.5  30.0  17.273  0.286"
      ]
     },
     "execution_count": 52,
     "metadata": {},
     "output_type": "execute_result"
    }
   ],
   "source": [
    "Powerplay_table[Powerplay_table['W/I']<=0.5].sort_values(['Econ','W/I'],ascending=[False,True]).head(3)[['Player','Team','Type','W','Econ','Avg','SR','ESRA','W/I']]                   "
   ]
  },
  {
   "cell_type": "markdown",
   "id": "1bc75dc6",
   "metadata": {},
   "source": [
    "No surprises here, Siraj statistically has been the worst Powerplay bowler of IPL 2022, and he is in glorious company of Lord Thakur and Anrich Nortje (shame really, that hip injury has really taken the wind out of him)."
   ]
  },
  {
   "cell_type": "markdown",
   "id": "a16b58c5",
   "metadata": {},
   "source": [
    "**Analysing Middle Overs bowlers**"
   ]
  },
  {
   "cell_type": "markdown",
   "id": "2b94335b",
   "metadata": {},
   "source": [
    "We are going to go with two different approcahes. One, to find bowlers who take wickets at the cost of runs, and vice-versa. Ideally a team would want both types of players to complement each other, with one increasing the pressure on the batting side with their measly economy rate, and the other utilizing the pressure to take wickets."
   ]
  },
  {
   "cell_type": "code",
   "execution_count": 53,
   "id": "308508e7",
   "metadata": {},
   "outputs": [
    {
     "data": {
      "text/html": [
       "<div>\n",
       "<style scoped>\n",
       "    .dataframe tbody tr th:only-of-type {\n",
       "        vertical-align: middle;\n",
       "    }\n",
       "\n",
       "    .dataframe tbody tr th {\n",
       "        vertical-align: top;\n",
       "    }\n",
       "\n",
       "    .dataframe thead th {\n",
       "        text-align: right;\n",
       "    }\n",
       "</style>\n",
       "<table border=\"1\" class=\"dataframe\">\n",
       "  <thead>\n",
       "    <tr style=\"text-align: right;\">\n",
       "      <th></th>\n",
       "      <th>Player</th>\n",
       "      <th>Team</th>\n",
       "      <th>Hand</th>\n",
       "      <th>Type</th>\n",
       "      <th>Nationality</th>\n",
       "      <th>I</th>\n",
       "      <th>O</th>\n",
       "      <th>Balls</th>\n",
       "      <th>R</th>\n",
       "      <th>Extras</th>\n",
       "      <th>W</th>\n",
       "      <th>Econ</th>\n",
       "      <th>Avg</th>\n",
       "      <th>SR</th>\n",
       "      <th>ESRA</th>\n",
       "      <th>4s</th>\n",
       "      <th>6s</th>\n",
       "      <th>Dots</th>\n",
       "      <th>O/I</th>\n",
       "      <th>W/I</th>\n",
       "      <th>6/4_ratio</th>\n",
       "      <th>Bound%</th>\n",
       "      <th>Dot %</th>\n",
       "      <th>Bound/Dots_%</th>\n",
       "    </tr>\n",
       "  </thead>\n",
       "  <tbody>\n",
       "    <tr>\n",
       "      <th>51</th>\n",
       "      <td>Kuldeep Yadav</td>\n",
       "      <td>DC</td>\n",
       "      <td>L</td>\n",
       "      <td>Legbreak</td>\n",
       "      <td>India</td>\n",
       "      <td>14</td>\n",
       "      <td>47.4</td>\n",
       "      <td>286</td>\n",
       "      <td>397</td>\n",
       "      <td>5</td>\n",
       "      <td>20</td>\n",
       "      <td>8.33</td>\n",
       "      <td>19.85</td>\n",
       "      <td>14.30</td>\n",
       "      <td>14.174</td>\n",
       "      <td>27</td>\n",
       "      <td>21</td>\n",
       "      <td>91</td>\n",
       "      <td>3.39</td>\n",
       "      <td>1.429</td>\n",
       "      <td>0.78</td>\n",
       "      <td>16.78</td>\n",
       "      <td>31.82</td>\n",
       "      <td>52.75</td>\n",
       "    </tr>\n",
       "    <tr>\n",
       "      <th>115</th>\n",
       "      <td>Umran Malik</td>\n",
       "      <td>SRH</td>\n",
       "      <td>R</td>\n",
       "      <td>Fast</td>\n",
       "      <td>India</td>\n",
       "      <td>14</td>\n",
       "      <td>44.2</td>\n",
       "      <td>266</td>\n",
       "      <td>375</td>\n",
       "      <td>19</td>\n",
       "      <td>19</td>\n",
       "      <td>8.46</td>\n",
       "      <td>19.74</td>\n",
       "      <td>14.00</td>\n",
       "      <td>14.269</td>\n",
       "      <td>44</td>\n",
       "      <td>13</td>\n",
       "      <td>118</td>\n",
       "      <td>3.16</td>\n",
       "      <td>1.357</td>\n",
       "      <td>0.30</td>\n",
       "      <td>21.43</td>\n",
       "      <td>44.36</td>\n",
       "      <td>48.31</td>\n",
       "    </tr>\n",
       "    <tr>\n",
       "      <th>82</th>\n",
       "      <td>PWH de Silva</td>\n",
       "      <td>RCB</td>\n",
       "      <td>R</td>\n",
       "      <td>Legbreak</td>\n",
       "      <td>Sri Lanka</td>\n",
       "      <td>16</td>\n",
       "      <td>48.0</td>\n",
       "      <td>288</td>\n",
       "      <td>349</td>\n",
       "      <td>5</td>\n",
       "      <td>20</td>\n",
       "      <td>7.27</td>\n",
       "      <td>17.45</td>\n",
       "      <td>14.40</td>\n",
       "      <td>12.914</td>\n",
       "      <td>17</td>\n",
       "      <td>23</td>\n",
       "      <td>115</td>\n",
       "      <td>3.00</td>\n",
       "      <td>1.250</td>\n",
       "      <td>1.35</td>\n",
       "      <td>13.89</td>\n",
       "      <td>39.93</td>\n",
       "      <td>34.78</td>\n",
       "    </tr>\n",
       "    <tr>\n",
       "      <th>42</th>\n",
       "      <td>K Gowtham</td>\n",
       "      <td>LSG</td>\n",
       "      <td>R</td>\n",
       "      <td>Offbreak</td>\n",
       "      <td>India</td>\n",
       "      <td>4</td>\n",
       "      <td>10.0</td>\n",
       "      <td>60</td>\n",
       "      <td>77</td>\n",
       "      <td>0</td>\n",
       "      <td>5</td>\n",
       "      <td>7.70</td>\n",
       "      <td>15.40</td>\n",
       "      <td>12.00</td>\n",
       "      <td>12.935</td>\n",
       "      <td>2</td>\n",
       "      <td>7</td>\n",
       "      <td>26</td>\n",
       "      <td>2.50</td>\n",
       "      <td>1.250</td>\n",
       "      <td>3.50</td>\n",
       "      <td>15.00</td>\n",
       "      <td>43.33</td>\n",
       "      <td>34.62</td>\n",
       "    </tr>\n",
       "    <tr>\n",
       "      <th>124</th>\n",
       "      <td>YS Chahal</td>\n",
       "      <td>RR</td>\n",
       "      <td>R</td>\n",
       "      <td>Legbreak</td>\n",
       "      <td>India</td>\n",
       "      <td>17</td>\n",
       "      <td>53.0</td>\n",
       "      <td>318</td>\n",
       "      <td>394</td>\n",
       "      <td>14</td>\n",
       "      <td>20</td>\n",
       "      <td>7.43</td>\n",
       "      <td>19.70</td>\n",
       "      <td>15.90</td>\n",
       "      <td>13.397</td>\n",
       "      <td>21</td>\n",
       "      <td>17</td>\n",
       "      <td>100</td>\n",
       "      <td>3.12</td>\n",
       "      <td>1.176</td>\n",
       "      <td>0.81</td>\n",
       "      <td>11.95</td>\n",
       "      <td>31.45</td>\n",
       "      <td>38.00</td>\n",
       "    </tr>\n",
       "    <tr>\n",
       "      <th>93</th>\n",
       "      <td>Rashid Khan</td>\n",
       "      <td>GT</td>\n",
       "      <td>R</td>\n",
       "      <td>Legbreak</td>\n",
       "      <td>Afghanistan</td>\n",
       "      <td>16</td>\n",
       "      <td>51.5</td>\n",
       "      <td>311</td>\n",
       "      <td>322</td>\n",
       "      <td>7</td>\n",
       "      <td>17</td>\n",
       "      <td>6.21</td>\n",
       "      <td>18.94</td>\n",
       "      <td>18.29</td>\n",
       "      <td>12.312</td>\n",
       "      <td>10</td>\n",
       "      <td>12</td>\n",
       "      <td>103</td>\n",
       "      <td>3.22</td>\n",
       "      <td>1.062</td>\n",
       "      <td>1.20</td>\n",
       "      <td>7.07</td>\n",
       "      <td>33.12</td>\n",
       "      <td>21.36</td>\n",
       "    </tr>\n",
       "    <tr>\n",
       "      <th>36</th>\n",
       "      <td>J Suchith</td>\n",
       "      <td>SRH</td>\n",
       "      <td>L</td>\n",
       "      <td>Offbreak</td>\n",
       "      <td>India</td>\n",
       "      <td>5</td>\n",
       "      <td>14.0</td>\n",
       "      <td>84</td>\n",
       "      <td>96</td>\n",
       "      <td>5</td>\n",
       "      <td>5</td>\n",
       "      <td>6.86</td>\n",
       "      <td>19.20</td>\n",
       "      <td>16.80</td>\n",
       "      <td>12.860</td>\n",
       "      <td>5</td>\n",
       "      <td>5</td>\n",
       "      <td>38</td>\n",
       "      <td>2.80</td>\n",
       "      <td>1.000</td>\n",
       "      <td>1.00</td>\n",
       "      <td>11.90</td>\n",
       "      <td>45.24</td>\n",
       "      <td>26.32</td>\n",
       "    </tr>\n",
       "  </tbody>\n",
       "</table>\n",
       "</div>"
      ],
      "text/plain": [
       "            Player Team Hand      Type  Nationality   I     O  Balls    R  \\\n",
       "51   Kuldeep Yadav   DC    L  Legbreak        India  14  47.4    286  397   \n",
       "115    Umran Malik  SRH    R      Fast        India  14  44.2    266  375   \n",
       "82    PWH de Silva  RCB    R  Legbreak    Sri Lanka  16  48.0    288  349   \n",
       "42       K Gowtham  LSG    R  Offbreak        India   4  10.0     60   77   \n",
       "124      YS Chahal   RR    R  Legbreak        India  17  53.0    318  394   \n",
       "93     Rashid Khan   GT    R  Legbreak  Afghanistan  16  51.5    311  322   \n",
       "36       J Suchith  SRH    L  Offbreak        India   5  14.0     84   96   \n",
       "\n",
       "     Extras   W  Econ    Avg     SR    ESRA  4s  6s  Dots   O/I    W/I  \\\n",
       "51        5  20  8.33  19.85  14.30  14.174  27  21    91  3.39  1.429   \n",
       "115      19  19  8.46  19.74  14.00  14.269  44  13   118  3.16  1.357   \n",
       "82        5  20  7.27  17.45  14.40  12.914  17  23   115  3.00  1.250   \n",
       "42        0   5  7.70  15.40  12.00  12.935   2   7    26  2.50  1.250   \n",
       "124      14  20  7.43  19.70  15.90  13.397  21  17   100  3.12  1.176   \n",
       "93        7  17  6.21  18.94  18.29  12.312  10  12   103  3.22  1.062   \n",
       "36        5   5  6.86  19.20  16.80  12.860   5   5    38  2.80  1.000   \n",
       "\n",
       "     6/4_ratio  Bound%  Dot %  Bound/Dots_%  \n",
       "51        0.78   16.78  31.82         52.75  \n",
       "115       0.30   21.43  44.36         48.31  \n",
       "82        1.35   13.89  39.93         34.78  \n",
       "42        3.50   15.00  43.33         34.62  \n",
       "124       0.81   11.95  31.45         38.00  \n",
       "93        1.20    7.07  33.12         21.36  \n",
       "36        1.00   11.90  45.24         26.32  "
      ]
     },
     "execution_count": 53,
     "metadata": {},
     "output_type": "execute_result"
    }
   ],
   "source": [
    "mo_strike = Middle_Overs_table.sort_values('W/I',ascending=False).head(7)\n",
    "mo_strike"
   ]
  },
  {
   "cell_type": "markdown",
   "id": "9c2f28bf",
   "metadata": {},
   "source": [
    "Strike bowlers"
   ]
  },
  {
   "cell_type": "code",
   "execution_count": 54,
   "id": "fdada2ee",
   "metadata": {},
   "outputs": [
    {
     "data": {
      "application/vnd.plotly.v1+json": {
       "config": {
        "plotlyServerURL": "https://plot.ly"
       },
       "data": [
        {
         "marker": {
          "color": "#f2c64c"
         },
         "name": "W/I x 10",
         "type": "bar",
         "x": [
          "Kuldeep Yadav",
          "Umran Malik",
          "PWH de Silva",
          "K Gowtham",
          "YS Chahal",
          "Rashid Khan",
          "J Suchith"
         ],
         "xaxis": "x",
         "y": [
          14.290000000000001,
          13.57,
          12.5,
          12.5,
          11.76,
          10.620000000000001,
          10
         ],
         "yaxis": "y"
        },
        {
         "marker": {
          "color": "#4c78f2"
         },
         "name": "Econ",
         "type": "scatter",
         "x": [
          "Kuldeep Yadav",
          "Umran Malik",
          "PWH de Silva",
          "K Gowtham",
          "YS Chahal",
          "Rashid Khan",
          "J Suchith"
         ],
         "xaxis": "x",
         "y": [
          8.33,
          8.46,
          7.27,
          7.7,
          7.43,
          6.21,
          6.86
         ],
         "yaxis": "y"
        },
        {
         "name": "Bound%",
         "type": "scatter",
         "x": [
          "Kuldeep Yadav",
          "Umran Malik",
          "PWH de Silva",
          "K Gowtham",
          "YS Chahal",
          "Rashid Khan",
          "J Suchith"
         ],
         "xaxis": "x2",
         "y": [
          16.78,
          21.43,
          13.89,
          15,
          11.95,
          7.07,
          11.9
         ],
         "yaxis": "y2"
        }
       ],
       "layout": {
        "annotations": [
         {
          "font": {
           "size": 16
          },
          "showarrow": false,
          "text": "Wickets per Innings & Economy rate",
          "x": 0.225,
          "xanchor": "center",
          "xref": "paper",
          "y": 1,
          "yanchor": "bottom",
          "yref": "paper"
         },
         {
          "font": {
           "size": 16
          },
          "showarrow": false,
          "text": "Bound%",
          "x": 0.775,
          "xanchor": "center",
          "xref": "paper",
          "y": 1,
          "yanchor": "bottom",
          "yref": "paper"
         }
        ],
        "height": 400,
        "template": {
         "data": {
          "bar": [
           {
            "error_x": {
             "color": "#2a3f5f"
            },
            "error_y": {
             "color": "#2a3f5f"
            },
            "marker": {
             "line": {
              "color": "#E5ECF6",
              "width": 0.5
             },
             "pattern": {
              "fillmode": "overlay",
              "size": 10,
              "solidity": 0.2
             }
            },
            "type": "bar"
           }
          ],
          "barpolar": [
           {
            "marker": {
             "line": {
              "color": "#E5ECF6",
              "width": 0.5
             },
             "pattern": {
              "fillmode": "overlay",
              "size": 10,
              "solidity": 0.2
             }
            },
            "type": "barpolar"
           }
          ],
          "carpet": [
           {
            "aaxis": {
             "endlinecolor": "#2a3f5f",
             "gridcolor": "white",
             "linecolor": "white",
             "minorgridcolor": "white",
             "startlinecolor": "#2a3f5f"
            },
            "baxis": {
             "endlinecolor": "#2a3f5f",
             "gridcolor": "white",
             "linecolor": "white",
             "minorgridcolor": "white",
             "startlinecolor": "#2a3f5f"
            },
            "type": "carpet"
           }
          ],
          "choropleth": [
           {
            "colorbar": {
             "outlinewidth": 0,
             "ticks": ""
            },
            "type": "choropleth"
           }
          ],
          "contour": [
           {
            "colorbar": {
             "outlinewidth": 0,
             "ticks": ""
            },
            "colorscale": [
             [
              0,
              "#0d0887"
             ],
             [
              0.1111111111111111,
              "#46039f"
             ],
             [
              0.2222222222222222,
              "#7201a8"
             ],
             [
              0.3333333333333333,
              "#9c179e"
             ],
             [
              0.4444444444444444,
              "#bd3786"
             ],
             [
              0.5555555555555556,
              "#d8576b"
             ],
             [
              0.6666666666666666,
              "#ed7953"
             ],
             [
              0.7777777777777778,
              "#fb9f3a"
             ],
             [
              0.8888888888888888,
              "#fdca26"
             ],
             [
              1,
              "#f0f921"
             ]
            ],
            "type": "contour"
           }
          ],
          "contourcarpet": [
           {
            "colorbar": {
             "outlinewidth": 0,
             "ticks": ""
            },
            "type": "contourcarpet"
           }
          ],
          "heatmap": [
           {
            "colorbar": {
             "outlinewidth": 0,
             "ticks": ""
            },
            "colorscale": [
             [
              0,
              "#0d0887"
             ],
             [
              0.1111111111111111,
              "#46039f"
             ],
             [
              0.2222222222222222,
              "#7201a8"
             ],
             [
              0.3333333333333333,
              "#9c179e"
             ],
             [
              0.4444444444444444,
              "#bd3786"
             ],
             [
              0.5555555555555556,
              "#d8576b"
             ],
             [
              0.6666666666666666,
              "#ed7953"
             ],
             [
              0.7777777777777778,
              "#fb9f3a"
             ],
             [
              0.8888888888888888,
              "#fdca26"
             ],
             [
              1,
              "#f0f921"
             ]
            ],
            "type": "heatmap"
           }
          ],
          "heatmapgl": [
           {
            "colorbar": {
             "outlinewidth": 0,
             "ticks": ""
            },
            "colorscale": [
             [
              0,
              "#0d0887"
             ],
             [
              0.1111111111111111,
              "#46039f"
             ],
             [
              0.2222222222222222,
              "#7201a8"
             ],
             [
              0.3333333333333333,
              "#9c179e"
             ],
             [
              0.4444444444444444,
              "#bd3786"
             ],
             [
              0.5555555555555556,
              "#d8576b"
             ],
             [
              0.6666666666666666,
              "#ed7953"
             ],
             [
              0.7777777777777778,
              "#fb9f3a"
             ],
             [
              0.8888888888888888,
              "#fdca26"
             ],
             [
              1,
              "#f0f921"
             ]
            ],
            "type": "heatmapgl"
           }
          ],
          "histogram": [
           {
            "marker": {
             "pattern": {
              "fillmode": "overlay",
              "size": 10,
              "solidity": 0.2
             }
            },
            "type": "histogram"
           }
          ],
          "histogram2d": [
           {
            "colorbar": {
             "outlinewidth": 0,
             "ticks": ""
            },
            "colorscale": [
             [
              0,
              "#0d0887"
             ],
             [
              0.1111111111111111,
              "#46039f"
             ],
             [
              0.2222222222222222,
              "#7201a8"
             ],
             [
              0.3333333333333333,
              "#9c179e"
             ],
             [
              0.4444444444444444,
              "#bd3786"
             ],
             [
              0.5555555555555556,
              "#d8576b"
             ],
             [
              0.6666666666666666,
              "#ed7953"
             ],
             [
              0.7777777777777778,
              "#fb9f3a"
             ],
             [
              0.8888888888888888,
              "#fdca26"
             ],
             [
              1,
              "#f0f921"
             ]
            ],
            "type": "histogram2d"
           }
          ],
          "histogram2dcontour": [
           {
            "colorbar": {
             "outlinewidth": 0,
             "ticks": ""
            },
            "colorscale": [
             [
              0,
              "#0d0887"
             ],
             [
              0.1111111111111111,
              "#46039f"
             ],
             [
              0.2222222222222222,
              "#7201a8"
             ],
             [
              0.3333333333333333,
              "#9c179e"
             ],
             [
              0.4444444444444444,
              "#bd3786"
             ],
             [
              0.5555555555555556,
              "#d8576b"
             ],
             [
              0.6666666666666666,
              "#ed7953"
             ],
             [
              0.7777777777777778,
              "#fb9f3a"
             ],
             [
              0.8888888888888888,
              "#fdca26"
             ],
             [
              1,
              "#f0f921"
             ]
            ],
            "type": "histogram2dcontour"
           }
          ],
          "mesh3d": [
           {
            "colorbar": {
             "outlinewidth": 0,
             "ticks": ""
            },
            "type": "mesh3d"
           }
          ],
          "parcoords": [
           {
            "line": {
             "colorbar": {
              "outlinewidth": 0,
              "ticks": ""
             }
            },
            "type": "parcoords"
           }
          ],
          "pie": [
           {
            "automargin": true,
            "type": "pie"
           }
          ],
          "scatter": [
           {
            "marker": {
             "colorbar": {
              "outlinewidth": 0,
              "ticks": ""
             }
            },
            "type": "scatter"
           }
          ],
          "scatter3d": [
           {
            "line": {
             "colorbar": {
              "outlinewidth": 0,
              "ticks": ""
             }
            },
            "marker": {
             "colorbar": {
              "outlinewidth": 0,
              "ticks": ""
             }
            },
            "type": "scatter3d"
           }
          ],
          "scattercarpet": [
           {
            "marker": {
             "colorbar": {
              "outlinewidth": 0,
              "ticks": ""
             }
            },
            "type": "scattercarpet"
           }
          ],
          "scattergeo": [
           {
            "marker": {
             "colorbar": {
              "outlinewidth": 0,
              "ticks": ""
             }
            },
            "type": "scattergeo"
           }
          ],
          "scattergl": [
           {
            "marker": {
             "colorbar": {
              "outlinewidth": 0,
              "ticks": ""
             }
            },
            "type": "scattergl"
           }
          ],
          "scattermapbox": [
           {
            "marker": {
             "colorbar": {
              "outlinewidth": 0,
              "ticks": ""
             }
            },
            "type": "scattermapbox"
           }
          ],
          "scatterpolar": [
           {
            "marker": {
             "colorbar": {
              "outlinewidth": 0,
              "ticks": ""
             }
            },
            "type": "scatterpolar"
           }
          ],
          "scatterpolargl": [
           {
            "marker": {
             "colorbar": {
              "outlinewidth": 0,
              "ticks": ""
             }
            },
            "type": "scatterpolargl"
           }
          ],
          "scatterternary": [
           {
            "marker": {
             "colorbar": {
              "outlinewidth": 0,
              "ticks": ""
             }
            },
            "type": "scatterternary"
           }
          ],
          "surface": [
           {
            "colorbar": {
             "outlinewidth": 0,
             "ticks": ""
            },
            "colorscale": [
             [
              0,
              "#0d0887"
             ],
             [
              0.1111111111111111,
              "#46039f"
             ],
             [
              0.2222222222222222,
              "#7201a8"
             ],
             [
              0.3333333333333333,
              "#9c179e"
             ],
             [
              0.4444444444444444,
              "#bd3786"
             ],
             [
              0.5555555555555556,
              "#d8576b"
             ],
             [
              0.6666666666666666,
              "#ed7953"
             ],
             [
              0.7777777777777778,
              "#fb9f3a"
             ],
             [
              0.8888888888888888,
              "#fdca26"
             ],
             [
              1,
              "#f0f921"
             ]
            ],
            "type": "surface"
           }
          ],
          "table": [
           {
            "cells": {
             "fill": {
              "color": "#EBF0F8"
             },
             "line": {
              "color": "white"
             }
            },
            "header": {
             "fill": {
              "color": "#C8D4E3"
             },
             "line": {
              "color": "white"
             }
            },
            "type": "table"
           }
          ]
         },
         "layout": {
          "annotationdefaults": {
           "arrowcolor": "#2a3f5f",
           "arrowhead": 0,
           "arrowwidth": 1
          },
          "autotypenumbers": "strict",
          "coloraxis": {
           "colorbar": {
            "outlinewidth": 0,
            "ticks": ""
           }
          },
          "colorscale": {
           "diverging": [
            [
             0,
             "#8e0152"
            ],
            [
             0.1,
             "#c51b7d"
            ],
            [
             0.2,
             "#de77ae"
            ],
            [
             0.3,
             "#f1b6da"
            ],
            [
             0.4,
             "#fde0ef"
            ],
            [
             0.5,
             "#f7f7f7"
            ],
            [
             0.6,
             "#e6f5d0"
            ],
            [
             0.7,
             "#b8e186"
            ],
            [
             0.8,
             "#7fbc41"
            ],
            [
             0.9,
             "#4d9221"
            ],
            [
             1,
             "#276419"
            ]
           ],
           "sequential": [
            [
             0,
             "#0d0887"
            ],
            [
             0.1111111111111111,
             "#46039f"
            ],
            [
             0.2222222222222222,
             "#7201a8"
            ],
            [
             0.3333333333333333,
             "#9c179e"
            ],
            [
             0.4444444444444444,
             "#bd3786"
            ],
            [
             0.5555555555555556,
             "#d8576b"
            ],
            [
             0.6666666666666666,
             "#ed7953"
            ],
            [
             0.7777777777777778,
             "#fb9f3a"
            ],
            [
             0.8888888888888888,
             "#fdca26"
            ],
            [
             1,
             "#f0f921"
            ]
           ],
           "sequentialminus": [
            [
             0,
             "#0d0887"
            ],
            [
             0.1111111111111111,
             "#46039f"
            ],
            [
             0.2222222222222222,
             "#7201a8"
            ],
            [
             0.3333333333333333,
             "#9c179e"
            ],
            [
             0.4444444444444444,
             "#bd3786"
            ],
            [
             0.5555555555555556,
             "#d8576b"
            ],
            [
             0.6666666666666666,
             "#ed7953"
            ],
            [
             0.7777777777777778,
             "#fb9f3a"
            ],
            [
             0.8888888888888888,
             "#fdca26"
            ],
            [
             1,
             "#f0f921"
            ]
           ]
          },
          "colorway": [
           "#636efa",
           "#EF553B",
           "#00cc96",
           "#ab63fa",
           "#FFA15A",
           "#19d3f3",
           "#FF6692",
           "#B6E880",
           "#FF97FF",
           "#FECB52"
          ],
          "font": {
           "color": "#2a3f5f"
          },
          "geo": {
           "bgcolor": "white",
           "lakecolor": "white",
           "landcolor": "#E5ECF6",
           "showlakes": true,
           "showland": true,
           "subunitcolor": "white"
          },
          "hoverlabel": {
           "align": "left"
          },
          "hovermode": "closest",
          "mapbox": {
           "style": "light"
          },
          "paper_bgcolor": "white",
          "plot_bgcolor": "#E5ECF6",
          "polar": {
           "angularaxis": {
            "gridcolor": "white",
            "linecolor": "white",
            "ticks": ""
           },
           "bgcolor": "#E5ECF6",
           "radialaxis": {
            "gridcolor": "white",
            "linecolor": "white",
            "ticks": ""
           }
          },
          "scene": {
           "xaxis": {
            "backgroundcolor": "#E5ECF6",
            "gridcolor": "white",
            "gridwidth": 2,
            "linecolor": "white",
            "showbackground": true,
            "ticks": "",
            "zerolinecolor": "white"
           },
           "yaxis": {
            "backgroundcolor": "#E5ECF6",
            "gridcolor": "white",
            "gridwidth": 2,
            "linecolor": "white",
            "showbackground": true,
            "ticks": "",
            "zerolinecolor": "white"
           },
           "zaxis": {
            "backgroundcolor": "#E5ECF6",
            "gridcolor": "white",
            "gridwidth": 2,
            "linecolor": "white",
            "showbackground": true,
            "ticks": "",
            "zerolinecolor": "white"
           }
          },
          "shapedefaults": {
           "line": {
            "color": "#2a3f5f"
           }
          },
          "ternary": {
           "aaxis": {
            "gridcolor": "white",
            "linecolor": "white",
            "ticks": ""
           },
           "baxis": {
            "gridcolor": "white",
            "linecolor": "white",
            "ticks": ""
           },
           "bgcolor": "#E5ECF6",
           "caxis": {
            "gridcolor": "white",
            "linecolor": "white",
            "ticks": ""
           }
          },
          "title": {
           "x": 0.05
          },
          "xaxis": {
           "automargin": true,
           "gridcolor": "white",
           "linecolor": "white",
           "ticks": "",
           "title": {
            "standoff": 15
           },
           "zerolinecolor": "white",
           "zerolinewidth": 2
          },
          "yaxis": {
           "automargin": true,
           "gridcolor": "white",
           "linecolor": "white",
           "ticks": "",
           "title": {
            "standoff": 15
           },
           "zerolinecolor": "white",
           "zerolinewidth": 2
          }
         }
        },
        "width": 960,
        "xaxis": {
         "anchor": "y",
         "domain": [
          0,
          0.45
         ]
        },
        "xaxis2": {
         "anchor": "y2",
         "domain": [
          0.55,
          1
         ]
        },
        "yaxis": {
         "anchor": "x",
         "domain": [
          0,
          1
         ]
        },
        "yaxis2": {
         "anchor": "x2",
         "domain": [
          0,
          1
         ]
        }
       }
      },
      "text/html": [
       "<div>                            <div id=\"8e9ee2c0-1e2f-46be-bfd6-bb1048c7b5c4\" class=\"plotly-graph-div\" style=\"height:400px; width:960px;\"></div>            <script type=\"text/javascript\">                require([\"plotly\"], function(Plotly) {                    window.PLOTLYENV=window.PLOTLYENV || {};                                    if (document.getElementById(\"8e9ee2c0-1e2f-46be-bfd6-bb1048c7b5c4\")) {                    Plotly.newPlot(                        \"8e9ee2c0-1e2f-46be-bfd6-bb1048c7b5c4\",                        [{\"marker\":{\"color\":\"#f2c64c\"},\"name\":\"W/I x 10\",\"x\":[\"Kuldeep Yadav\",\"Umran Malik\",\"PWH de Silva\",\"K Gowtham\",\"YS Chahal\",\"Rashid Khan\",\"J Suchith\"],\"y\":[14.290000000000001,13.57,12.5,12.5,11.76,10.620000000000001,10.0],\"type\":\"bar\",\"xaxis\":\"x\",\"yaxis\":\"y\"},{\"marker\":{\"color\":\"#4c78f2\"},\"name\":\"Econ\",\"x\":[\"Kuldeep Yadav\",\"Umran Malik\",\"PWH de Silva\",\"K Gowtham\",\"YS Chahal\",\"Rashid Khan\",\"J Suchith\"],\"y\":[8.33,8.46,7.27,7.7,7.43,6.21,6.86],\"type\":\"scatter\",\"xaxis\":\"x\",\"yaxis\":\"y\"},{\"name\":\"Bound%\",\"x\":[\"Kuldeep Yadav\",\"Umran Malik\",\"PWH de Silva\",\"K Gowtham\",\"YS Chahal\",\"Rashid Khan\",\"J Suchith\"],\"y\":[16.78,21.43,13.89,15.0,11.95,7.07,11.9],\"type\":\"scatter\",\"xaxis\":\"x2\",\"yaxis\":\"y2\"}],                        {\"template\":{\"data\":{\"bar\":[{\"error_x\":{\"color\":\"#2a3f5f\"},\"error_y\":{\"color\":\"#2a3f5f\"},\"marker\":{\"line\":{\"color\":\"#E5ECF6\",\"width\":0.5},\"pattern\":{\"fillmode\":\"overlay\",\"size\":10,\"solidity\":0.2}},\"type\":\"bar\"}],\"barpolar\":[{\"marker\":{\"line\":{\"color\":\"#E5ECF6\",\"width\":0.5},\"pattern\":{\"fillmode\":\"overlay\",\"size\":10,\"solidity\":0.2}},\"type\":\"barpolar\"}],\"carpet\":[{\"aaxis\":{\"endlinecolor\":\"#2a3f5f\",\"gridcolor\":\"white\",\"linecolor\":\"white\",\"minorgridcolor\":\"white\",\"startlinecolor\":\"#2a3f5f\"},\"baxis\":{\"endlinecolor\":\"#2a3f5f\",\"gridcolor\":\"white\",\"linecolor\":\"white\",\"minorgridcolor\":\"white\",\"startlinecolor\":\"#2a3f5f\"},\"type\":\"carpet\"}],\"choropleth\":[{\"colorbar\":{\"outlinewidth\":0,\"ticks\":\"\"},\"type\":\"choropleth\"}],\"contour\":[{\"colorbar\":{\"outlinewidth\":0,\"ticks\":\"\"},\"colorscale\":[[0.0,\"#0d0887\"],[0.1111111111111111,\"#46039f\"],[0.2222222222222222,\"#7201a8\"],[0.3333333333333333,\"#9c179e\"],[0.4444444444444444,\"#bd3786\"],[0.5555555555555556,\"#d8576b\"],[0.6666666666666666,\"#ed7953\"],[0.7777777777777778,\"#fb9f3a\"],[0.8888888888888888,\"#fdca26\"],[1.0,\"#f0f921\"]],\"type\":\"contour\"}],\"contourcarpet\":[{\"colorbar\":{\"outlinewidth\":0,\"ticks\":\"\"},\"type\":\"contourcarpet\"}],\"heatmap\":[{\"colorbar\":{\"outlinewidth\":0,\"ticks\":\"\"},\"colorscale\":[[0.0,\"#0d0887\"],[0.1111111111111111,\"#46039f\"],[0.2222222222222222,\"#7201a8\"],[0.3333333333333333,\"#9c179e\"],[0.4444444444444444,\"#bd3786\"],[0.5555555555555556,\"#d8576b\"],[0.6666666666666666,\"#ed7953\"],[0.7777777777777778,\"#fb9f3a\"],[0.8888888888888888,\"#fdca26\"],[1.0,\"#f0f921\"]],\"type\":\"heatmap\"}],\"heatmapgl\":[{\"colorbar\":{\"outlinewidth\":0,\"ticks\":\"\"},\"colorscale\":[[0.0,\"#0d0887\"],[0.1111111111111111,\"#46039f\"],[0.2222222222222222,\"#7201a8\"],[0.3333333333333333,\"#9c179e\"],[0.4444444444444444,\"#bd3786\"],[0.5555555555555556,\"#d8576b\"],[0.6666666666666666,\"#ed7953\"],[0.7777777777777778,\"#fb9f3a\"],[0.8888888888888888,\"#fdca26\"],[1.0,\"#f0f921\"]],\"type\":\"heatmapgl\"}],\"histogram\":[{\"marker\":{\"pattern\":{\"fillmode\":\"overlay\",\"size\":10,\"solidity\":0.2}},\"type\":\"histogram\"}],\"histogram2d\":[{\"colorbar\":{\"outlinewidth\":0,\"ticks\":\"\"},\"colorscale\":[[0.0,\"#0d0887\"],[0.1111111111111111,\"#46039f\"],[0.2222222222222222,\"#7201a8\"],[0.3333333333333333,\"#9c179e\"],[0.4444444444444444,\"#bd3786\"],[0.5555555555555556,\"#d8576b\"],[0.6666666666666666,\"#ed7953\"],[0.7777777777777778,\"#fb9f3a\"],[0.8888888888888888,\"#fdca26\"],[1.0,\"#f0f921\"]],\"type\":\"histogram2d\"}],\"histogram2dcontour\":[{\"colorbar\":{\"outlinewidth\":0,\"ticks\":\"\"},\"colorscale\":[[0.0,\"#0d0887\"],[0.1111111111111111,\"#46039f\"],[0.2222222222222222,\"#7201a8\"],[0.3333333333333333,\"#9c179e\"],[0.4444444444444444,\"#bd3786\"],[0.5555555555555556,\"#d8576b\"],[0.6666666666666666,\"#ed7953\"],[0.7777777777777778,\"#fb9f3a\"],[0.8888888888888888,\"#fdca26\"],[1.0,\"#f0f921\"]],\"type\":\"histogram2dcontour\"}],\"mesh3d\":[{\"colorbar\":{\"outlinewidth\":0,\"ticks\":\"\"},\"type\":\"mesh3d\"}],\"parcoords\":[{\"line\":{\"colorbar\":{\"outlinewidth\":0,\"ticks\":\"\"}},\"type\":\"parcoords\"}],\"pie\":[{\"automargin\":true,\"type\":\"pie\"}],\"scatter\":[{\"marker\":{\"colorbar\":{\"outlinewidth\":0,\"ticks\":\"\"}},\"type\":\"scatter\"}],\"scatter3d\":[{\"line\":{\"colorbar\":{\"outlinewidth\":0,\"ticks\":\"\"}},\"marker\":{\"colorbar\":{\"outlinewidth\":0,\"ticks\":\"\"}},\"type\":\"scatter3d\"}],\"scattercarpet\":[{\"marker\":{\"colorbar\":{\"outlinewidth\":0,\"ticks\":\"\"}},\"type\":\"scattercarpet\"}],\"scattergeo\":[{\"marker\":{\"colorbar\":{\"outlinewidth\":0,\"ticks\":\"\"}},\"type\":\"scattergeo\"}],\"scattergl\":[{\"marker\":{\"colorbar\":{\"outlinewidth\":0,\"ticks\":\"\"}},\"type\":\"scattergl\"}],\"scattermapbox\":[{\"marker\":{\"colorbar\":{\"outlinewidth\":0,\"ticks\":\"\"}},\"type\":\"scattermapbox\"}],\"scatterpolar\":[{\"marker\":{\"colorbar\":{\"outlinewidth\":0,\"ticks\":\"\"}},\"type\":\"scatterpolar\"}],\"scatterpolargl\":[{\"marker\":{\"colorbar\":{\"outlinewidth\":0,\"ticks\":\"\"}},\"type\":\"scatterpolargl\"}],\"scatterternary\":[{\"marker\":{\"colorbar\":{\"outlinewidth\":0,\"ticks\":\"\"}},\"type\":\"scatterternary\"}],\"surface\":[{\"colorbar\":{\"outlinewidth\":0,\"ticks\":\"\"},\"colorscale\":[[0.0,\"#0d0887\"],[0.1111111111111111,\"#46039f\"],[0.2222222222222222,\"#7201a8\"],[0.3333333333333333,\"#9c179e\"],[0.4444444444444444,\"#bd3786\"],[0.5555555555555556,\"#d8576b\"],[0.6666666666666666,\"#ed7953\"],[0.7777777777777778,\"#fb9f3a\"],[0.8888888888888888,\"#fdca26\"],[1.0,\"#f0f921\"]],\"type\":\"surface\"}],\"table\":[{\"cells\":{\"fill\":{\"color\":\"#EBF0F8\"},\"line\":{\"color\":\"white\"}},\"header\":{\"fill\":{\"color\":\"#C8D4E3\"},\"line\":{\"color\":\"white\"}},\"type\":\"table\"}]},\"layout\":{\"annotationdefaults\":{\"arrowcolor\":\"#2a3f5f\",\"arrowhead\":0,\"arrowwidth\":1},\"autotypenumbers\":\"strict\",\"coloraxis\":{\"colorbar\":{\"outlinewidth\":0,\"ticks\":\"\"}},\"colorscale\":{\"diverging\":[[0,\"#8e0152\"],[0.1,\"#c51b7d\"],[0.2,\"#de77ae\"],[0.3,\"#f1b6da\"],[0.4,\"#fde0ef\"],[0.5,\"#f7f7f7\"],[0.6,\"#e6f5d0\"],[0.7,\"#b8e186\"],[0.8,\"#7fbc41\"],[0.9,\"#4d9221\"],[1,\"#276419\"]],\"sequential\":[[0.0,\"#0d0887\"],[0.1111111111111111,\"#46039f\"],[0.2222222222222222,\"#7201a8\"],[0.3333333333333333,\"#9c179e\"],[0.4444444444444444,\"#bd3786\"],[0.5555555555555556,\"#d8576b\"],[0.6666666666666666,\"#ed7953\"],[0.7777777777777778,\"#fb9f3a\"],[0.8888888888888888,\"#fdca26\"],[1.0,\"#f0f921\"]],\"sequentialminus\":[[0.0,\"#0d0887\"],[0.1111111111111111,\"#46039f\"],[0.2222222222222222,\"#7201a8\"],[0.3333333333333333,\"#9c179e\"],[0.4444444444444444,\"#bd3786\"],[0.5555555555555556,\"#d8576b\"],[0.6666666666666666,\"#ed7953\"],[0.7777777777777778,\"#fb9f3a\"],[0.8888888888888888,\"#fdca26\"],[1.0,\"#f0f921\"]]},\"colorway\":[\"#636efa\",\"#EF553B\",\"#00cc96\",\"#ab63fa\",\"#FFA15A\",\"#19d3f3\",\"#FF6692\",\"#B6E880\",\"#FF97FF\",\"#FECB52\"],\"font\":{\"color\":\"#2a3f5f\"},\"geo\":{\"bgcolor\":\"white\",\"lakecolor\":\"white\",\"landcolor\":\"#E5ECF6\",\"showlakes\":true,\"showland\":true,\"subunitcolor\":\"white\"},\"hoverlabel\":{\"align\":\"left\"},\"hovermode\":\"closest\",\"mapbox\":{\"style\":\"light\"},\"paper_bgcolor\":\"white\",\"plot_bgcolor\":\"#E5ECF6\",\"polar\":{\"angularaxis\":{\"gridcolor\":\"white\",\"linecolor\":\"white\",\"ticks\":\"\"},\"bgcolor\":\"#E5ECF6\",\"radialaxis\":{\"gridcolor\":\"white\",\"linecolor\":\"white\",\"ticks\":\"\"}},\"scene\":{\"xaxis\":{\"backgroundcolor\":\"#E5ECF6\",\"gridcolor\":\"white\",\"gridwidth\":2,\"linecolor\":\"white\",\"showbackground\":true,\"ticks\":\"\",\"zerolinecolor\":\"white\"},\"yaxis\":{\"backgroundcolor\":\"#E5ECF6\",\"gridcolor\":\"white\",\"gridwidth\":2,\"linecolor\":\"white\",\"showbackground\":true,\"ticks\":\"\",\"zerolinecolor\":\"white\"},\"zaxis\":{\"backgroundcolor\":\"#E5ECF6\",\"gridcolor\":\"white\",\"gridwidth\":2,\"linecolor\":\"white\",\"showbackground\":true,\"ticks\":\"\",\"zerolinecolor\":\"white\"}},\"shapedefaults\":{\"line\":{\"color\":\"#2a3f5f\"}},\"ternary\":{\"aaxis\":{\"gridcolor\":\"white\",\"linecolor\":\"white\",\"ticks\":\"\"},\"baxis\":{\"gridcolor\":\"white\",\"linecolor\":\"white\",\"ticks\":\"\"},\"bgcolor\":\"#E5ECF6\",\"caxis\":{\"gridcolor\":\"white\",\"linecolor\":\"white\",\"ticks\":\"\"}},\"title\":{\"x\":0.05},\"xaxis\":{\"automargin\":true,\"gridcolor\":\"white\",\"linecolor\":\"white\",\"ticks\":\"\",\"title\":{\"standoff\":15},\"zerolinecolor\":\"white\",\"zerolinewidth\":2},\"yaxis\":{\"automargin\":true,\"gridcolor\":\"white\",\"linecolor\":\"white\",\"ticks\":\"\",\"title\":{\"standoff\":15},\"zerolinecolor\":\"white\",\"zerolinewidth\":2}}},\"xaxis\":{\"anchor\":\"y\",\"domain\":[0.0,0.45]},\"yaxis\":{\"anchor\":\"x\",\"domain\":[0.0,1.0]},\"xaxis2\":{\"anchor\":\"y2\",\"domain\":[0.55,1.0]},\"yaxis2\":{\"anchor\":\"x2\",\"domain\":[0.0,1.0]},\"annotations\":[{\"font\":{\"size\":16},\"showarrow\":false,\"text\":\"Wickets per Innings & Economy rate\",\"x\":0.225,\"xanchor\":\"center\",\"xref\":\"paper\",\"y\":1.0,\"yanchor\":\"bottom\",\"yref\":\"paper\"},{\"font\":{\"size\":16},\"showarrow\":false,\"text\":\"Bound%\",\"x\":0.775,\"xanchor\":\"center\",\"xref\":\"paper\",\"y\":1.0,\"yanchor\":\"bottom\",\"yref\":\"paper\"}],\"height\":400,\"width\":960},                        {\"responsive\": true}                    ).then(function(){\n",
       "                            \n",
       "var gd = document.getElementById('8e9ee2c0-1e2f-46be-bfd6-bb1048c7b5c4');\n",
       "var x = new MutationObserver(function (mutations, observer) {{\n",
       "        var display = window.getComputedStyle(gd).display;\n",
       "        if (!display || display === 'none') {{\n",
       "            console.log([gd, 'removed!']);\n",
       "            Plotly.purge(gd);\n",
       "            observer.disconnect();\n",
       "        }}\n",
       "}});\n",
       "\n",
       "// Listen for the removal of the full notebook cells\n",
       "var notebookContainer = gd.closest('#notebook-container');\n",
       "if (notebookContainer) {{\n",
       "    x.observe(notebookContainer, {childList: true});\n",
       "}}\n",
       "\n",
       "// Listen for the clearing of the current output cell\n",
       "var outputEl = gd.closest('.output');\n",
       "if (outputEl) {{\n",
       "    x.observe(outputEl, {childList: true});\n",
       "}}\n",
       "\n",
       "                        })                };                });            </script>        </div>"
      ]
     },
     "metadata": {},
     "output_type": "display_data"
    },
    {
     "data": {
      "text/html": [
       "<div>\n",
       "<style scoped>\n",
       "    .dataframe tbody tr th:only-of-type {\n",
       "        vertical-align: middle;\n",
       "    }\n",
       "\n",
       "    .dataframe tbody tr th {\n",
       "        vertical-align: top;\n",
       "    }\n",
       "\n",
       "    .dataframe thead th {\n",
       "        text-align: right;\n",
       "    }\n",
       "</style>\n",
       "<table border=\"1\" class=\"dataframe\">\n",
       "  <thead>\n",
       "    <tr style=\"text-align: right;\">\n",
       "      <th></th>\n",
       "      <th>Player</th>\n",
       "      <th>Team</th>\n",
       "      <th>Type</th>\n",
       "      <th>W/I</th>\n",
       "      <th>Econ</th>\n",
       "      <th>Avg</th>\n",
       "      <th>SR</th>\n",
       "      <th>ESRA</th>\n",
       "    </tr>\n",
       "  </thead>\n",
       "  <tbody>\n",
       "    <tr>\n",
       "      <th>51</th>\n",
       "      <td>Kuldeep Yadav</td>\n",
       "      <td>DC</td>\n",
       "      <td>Legbreak</td>\n",
       "      <td>1.429</td>\n",
       "      <td>8.33</td>\n",
       "      <td>19.85</td>\n",
       "      <td>14.30</td>\n",
       "      <td>14.174</td>\n",
       "    </tr>\n",
       "    <tr>\n",
       "      <th>115</th>\n",
       "      <td>Umran Malik</td>\n",
       "      <td>SRH</td>\n",
       "      <td>Fast</td>\n",
       "      <td>1.357</td>\n",
       "      <td>8.46</td>\n",
       "      <td>19.74</td>\n",
       "      <td>14.00</td>\n",
       "      <td>14.269</td>\n",
       "    </tr>\n",
       "    <tr>\n",
       "      <th>82</th>\n",
       "      <td>PWH de Silva</td>\n",
       "      <td>RCB</td>\n",
       "      <td>Legbreak</td>\n",
       "      <td>1.250</td>\n",
       "      <td>7.27</td>\n",
       "      <td>17.45</td>\n",
       "      <td>14.40</td>\n",
       "      <td>12.914</td>\n",
       "    </tr>\n",
       "    <tr>\n",
       "      <th>42</th>\n",
       "      <td>K Gowtham</td>\n",
       "      <td>LSG</td>\n",
       "      <td>Offbreak</td>\n",
       "      <td>1.250</td>\n",
       "      <td>7.70</td>\n",
       "      <td>15.40</td>\n",
       "      <td>12.00</td>\n",
       "      <td>12.935</td>\n",
       "    </tr>\n",
       "    <tr>\n",
       "      <th>124</th>\n",
       "      <td>YS Chahal</td>\n",
       "      <td>RR</td>\n",
       "      <td>Legbreak</td>\n",
       "      <td>1.176</td>\n",
       "      <td>7.43</td>\n",
       "      <td>19.70</td>\n",
       "      <td>15.90</td>\n",
       "      <td>13.397</td>\n",
       "    </tr>\n",
       "    <tr>\n",
       "      <th>93</th>\n",
       "      <td>Rashid Khan</td>\n",
       "      <td>GT</td>\n",
       "      <td>Legbreak</td>\n",
       "      <td>1.062</td>\n",
       "      <td>6.21</td>\n",
       "      <td>18.94</td>\n",
       "      <td>18.29</td>\n",
       "      <td>12.312</td>\n",
       "    </tr>\n",
       "    <tr>\n",
       "      <th>36</th>\n",
       "      <td>J Suchith</td>\n",
       "      <td>SRH</td>\n",
       "      <td>Offbreak</td>\n",
       "      <td>1.000</td>\n",
       "      <td>6.86</td>\n",
       "      <td>19.20</td>\n",
       "      <td>16.80</td>\n",
       "      <td>12.860</td>\n",
       "    </tr>\n",
       "  </tbody>\n",
       "</table>\n",
       "</div>"
      ],
      "text/plain": [
       "            Player Team      Type    W/I  Econ    Avg     SR    ESRA\n",
       "51   Kuldeep Yadav   DC  Legbreak  1.429  8.33  19.85  14.30  14.174\n",
       "115    Umran Malik  SRH      Fast  1.357  8.46  19.74  14.00  14.269\n",
       "82    PWH de Silva  RCB  Legbreak  1.250  7.27  17.45  14.40  12.914\n",
       "42       K Gowtham  LSG  Offbreak  1.250  7.70  15.40  12.00  12.935\n",
       "124      YS Chahal   RR  Legbreak  1.176  7.43  19.70  15.90  13.397\n",
       "93     Rashid Khan   GT  Legbreak  1.062  6.21  18.94  18.29  12.312\n",
       "36       J Suchith  SRH  Offbreak  1.000  6.86  19.20  16.80  12.860"
      ]
     },
     "execution_count": 54,
     "metadata": {},
     "output_type": "execute_result"
    }
   ],
   "source": [
    "\n",
    "fig = make_subplots(rows=1, cols=2,subplot_titles=['Wickets per Innings & Economy rate','Bound%'])\n",
    "\n",
    "fig.add_trace(go.Bar(name='W/I x 10',x=mo_strike['Player'], y=mo_strike['W/I']*10,marker_color='#f2c64c'),row=1, col=1)\n",
    "\n",
    "fig.add_trace(go.Scatter(name='Econ',x=mo_strike['Player'], y=mo_strike['Econ'],marker_color='#4c78f2'),row=1, col=1)#red\n",
    "fig.add_trace(go.Scatter(name = 'Bound%',x=mo_strike['Player'], y=mo_strike['Bound%']),row=1, col=2)\n",
    "\n",
    "fig.update_layout(height=400, width=960)\n",
    "fig.show()\n",
    "mo_strike[['Player','Team','Type','W/I','Econ','Avg','SR','ESRA']]"
   ]
  },
  {
   "cell_type": "markdown",
   "id": "77a310e6",
   "metadata": {},
   "source": [
    "So many legbreak bowlers! No wonder all the international teams are chasing after their own legspinners in white ball cricket, seeing how crucial they are in their wicket-taking ability. Umran Malik really is an aberration, since he is a fast bowler but has been exclusively used in the middle overs, bowling 3 overs per match, and taking wickets at regular intervals."
   ]
  },
  {
   "cell_type": "markdown",
   "id": "cede5333",
   "metadata": {},
   "source": [
    "Economy bowlers"
   ]
  },
  {
   "cell_type": "code",
   "execution_count": 55,
   "id": "2c6cfab9",
   "metadata": {},
   "outputs": [
    {
     "data": {
      "text/html": [
       "<div>\n",
       "<style scoped>\n",
       "    .dataframe tbody tr th:only-of-type {\n",
       "        vertical-align: middle;\n",
       "    }\n",
       "\n",
       "    .dataframe tbody tr th {\n",
       "        vertical-align: top;\n",
       "    }\n",
       "\n",
       "    .dataframe thead th {\n",
       "        text-align: right;\n",
       "    }\n",
       "</style>\n",
       "<table border=\"1\" class=\"dataframe\">\n",
       "  <thead>\n",
       "    <tr style=\"text-align: right;\">\n",
       "      <th></th>\n",
       "      <th>Player</th>\n",
       "      <th>Team</th>\n",
       "      <th>Hand</th>\n",
       "      <th>Type</th>\n",
       "      <th>Nationality</th>\n",
       "      <th>I</th>\n",
       "      <th>O</th>\n",
       "      <th>Balls</th>\n",
       "      <th>R</th>\n",
       "      <th>Extras</th>\n",
       "      <th>W</th>\n",
       "      <th>Econ</th>\n",
       "      <th>Avg</th>\n",
       "      <th>SR</th>\n",
       "      <th>ESRA</th>\n",
       "      <th>4s</th>\n",
       "      <th>6s</th>\n",
       "      <th>Dots</th>\n",
       "      <th>O/I</th>\n",
       "      <th>W/I</th>\n",
       "      <th>6/4_ratio</th>\n",
       "      <th>Bound%</th>\n",
       "      <th>Dot %</th>\n",
       "      <th>Bound/Dots_%</th>\n",
       "    </tr>\n",
       "  </thead>\n",
       "  <tbody>\n",
       "    <tr>\n",
       "      <th>108</th>\n",
       "      <td>SP Narine</td>\n",
       "      <td>KKR</td>\n",
       "      <td>R</td>\n",
       "      <td>Legbreak Googly</td>\n",
       "      <td>West Indies</td>\n",
       "      <td>14</td>\n",
       "      <td>43.0</td>\n",
       "      <td>258</td>\n",
       "      <td>228</td>\n",
       "      <td>3</td>\n",
       "      <td>8</td>\n",
       "      <td>5.30</td>\n",
       "      <td>28.50</td>\n",
       "      <td>32.25</td>\n",
       "      <td>13.094</td>\n",
       "      <td>5</td>\n",
       "      <td>10</td>\n",
       "      <td>109</td>\n",
       "      <td>3.07</td>\n",
       "      <td>0.571</td>\n",
       "      <td>2.00</td>\n",
       "      <td>5.81</td>\n",
       "      <td>42.25</td>\n",
       "      <td>13.76</td>\n",
       "    </tr>\n",
       "    <tr>\n",
       "      <th>93</th>\n",
       "      <td>Rashid Khan</td>\n",
       "      <td>GT</td>\n",
       "      <td>R</td>\n",
       "      <td>Legbreak</td>\n",
       "      <td>Afghanistan</td>\n",
       "      <td>16</td>\n",
       "      <td>51.5</td>\n",
       "      <td>311</td>\n",
       "      <td>322</td>\n",
       "      <td>7</td>\n",
       "      <td>17</td>\n",
       "      <td>6.21</td>\n",
       "      <td>18.94</td>\n",
       "      <td>18.29</td>\n",
       "      <td>12.312</td>\n",
       "      <td>10</td>\n",
       "      <td>12</td>\n",
       "      <td>103</td>\n",
       "      <td>3.22</td>\n",
       "      <td>1.062</td>\n",
       "      <td>1.20</td>\n",
       "      <td>7.07</td>\n",
       "      <td>33.12</td>\n",
       "      <td>21.36</td>\n",
       "    </tr>\n",
       "    <tr>\n",
       "      <th>47</th>\n",
       "      <td>KH Pandya</td>\n",
       "      <td>LSG</td>\n",
       "      <td>L</td>\n",
       "      <td>Offbreak</td>\n",
       "      <td>India</td>\n",
       "      <td>12</td>\n",
       "      <td>29.0</td>\n",
       "      <td>174</td>\n",
       "      <td>180</td>\n",
       "      <td>3</td>\n",
       "      <td>7</td>\n",
       "      <td>6.21</td>\n",
       "      <td>25.71</td>\n",
       "      <td>24.86</td>\n",
       "      <td>13.321</td>\n",
       "      <td>8</td>\n",
       "      <td>5</td>\n",
       "      <td>53</td>\n",
       "      <td>2.42</td>\n",
       "      <td>0.583</td>\n",
       "      <td>0.62</td>\n",
       "      <td>7.47</td>\n",
       "      <td>30.46</td>\n",
       "      <td>24.53</td>\n",
       "    </tr>\n",
       "    <tr>\n",
       "      <th>35</th>\n",
       "      <td>HV Patel</td>\n",
       "      <td>RCB</td>\n",
       "      <td>R</td>\n",
       "      <td>Medium</td>\n",
       "      <td>India</td>\n",
       "      <td>15</td>\n",
       "      <td>31.0</td>\n",
       "      <td>186</td>\n",
       "      <td>195</td>\n",
       "      <td>9</td>\n",
       "      <td>10</td>\n",
       "      <td>6.29</td>\n",
       "      <td>19.50</td>\n",
       "      <td>18.60</td>\n",
       "      <td>12.463</td>\n",
       "      <td>14</td>\n",
       "      <td>5</td>\n",
       "      <td>73</td>\n",
       "      <td>2.07</td>\n",
       "      <td>0.667</td>\n",
       "      <td>0.36</td>\n",
       "      <td>10.22</td>\n",
       "      <td>39.25</td>\n",
       "      <td>26.03</td>\n",
       "    </tr>\n",
       "    <tr>\n",
       "      <th>61</th>\n",
       "      <td>MJ Santner</td>\n",
       "      <td>CSK</td>\n",
       "      <td>L</td>\n",
       "      <td>Offbreak</td>\n",
       "      <td>New Zealand</td>\n",
       "      <td>6</td>\n",
       "      <td>12.0</td>\n",
       "      <td>72</td>\n",
       "      <td>80</td>\n",
       "      <td>0</td>\n",
       "      <td>4</td>\n",
       "      <td>6.67</td>\n",
       "      <td>20.00</td>\n",
       "      <td>18.00</td>\n",
       "      <td>12.834</td>\n",
       "      <td>3</td>\n",
       "      <td>3</td>\n",
       "      <td>22</td>\n",
       "      <td>2.00</td>\n",
       "      <td>0.667</td>\n",
       "      <td>1.00</td>\n",
       "      <td>8.33</td>\n",
       "      <td>30.56</td>\n",
       "      <td>27.27</td>\n",
       "    </tr>\n",
       "    <tr>\n",
       "      <th>36</th>\n",
       "      <td>J Suchith</td>\n",
       "      <td>SRH</td>\n",
       "      <td>L</td>\n",
       "      <td>Offbreak</td>\n",
       "      <td>India</td>\n",
       "      <td>5</td>\n",
       "      <td>14.0</td>\n",
       "      <td>84</td>\n",
       "      <td>96</td>\n",
       "      <td>5</td>\n",
       "      <td>5</td>\n",
       "      <td>6.86</td>\n",
       "      <td>19.20</td>\n",
       "      <td>16.80</td>\n",
       "      <td>12.860</td>\n",
       "      <td>5</td>\n",
       "      <td>5</td>\n",
       "      <td>38</td>\n",
       "      <td>2.80</td>\n",
       "      <td>1.000</td>\n",
       "      <td>1.00</td>\n",
       "      <td>11.90</td>\n",
       "      <td>45.24</td>\n",
       "      <td>26.32</td>\n",
       "    </tr>\n",
       "    <tr>\n",
       "      <th>63</th>\n",
       "      <td>MM Ali</td>\n",
       "      <td>CSK</td>\n",
       "      <td>R</td>\n",
       "      <td>Offbreak</td>\n",
       "      <td>England</td>\n",
       "      <td>10</td>\n",
       "      <td>21.5</td>\n",
       "      <td>131</td>\n",
       "      <td>151</td>\n",
       "      <td>3</td>\n",
       "      <td>8</td>\n",
       "      <td>6.92</td>\n",
       "      <td>18.88</td>\n",
       "      <td>16.38</td>\n",
       "      <td>12.858</td>\n",
       "      <td>6</td>\n",
       "      <td>9</td>\n",
       "      <td>47</td>\n",
       "      <td>2.15</td>\n",
       "      <td>0.800</td>\n",
       "      <td>1.50</td>\n",
       "      <td>11.45</td>\n",
       "      <td>35.88</td>\n",
       "      <td>31.91</td>\n",
       "    </tr>\n",
       "  </tbody>\n",
       "</table>\n",
       "</div>"
      ],
      "text/plain": [
       "          Player Team Hand             Type  Nationality   I     O  Balls  \\\n",
       "108    SP Narine  KKR    R  Legbreak Googly  West Indies  14  43.0    258   \n",
       "93   Rashid Khan   GT    R         Legbreak  Afghanistan  16  51.5    311   \n",
       "47     KH Pandya  LSG    L         Offbreak        India  12  29.0    174   \n",
       "35      HV Patel  RCB    R           Medium        India  15  31.0    186   \n",
       "61    MJ Santner  CSK    L         Offbreak  New Zealand   6  12.0     72   \n",
       "36     J Suchith  SRH    L         Offbreak        India   5  14.0     84   \n",
       "63        MM Ali  CSK    R         Offbreak      England  10  21.5    131   \n",
       "\n",
       "       R  Extras   W  Econ    Avg     SR    ESRA  4s  6s  Dots   O/I    W/I  \\\n",
       "108  228       3   8  5.30  28.50  32.25  13.094   5  10   109  3.07  0.571   \n",
       "93   322       7  17  6.21  18.94  18.29  12.312  10  12   103  3.22  1.062   \n",
       "47   180       3   7  6.21  25.71  24.86  13.321   8   5    53  2.42  0.583   \n",
       "35   195       9  10  6.29  19.50  18.60  12.463  14   5    73  2.07  0.667   \n",
       "61    80       0   4  6.67  20.00  18.00  12.834   3   3    22  2.00  0.667   \n",
       "36    96       5   5  6.86  19.20  16.80  12.860   5   5    38  2.80  1.000   \n",
       "63   151       3   8  6.92  18.88  16.38  12.858   6   9    47  2.15  0.800   \n",
       "\n",
       "     6/4_ratio  Bound%  Dot %  Bound/Dots_%  \n",
       "108       2.00    5.81  42.25         13.76  \n",
       "93        1.20    7.07  33.12         21.36  \n",
       "47        0.62    7.47  30.46         24.53  \n",
       "35        0.36   10.22  39.25         26.03  \n",
       "61        1.00    8.33  30.56         27.27  \n",
       "36        1.00   11.90  45.24         26.32  \n",
       "63        1.50   11.45  35.88         31.91  "
      ]
     },
     "execution_count": 55,
     "metadata": {},
     "output_type": "execute_result"
    }
   ],
   "source": [
    "mo_econ = Middle_Overs_table.sort_values('Econ').head(7)\n",
    "mo_econ"
   ]
  },
  {
   "cell_type": "code",
   "execution_count": 56,
   "id": "ff751f98",
   "metadata": {},
   "outputs": [
    {
     "data": {
      "application/vnd.plotly.v1+json": {
       "config": {
        "plotlyServerURL": "https://plot.ly"
       },
       "data": [
        {
         "marker": {
          "color": "#f2c64c"
         },
         "name": "W/I x 10",
         "type": "bar",
         "x": [
          "SP Narine",
          "Rashid Khan",
          "KH Pandya",
          "HV Patel",
          "MJ Santner",
          "J Suchith",
          "MM Ali"
         ],
         "xaxis": "x",
         "y": [
          5.709999999999999,
          10.620000000000001,
          5.83,
          6.67,
          6.67,
          10,
          8
         ],
         "yaxis": "y"
        },
        {
         "marker": {
          "color": "#4c78f2"
         },
         "name": "Econ",
         "type": "scatter",
         "x": [
          "SP Narine",
          "Rashid Khan",
          "KH Pandya",
          "HV Patel",
          "MJ Santner",
          "J Suchith",
          "MM Ali"
         ],
         "xaxis": "x",
         "y": [
          5.3,
          6.21,
          6.21,
          6.29,
          6.67,
          6.86,
          6.92
         ],
         "yaxis": "y"
        },
        {
         "name": "Bound%",
         "type": "scatter",
         "x": [
          "SP Narine",
          "Rashid Khan",
          "KH Pandya",
          "HV Patel",
          "MJ Santner",
          "J Suchith",
          "MM Ali"
         ],
         "xaxis": "x2",
         "y": [
          5.81,
          7.07,
          7.47,
          10.22,
          8.33,
          11.9,
          11.45
         ],
         "yaxis": "y2"
        }
       ],
       "layout": {
        "annotations": [
         {
          "font": {
           "size": 16
          },
          "showarrow": false,
          "text": "Wickets per Innings & Economy rate",
          "x": 0.225,
          "xanchor": "center",
          "xref": "paper",
          "y": 1,
          "yanchor": "bottom",
          "yref": "paper"
         },
         {
          "font": {
           "size": 16
          },
          "showarrow": false,
          "text": "Bound%",
          "x": 0.775,
          "xanchor": "center",
          "xref": "paper",
          "y": 1,
          "yanchor": "bottom",
          "yref": "paper"
         }
        ],
        "height": 400,
        "template": {
         "data": {
          "bar": [
           {
            "error_x": {
             "color": "#2a3f5f"
            },
            "error_y": {
             "color": "#2a3f5f"
            },
            "marker": {
             "line": {
              "color": "#E5ECF6",
              "width": 0.5
             },
             "pattern": {
              "fillmode": "overlay",
              "size": 10,
              "solidity": 0.2
             }
            },
            "type": "bar"
           }
          ],
          "barpolar": [
           {
            "marker": {
             "line": {
              "color": "#E5ECF6",
              "width": 0.5
             },
             "pattern": {
              "fillmode": "overlay",
              "size": 10,
              "solidity": 0.2
             }
            },
            "type": "barpolar"
           }
          ],
          "carpet": [
           {
            "aaxis": {
             "endlinecolor": "#2a3f5f",
             "gridcolor": "white",
             "linecolor": "white",
             "minorgridcolor": "white",
             "startlinecolor": "#2a3f5f"
            },
            "baxis": {
             "endlinecolor": "#2a3f5f",
             "gridcolor": "white",
             "linecolor": "white",
             "minorgridcolor": "white",
             "startlinecolor": "#2a3f5f"
            },
            "type": "carpet"
           }
          ],
          "choropleth": [
           {
            "colorbar": {
             "outlinewidth": 0,
             "ticks": ""
            },
            "type": "choropleth"
           }
          ],
          "contour": [
           {
            "colorbar": {
             "outlinewidth": 0,
             "ticks": ""
            },
            "colorscale": [
             [
              0,
              "#0d0887"
             ],
             [
              0.1111111111111111,
              "#46039f"
             ],
             [
              0.2222222222222222,
              "#7201a8"
             ],
             [
              0.3333333333333333,
              "#9c179e"
             ],
             [
              0.4444444444444444,
              "#bd3786"
             ],
             [
              0.5555555555555556,
              "#d8576b"
             ],
             [
              0.6666666666666666,
              "#ed7953"
             ],
             [
              0.7777777777777778,
              "#fb9f3a"
             ],
             [
              0.8888888888888888,
              "#fdca26"
             ],
             [
              1,
              "#f0f921"
             ]
            ],
            "type": "contour"
           }
          ],
          "contourcarpet": [
           {
            "colorbar": {
             "outlinewidth": 0,
             "ticks": ""
            },
            "type": "contourcarpet"
           }
          ],
          "heatmap": [
           {
            "colorbar": {
             "outlinewidth": 0,
             "ticks": ""
            },
            "colorscale": [
             [
              0,
              "#0d0887"
             ],
             [
              0.1111111111111111,
              "#46039f"
             ],
             [
              0.2222222222222222,
              "#7201a8"
             ],
             [
              0.3333333333333333,
              "#9c179e"
             ],
             [
              0.4444444444444444,
              "#bd3786"
             ],
             [
              0.5555555555555556,
              "#d8576b"
             ],
             [
              0.6666666666666666,
              "#ed7953"
             ],
             [
              0.7777777777777778,
              "#fb9f3a"
             ],
             [
              0.8888888888888888,
              "#fdca26"
             ],
             [
              1,
              "#f0f921"
             ]
            ],
            "type": "heatmap"
           }
          ],
          "heatmapgl": [
           {
            "colorbar": {
             "outlinewidth": 0,
             "ticks": ""
            },
            "colorscale": [
             [
              0,
              "#0d0887"
             ],
             [
              0.1111111111111111,
              "#46039f"
             ],
             [
              0.2222222222222222,
              "#7201a8"
             ],
             [
              0.3333333333333333,
              "#9c179e"
             ],
             [
              0.4444444444444444,
              "#bd3786"
             ],
             [
              0.5555555555555556,
              "#d8576b"
             ],
             [
              0.6666666666666666,
              "#ed7953"
             ],
             [
              0.7777777777777778,
              "#fb9f3a"
             ],
             [
              0.8888888888888888,
              "#fdca26"
             ],
             [
              1,
              "#f0f921"
             ]
            ],
            "type": "heatmapgl"
           }
          ],
          "histogram": [
           {
            "marker": {
             "pattern": {
              "fillmode": "overlay",
              "size": 10,
              "solidity": 0.2
             }
            },
            "type": "histogram"
           }
          ],
          "histogram2d": [
           {
            "colorbar": {
             "outlinewidth": 0,
             "ticks": ""
            },
            "colorscale": [
             [
              0,
              "#0d0887"
             ],
             [
              0.1111111111111111,
              "#46039f"
             ],
             [
              0.2222222222222222,
              "#7201a8"
             ],
             [
              0.3333333333333333,
              "#9c179e"
             ],
             [
              0.4444444444444444,
              "#bd3786"
             ],
             [
              0.5555555555555556,
              "#d8576b"
             ],
             [
              0.6666666666666666,
              "#ed7953"
             ],
             [
              0.7777777777777778,
              "#fb9f3a"
             ],
             [
              0.8888888888888888,
              "#fdca26"
             ],
             [
              1,
              "#f0f921"
             ]
            ],
            "type": "histogram2d"
           }
          ],
          "histogram2dcontour": [
           {
            "colorbar": {
             "outlinewidth": 0,
             "ticks": ""
            },
            "colorscale": [
             [
              0,
              "#0d0887"
             ],
             [
              0.1111111111111111,
              "#46039f"
             ],
             [
              0.2222222222222222,
              "#7201a8"
             ],
             [
              0.3333333333333333,
              "#9c179e"
             ],
             [
              0.4444444444444444,
              "#bd3786"
             ],
             [
              0.5555555555555556,
              "#d8576b"
             ],
             [
              0.6666666666666666,
              "#ed7953"
             ],
             [
              0.7777777777777778,
              "#fb9f3a"
             ],
             [
              0.8888888888888888,
              "#fdca26"
             ],
             [
              1,
              "#f0f921"
             ]
            ],
            "type": "histogram2dcontour"
           }
          ],
          "mesh3d": [
           {
            "colorbar": {
             "outlinewidth": 0,
             "ticks": ""
            },
            "type": "mesh3d"
           }
          ],
          "parcoords": [
           {
            "line": {
             "colorbar": {
              "outlinewidth": 0,
              "ticks": ""
             }
            },
            "type": "parcoords"
           }
          ],
          "pie": [
           {
            "automargin": true,
            "type": "pie"
           }
          ],
          "scatter": [
           {
            "marker": {
             "colorbar": {
              "outlinewidth": 0,
              "ticks": ""
             }
            },
            "type": "scatter"
           }
          ],
          "scatter3d": [
           {
            "line": {
             "colorbar": {
              "outlinewidth": 0,
              "ticks": ""
             }
            },
            "marker": {
             "colorbar": {
              "outlinewidth": 0,
              "ticks": ""
             }
            },
            "type": "scatter3d"
           }
          ],
          "scattercarpet": [
           {
            "marker": {
             "colorbar": {
              "outlinewidth": 0,
              "ticks": ""
             }
            },
            "type": "scattercarpet"
           }
          ],
          "scattergeo": [
           {
            "marker": {
             "colorbar": {
              "outlinewidth": 0,
              "ticks": ""
             }
            },
            "type": "scattergeo"
           }
          ],
          "scattergl": [
           {
            "marker": {
             "colorbar": {
              "outlinewidth": 0,
              "ticks": ""
             }
            },
            "type": "scattergl"
           }
          ],
          "scattermapbox": [
           {
            "marker": {
             "colorbar": {
              "outlinewidth": 0,
              "ticks": ""
             }
            },
            "type": "scattermapbox"
           }
          ],
          "scatterpolar": [
           {
            "marker": {
             "colorbar": {
              "outlinewidth": 0,
              "ticks": ""
             }
            },
            "type": "scatterpolar"
           }
          ],
          "scatterpolargl": [
           {
            "marker": {
             "colorbar": {
              "outlinewidth": 0,
              "ticks": ""
             }
            },
            "type": "scatterpolargl"
           }
          ],
          "scatterternary": [
           {
            "marker": {
             "colorbar": {
              "outlinewidth": 0,
              "ticks": ""
             }
            },
            "type": "scatterternary"
           }
          ],
          "surface": [
           {
            "colorbar": {
             "outlinewidth": 0,
             "ticks": ""
            },
            "colorscale": [
             [
              0,
              "#0d0887"
             ],
             [
              0.1111111111111111,
              "#46039f"
             ],
             [
              0.2222222222222222,
              "#7201a8"
             ],
             [
              0.3333333333333333,
              "#9c179e"
             ],
             [
              0.4444444444444444,
              "#bd3786"
             ],
             [
              0.5555555555555556,
              "#d8576b"
             ],
             [
              0.6666666666666666,
              "#ed7953"
             ],
             [
              0.7777777777777778,
              "#fb9f3a"
             ],
             [
              0.8888888888888888,
              "#fdca26"
             ],
             [
              1,
              "#f0f921"
             ]
            ],
            "type": "surface"
           }
          ],
          "table": [
           {
            "cells": {
             "fill": {
              "color": "#EBF0F8"
             },
             "line": {
              "color": "white"
             }
            },
            "header": {
             "fill": {
              "color": "#C8D4E3"
             },
             "line": {
              "color": "white"
             }
            },
            "type": "table"
           }
          ]
         },
         "layout": {
          "annotationdefaults": {
           "arrowcolor": "#2a3f5f",
           "arrowhead": 0,
           "arrowwidth": 1
          },
          "autotypenumbers": "strict",
          "coloraxis": {
           "colorbar": {
            "outlinewidth": 0,
            "ticks": ""
           }
          },
          "colorscale": {
           "diverging": [
            [
             0,
             "#8e0152"
            ],
            [
             0.1,
             "#c51b7d"
            ],
            [
             0.2,
             "#de77ae"
            ],
            [
             0.3,
             "#f1b6da"
            ],
            [
             0.4,
             "#fde0ef"
            ],
            [
             0.5,
             "#f7f7f7"
            ],
            [
             0.6,
             "#e6f5d0"
            ],
            [
             0.7,
             "#b8e186"
            ],
            [
             0.8,
             "#7fbc41"
            ],
            [
             0.9,
             "#4d9221"
            ],
            [
             1,
             "#276419"
            ]
           ],
           "sequential": [
            [
             0,
             "#0d0887"
            ],
            [
             0.1111111111111111,
             "#46039f"
            ],
            [
             0.2222222222222222,
             "#7201a8"
            ],
            [
             0.3333333333333333,
             "#9c179e"
            ],
            [
             0.4444444444444444,
             "#bd3786"
            ],
            [
             0.5555555555555556,
             "#d8576b"
            ],
            [
             0.6666666666666666,
             "#ed7953"
            ],
            [
             0.7777777777777778,
             "#fb9f3a"
            ],
            [
             0.8888888888888888,
             "#fdca26"
            ],
            [
             1,
             "#f0f921"
            ]
           ],
           "sequentialminus": [
            [
             0,
             "#0d0887"
            ],
            [
             0.1111111111111111,
             "#46039f"
            ],
            [
             0.2222222222222222,
             "#7201a8"
            ],
            [
             0.3333333333333333,
             "#9c179e"
            ],
            [
             0.4444444444444444,
             "#bd3786"
            ],
            [
             0.5555555555555556,
             "#d8576b"
            ],
            [
             0.6666666666666666,
             "#ed7953"
            ],
            [
             0.7777777777777778,
             "#fb9f3a"
            ],
            [
             0.8888888888888888,
             "#fdca26"
            ],
            [
             1,
             "#f0f921"
            ]
           ]
          },
          "colorway": [
           "#636efa",
           "#EF553B",
           "#00cc96",
           "#ab63fa",
           "#FFA15A",
           "#19d3f3",
           "#FF6692",
           "#B6E880",
           "#FF97FF",
           "#FECB52"
          ],
          "font": {
           "color": "#2a3f5f"
          },
          "geo": {
           "bgcolor": "white",
           "lakecolor": "white",
           "landcolor": "#E5ECF6",
           "showlakes": true,
           "showland": true,
           "subunitcolor": "white"
          },
          "hoverlabel": {
           "align": "left"
          },
          "hovermode": "closest",
          "mapbox": {
           "style": "light"
          },
          "paper_bgcolor": "white",
          "plot_bgcolor": "#E5ECF6",
          "polar": {
           "angularaxis": {
            "gridcolor": "white",
            "linecolor": "white",
            "ticks": ""
           },
           "bgcolor": "#E5ECF6",
           "radialaxis": {
            "gridcolor": "white",
            "linecolor": "white",
            "ticks": ""
           }
          },
          "scene": {
           "xaxis": {
            "backgroundcolor": "#E5ECF6",
            "gridcolor": "white",
            "gridwidth": 2,
            "linecolor": "white",
            "showbackground": true,
            "ticks": "",
            "zerolinecolor": "white"
           },
           "yaxis": {
            "backgroundcolor": "#E5ECF6",
            "gridcolor": "white",
            "gridwidth": 2,
            "linecolor": "white",
            "showbackground": true,
            "ticks": "",
            "zerolinecolor": "white"
           },
           "zaxis": {
            "backgroundcolor": "#E5ECF6",
            "gridcolor": "white",
            "gridwidth": 2,
            "linecolor": "white",
            "showbackground": true,
            "ticks": "",
            "zerolinecolor": "white"
           }
          },
          "shapedefaults": {
           "line": {
            "color": "#2a3f5f"
           }
          },
          "ternary": {
           "aaxis": {
            "gridcolor": "white",
            "linecolor": "white",
            "ticks": ""
           },
           "baxis": {
            "gridcolor": "white",
            "linecolor": "white",
            "ticks": ""
           },
           "bgcolor": "#E5ECF6",
           "caxis": {
            "gridcolor": "white",
            "linecolor": "white",
            "ticks": ""
           }
          },
          "title": {
           "x": 0.05
          },
          "xaxis": {
           "automargin": true,
           "gridcolor": "white",
           "linecolor": "white",
           "ticks": "",
           "title": {
            "standoff": 15
           },
           "zerolinecolor": "white",
           "zerolinewidth": 2
          },
          "yaxis": {
           "automargin": true,
           "gridcolor": "white",
           "linecolor": "white",
           "ticks": "",
           "title": {
            "standoff": 15
           },
           "zerolinecolor": "white",
           "zerolinewidth": 2
          }
         }
        },
        "width": 960,
        "xaxis": {
         "anchor": "y",
         "domain": [
          0,
          0.45
         ]
        },
        "xaxis2": {
         "anchor": "y2",
         "domain": [
          0.55,
          1
         ]
        },
        "yaxis": {
         "anchor": "x",
         "domain": [
          0,
          1
         ]
        },
        "yaxis2": {
         "anchor": "x2",
         "domain": [
          0,
          1
         ]
        }
       }
      },
      "text/html": [
       "<div>                            <div id=\"cdc6d4d3-be7f-492c-a316-afb616914a9d\" class=\"plotly-graph-div\" style=\"height:400px; width:960px;\"></div>            <script type=\"text/javascript\">                require([\"plotly\"], function(Plotly) {                    window.PLOTLYENV=window.PLOTLYENV || {};                                    if (document.getElementById(\"cdc6d4d3-be7f-492c-a316-afb616914a9d\")) {                    Plotly.newPlot(                        \"cdc6d4d3-be7f-492c-a316-afb616914a9d\",                        [{\"marker\":{\"color\":\"#f2c64c\"},\"name\":\"W/I x 10\",\"x\":[\"SP Narine\",\"Rashid Khan\",\"KH Pandya\",\"HV Patel\",\"MJ Santner\",\"J Suchith\",\"MM Ali\"],\"y\":[5.709999999999999,10.620000000000001,5.83,6.67,6.67,10.0,8.0],\"type\":\"bar\",\"xaxis\":\"x\",\"yaxis\":\"y\"},{\"marker\":{\"color\":\"#4c78f2\"},\"name\":\"Econ\",\"x\":[\"SP Narine\",\"Rashid Khan\",\"KH Pandya\",\"HV Patel\",\"MJ Santner\",\"J Suchith\",\"MM Ali\"],\"y\":[5.3,6.21,6.21,6.29,6.67,6.86,6.92],\"type\":\"scatter\",\"xaxis\":\"x\",\"yaxis\":\"y\"},{\"name\":\"Bound%\",\"x\":[\"SP Narine\",\"Rashid Khan\",\"KH Pandya\",\"HV Patel\",\"MJ Santner\",\"J Suchith\",\"MM Ali\"],\"y\":[5.81,7.07,7.47,10.22,8.33,11.9,11.45],\"type\":\"scatter\",\"xaxis\":\"x2\",\"yaxis\":\"y2\"}],                        {\"template\":{\"data\":{\"bar\":[{\"error_x\":{\"color\":\"#2a3f5f\"},\"error_y\":{\"color\":\"#2a3f5f\"},\"marker\":{\"line\":{\"color\":\"#E5ECF6\",\"width\":0.5},\"pattern\":{\"fillmode\":\"overlay\",\"size\":10,\"solidity\":0.2}},\"type\":\"bar\"}],\"barpolar\":[{\"marker\":{\"line\":{\"color\":\"#E5ECF6\",\"width\":0.5},\"pattern\":{\"fillmode\":\"overlay\",\"size\":10,\"solidity\":0.2}},\"type\":\"barpolar\"}],\"carpet\":[{\"aaxis\":{\"endlinecolor\":\"#2a3f5f\",\"gridcolor\":\"white\",\"linecolor\":\"white\",\"minorgridcolor\":\"white\",\"startlinecolor\":\"#2a3f5f\"},\"baxis\":{\"endlinecolor\":\"#2a3f5f\",\"gridcolor\":\"white\",\"linecolor\":\"white\",\"minorgridcolor\":\"white\",\"startlinecolor\":\"#2a3f5f\"},\"type\":\"carpet\"}],\"choropleth\":[{\"colorbar\":{\"outlinewidth\":0,\"ticks\":\"\"},\"type\":\"choropleth\"}],\"contour\":[{\"colorbar\":{\"outlinewidth\":0,\"ticks\":\"\"},\"colorscale\":[[0.0,\"#0d0887\"],[0.1111111111111111,\"#46039f\"],[0.2222222222222222,\"#7201a8\"],[0.3333333333333333,\"#9c179e\"],[0.4444444444444444,\"#bd3786\"],[0.5555555555555556,\"#d8576b\"],[0.6666666666666666,\"#ed7953\"],[0.7777777777777778,\"#fb9f3a\"],[0.8888888888888888,\"#fdca26\"],[1.0,\"#f0f921\"]],\"type\":\"contour\"}],\"contourcarpet\":[{\"colorbar\":{\"outlinewidth\":0,\"ticks\":\"\"},\"type\":\"contourcarpet\"}],\"heatmap\":[{\"colorbar\":{\"outlinewidth\":0,\"ticks\":\"\"},\"colorscale\":[[0.0,\"#0d0887\"],[0.1111111111111111,\"#46039f\"],[0.2222222222222222,\"#7201a8\"],[0.3333333333333333,\"#9c179e\"],[0.4444444444444444,\"#bd3786\"],[0.5555555555555556,\"#d8576b\"],[0.6666666666666666,\"#ed7953\"],[0.7777777777777778,\"#fb9f3a\"],[0.8888888888888888,\"#fdca26\"],[1.0,\"#f0f921\"]],\"type\":\"heatmap\"}],\"heatmapgl\":[{\"colorbar\":{\"outlinewidth\":0,\"ticks\":\"\"},\"colorscale\":[[0.0,\"#0d0887\"],[0.1111111111111111,\"#46039f\"],[0.2222222222222222,\"#7201a8\"],[0.3333333333333333,\"#9c179e\"],[0.4444444444444444,\"#bd3786\"],[0.5555555555555556,\"#d8576b\"],[0.6666666666666666,\"#ed7953\"],[0.7777777777777778,\"#fb9f3a\"],[0.8888888888888888,\"#fdca26\"],[1.0,\"#f0f921\"]],\"type\":\"heatmapgl\"}],\"histogram\":[{\"marker\":{\"pattern\":{\"fillmode\":\"overlay\",\"size\":10,\"solidity\":0.2}},\"type\":\"histogram\"}],\"histogram2d\":[{\"colorbar\":{\"outlinewidth\":0,\"ticks\":\"\"},\"colorscale\":[[0.0,\"#0d0887\"],[0.1111111111111111,\"#46039f\"],[0.2222222222222222,\"#7201a8\"],[0.3333333333333333,\"#9c179e\"],[0.4444444444444444,\"#bd3786\"],[0.5555555555555556,\"#d8576b\"],[0.6666666666666666,\"#ed7953\"],[0.7777777777777778,\"#fb9f3a\"],[0.8888888888888888,\"#fdca26\"],[1.0,\"#f0f921\"]],\"type\":\"histogram2d\"}],\"histogram2dcontour\":[{\"colorbar\":{\"outlinewidth\":0,\"ticks\":\"\"},\"colorscale\":[[0.0,\"#0d0887\"],[0.1111111111111111,\"#46039f\"],[0.2222222222222222,\"#7201a8\"],[0.3333333333333333,\"#9c179e\"],[0.4444444444444444,\"#bd3786\"],[0.5555555555555556,\"#d8576b\"],[0.6666666666666666,\"#ed7953\"],[0.7777777777777778,\"#fb9f3a\"],[0.8888888888888888,\"#fdca26\"],[1.0,\"#f0f921\"]],\"type\":\"histogram2dcontour\"}],\"mesh3d\":[{\"colorbar\":{\"outlinewidth\":0,\"ticks\":\"\"},\"type\":\"mesh3d\"}],\"parcoords\":[{\"line\":{\"colorbar\":{\"outlinewidth\":0,\"ticks\":\"\"}},\"type\":\"parcoords\"}],\"pie\":[{\"automargin\":true,\"type\":\"pie\"}],\"scatter\":[{\"marker\":{\"colorbar\":{\"outlinewidth\":0,\"ticks\":\"\"}},\"type\":\"scatter\"}],\"scatter3d\":[{\"line\":{\"colorbar\":{\"outlinewidth\":0,\"ticks\":\"\"}},\"marker\":{\"colorbar\":{\"outlinewidth\":0,\"ticks\":\"\"}},\"type\":\"scatter3d\"}],\"scattercarpet\":[{\"marker\":{\"colorbar\":{\"outlinewidth\":0,\"ticks\":\"\"}},\"type\":\"scattercarpet\"}],\"scattergeo\":[{\"marker\":{\"colorbar\":{\"outlinewidth\":0,\"ticks\":\"\"}},\"type\":\"scattergeo\"}],\"scattergl\":[{\"marker\":{\"colorbar\":{\"outlinewidth\":0,\"ticks\":\"\"}},\"type\":\"scattergl\"}],\"scattermapbox\":[{\"marker\":{\"colorbar\":{\"outlinewidth\":0,\"ticks\":\"\"}},\"type\":\"scattermapbox\"}],\"scatterpolar\":[{\"marker\":{\"colorbar\":{\"outlinewidth\":0,\"ticks\":\"\"}},\"type\":\"scatterpolar\"}],\"scatterpolargl\":[{\"marker\":{\"colorbar\":{\"outlinewidth\":0,\"ticks\":\"\"}},\"type\":\"scatterpolargl\"}],\"scatterternary\":[{\"marker\":{\"colorbar\":{\"outlinewidth\":0,\"ticks\":\"\"}},\"type\":\"scatterternary\"}],\"surface\":[{\"colorbar\":{\"outlinewidth\":0,\"ticks\":\"\"},\"colorscale\":[[0.0,\"#0d0887\"],[0.1111111111111111,\"#46039f\"],[0.2222222222222222,\"#7201a8\"],[0.3333333333333333,\"#9c179e\"],[0.4444444444444444,\"#bd3786\"],[0.5555555555555556,\"#d8576b\"],[0.6666666666666666,\"#ed7953\"],[0.7777777777777778,\"#fb9f3a\"],[0.8888888888888888,\"#fdca26\"],[1.0,\"#f0f921\"]],\"type\":\"surface\"}],\"table\":[{\"cells\":{\"fill\":{\"color\":\"#EBF0F8\"},\"line\":{\"color\":\"white\"}},\"header\":{\"fill\":{\"color\":\"#C8D4E3\"},\"line\":{\"color\":\"white\"}},\"type\":\"table\"}]},\"layout\":{\"annotationdefaults\":{\"arrowcolor\":\"#2a3f5f\",\"arrowhead\":0,\"arrowwidth\":1},\"autotypenumbers\":\"strict\",\"coloraxis\":{\"colorbar\":{\"outlinewidth\":0,\"ticks\":\"\"}},\"colorscale\":{\"diverging\":[[0,\"#8e0152\"],[0.1,\"#c51b7d\"],[0.2,\"#de77ae\"],[0.3,\"#f1b6da\"],[0.4,\"#fde0ef\"],[0.5,\"#f7f7f7\"],[0.6,\"#e6f5d0\"],[0.7,\"#b8e186\"],[0.8,\"#7fbc41\"],[0.9,\"#4d9221\"],[1,\"#276419\"]],\"sequential\":[[0.0,\"#0d0887\"],[0.1111111111111111,\"#46039f\"],[0.2222222222222222,\"#7201a8\"],[0.3333333333333333,\"#9c179e\"],[0.4444444444444444,\"#bd3786\"],[0.5555555555555556,\"#d8576b\"],[0.6666666666666666,\"#ed7953\"],[0.7777777777777778,\"#fb9f3a\"],[0.8888888888888888,\"#fdca26\"],[1.0,\"#f0f921\"]],\"sequentialminus\":[[0.0,\"#0d0887\"],[0.1111111111111111,\"#46039f\"],[0.2222222222222222,\"#7201a8\"],[0.3333333333333333,\"#9c179e\"],[0.4444444444444444,\"#bd3786\"],[0.5555555555555556,\"#d8576b\"],[0.6666666666666666,\"#ed7953\"],[0.7777777777777778,\"#fb9f3a\"],[0.8888888888888888,\"#fdca26\"],[1.0,\"#f0f921\"]]},\"colorway\":[\"#636efa\",\"#EF553B\",\"#00cc96\",\"#ab63fa\",\"#FFA15A\",\"#19d3f3\",\"#FF6692\",\"#B6E880\",\"#FF97FF\",\"#FECB52\"],\"font\":{\"color\":\"#2a3f5f\"},\"geo\":{\"bgcolor\":\"white\",\"lakecolor\":\"white\",\"landcolor\":\"#E5ECF6\",\"showlakes\":true,\"showland\":true,\"subunitcolor\":\"white\"},\"hoverlabel\":{\"align\":\"left\"},\"hovermode\":\"closest\",\"mapbox\":{\"style\":\"light\"},\"paper_bgcolor\":\"white\",\"plot_bgcolor\":\"#E5ECF6\",\"polar\":{\"angularaxis\":{\"gridcolor\":\"white\",\"linecolor\":\"white\",\"ticks\":\"\"},\"bgcolor\":\"#E5ECF6\",\"radialaxis\":{\"gridcolor\":\"white\",\"linecolor\":\"white\",\"ticks\":\"\"}},\"scene\":{\"xaxis\":{\"backgroundcolor\":\"#E5ECF6\",\"gridcolor\":\"white\",\"gridwidth\":2,\"linecolor\":\"white\",\"showbackground\":true,\"ticks\":\"\",\"zerolinecolor\":\"white\"},\"yaxis\":{\"backgroundcolor\":\"#E5ECF6\",\"gridcolor\":\"white\",\"gridwidth\":2,\"linecolor\":\"white\",\"showbackground\":true,\"ticks\":\"\",\"zerolinecolor\":\"white\"},\"zaxis\":{\"backgroundcolor\":\"#E5ECF6\",\"gridcolor\":\"white\",\"gridwidth\":2,\"linecolor\":\"white\",\"showbackground\":true,\"ticks\":\"\",\"zerolinecolor\":\"white\"}},\"shapedefaults\":{\"line\":{\"color\":\"#2a3f5f\"}},\"ternary\":{\"aaxis\":{\"gridcolor\":\"white\",\"linecolor\":\"white\",\"ticks\":\"\"},\"baxis\":{\"gridcolor\":\"white\",\"linecolor\":\"white\",\"ticks\":\"\"},\"bgcolor\":\"#E5ECF6\",\"caxis\":{\"gridcolor\":\"white\",\"linecolor\":\"white\",\"ticks\":\"\"}},\"title\":{\"x\":0.05},\"xaxis\":{\"automargin\":true,\"gridcolor\":\"white\",\"linecolor\":\"white\",\"ticks\":\"\",\"title\":{\"standoff\":15},\"zerolinecolor\":\"white\",\"zerolinewidth\":2},\"yaxis\":{\"automargin\":true,\"gridcolor\":\"white\",\"linecolor\":\"white\",\"ticks\":\"\",\"title\":{\"standoff\":15},\"zerolinecolor\":\"white\",\"zerolinewidth\":2}}},\"xaxis\":{\"anchor\":\"y\",\"domain\":[0.0,0.45]},\"yaxis\":{\"anchor\":\"x\",\"domain\":[0.0,1.0]},\"xaxis2\":{\"anchor\":\"y2\",\"domain\":[0.55,1.0]},\"yaxis2\":{\"anchor\":\"x2\",\"domain\":[0.0,1.0]},\"annotations\":[{\"font\":{\"size\":16},\"showarrow\":false,\"text\":\"Wickets per Innings & Economy rate\",\"x\":0.225,\"xanchor\":\"center\",\"xref\":\"paper\",\"y\":1.0,\"yanchor\":\"bottom\",\"yref\":\"paper\"},{\"font\":{\"size\":16},\"showarrow\":false,\"text\":\"Bound%\",\"x\":0.775,\"xanchor\":\"center\",\"xref\":\"paper\",\"y\":1.0,\"yanchor\":\"bottom\",\"yref\":\"paper\"}],\"height\":400,\"width\":960},                        {\"responsive\": true}                    ).then(function(){\n",
       "                            \n",
       "var gd = document.getElementById('cdc6d4d3-be7f-492c-a316-afb616914a9d');\n",
       "var x = new MutationObserver(function (mutations, observer) {{\n",
       "        var display = window.getComputedStyle(gd).display;\n",
       "        if (!display || display === 'none') {{\n",
       "            console.log([gd, 'removed!']);\n",
       "            Plotly.purge(gd);\n",
       "            observer.disconnect();\n",
       "        }}\n",
       "}});\n",
       "\n",
       "// Listen for the removal of the full notebook cells\n",
       "var notebookContainer = gd.closest('#notebook-container');\n",
       "if (notebookContainer) {{\n",
       "    x.observe(notebookContainer, {childList: true});\n",
       "}}\n",
       "\n",
       "// Listen for the clearing of the current output cell\n",
       "var outputEl = gd.closest('.output');\n",
       "if (outputEl) {{\n",
       "    x.observe(outputEl, {childList: true});\n",
       "}}\n",
       "\n",
       "                        })                };                });            </script>        </div>"
      ]
     },
     "metadata": {},
     "output_type": "display_data"
    },
    {
     "data": {
      "text/html": [
       "<div>\n",
       "<style scoped>\n",
       "    .dataframe tbody tr th:only-of-type {\n",
       "        vertical-align: middle;\n",
       "    }\n",
       "\n",
       "    .dataframe tbody tr th {\n",
       "        vertical-align: top;\n",
       "    }\n",
       "\n",
       "    .dataframe thead th {\n",
       "        text-align: right;\n",
       "    }\n",
       "</style>\n",
       "<table border=\"1\" class=\"dataframe\">\n",
       "  <thead>\n",
       "    <tr style=\"text-align: right;\">\n",
       "      <th></th>\n",
       "      <th>Player</th>\n",
       "      <th>Team</th>\n",
       "      <th>Type</th>\n",
       "      <th>W/I</th>\n",
       "      <th>Econ</th>\n",
       "      <th>Dot %</th>\n",
       "      <th>Bound/Dots_%</th>\n",
       "      <th>ESRA</th>\n",
       "    </tr>\n",
       "  </thead>\n",
       "  <tbody>\n",
       "    <tr>\n",
       "      <th>108</th>\n",
       "      <td>SP Narine</td>\n",
       "      <td>KKR</td>\n",
       "      <td>Legbreak Googly</td>\n",
       "      <td>0.571</td>\n",
       "      <td>5.30</td>\n",
       "      <td>42.25</td>\n",
       "      <td>13.76</td>\n",
       "      <td>13.094</td>\n",
       "    </tr>\n",
       "    <tr>\n",
       "      <th>93</th>\n",
       "      <td>Rashid Khan</td>\n",
       "      <td>GT</td>\n",
       "      <td>Legbreak</td>\n",
       "      <td>1.062</td>\n",
       "      <td>6.21</td>\n",
       "      <td>33.12</td>\n",
       "      <td>21.36</td>\n",
       "      <td>12.312</td>\n",
       "    </tr>\n",
       "    <tr>\n",
       "      <th>47</th>\n",
       "      <td>KH Pandya</td>\n",
       "      <td>LSG</td>\n",
       "      <td>Offbreak</td>\n",
       "      <td>0.583</td>\n",
       "      <td>6.21</td>\n",
       "      <td>30.46</td>\n",
       "      <td>24.53</td>\n",
       "      <td>13.321</td>\n",
       "    </tr>\n",
       "    <tr>\n",
       "      <th>35</th>\n",
       "      <td>HV Patel</td>\n",
       "      <td>RCB</td>\n",
       "      <td>Medium</td>\n",
       "      <td>0.667</td>\n",
       "      <td>6.29</td>\n",
       "      <td>39.25</td>\n",
       "      <td>26.03</td>\n",
       "      <td>12.463</td>\n",
       "    </tr>\n",
       "    <tr>\n",
       "      <th>61</th>\n",
       "      <td>MJ Santner</td>\n",
       "      <td>CSK</td>\n",
       "      <td>Offbreak</td>\n",
       "      <td>0.667</td>\n",
       "      <td>6.67</td>\n",
       "      <td>30.56</td>\n",
       "      <td>27.27</td>\n",
       "      <td>12.834</td>\n",
       "    </tr>\n",
       "    <tr>\n",
       "      <th>36</th>\n",
       "      <td>J Suchith</td>\n",
       "      <td>SRH</td>\n",
       "      <td>Offbreak</td>\n",
       "      <td>1.000</td>\n",
       "      <td>6.86</td>\n",
       "      <td>45.24</td>\n",
       "      <td>26.32</td>\n",
       "      <td>12.860</td>\n",
       "    </tr>\n",
       "    <tr>\n",
       "      <th>63</th>\n",
       "      <td>MM Ali</td>\n",
       "      <td>CSK</td>\n",
       "      <td>Offbreak</td>\n",
       "      <td>0.800</td>\n",
       "      <td>6.92</td>\n",
       "      <td>35.88</td>\n",
       "      <td>31.91</td>\n",
       "      <td>12.858</td>\n",
       "    </tr>\n",
       "  </tbody>\n",
       "</table>\n",
       "</div>"
      ],
      "text/plain": [
       "          Player Team             Type    W/I  Econ  Dot %  Bound/Dots_%  \\\n",
       "108    SP Narine  KKR  Legbreak Googly  0.571  5.30  42.25         13.76   \n",
       "93   Rashid Khan   GT         Legbreak  1.062  6.21  33.12         21.36   \n",
       "47     KH Pandya  LSG         Offbreak  0.583  6.21  30.46         24.53   \n",
       "35      HV Patel  RCB           Medium  0.667  6.29  39.25         26.03   \n",
       "61    MJ Santner  CSK         Offbreak  0.667  6.67  30.56         27.27   \n",
       "36     J Suchith  SRH         Offbreak  1.000  6.86  45.24         26.32   \n",
       "63        MM Ali  CSK         Offbreak  0.800  6.92  35.88         31.91   \n",
       "\n",
       "       ESRA  \n",
       "108  13.094  \n",
       "93   12.312  \n",
       "47   13.321  \n",
       "35   12.463  \n",
       "61   12.834  \n",
       "36   12.860  \n",
       "63   12.858  "
      ]
     },
     "execution_count": 56,
     "metadata": {},
     "output_type": "execute_result"
    }
   ],
   "source": [
    "\n",
    "fig = make_subplots(rows=1, cols=2,subplot_titles=['Wickets per Innings & Economy rate','Bound%'])\n",
    "\n",
    "fig.add_trace(go.Bar(name='W/I x 10',x=mo_econ['Player'], y=mo_econ['W/I']*10,marker_color='#f2c64c'),row=1, col=1)\n",
    "\n",
    "fig.add_trace(go.Scatter(name='Econ',x=mo_econ['Player'], y=mo_econ['Econ'],marker_color='#4c78f2'),row=1, col=1)#red\n",
    "fig.add_trace(go.Scatter(name = 'Bound%',x=mo_econ['Player'], y=mo_econ['Bound%']),row=1, col=2)\n",
    "\n",
    "fig.update_layout(height=400, width=960)\n",
    "fig.show()\n",
    "mo_econ[['Player','Team','Type','W/I','Econ','Dot %','Bound/Dots_%','ESRA']]"
   ]
  },
  {
   "cell_type": "markdown",
   "id": "4f0d364c",
   "metadata": {},
   "source": [
    "Sunil Narine is the man. He'll walk into my team, any day of the week, owing to that economy rate. That Boundary per Dot % is just too miserly, meaning he'll get hit for boundaries very rarely for every dotball he bowls. Rashid Khan is the other bowler who's worth his weight in gold, having both a low economy rate and a good wicket-taking ability. Harshal Patel makes the list, despite being an exclusive death bowler, probably coming on to pick a wicket or so if the going got tough for RCB."
   ]
  },
  {
   "cell_type": "markdown",
   "id": "159eb1f2",
   "metadata": {},
   "source": [
    "**Death Over analysis**"
   ]
  },
  {
   "cell_type": "markdown",
   "id": "3d2008ed",
   "metadata": {},
   "source": [
    "The criteria is defense, defense, defense. Batters tend to go big in the final overs of the game, to maximize the score. Sometimes they do lose their wickets, but it is often a result of an unforced error."
   ]
  },
  {
   "cell_type": "code",
   "execution_count": 57,
   "id": "14f48db3",
   "metadata": {},
   "outputs": [],
   "source": [
    "do = Death_table.sort_values('Econ').head(7)"
   ]
  },
  {
   "cell_type": "code",
   "execution_count": 58,
   "id": "8c6d0271",
   "metadata": {},
   "outputs": [
    {
     "data": {
      "text/html": [
       "<div>\n",
       "<style scoped>\n",
       "    .dataframe tbody tr th:only-of-type {\n",
       "        vertical-align: middle;\n",
       "    }\n",
       "\n",
       "    .dataframe tbody tr th {\n",
       "        vertical-align: top;\n",
       "    }\n",
       "\n",
       "    .dataframe thead th {\n",
       "        text-align: right;\n",
       "    }\n",
       "</style>\n",
       "<table border=\"1\" class=\"dataframe\">\n",
       "  <thead>\n",
       "    <tr style=\"text-align: right;\">\n",
       "      <th></th>\n",
       "      <th>Player</th>\n",
       "      <th>Team</th>\n",
       "      <th>Hand</th>\n",
       "      <th>Type</th>\n",
       "      <th>Nationality</th>\n",
       "      <th>I</th>\n",
       "      <th>O</th>\n",
       "      <th>Balls</th>\n",
       "      <th>R</th>\n",
       "      <th>Extras</th>\n",
       "      <th>W</th>\n",
       "      <th>Econ</th>\n",
       "      <th>Avg</th>\n",
       "      <th>SR</th>\n",
       "      <th>ESRA</th>\n",
       "      <th>4s</th>\n",
       "      <th>6s</th>\n",
       "      <th>Dots</th>\n",
       "      <th>O/I</th>\n",
       "      <th>W/I</th>\n",
       "      <th>6/4_ratio</th>\n",
       "      <th>Bound%</th>\n",
       "      <th>Dot %</th>\n",
       "      <th>Bound/Dots_%</th>\n",
       "    </tr>\n",
       "  </thead>\n",
       "  <tbody>\n",
       "    <tr>\n",
       "      <th>39</th>\n",
       "      <td>JJ Bumrah</td>\n",
       "      <td>MI</td>\n",
       "      <td>R</td>\n",
       "      <td>Fast</td>\n",
       "      <td>India</td>\n",
       "      <td>14</td>\n",
       "      <td>17.2</td>\n",
       "      <td>104</td>\n",
       "      <td>128</td>\n",
       "      <td>3</td>\n",
       "      <td>7</td>\n",
       "      <td>7.38</td>\n",
       "      <td>18.29</td>\n",
       "      <td>14.86</td>\n",
       "      <td>13.138</td>\n",
       "      <td>10</td>\n",
       "      <td>3</td>\n",
       "      <td>33</td>\n",
       "      <td>1.23</td>\n",
       "      <td>0.500</td>\n",
       "      <td>0.30</td>\n",
       "      <td>12.50</td>\n",
       "      <td>31.73</td>\n",
       "      <td>39.39</td>\n",
       "    </tr>\n",
       "    <tr>\n",
       "      <th>11</th>\n",
       "      <td>Arshdeep Singh</td>\n",
       "      <td>PBKS</td>\n",
       "      <td>L</td>\n",
       "      <td>Medium Fast</td>\n",
       "      <td>India</td>\n",
       "      <td>14</td>\n",
       "      <td>17.0</td>\n",
       "      <td>102</td>\n",
       "      <td>129</td>\n",
       "      <td>2</td>\n",
       "      <td>4</td>\n",
       "      <td>7.59</td>\n",
       "      <td>32.25</td>\n",
       "      <td>25.50</td>\n",
       "      <td>15.189</td>\n",
       "      <td>11</td>\n",
       "      <td>1</td>\n",
       "      <td>21</td>\n",
       "      <td>1.21</td>\n",
       "      <td>0.286</td>\n",
       "      <td>0.09</td>\n",
       "      <td>11.76</td>\n",
       "      <td>20.59</td>\n",
       "      <td>57.14</td>\n",
       "    </tr>\n",
       "    <tr>\n",
       "      <th>76</th>\n",
       "      <td>OC McCoy</td>\n",
       "      <td>RR</td>\n",
       "      <td>L</td>\n",
       "      <td>Medium</td>\n",
       "      <td>West Indies</td>\n",
       "      <td>7</td>\n",
       "      <td>9.5</td>\n",
       "      <td>59</td>\n",
       "      <td>84</td>\n",
       "      <td>5</td>\n",
       "      <td>8</td>\n",
       "      <td>8.54</td>\n",
       "      <td>10.50</td>\n",
       "      <td>7.38</td>\n",
       "      <td>12.768</td>\n",
       "      <td>6</td>\n",
       "      <td>4</td>\n",
       "      <td>24</td>\n",
       "      <td>1.36</td>\n",
       "      <td>1.143</td>\n",
       "      <td>0.67</td>\n",
       "      <td>16.95</td>\n",
       "      <td>40.68</td>\n",
       "      <td>41.67</td>\n",
       "    </tr>\n",
       "    <tr>\n",
       "      <th>15</th>\n",
       "      <td>B Kumar</td>\n",
       "      <td>SRH</td>\n",
       "      <td>R</td>\n",
       "      <td>Medium Fast</td>\n",
       "      <td>India</td>\n",
       "      <td>14</td>\n",
       "      <td>19.1</td>\n",
       "      <td>115</td>\n",
       "      <td>165</td>\n",
       "      <td>10</td>\n",
       "      <td>9</td>\n",
       "      <td>8.61</td>\n",
       "      <td>18.33</td>\n",
       "      <td>12.78</td>\n",
       "      <td>14.188</td>\n",
       "      <td>14</td>\n",
       "      <td>5</td>\n",
       "      <td>38</td>\n",
       "      <td>1.36</td>\n",
       "      <td>0.643</td>\n",
       "      <td>0.36</td>\n",
       "      <td>16.52</td>\n",
       "      <td>33.04</td>\n",
       "      <td>50.00</td>\n",
       "    </tr>\n",
       "    <tr>\n",
       "      <th>122</th>\n",
       "      <td>Yash Dayal</td>\n",
       "      <td>GT</td>\n",
       "      <td>L</td>\n",
       "      <td>Medium Fast</td>\n",
       "      <td>India</td>\n",
       "      <td>9</td>\n",
       "      <td>9.0</td>\n",
       "      <td>54</td>\n",
       "      <td>80</td>\n",
       "      <td>7</td>\n",
       "      <td>3</td>\n",
       "      <td>8.89</td>\n",
       "      <td>26.67</td>\n",
       "      <td>18.00</td>\n",
       "      <td>15.574</td>\n",
       "      <td>5</td>\n",
       "      <td>2</td>\n",
       "      <td>16</td>\n",
       "      <td>1.00</td>\n",
       "      <td>0.333</td>\n",
       "      <td>0.40</td>\n",
       "      <td>12.96</td>\n",
       "      <td>29.63</td>\n",
       "      <td>43.75</td>\n",
       "    </tr>\n",
       "    <tr>\n",
       "      <th>23</th>\n",
       "      <td>DJ Bravo</td>\n",
       "      <td>CSK</td>\n",
       "      <td>R</td>\n",
       "      <td>Medium</td>\n",
       "      <td>West Indies</td>\n",
       "      <td>10</td>\n",
       "      <td>12.2</td>\n",
       "      <td>74</td>\n",
       "      <td>113</td>\n",
       "      <td>9</td>\n",
       "      <td>11</td>\n",
       "      <td>9.16</td>\n",
       "      <td>10.27</td>\n",
       "      <td>6.73</td>\n",
       "      <td>13.283</td>\n",
       "      <td>10</td>\n",
       "      <td>3</td>\n",
       "      <td>24</td>\n",
       "      <td>1.22</td>\n",
       "      <td>1.100</td>\n",
       "      <td>0.30</td>\n",
       "      <td>17.57</td>\n",
       "      <td>32.43</td>\n",
       "      <td>54.17</td>\n",
       "    </tr>\n",
       "    <tr>\n",
       "      <th>70</th>\n",
       "      <td>Mustafizur Rahman</td>\n",
       "      <td>DC</td>\n",
       "      <td>L</td>\n",
       "      <td>Medium</td>\n",
       "      <td>Bangladesh</td>\n",
       "      <td>8</td>\n",
       "      <td>15.0</td>\n",
       "      <td>90</td>\n",
       "      <td>142</td>\n",
       "      <td>3</td>\n",
       "      <td>6</td>\n",
       "      <td>9.47</td>\n",
       "      <td>23.67</td>\n",
       "      <td>15.00</td>\n",
       "      <td>15.689</td>\n",
       "      <td>12</td>\n",
       "      <td>6</td>\n",
       "      <td>26</td>\n",
       "      <td>1.88</td>\n",
       "      <td>0.750</td>\n",
       "      <td>0.50</td>\n",
       "      <td>20.00</td>\n",
       "      <td>28.89</td>\n",
       "      <td>69.23</td>\n",
       "    </tr>\n",
       "  </tbody>\n",
       "</table>\n",
       "</div>"
      ],
      "text/plain": [
       "                Player  Team Hand         Type  Nationality   I     O  Balls  \\\n",
       "39           JJ Bumrah    MI    R         Fast        India  14  17.2    104   \n",
       "11      Arshdeep Singh  PBKS    L  Medium Fast        India  14  17.0    102   \n",
       "76            OC McCoy    RR    L       Medium  West Indies   7   9.5     59   \n",
       "15             B Kumar   SRH    R  Medium Fast        India  14  19.1    115   \n",
       "122         Yash Dayal    GT    L  Medium Fast        India   9   9.0     54   \n",
       "23            DJ Bravo   CSK    R       Medium  West Indies  10  12.2     74   \n",
       "70   Mustafizur Rahman    DC    L       Medium   Bangladesh   8  15.0     90   \n",
       "\n",
       "       R  Extras   W  Econ    Avg     SR    ESRA  4s  6s  Dots   O/I    W/I  \\\n",
       "39   128       3   7  7.38  18.29  14.86  13.138  10   3    33  1.23  0.500   \n",
       "11   129       2   4  7.59  32.25  25.50  15.189  11   1    21  1.21  0.286   \n",
       "76    84       5   8  8.54  10.50   7.38  12.768   6   4    24  1.36  1.143   \n",
       "15   165      10   9  8.61  18.33  12.78  14.188  14   5    38  1.36  0.643   \n",
       "122   80       7   3  8.89  26.67  18.00  15.574   5   2    16  1.00  0.333   \n",
       "23   113       9  11  9.16  10.27   6.73  13.283  10   3    24  1.22  1.100   \n",
       "70   142       3   6  9.47  23.67  15.00  15.689  12   6    26  1.88  0.750   \n",
       "\n",
       "     6/4_ratio  Bound%  Dot %  Bound/Dots_%  \n",
       "39        0.30   12.50  31.73         39.39  \n",
       "11        0.09   11.76  20.59         57.14  \n",
       "76        0.67   16.95  40.68         41.67  \n",
       "15        0.36   16.52  33.04         50.00  \n",
       "122       0.40   12.96  29.63         43.75  \n",
       "23        0.30   17.57  32.43         54.17  \n",
       "70        0.50   20.00  28.89         69.23  "
      ]
     },
     "execution_count": 58,
     "metadata": {},
     "output_type": "execute_result"
    }
   ],
   "source": [
    "do"
   ]
  },
  {
   "cell_type": "code",
   "execution_count": 59,
   "id": "63cbd017",
   "metadata": {},
   "outputs": [
    {
     "data": {
      "application/vnd.plotly.v1+json": {
       "config": {
        "plotlyServerURL": "https://plot.ly"
       },
       "data": [
        {
         "marker": {
          "color": "darkturquoise"
         },
         "name": "SR",
         "type": "bar",
         "x": [
          "JJ Bumrah",
          "Arshdeep Singh",
          "OC McCoy",
          "B Kumar",
          "Yash Dayal",
          "DJ Bravo",
          "Mustafizur Rahman"
         ],
         "xaxis": "x",
         "y": [
          14.86,
          25.5,
          7.38,
          12.78,
          18,
          6.73,
          15
         ],
         "yaxis": "y"
        },
        {
         "marker": {
          "color": "#4ab088"
         },
         "name": "Econ",
         "type": "scatter",
         "x": [
          "JJ Bumrah",
          "Arshdeep Singh",
          "OC McCoy",
          "B Kumar",
          "Yash Dayal",
          "DJ Bravo",
          "Mustafizur Rahman"
         ],
         "xaxis": "x2",
         "y": [
          7.38,
          7.59,
          8.54,
          8.61,
          8.89,
          9.16,
          9.47
         ],
         "yaxis": "y2"
        }
       ],
       "layout": {
        "annotations": [
         {
          "font": {
           "size": 16
          },
          "showarrow": false,
          "text": "Strike-Rate",
          "x": 0.225,
          "xanchor": "center",
          "xref": "paper",
          "y": 1,
          "yanchor": "bottom",
          "yref": "paper"
         },
         {
          "font": {
           "size": 16
          },
          "showarrow": false,
          "text": "Economy",
          "x": 0.775,
          "xanchor": "center",
          "xref": "paper",
          "y": 1,
          "yanchor": "bottom",
          "yref": "paper"
         }
        ],
        "height": 400,
        "template": {
         "data": {
          "bar": [
           {
            "error_x": {
             "color": "#2a3f5f"
            },
            "error_y": {
             "color": "#2a3f5f"
            },
            "marker": {
             "line": {
              "color": "#E5ECF6",
              "width": 0.5
             },
             "pattern": {
              "fillmode": "overlay",
              "size": 10,
              "solidity": 0.2
             }
            },
            "type": "bar"
           }
          ],
          "barpolar": [
           {
            "marker": {
             "line": {
              "color": "#E5ECF6",
              "width": 0.5
             },
             "pattern": {
              "fillmode": "overlay",
              "size": 10,
              "solidity": 0.2
             }
            },
            "type": "barpolar"
           }
          ],
          "carpet": [
           {
            "aaxis": {
             "endlinecolor": "#2a3f5f",
             "gridcolor": "white",
             "linecolor": "white",
             "minorgridcolor": "white",
             "startlinecolor": "#2a3f5f"
            },
            "baxis": {
             "endlinecolor": "#2a3f5f",
             "gridcolor": "white",
             "linecolor": "white",
             "minorgridcolor": "white",
             "startlinecolor": "#2a3f5f"
            },
            "type": "carpet"
           }
          ],
          "choropleth": [
           {
            "colorbar": {
             "outlinewidth": 0,
             "ticks": ""
            },
            "type": "choropleth"
           }
          ],
          "contour": [
           {
            "colorbar": {
             "outlinewidth": 0,
             "ticks": ""
            },
            "colorscale": [
             [
              0,
              "#0d0887"
             ],
             [
              0.1111111111111111,
              "#46039f"
             ],
             [
              0.2222222222222222,
              "#7201a8"
             ],
             [
              0.3333333333333333,
              "#9c179e"
             ],
             [
              0.4444444444444444,
              "#bd3786"
             ],
             [
              0.5555555555555556,
              "#d8576b"
             ],
             [
              0.6666666666666666,
              "#ed7953"
             ],
             [
              0.7777777777777778,
              "#fb9f3a"
             ],
             [
              0.8888888888888888,
              "#fdca26"
             ],
             [
              1,
              "#f0f921"
             ]
            ],
            "type": "contour"
           }
          ],
          "contourcarpet": [
           {
            "colorbar": {
             "outlinewidth": 0,
             "ticks": ""
            },
            "type": "contourcarpet"
           }
          ],
          "heatmap": [
           {
            "colorbar": {
             "outlinewidth": 0,
             "ticks": ""
            },
            "colorscale": [
             [
              0,
              "#0d0887"
             ],
             [
              0.1111111111111111,
              "#46039f"
             ],
             [
              0.2222222222222222,
              "#7201a8"
             ],
             [
              0.3333333333333333,
              "#9c179e"
             ],
             [
              0.4444444444444444,
              "#bd3786"
             ],
             [
              0.5555555555555556,
              "#d8576b"
             ],
             [
              0.6666666666666666,
              "#ed7953"
             ],
             [
              0.7777777777777778,
              "#fb9f3a"
             ],
             [
              0.8888888888888888,
              "#fdca26"
             ],
             [
              1,
              "#f0f921"
             ]
            ],
            "type": "heatmap"
           }
          ],
          "heatmapgl": [
           {
            "colorbar": {
             "outlinewidth": 0,
             "ticks": ""
            },
            "colorscale": [
             [
              0,
              "#0d0887"
             ],
             [
              0.1111111111111111,
              "#46039f"
             ],
             [
              0.2222222222222222,
              "#7201a8"
             ],
             [
              0.3333333333333333,
              "#9c179e"
             ],
             [
              0.4444444444444444,
              "#bd3786"
             ],
             [
              0.5555555555555556,
              "#d8576b"
             ],
             [
              0.6666666666666666,
              "#ed7953"
             ],
             [
              0.7777777777777778,
              "#fb9f3a"
             ],
             [
              0.8888888888888888,
              "#fdca26"
             ],
             [
              1,
              "#f0f921"
             ]
            ],
            "type": "heatmapgl"
           }
          ],
          "histogram": [
           {
            "marker": {
             "pattern": {
              "fillmode": "overlay",
              "size": 10,
              "solidity": 0.2
             }
            },
            "type": "histogram"
           }
          ],
          "histogram2d": [
           {
            "colorbar": {
             "outlinewidth": 0,
             "ticks": ""
            },
            "colorscale": [
             [
              0,
              "#0d0887"
             ],
             [
              0.1111111111111111,
              "#46039f"
             ],
             [
              0.2222222222222222,
              "#7201a8"
             ],
             [
              0.3333333333333333,
              "#9c179e"
             ],
             [
              0.4444444444444444,
              "#bd3786"
             ],
             [
              0.5555555555555556,
              "#d8576b"
             ],
             [
              0.6666666666666666,
              "#ed7953"
             ],
             [
              0.7777777777777778,
              "#fb9f3a"
             ],
             [
              0.8888888888888888,
              "#fdca26"
             ],
             [
              1,
              "#f0f921"
             ]
            ],
            "type": "histogram2d"
           }
          ],
          "histogram2dcontour": [
           {
            "colorbar": {
             "outlinewidth": 0,
             "ticks": ""
            },
            "colorscale": [
             [
              0,
              "#0d0887"
             ],
             [
              0.1111111111111111,
              "#46039f"
             ],
             [
              0.2222222222222222,
              "#7201a8"
             ],
             [
              0.3333333333333333,
              "#9c179e"
             ],
             [
              0.4444444444444444,
              "#bd3786"
             ],
             [
              0.5555555555555556,
              "#d8576b"
             ],
             [
              0.6666666666666666,
              "#ed7953"
             ],
             [
              0.7777777777777778,
              "#fb9f3a"
             ],
             [
              0.8888888888888888,
              "#fdca26"
             ],
             [
              1,
              "#f0f921"
             ]
            ],
            "type": "histogram2dcontour"
           }
          ],
          "mesh3d": [
           {
            "colorbar": {
             "outlinewidth": 0,
             "ticks": ""
            },
            "type": "mesh3d"
           }
          ],
          "parcoords": [
           {
            "line": {
             "colorbar": {
              "outlinewidth": 0,
              "ticks": ""
             }
            },
            "type": "parcoords"
           }
          ],
          "pie": [
           {
            "automargin": true,
            "type": "pie"
           }
          ],
          "scatter": [
           {
            "marker": {
             "colorbar": {
              "outlinewidth": 0,
              "ticks": ""
             }
            },
            "type": "scatter"
           }
          ],
          "scatter3d": [
           {
            "line": {
             "colorbar": {
              "outlinewidth": 0,
              "ticks": ""
             }
            },
            "marker": {
             "colorbar": {
              "outlinewidth": 0,
              "ticks": ""
             }
            },
            "type": "scatter3d"
           }
          ],
          "scattercarpet": [
           {
            "marker": {
             "colorbar": {
              "outlinewidth": 0,
              "ticks": ""
             }
            },
            "type": "scattercarpet"
           }
          ],
          "scattergeo": [
           {
            "marker": {
             "colorbar": {
              "outlinewidth": 0,
              "ticks": ""
             }
            },
            "type": "scattergeo"
           }
          ],
          "scattergl": [
           {
            "marker": {
             "colorbar": {
              "outlinewidth": 0,
              "ticks": ""
             }
            },
            "type": "scattergl"
           }
          ],
          "scattermapbox": [
           {
            "marker": {
             "colorbar": {
              "outlinewidth": 0,
              "ticks": ""
             }
            },
            "type": "scattermapbox"
           }
          ],
          "scatterpolar": [
           {
            "marker": {
             "colorbar": {
              "outlinewidth": 0,
              "ticks": ""
             }
            },
            "type": "scatterpolar"
           }
          ],
          "scatterpolargl": [
           {
            "marker": {
             "colorbar": {
              "outlinewidth": 0,
              "ticks": ""
             }
            },
            "type": "scatterpolargl"
           }
          ],
          "scatterternary": [
           {
            "marker": {
             "colorbar": {
              "outlinewidth": 0,
              "ticks": ""
             }
            },
            "type": "scatterternary"
           }
          ],
          "surface": [
           {
            "colorbar": {
             "outlinewidth": 0,
             "ticks": ""
            },
            "colorscale": [
             [
              0,
              "#0d0887"
             ],
             [
              0.1111111111111111,
              "#46039f"
             ],
             [
              0.2222222222222222,
              "#7201a8"
             ],
             [
              0.3333333333333333,
              "#9c179e"
             ],
             [
              0.4444444444444444,
              "#bd3786"
             ],
             [
              0.5555555555555556,
              "#d8576b"
             ],
             [
              0.6666666666666666,
              "#ed7953"
             ],
             [
              0.7777777777777778,
              "#fb9f3a"
             ],
             [
              0.8888888888888888,
              "#fdca26"
             ],
             [
              1,
              "#f0f921"
             ]
            ],
            "type": "surface"
           }
          ],
          "table": [
           {
            "cells": {
             "fill": {
              "color": "#EBF0F8"
             },
             "line": {
              "color": "white"
             }
            },
            "header": {
             "fill": {
              "color": "#C8D4E3"
             },
             "line": {
              "color": "white"
             }
            },
            "type": "table"
           }
          ]
         },
         "layout": {
          "annotationdefaults": {
           "arrowcolor": "#2a3f5f",
           "arrowhead": 0,
           "arrowwidth": 1
          },
          "autotypenumbers": "strict",
          "coloraxis": {
           "colorbar": {
            "outlinewidth": 0,
            "ticks": ""
           }
          },
          "colorscale": {
           "diverging": [
            [
             0,
             "#8e0152"
            ],
            [
             0.1,
             "#c51b7d"
            ],
            [
             0.2,
             "#de77ae"
            ],
            [
             0.3,
             "#f1b6da"
            ],
            [
             0.4,
             "#fde0ef"
            ],
            [
             0.5,
             "#f7f7f7"
            ],
            [
             0.6,
             "#e6f5d0"
            ],
            [
             0.7,
             "#b8e186"
            ],
            [
             0.8,
             "#7fbc41"
            ],
            [
             0.9,
             "#4d9221"
            ],
            [
             1,
             "#276419"
            ]
           ],
           "sequential": [
            [
             0,
             "#0d0887"
            ],
            [
             0.1111111111111111,
             "#46039f"
            ],
            [
             0.2222222222222222,
             "#7201a8"
            ],
            [
             0.3333333333333333,
             "#9c179e"
            ],
            [
             0.4444444444444444,
             "#bd3786"
            ],
            [
             0.5555555555555556,
             "#d8576b"
            ],
            [
             0.6666666666666666,
             "#ed7953"
            ],
            [
             0.7777777777777778,
             "#fb9f3a"
            ],
            [
             0.8888888888888888,
             "#fdca26"
            ],
            [
             1,
             "#f0f921"
            ]
           ],
           "sequentialminus": [
            [
             0,
             "#0d0887"
            ],
            [
             0.1111111111111111,
             "#46039f"
            ],
            [
             0.2222222222222222,
             "#7201a8"
            ],
            [
             0.3333333333333333,
             "#9c179e"
            ],
            [
             0.4444444444444444,
             "#bd3786"
            ],
            [
             0.5555555555555556,
             "#d8576b"
            ],
            [
             0.6666666666666666,
             "#ed7953"
            ],
            [
             0.7777777777777778,
             "#fb9f3a"
            ],
            [
             0.8888888888888888,
             "#fdca26"
            ],
            [
             1,
             "#f0f921"
            ]
           ]
          },
          "colorway": [
           "#636efa",
           "#EF553B",
           "#00cc96",
           "#ab63fa",
           "#FFA15A",
           "#19d3f3",
           "#FF6692",
           "#B6E880",
           "#FF97FF",
           "#FECB52"
          ],
          "font": {
           "color": "#2a3f5f"
          },
          "geo": {
           "bgcolor": "white",
           "lakecolor": "white",
           "landcolor": "#E5ECF6",
           "showlakes": true,
           "showland": true,
           "subunitcolor": "white"
          },
          "hoverlabel": {
           "align": "left"
          },
          "hovermode": "closest",
          "mapbox": {
           "style": "light"
          },
          "paper_bgcolor": "white",
          "plot_bgcolor": "#E5ECF6",
          "polar": {
           "angularaxis": {
            "gridcolor": "white",
            "linecolor": "white",
            "ticks": ""
           },
           "bgcolor": "#E5ECF6",
           "radialaxis": {
            "gridcolor": "white",
            "linecolor": "white",
            "ticks": ""
           }
          },
          "scene": {
           "xaxis": {
            "backgroundcolor": "#E5ECF6",
            "gridcolor": "white",
            "gridwidth": 2,
            "linecolor": "white",
            "showbackground": true,
            "ticks": "",
            "zerolinecolor": "white"
           },
           "yaxis": {
            "backgroundcolor": "#E5ECF6",
            "gridcolor": "white",
            "gridwidth": 2,
            "linecolor": "white",
            "showbackground": true,
            "ticks": "",
            "zerolinecolor": "white"
           },
           "zaxis": {
            "backgroundcolor": "#E5ECF6",
            "gridcolor": "white",
            "gridwidth": 2,
            "linecolor": "white",
            "showbackground": true,
            "ticks": "",
            "zerolinecolor": "white"
           }
          },
          "shapedefaults": {
           "line": {
            "color": "#2a3f5f"
           }
          },
          "ternary": {
           "aaxis": {
            "gridcolor": "white",
            "linecolor": "white",
            "ticks": ""
           },
           "baxis": {
            "gridcolor": "white",
            "linecolor": "white",
            "ticks": ""
           },
           "bgcolor": "#E5ECF6",
           "caxis": {
            "gridcolor": "white",
            "linecolor": "white",
            "ticks": ""
           }
          },
          "title": {
           "x": 0.05
          },
          "xaxis": {
           "automargin": true,
           "gridcolor": "white",
           "linecolor": "white",
           "ticks": "",
           "title": {
            "standoff": 15
           },
           "zerolinecolor": "white",
           "zerolinewidth": 2
          },
          "yaxis": {
           "automargin": true,
           "gridcolor": "white",
           "linecolor": "white",
           "ticks": "",
           "title": {
            "standoff": 15
           },
           "zerolinecolor": "white",
           "zerolinewidth": 2
          }
         }
        },
        "width": 960,
        "xaxis": {
         "anchor": "y",
         "domain": [
          0,
          0.45
         ]
        },
        "xaxis2": {
         "anchor": "y2",
         "domain": [
          0.55,
          1
         ]
        },
        "yaxis": {
         "anchor": "x",
         "domain": [
          0,
          1
         ]
        },
        "yaxis2": {
         "anchor": "x2",
         "domain": [
          0,
          1
         ]
        }
       }
      },
      "text/html": [
       "<div>                            <div id=\"b3d82cb4-1c5d-480f-97a9-cebc91bc42e0\" class=\"plotly-graph-div\" style=\"height:400px; width:960px;\"></div>            <script type=\"text/javascript\">                require([\"plotly\"], function(Plotly) {                    window.PLOTLYENV=window.PLOTLYENV || {};                                    if (document.getElementById(\"b3d82cb4-1c5d-480f-97a9-cebc91bc42e0\")) {                    Plotly.newPlot(                        \"b3d82cb4-1c5d-480f-97a9-cebc91bc42e0\",                        [{\"marker\":{\"color\":\"darkturquoise\"},\"name\":\"SR\",\"x\":[\"JJ Bumrah\",\"Arshdeep Singh\",\"OC McCoy\",\"B Kumar\",\"Yash Dayal\",\"DJ Bravo\",\"Mustafizur Rahman\"],\"y\":[14.86,25.5,7.38,12.78,18.0,6.73,15.0],\"type\":\"bar\",\"xaxis\":\"x\",\"yaxis\":\"y\"},{\"marker\":{\"color\":\"#4ab088\"},\"name\":\"Econ\",\"x\":[\"JJ Bumrah\",\"Arshdeep Singh\",\"OC McCoy\",\"B Kumar\",\"Yash Dayal\",\"DJ Bravo\",\"Mustafizur Rahman\"],\"y\":[7.38,7.59,8.54,8.61,8.89,9.16,9.47],\"type\":\"scatter\",\"xaxis\":\"x2\",\"yaxis\":\"y2\"}],                        {\"template\":{\"data\":{\"bar\":[{\"error_x\":{\"color\":\"#2a3f5f\"},\"error_y\":{\"color\":\"#2a3f5f\"},\"marker\":{\"line\":{\"color\":\"#E5ECF6\",\"width\":0.5},\"pattern\":{\"fillmode\":\"overlay\",\"size\":10,\"solidity\":0.2}},\"type\":\"bar\"}],\"barpolar\":[{\"marker\":{\"line\":{\"color\":\"#E5ECF6\",\"width\":0.5},\"pattern\":{\"fillmode\":\"overlay\",\"size\":10,\"solidity\":0.2}},\"type\":\"barpolar\"}],\"carpet\":[{\"aaxis\":{\"endlinecolor\":\"#2a3f5f\",\"gridcolor\":\"white\",\"linecolor\":\"white\",\"minorgridcolor\":\"white\",\"startlinecolor\":\"#2a3f5f\"},\"baxis\":{\"endlinecolor\":\"#2a3f5f\",\"gridcolor\":\"white\",\"linecolor\":\"white\",\"minorgridcolor\":\"white\",\"startlinecolor\":\"#2a3f5f\"},\"type\":\"carpet\"}],\"choropleth\":[{\"colorbar\":{\"outlinewidth\":0,\"ticks\":\"\"},\"type\":\"choropleth\"}],\"contour\":[{\"colorbar\":{\"outlinewidth\":0,\"ticks\":\"\"},\"colorscale\":[[0.0,\"#0d0887\"],[0.1111111111111111,\"#46039f\"],[0.2222222222222222,\"#7201a8\"],[0.3333333333333333,\"#9c179e\"],[0.4444444444444444,\"#bd3786\"],[0.5555555555555556,\"#d8576b\"],[0.6666666666666666,\"#ed7953\"],[0.7777777777777778,\"#fb9f3a\"],[0.8888888888888888,\"#fdca26\"],[1.0,\"#f0f921\"]],\"type\":\"contour\"}],\"contourcarpet\":[{\"colorbar\":{\"outlinewidth\":0,\"ticks\":\"\"},\"type\":\"contourcarpet\"}],\"heatmap\":[{\"colorbar\":{\"outlinewidth\":0,\"ticks\":\"\"},\"colorscale\":[[0.0,\"#0d0887\"],[0.1111111111111111,\"#46039f\"],[0.2222222222222222,\"#7201a8\"],[0.3333333333333333,\"#9c179e\"],[0.4444444444444444,\"#bd3786\"],[0.5555555555555556,\"#d8576b\"],[0.6666666666666666,\"#ed7953\"],[0.7777777777777778,\"#fb9f3a\"],[0.8888888888888888,\"#fdca26\"],[1.0,\"#f0f921\"]],\"type\":\"heatmap\"}],\"heatmapgl\":[{\"colorbar\":{\"outlinewidth\":0,\"ticks\":\"\"},\"colorscale\":[[0.0,\"#0d0887\"],[0.1111111111111111,\"#46039f\"],[0.2222222222222222,\"#7201a8\"],[0.3333333333333333,\"#9c179e\"],[0.4444444444444444,\"#bd3786\"],[0.5555555555555556,\"#d8576b\"],[0.6666666666666666,\"#ed7953\"],[0.7777777777777778,\"#fb9f3a\"],[0.8888888888888888,\"#fdca26\"],[1.0,\"#f0f921\"]],\"type\":\"heatmapgl\"}],\"histogram\":[{\"marker\":{\"pattern\":{\"fillmode\":\"overlay\",\"size\":10,\"solidity\":0.2}},\"type\":\"histogram\"}],\"histogram2d\":[{\"colorbar\":{\"outlinewidth\":0,\"ticks\":\"\"},\"colorscale\":[[0.0,\"#0d0887\"],[0.1111111111111111,\"#46039f\"],[0.2222222222222222,\"#7201a8\"],[0.3333333333333333,\"#9c179e\"],[0.4444444444444444,\"#bd3786\"],[0.5555555555555556,\"#d8576b\"],[0.6666666666666666,\"#ed7953\"],[0.7777777777777778,\"#fb9f3a\"],[0.8888888888888888,\"#fdca26\"],[1.0,\"#f0f921\"]],\"type\":\"histogram2d\"}],\"histogram2dcontour\":[{\"colorbar\":{\"outlinewidth\":0,\"ticks\":\"\"},\"colorscale\":[[0.0,\"#0d0887\"],[0.1111111111111111,\"#46039f\"],[0.2222222222222222,\"#7201a8\"],[0.3333333333333333,\"#9c179e\"],[0.4444444444444444,\"#bd3786\"],[0.5555555555555556,\"#d8576b\"],[0.6666666666666666,\"#ed7953\"],[0.7777777777777778,\"#fb9f3a\"],[0.8888888888888888,\"#fdca26\"],[1.0,\"#f0f921\"]],\"type\":\"histogram2dcontour\"}],\"mesh3d\":[{\"colorbar\":{\"outlinewidth\":0,\"ticks\":\"\"},\"type\":\"mesh3d\"}],\"parcoords\":[{\"line\":{\"colorbar\":{\"outlinewidth\":0,\"ticks\":\"\"}},\"type\":\"parcoords\"}],\"pie\":[{\"automargin\":true,\"type\":\"pie\"}],\"scatter\":[{\"marker\":{\"colorbar\":{\"outlinewidth\":0,\"ticks\":\"\"}},\"type\":\"scatter\"}],\"scatter3d\":[{\"line\":{\"colorbar\":{\"outlinewidth\":0,\"ticks\":\"\"}},\"marker\":{\"colorbar\":{\"outlinewidth\":0,\"ticks\":\"\"}},\"type\":\"scatter3d\"}],\"scattercarpet\":[{\"marker\":{\"colorbar\":{\"outlinewidth\":0,\"ticks\":\"\"}},\"type\":\"scattercarpet\"}],\"scattergeo\":[{\"marker\":{\"colorbar\":{\"outlinewidth\":0,\"ticks\":\"\"}},\"type\":\"scattergeo\"}],\"scattergl\":[{\"marker\":{\"colorbar\":{\"outlinewidth\":0,\"ticks\":\"\"}},\"type\":\"scattergl\"}],\"scattermapbox\":[{\"marker\":{\"colorbar\":{\"outlinewidth\":0,\"ticks\":\"\"}},\"type\":\"scattermapbox\"}],\"scatterpolar\":[{\"marker\":{\"colorbar\":{\"outlinewidth\":0,\"ticks\":\"\"}},\"type\":\"scatterpolar\"}],\"scatterpolargl\":[{\"marker\":{\"colorbar\":{\"outlinewidth\":0,\"ticks\":\"\"}},\"type\":\"scatterpolargl\"}],\"scatterternary\":[{\"marker\":{\"colorbar\":{\"outlinewidth\":0,\"ticks\":\"\"}},\"type\":\"scatterternary\"}],\"surface\":[{\"colorbar\":{\"outlinewidth\":0,\"ticks\":\"\"},\"colorscale\":[[0.0,\"#0d0887\"],[0.1111111111111111,\"#46039f\"],[0.2222222222222222,\"#7201a8\"],[0.3333333333333333,\"#9c179e\"],[0.4444444444444444,\"#bd3786\"],[0.5555555555555556,\"#d8576b\"],[0.6666666666666666,\"#ed7953\"],[0.7777777777777778,\"#fb9f3a\"],[0.8888888888888888,\"#fdca26\"],[1.0,\"#f0f921\"]],\"type\":\"surface\"}],\"table\":[{\"cells\":{\"fill\":{\"color\":\"#EBF0F8\"},\"line\":{\"color\":\"white\"}},\"header\":{\"fill\":{\"color\":\"#C8D4E3\"},\"line\":{\"color\":\"white\"}},\"type\":\"table\"}]},\"layout\":{\"annotationdefaults\":{\"arrowcolor\":\"#2a3f5f\",\"arrowhead\":0,\"arrowwidth\":1},\"autotypenumbers\":\"strict\",\"coloraxis\":{\"colorbar\":{\"outlinewidth\":0,\"ticks\":\"\"}},\"colorscale\":{\"diverging\":[[0,\"#8e0152\"],[0.1,\"#c51b7d\"],[0.2,\"#de77ae\"],[0.3,\"#f1b6da\"],[0.4,\"#fde0ef\"],[0.5,\"#f7f7f7\"],[0.6,\"#e6f5d0\"],[0.7,\"#b8e186\"],[0.8,\"#7fbc41\"],[0.9,\"#4d9221\"],[1,\"#276419\"]],\"sequential\":[[0.0,\"#0d0887\"],[0.1111111111111111,\"#46039f\"],[0.2222222222222222,\"#7201a8\"],[0.3333333333333333,\"#9c179e\"],[0.4444444444444444,\"#bd3786\"],[0.5555555555555556,\"#d8576b\"],[0.6666666666666666,\"#ed7953\"],[0.7777777777777778,\"#fb9f3a\"],[0.8888888888888888,\"#fdca26\"],[1.0,\"#f0f921\"]],\"sequentialminus\":[[0.0,\"#0d0887\"],[0.1111111111111111,\"#46039f\"],[0.2222222222222222,\"#7201a8\"],[0.3333333333333333,\"#9c179e\"],[0.4444444444444444,\"#bd3786\"],[0.5555555555555556,\"#d8576b\"],[0.6666666666666666,\"#ed7953\"],[0.7777777777777778,\"#fb9f3a\"],[0.8888888888888888,\"#fdca26\"],[1.0,\"#f0f921\"]]},\"colorway\":[\"#636efa\",\"#EF553B\",\"#00cc96\",\"#ab63fa\",\"#FFA15A\",\"#19d3f3\",\"#FF6692\",\"#B6E880\",\"#FF97FF\",\"#FECB52\"],\"font\":{\"color\":\"#2a3f5f\"},\"geo\":{\"bgcolor\":\"white\",\"lakecolor\":\"white\",\"landcolor\":\"#E5ECF6\",\"showlakes\":true,\"showland\":true,\"subunitcolor\":\"white\"},\"hoverlabel\":{\"align\":\"left\"},\"hovermode\":\"closest\",\"mapbox\":{\"style\":\"light\"},\"paper_bgcolor\":\"white\",\"plot_bgcolor\":\"#E5ECF6\",\"polar\":{\"angularaxis\":{\"gridcolor\":\"white\",\"linecolor\":\"white\",\"ticks\":\"\"},\"bgcolor\":\"#E5ECF6\",\"radialaxis\":{\"gridcolor\":\"white\",\"linecolor\":\"white\",\"ticks\":\"\"}},\"scene\":{\"xaxis\":{\"backgroundcolor\":\"#E5ECF6\",\"gridcolor\":\"white\",\"gridwidth\":2,\"linecolor\":\"white\",\"showbackground\":true,\"ticks\":\"\",\"zerolinecolor\":\"white\"},\"yaxis\":{\"backgroundcolor\":\"#E5ECF6\",\"gridcolor\":\"white\",\"gridwidth\":2,\"linecolor\":\"white\",\"showbackground\":true,\"ticks\":\"\",\"zerolinecolor\":\"white\"},\"zaxis\":{\"backgroundcolor\":\"#E5ECF6\",\"gridcolor\":\"white\",\"gridwidth\":2,\"linecolor\":\"white\",\"showbackground\":true,\"ticks\":\"\",\"zerolinecolor\":\"white\"}},\"shapedefaults\":{\"line\":{\"color\":\"#2a3f5f\"}},\"ternary\":{\"aaxis\":{\"gridcolor\":\"white\",\"linecolor\":\"white\",\"ticks\":\"\"},\"baxis\":{\"gridcolor\":\"white\",\"linecolor\":\"white\",\"ticks\":\"\"},\"bgcolor\":\"#E5ECF6\",\"caxis\":{\"gridcolor\":\"white\",\"linecolor\":\"white\",\"ticks\":\"\"}},\"title\":{\"x\":0.05},\"xaxis\":{\"automargin\":true,\"gridcolor\":\"white\",\"linecolor\":\"white\",\"ticks\":\"\",\"title\":{\"standoff\":15},\"zerolinecolor\":\"white\",\"zerolinewidth\":2},\"yaxis\":{\"automargin\":true,\"gridcolor\":\"white\",\"linecolor\":\"white\",\"ticks\":\"\",\"title\":{\"standoff\":15},\"zerolinecolor\":\"white\",\"zerolinewidth\":2}}},\"xaxis\":{\"anchor\":\"y\",\"domain\":[0.0,0.45]},\"yaxis\":{\"anchor\":\"x\",\"domain\":[0.0,1.0]},\"xaxis2\":{\"anchor\":\"y2\",\"domain\":[0.55,1.0]},\"yaxis2\":{\"anchor\":\"x2\",\"domain\":[0.0,1.0]},\"annotations\":[{\"font\":{\"size\":16},\"showarrow\":false,\"text\":\"Strike-Rate\",\"x\":0.225,\"xanchor\":\"center\",\"xref\":\"paper\",\"y\":1.0,\"yanchor\":\"bottom\",\"yref\":\"paper\"},{\"font\":{\"size\":16},\"showarrow\":false,\"text\":\"Economy\",\"x\":0.775,\"xanchor\":\"center\",\"xref\":\"paper\",\"y\":1.0,\"yanchor\":\"bottom\",\"yref\":\"paper\"}],\"height\":400,\"width\":960},                        {\"responsive\": true}                    ).then(function(){\n",
       "                            \n",
       "var gd = document.getElementById('b3d82cb4-1c5d-480f-97a9-cebc91bc42e0');\n",
       "var x = new MutationObserver(function (mutations, observer) {{\n",
       "        var display = window.getComputedStyle(gd).display;\n",
       "        if (!display || display === 'none') {{\n",
       "            console.log([gd, 'removed!']);\n",
       "            Plotly.purge(gd);\n",
       "            observer.disconnect();\n",
       "        }}\n",
       "}});\n",
       "\n",
       "// Listen for the removal of the full notebook cells\n",
       "var notebookContainer = gd.closest('#notebook-container');\n",
       "if (notebookContainer) {{\n",
       "    x.observe(notebookContainer, {childList: true});\n",
       "}}\n",
       "\n",
       "// Listen for the clearing of the current output cell\n",
       "var outputEl = gd.closest('.output');\n",
       "if (outputEl) {{\n",
       "    x.observe(outputEl, {childList: true});\n",
       "}}\n",
       "\n",
       "                        })                };                });            </script>        </div>"
      ]
     },
     "metadata": {},
     "output_type": "display_data"
    },
    {
     "data": {
      "text/html": [
       "<div>\n",
       "<style scoped>\n",
       "    .dataframe tbody tr th:only-of-type {\n",
       "        vertical-align: middle;\n",
       "    }\n",
       "\n",
       "    .dataframe tbody tr th {\n",
       "        vertical-align: top;\n",
       "    }\n",
       "\n",
       "    .dataframe thead th {\n",
       "        text-align: right;\n",
       "    }\n",
       "</style>\n",
       "<table border=\"1\" class=\"dataframe\">\n",
       "  <thead>\n",
       "    <tr style=\"text-align: right;\">\n",
       "      <th></th>\n",
       "      <th>Player</th>\n",
       "      <th>Team</th>\n",
       "      <th>Type</th>\n",
       "      <th>Econ</th>\n",
       "      <th>ESRA</th>\n",
       "    </tr>\n",
       "  </thead>\n",
       "  <tbody>\n",
       "    <tr>\n",
       "      <th>39</th>\n",
       "      <td>JJ Bumrah</td>\n",
       "      <td>MI</td>\n",
       "      <td>Fast</td>\n",
       "      <td>7.38</td>\n",
       "      <td>13.138</td>\n",
       "    </tr>\n",
       "    <tr>\n",
       "      <th>11</th>\n",
       "      <td>Arshdeep Singh</td>\n",
       "      <td>PBKS</td>\n",
       "      <td>Medium Fast</td>\n",
       "      <td>7.59</td>\n",
       "      <td>15.189</td>\n",
       "    </tr>\n",
       "    <tr>\n",
       "      <th>76</th>\n",
       "      <td>OC McCoy</td>\n",
       "      <td>RR</td>\n",
       "      <td>Medium</td>\n",
       "      <td>8.54</td>\n",
       "      <td>12.768</td>\n",
       "    </tr>\n",
       "    <tr>\n",
       "      <th>15</th>\n",
       "      <td>B Kumar</td>\n",
       "      <td>SRH</td>\n",
       "      <td>Medium Fast</td>\n",
       "      <td>8.61</td>\n",
       "      <td>14.188</td>\n",
       "    </tr>\n",
       "    <tr>\n",
       "      <th>122</th>\n",
       "      <td>Yash Dayal</td>\n",
       "      <td>GT</td>\n",
       "      <td>Medium Fast</td>\n",
       "      <td>8.89</td>\n",
       "      <td>15.574</td>\n",
       "    </tr>\n",
       "    <tr>\n",
       "      <th>23</th>\n",
       "      <td>DJ Bravo</td>\n",
       "      <td>CSK</td>\n",
       "      <td>Medium</td>\n",
       "      <td>9.16</td>\n",
       "      <td>13.283</td>\n",
       "    </tr>\n",
       "    <tr>\n",
       "      <th>70</th>\n",
       "      <td>Mustafizur Rahman</td>\n",
       "      <td>DC</td>\n",
       "      <td>Medium</td>\n",
       "      <td>9.47</td>\n",
       "      <td>15.689</td>\n",
       "    </tr>\n",
       "  </tbody>\n",
       "</table>\n",
       "</div>"
      ],
      "text/plain": [
       "                Player  Team         Type  Econ    ESRA\n",
       "39           JJ Bumrah    MI         Fast  7.38  13.138\n",
       "11      Arshdeep Singh  PBKS  Medium Fast  7.59  15.189\n",
       "76            OC McCoy    RR       Medium  8.54  12.768\n",
       "15             B Kumar   SRH  Medium Fast  8.61  14.188\n",
       "122         Yash Dayal    GT  Medium Fast  8.89  15.574\n",
       "23            DJ Bravo   CSK       Medium  9.16  13.283\n",
       "70   Mustafizur Rahman    DC       Medium  9.47  15.689"
      ]
     },
     "execution_count": 59,
     "metadata": {},
     "output_type": "execute_result"
    }
   ],
   "source": [
    "\n",
    "fig = make_subplots(rows=1, cols=2,subplot_titles=['Strike-Rate','Economy'])\n",
    "\n",
    "fig.add_trace(go.Bar(name = 'SR',x=do['Player'], y=do['SR'],marker_color='darkturquoise'),row=1, col=1)\n",
    "\n",
    "fig.add_trace(go.Scatter(name='Econ',x=do['Player'], y=do['Econ'],marker_color='#4ab088'),row=1, col=2)\n",
    "\n",
    "fig.update_layout(height=400, width=960)\n",
    "fig.show()\n",
    "do[['Player','Team','Type','Econ','ESRA']]"
   ]
  },
  {
   "cell_type": "markdown",
   "id": "27c57bc0",
   "metadata": {},
   "source": [
    "Despite being murmurs of him not being at his usual best, Bumrah tops the list at being a great defensive bowler at the death. That makes me dream of how good he'd be once he gets back to his best. Arshdeep Singh, comes second on this list, having a variety of skills in his repertoire like the slower ones, yorkers to his main ability - hitting the hard lengths. T20 Veteran DJ Bravo makes the list and shows that he still hasn't lost his mettle. \n"
   ]
  },
  {
   "cell_type": "markdown",
   "id": "5cc33f00",
   "metadata": {},
   "source": [
    "**Choosing the bowlers for my team**"
   ]
  },
  {
   "cell_type": "code",
   "execution_count": 60,
   "id": "6dc182b7",
   "metadata": {},
   "outputs": [],
   "source": [
    "xc = list(Middle_Overs_table['Player']) + list(Death_table['Player'])"
   ]
  },
  {
   "cell_type": "code",
   "execution_count": 61,
   "id": "fba9df41",
   "metadata": {},
   "outputs": [
    {
     "data": {
      "text/plain": [
       "{'D Pretorius': 2,\n",
       " 'DJ Bravo': 2,\n",
       " 'HV Patel': 2,\n",
       " 'LH Ferguson': 2,\n",
       " 'OC McCoy': 2,\n",
       " 'T Natarajan': 2}"
      ]
     },
     "execution_count": 61,
     "metadata": {},
     "output_type": "execute_result"
    }
   ],
   "source": [
    "{i:xc.count(i) for i in xc if xc.count(i) >1}"
   ]
  },
  {
   "cell_type": "markdown",
   "id": "77abe38a",
   "metadata": {},
   "source": [
    "For Powerplay bowling, I'll Choose Mohsin Khan and Jasprit Bumrah, since he can be useful at the death too. My middle over bowlers would be Rashid Khan and Sunil Narine, with the former attacking and the latter defending. Now for our fifth bowler, I'll choose Harshal Patel, for 2 overs in the middle and 2 overs in the death."
   ]
  },
  {
   "cell_type": "code",
   "execution_count": 62,
   "id": "047f26c4",
   "metadata": {},
   "outputs": [],
   "source": [
    "Top5 = updated_df[updated_df['Player'].isin(['Mohsin Khan','JJ Bumrah','SP Narine','Rashid Khan','HV Patel'])]"
   ]
  },
  {
   "cell_type": "code",
   "execution_count": 63,
   "id": "a91d04b6",
   "metadata": {},
   "outputs": [
    {
     "data": {
      "text/html": [
       "<div>\n",
       "<style scoped>\n",
       "    .dataframe tbody tr th:only-of-type {\n",
       "        vertical-align: middle;\n",
       "    }\n",
       "\n",
       "    .dataframe tbody tr th {\n",
       "        vertical-align: top;\n",
       "    }\n",
       "\n",
       "    .dataframe thead th {\n",
       "        text-align: right;\n",
       "    }\n",
       "</style>\n",
       "<table border=\"1\" class=\"dataframe\">\n",
       "  <thead>\n",
       "    <tr style=\"text-align: right;\">\n",
       "      <th></th>\n",
       "      <th>Player</th>\n",
       "      <th>Team</th>\n",
       "      <th>Hand</th>\n",
       "      <th>Type</th>\n",
       "      <th>Country</th>\n",
       "      <th>I</th>\n",
       "      <th>O</th>\n",
       "      <th>Balls</th>\n",
       "      <th>R</th>\n",
       "      <th>Extras</th>\n",
       "      <th>W</th>\n",
       "      <th>Econ</th>\n",
       "      <th>Avg</th>\n",
       "      <th>SR</th>\n",
       "      <th>ESRA</th>\n",
       "      <th>4s</th>\n",
       "      <th>6s</th>\n",
       "      <th>Dots</th>\n",
       "      <th>O/I</th>\n",
       "      <th>W/I</th>\n",
       "      <th>6/4_ratio</th>\n",
       "      <th>Bound%</th>\n",
       "      <th>Dot %</th>\n",
       "      <th>Bound/Dots_%</th>\n",
       "    </tr>\n",
       "  </thead>\n",
       "  <tbody>\n",
       "    <tr>\n",
       "      <th>35</th>\n",
       "      <td>HV Patel</td>\n",
       "      <td>RCB</td>\n",
       "      <td>R</td>\n",
       "      <td>Medium</td>\n",
       "      <td>India</td>\n",
       "      <td>15</td>\n",
       "      <td>53.3</td>\n",
       "      <td>321</td>\n",
       "      <td>410</td>\n",
       "      <td>25</td>\n",
       "      <td>19</td>\n",
       "      <td>7.66</td>\n",
       "      <td>21.58</td>\n",
       "      <td>16.89</td>\n",
       "      <td>13.862</td>\n",
       "      <td>26</td>\n",
       "      <td>20</td>\n",
       "      <td>123</td>\n",
       "      <td>3.553</td>\n",
       "      <td>1.267</td>\n",
       "      <td>0.77</td>\n",
       "      <td>14.33</td>\n",
       "      <td>38.32</td>\n",
       "      <td>37.40</td>\n",
       "    </tr>\n",
       "    <tr>\n",
       "      <th>39</th>\n",
       "      <td>JJ Bumrah</td>\n",
       "      <td>MI</td>\n",
       "      <td>R</td>\n",
       "      <td>Fast</td>\n",
       "      <td>India</td>\n",
       "      <td>14</td>\n",
       "      <td>53.2</td>\n",
       "      <td>320</td>\n",
       "      <td>383</td>\n",
       "      <td>7</td>\n",
       "      <td>15</td>\n",
       "      <td>7.18</td>\n",
       "      <td>25.53</td>\n",
       "      <td>21.33</td>\n",
       "      <td>14.025</td>\n",
       "      <td>37</td>\n",
       "      <td>11</td>\n",
       "      <td>133</td>\n",
       "      <td>3.800</td>\n",
       "      <td>1.071</td>\n",
       "      <td>0.30</td>\n",
       "      <td>15.00</td>\n",
       "      <td>41.56</td>\n",
       "      <td>36.09</td>\n",
       "    </tr>\n",
       "    <tr>\n",
       "      <th>66</th>\n",
       "      <td>Mohsin Khan</td>\n",
       "      <td>LSG</td>\n",
       "      <td>L</td>\n",
       "      <td>Fast</td>\n",
       "      <td>India</td>\n",
       "      <td>9</td>\n",
       "      <td>33.0</td>\n",
       "      <td>198</td>\n",
       "      <td>197</td>\n",
       "      <td>12</td>\n",
       "      <td>14</td>\n",
       "      <td>5.97</td>\n",
       "      <td>14.07</td>\n",
       "      <td>14.14</td>\n",
       "      <td>11.281</td>\n",
       "      <td>18</td>\n",
       "      <td>5</td>\n",
       "      <td>105</td>\n",
       "      <td>3.667</td>\n",
       "      <td>1.556</td>\n",
       "      <td>0.28</td>\n",
       "      <td>11.62</td>\n",
       "      <td>53.03</td>\n",
       "      <td>21.90</td>\n",
       "    </tr>\n",
       "    <tr>\n",
       "      <th>93</th>\n",
       "      <td>Rashid Khan</td>\n",
       "      <td>GT</td>\n",
       "      <td>R</td>\n",
       "      <td>Legbreak</td>\n",
       "      <td>Afghanistan</td>\n",
       "      <td>16</td>\n",
       "      <td>63.5</td>\n",
       "      <td>383</td>\n",
       "      <td>421</td>\n",
       "      <td>7</td>\n",
       "      <td>19</td>\n",
       "      <td>6.60</td>\n",
       "      <td>22.16</td>\n",
       "      <td>20.16</td>\n",
       "      <td>13.105</td>\n",
       "      <td>16</td>\n",
       "      <td>16</td>\n",
       "      <td>123</td>\n",
       "      <td>3.969</td>\n",
       "      <td>1.188</td>\n",
       "      <td>1.00</td>\n",
       "      <td>8.36</td>\n",
       "      <td>32.11</td>\n",
       "      <td>26.02</td>\n",
       "    </tr>\n",
       "    <tr>\n",
       "      <th>108</th>\n",
       "      <td>SP Narine</td>\n",
       "      <td>KKR</td>\n",
       "      <td>R</td>\n",
       "      <td>Legbreak Googly</td>\n",
       "      <td>West Indies</td>\n",
       "      <td>14</td>\n",
       "      <td>56.0</td>\n",
       "      <td>336</td>\n",
       "      <td>312</td>\n",
       "      <td>7</td>\n",
       "      <td>9</td>\n",
       "      <td>5.57</td>\n",
       "      <td>34.67</td>\n",
       "      <td>37.33</td>\n",
       "      <td>14.055</td>\n",
       "      <td>11</td>\n",
       "      <td>12</td>\n",
       "      <td>138</td>\n",
       "      <td>4.000</td>\n",
       "      <td>0.643</td>\n",
       "      <td>1.09</td>\n",
       "      <td>6.85</td>\n",
       "      <td>41.07</td>\n",
       "      <td>16.67</td>\n",
       "    </tr>\n",
       "  </tbody>\n",
       "</table>\n",
       "</div>"
      ],
      "text/plain": [
       "          Player Team Hand             Type      Country   I     O  Balls  \\\n",
       "35      HV Patel  RCB    R           Medium        India  15  53.3    321   \n",
       "39     JJ Bumrah   MI    R             Fast        India  14  53.2    320   \n",
       "66   Mohsin Khan  LSG    L             Fast        India   9  33.0    198   \n",
       "93   Rashid Khan   GT    R         Legbreak  Afghanistan  16  63.5    383   \n",
       "108    SP Narine  KKR    R  Legbreak Googly  West Indies  14  56.0    336   \n",
       "\n",
       "       R  Extras   W  Econ    Avg     SR    ESRA  4s  6s  Dots    O/I    W/I  \\\n",
       "35   410      25  19  7.66  21.58  16.89  13.862  26  20   123  3.553  1.267   \n",
       "39   383       7  15  7.18  25.53  21.33  14.025  37  11   133  3.800  1.071   \n",
       "66   197      12  14  5.97  14.07  14.14  11.281  18   5   105  3.667  1.556   \n",
       "93   421       7  19  6.60  22.16  20.16  13.105  16  16   123  3.969  1.188   \n",
       "108  312       7   9  5.57  34.67  37.33  14.055  11  12   138  4.000  0.643   \n",
       "\n",
       "     6/4_ratio  Bound%  Dot %  Bound/Dots_%  \n",
       "35        0.77   14.33  38.32         37.40  \n",
       "39        0.30   15.00  41.56         36.09  \n",
       "66        0.28   11.62  53.03         21.90  \n",
       "93        1.00    8.36  32.11         26.02  \n",
       "108       1.09    6.85  41.07         16.67  "
      ]
     },
     "execution_count": 63,
     "metadata": {},
     "output_type": "execute_result"
    }
   ],
   "source": [
    "Top5"
   ]
  },
  {
   "cell_type": "code",
   "execution_count": 64,
   "id": "32393588",
   "metadata": {},
   "outputs": [
    {
     "data": {
      "application/vnd.plotly.v1+json": {
       "config": {
        "plotlyServerURL": "https://plot.ly"
       },
       "data": [
        {
         "marker": {
          "color": "#56a697"
         },
         "name": "SR",
         "type": "bar",
         "x": [
          "HV Patel",
          "JJ Bumrah",
          "Mohsin Khan",
          "Rashid Khan",
          "SP Narine"
         ],
         "xaxis": "x",
         "y": [
          16.89,
          21.33,
          14.14,
          20.16,
          37.33
         ],
         "yaxis": "y"
        },
        {
         "marker": {
          "color": "#e19678"
         },
         "name": "Econ",
         "type": "scatter",
         "x": [
          "HV Patel",
          "JJ Bumrah",
          "Mohsin Khan",
          "Rashid Khan",
          "SP Narine"
         ],
         "xaxis": "x2",
         "y": [
          7.66,
          7.18,
          5.97,
          6.6,
          5.57
         ],
         "yaxis": "y2"
        },
        {
         "marker": {
          "color": "#3a3e75"
         },
         "name": "Overs",
         "type": "scatter",
         "x": [
          "HV Patel",
          "JJ Bumrah",
          "Mohsin Khan",
          "Rashid Khan",
          "SP Narine"
         ],
         "xaxis": "x3",
         "y": [
          53.3,
          53.2,
          33,
          63.5,
          56
         ],
         "yaxis": "y3"
        },
        {
         "marker": {
          "color": "#e65a97"
         },
         "name": "ESRA",
         "type": "scatter",
         "x": [
          "HV Patel",
          "JJ Bumrah",
          "Mohsin Khan",
          "Rashid Khan",
          "SP Narine"
         ],
         "xaxis": "x4",
         "y": [
          13.862,
          14.025,
          11.281,
          13.105,
          14.055
         ],
         "yaxis": "y4"
        }
       ],
       "layout": {
        "annotations": [
         {
          "font": {
           "size": 16
          },
          "showarrow": false,
          "text": "Strike-Rate",
          "x": 0.225,
          "xanchor": "center",
          "xref": "paper",
          "y": 1,
          "yanchor": "bottom",
          "yref": "paper"
         },
         {
          "font": {
           "size": 16
          },
          "showarrow": false,
          "text": "Economy",
          "x": 0.775,
          "xanchor": "center",
          "xref": "paper",
          "y": 1,
          "yanchor": "bottom",
          "yref": "paper"
         },
         {
          "font": {
           "size": 16
          },
          "showarrow": false,
          "text": "Overs",
          "x": 0.225,
          "xanchor": "center",
          "xref": "paper",
          "y": 0.375,
          "yanchor": "bottom",
          "yref": "paper"
         },
         {
          "font": {
           "size": 16
          },
          "showarrow": false,
          "text": "ESRA",
          "x": 0.775,
          "xanchor": "center",
          "xref": "paper",
          "y": 0.375,
          "yanchor": "bottom",
          "yref": "paper"
         }
        ],
        "height": 700,
        "template": {
         "data": {
          "bar": [
           {
            "error_x": {
             "color": "#2a3f5f"
            },
            "error_y": {
             "color": "#2a3f5f"
            },
            "marker": {
             "line": {
              "color": "#E5ECF6",
              "width": 0.5
             },
             "pattern": {
              "fillmode": "overlay",
              "size": 10,
              "solidity": 0.2
             }
            },
            "type": "bar"
           }
          ],
          "barpolar": [
           {
            "marker": {
             "line": {
              "color": "#E5ECF6",
              "width": 0.5
             },
             "pattern": {
              "fillmode": "overlay",
              "size": 10,
              "solidity": 0.2
             }
            },
            "type": "barpolar"
           }
          ],
          "carpet": [
           {
            "aaxis": {
             "endlinecolor": "#2a3f5f",
             "gridcolor": "white",
             "linecolor": "white",
             "minorgridcolor": "white",
             "startlinecolor": "#2a3f5f"
            },
            "baxis": {
             "endlinecolor": "#2a3f5f",
             "gridcolor": "white",
             "linecolor": "white",
             "minorgridcolor": "white",
             "startlinecolor": "#2a3f5f"
            },
            "type": "carpet"
           }
          ],
          "choropleth": [
           {
            "colorbar": {
             "outlinewidth": 0,
             "ticks": ""
            },
            "type": "choropleth"
           }
          ],
          "contour": [
           {
            "colorbar": {
             "outlinewidth": 0,
             "ticks": ""
            },
            "colorscale": [
             [
              0,
              "#0d0887"
             ],
             [
              0.1111111111111111,
              "#46039f"
             ],
             [
              0.2222222222222222,
              "#7201a8"
             ],
             [
              0.3333333333333333,
              "#9c179e"
             ],
             [
              0.4444444444444444,
              "#bd3786"
             ],
             [
              0.5555555555555556,
              "#d8576b"
             ],
             [
              0.6666666666666666,
              "#ed7953"
             ],
             [
              0.7777777777777778,
              "#fb9f3a"
             ],
             [
              0.8888888888888888,
              "#fdca26"
             ],
             [
              1,
              "#f0f921"
             ]
            ],
            "type": "contour"
           }
          ],
          "contourcarpet": [
           {
            "colorbar": {
             "outlinewidth": 0,
             "ticks": ""
            },
            "type": "contourcarpet"
           }
          ],
          "heatmap": [
           {
            "colorbar": {
             "outlinewidth": 0,
             "ticks": ""
            },
            "colorscale": [
             [
              0,
              "#0d0887"
             ],
             [
              0.1111111111111111,
              "#46039f"
             ],
             [
              0.2222222222222222,
              "#7201a8"
             ],
             [
              0.3333333333333333,
              "#9c179e"
             ],
             [
              0.4444444444444444,
              "#bd3786"
             ],
             [
              0.5555555555555556,
              "#d8576b"
             ],
             [
              0.6666666666666666,
              "#ed7953"
             ],
             [
              0.7777777777777778,
              "#fb9f3a"
             ],
             [
              0.8888888888888888,
              "#fdca26"
             ],
             [
              1,
              "#f0f921"
             ]
            ],
            "type": "heatmap"
           }
          ],
          "heatmapgl": [
           {
            "colorbar": {
             "outlinewidth": 0,
             "ticks": ""
            },
            "colorscale": [
             [
              0,
              "#0d0887"
             ],
             [
              0.1111111111111111,
              "#46039f"
             ],
             [
              0.2222222222222222,
              "#7201a8"
             ],
             [
              0.3333333333333333,
              "#9c179e"
             ],
             [
              0.4444444444444444,
              "#bd3786"
             ],
             [
              0.5555555555555556,
              "#d8576b"
             ],
             [
              0.6666666666666666,
              "#ed7953"
             ],
             [
              0.7777777777777778,
              "#fb9f3a"
             ],
             [
              0.8888888888888888,
              "#fdca26"
             ],
             [
              1,
              "#f0f921"
             ]
            ],
            "type": "heatmapgl"
           }
          ],
          "histogram": [
           {
            "marker": {
             "pattern": {
              "fillmode": "overlay",
              "size": 10,
              "solidity": 0.2
             }
            },
            "type": "histogram"
           }
          ],
          "histogram2d": [
           {
            "colorbar": {
             "outlinewidth": 0,
             "ticks": ""
            },
            "colorscale": [
             [
              0,
              "#0d0887"
             ],
             [
              0.1111111111111111,
              "#46039f"
             ],
             [
              0.2222222222222222,
              "#7201a8"
             ],
             [
              0.3333333333333333,
              "#9c179e"
             ],
             [
              0.4444444444444444,
              "#bd3786"
             ],
             [
              0.5555555555555556,
              "#d8576b"
             ],
             [
              0.6666666666666666,
              "#ed7953"
             ],
             [
              0.7777777777777778,
              "#fb9f3a"
             ],
             [
              0.8888888888888888,
              "#fdca26"
             ],
             [
              1,
              "#f0f921"
             ]
            ],
            "type": "histogram2d"
           }
          ],
          "histogram2dcontour": [
           {
            "colorbar": {
             "outlinewidth": 0,
             "ticks": ""
            },
            "colorscale": [
             [
              0,
              "#0d0887"
             ],
             [
              0.1111111111111111,
              "#46039f"
             ],
             [
              0.2222222222222222,
              "#7201a8"
             ],
             [
              0.3333333333333333,
              "#9c179e"
             ],
             [
              0.4444444444444444,
              "#bd3786"
             ],
             [
              0.5555555555555556,
              "#d8576b"
             ],
             [
              0.6666666666666666,
              "#ed7953"
             ],
             [
              0.7777777777777778,
              "#fb9f3a"
             ],
             [
              0.8888888888888888,
              "#fdca26"
             ],
             [
              1,
              "#f0f921"
             ]
            ],
            "type": "histogram2dcontour"
           }
          ],
          "mesh3d": [
           {
            "colorbar": {
             "outlinewidth": 0,
             "ticks": ""
            },
            "type": "mesh3d"
           }
          ],
          "parcoords": [
           {
            "line": {
             "colorbar": {
              "outlinewidth": 0,
              "ticks": ""
             }
            },
            "type": "parcoords"
           }
          ],
          "pie": [
           {
            "automargin": true,
            "type": "pie"
           }
          ],
          "scatter": [
           {
            "marker": {
             "colorbar": {
              "outlinewidth": 0,
              "ticks": ""
             }
            },
            "type": "scatter"
           }
          ],
          "scatter3d": [
           {
            "line": {
             "colorbar": {
              "outlinewidth": 0,
              "ticks": ""
             }
            },
            "marker": {
             "colorbar": {
              "outlinewidth": 0,
              "ticks": ""
             }
            },
            "type": "scatter3d"
           }
          ],
          "scattercarpet": [
           {
            "marker": {
             "colorbar": {
              "outlinewidth": 0,
              "ticks": ""
             }
            },
            "type": "scattercarpet"
           }
          ],
          "scattergeo": [
           {
            "marker": {
             "colorbar": {
              "outlinewidth": 0,
              "ticks": ""
             }
            },
            "type": "scattergeo"
           }
          ],
          "scattergl": [
           {
            "marker": {
             "colorbar": {
              "outlinewidth": 0,
              "ticks": ""
             }
            },
            "type": "scattergl"
           }
          ],
          "scattermapbox": [
           {
            "marker": {
             "colorbar": {
              "outlinewidth": 0,
              "ticks": ""
             }
            },
            "type": "scattermapbox"
           }
          ],
          "scatterpolar": [
           {
            "marker": {
             "colorbar": {
              "outlinewidth": 0,
              "ticks": ""
             }
            },
            "type": "scatterpolar"
           }
          ],
          "scatterpolargl": [
           {
            "marker": {
             "colorbar": {
              "outlinewidth": 0,
              "ticks": ""
             }
            },
            "type": "scatterpolargl"
           }
          ],
          "scatterternary": [
           {
            "marker": {
             "colorbar": {
              "outlinewidth": 0,
              "ticks": ""
             }
            },
            "type": "scatterternary"
           }
          ],
          "surface": [
           {
            "colorbar": {
             "outlinewidth": 0,
             "ticks": ""
            },
            "colorscale": [
             [
              0,
              "#0d0887"
             ],
             [
              0.1111111111111111,
              "#46039f"
             ],
             [
              0.2222222222222222,
              "#7201a8"
             ],
             [
              0.3333333333333333,
              "#9c179e"
             ],
             [
              0.4444444444444444,
              "#bd3786"
             ],
             [
              0.5555555555555556,
              "#d8576b"
             ],
             [
              0.6666666666666666,
              "#ed7953"
             ],
             [
              0.7777777777777778,
              "#fb9f3a"
             ],
             [
              0.8888888888888888,
              "#fdca26"
             ],
             [
              1,
              "#f0f921"
             ]
            ],
            "type": "surface"
           }
          ],
          "table": [
           {
            "cells": {
             "fill": {
              "color": "#EBF0F8"
             },
             "line": {
              "color": "white"
             }
            },
            "header": {
             "fill": {
              "color": "#C8D4E3"
             },
             "line": {
              "color": "white"
             }
            },
            "type": "table"
           }
          ]
         },
         "layout": {
          "annotationdefaults": {
           "arrowcolor": "#2a3f5f",
           "arrowhead": 0,
           "arrowwidth": 1
          },
          "autotypenumbers": "strict",
          "coloraxis": {
           "colorbar": {
            "outlinewidth": 0,
            "ticks": ""
           }
          },
          "colorscale": {
           "diverging": [
            [
             0,
             "#8e0152"
            ],
            [
             0.1,
             "#c51b7d"
            ],
            [
             0.2,
             "#de77ae"
            ],
            [
             0.3,
             "#f1b6da"
            ],
            [
             0.4,
             "#fde0ef"
            ],
            [
             0.5,
             "#f7f7f7"
            ],
            [
             0.6,
             "#e6f5d0"
            ],
            [
             0.7,
             "#b8e186"
            ],
            [
             0.8,
             "#7fbc41"
            ],
            [
             0.9,
             "#4d9221"
            ],
            [
             1,
             "#276419"
            ]
           ],
           "sequential": [
            [
             0,
             "#0d0887"
            ],
            [
             0.1111111111111111,
             "#46039f"
            ],
            [
             0.2222222222222222,
             "#7201a8"
            ],
            [
             0.3333333333333333,
             "#9c179e"
            ],
            [
             0.4444444444444444,
             "#bd3786"
            ],
            [
             0.5555555555555556,
             "#d8576b"
            ],
            [
             0.6666666666666666,
             "#ed7953"
            ],
            [
             0.7777777777777778,
             "#fb9f3a"
            ],
            [
             0.8888888888888888,
             "#fdca26"
            ],
            [
             1,
             "#f0f921"
            ]
           ],
           "sequentialminus": [
            [
             0,
             "#0d0887"
            ],
            [
             0.1111111111111111,
             "#46039f"
            ],
            [
             0.2222222222222222,
             "#7201a8"
            ],
            [
             0.3333333333333333,
             "#9c179e"
            ],
            [
             0.4444444444444444,
             "#bd3786"
            ],
            [
             0.5555555555555556,
             "#d8576b"
            ],
            [
             0.6666666666666666,
             "#ed7953"
            ],
            [
             0.7777777777777778,
             "#fb9f3a"
            ],
            [
             0.8888888888888888,
             "#fdca26"
            ],
            [
             1,
             "#f0f921"
            ]
           ]
          },
          "colorway": [
           "#636efa",
           "#EF553B",
           "#00cc96",
           "#ab63fa",
           "#FFA15A",
           "#19d3f3",
           "#FF6692",
           "#B6E880",
           "#FF97FF",
           "#FECB52"
          ],
          "font": {
           "color": "#2a3f5f"
          },
          "geo": {
           "bgcolor": "white",
           "lakecolor": "white",
           "landcolor": "#E5ECF6",
           "showlakes": true,
           "showland": true,
           "subunitcolor": "white"
          },
          "hoverlabel": {
           "align": "left"
          },
          "hovermode": "closest",
          "mapbox": {
           "style": "light"
          },
          "paper_bgcolor": "white",
          "plot_bgcolor": "#E5ECF6",
          "polar": {
           "angularaxis": {
            "gridcolor": "white",
            "linecolor": "white",
            "ticks": ""
           },
           "bgcolor": "#E5ECF6",
           "radialaxis": {
            "gridcolor": "white",
            "linecolor": "white",
            "ticks": ""
           }
          },
          "scene": {
           "xaxis": {
            "backgroundcolor": "#E5ECF6",
            "gridcolor": "white",
            "gridwidth": 2,
            "linecolor": "white",
            "showbackground": true,
            "ticks": "",
            "zerolinecolor": "white"
           },
           "yaxis": {
            "backgroundcolor": "#E5ECF6",
            "gridcolor": "white",
            "gridwidth": 2,
            "linecolor": "white",
            "showbackground": true,
            "ticks": "",
            "zerolinecolor": "white"
           },
           "zaxis": {
            "backgroundcolor": "#E5ECF6",
            "gridcolor": "white",
            "gridwidth": 2,
            "linecolor": "white",
            "showbackground": true,
            "ticks": "",
            "zerolinecolor": "white"
           }
          },
          "shapedefaults": {
           "line": {
            "color": "#2a3f5f"
           }
          },
          "ternary": {
           "aaxis": {
            "gridcolor": "white",
            "linecolor": "white",
            "ticks": ""
           },
           "baxis": {
            "gridcolor": "white",
            "linecolor": "white",
            "ticks": ""
           },
           "bgcolor": "#E5ECF6",
           "caxis": {
            "gridcolor": "white",
            "linecolor": "white",
            "ticks": ""
           }
          },
          "title": {
           "x": 0.05
          },
          "xaxis": {
           "automargin": true,
           "gridcolor": "white",
           "linecolor": "white",
           "ticks": "",
           "title": {
            "standoff": 15
           },
           "zerolinecolor": "white",
           "zerolinewidth": 2
          },
          "yaxis": {
           "automargin": true,
           "gridcolor": "white",
           "linecolor": "white",
           "ticks": "",
           "title": {
            "standoff": 15
           },
           "zerolinecolor": "white",
           "zerolinewidth": 2
          }
         }
        },
        "width": 960,
        "xaxis": {
         "anchor": "y",
         "domain": [
          0,
          0.45
         ]
        },
        "xaxis2": {
         "anchor": "y2",
         "domain": [
          0.55,
          1
         ]
        },
        "xaxis3": {
         "anchor": "y3",
         "domain": [
          0,
          0.45
         ]
        },
        "xaxis4": {
         "anchor": "y4",
         "domain": [
          0.55,
          1
         ]
        },
        "yaxis": {
         "anchor": "x",
         "domain": [
          0.625,
          1
         ]
        },
        "yaxis2": {
         "anchor": "x2",
         "domain": [
          0.625,
          1
         ]
        },
        "yaxis3": {
         "anchor": "x3",
         "domain": [
          0,
          0.375
         ]
        },
        "yaxis4": {
         "anchor": "x4",
         "domain": [
          0,
          0.375
         ]
        }
       }
      },
      "text/html": [
       "<div>                            <div id=\"7cb18a8f-e3f8-4a35-af45-540f83212eef\" class=\"plotly-graph-div\" style=\"height:700px; width:960px;\"></div>            <script type=\"text/javascript\">                require([\"plotly\"], function(Plotly) {                    window.PLOTLYENV=window.PLOTLYENV || {};                                    if (document.getElementById(\"7cb18a8f-e3f8-4a35-af45-540f83212eef\")) {                    Plotly.newPlot(                        \"7cb18a8f-e3f8-4a35-af45-540f83212eef\",                        [{\"marker\":{\"color\":\"#56a697\"},\"name\":\"SR\",\"x\":[\"HV Patel\",\"JJ Bumrah\",\"Mohsin Khan\",\"Rashid Khan\",\"SP Narine\"],\"y\":[16.89,21.33,14.14,20.16,37.33],\"type\":\"bar\",\"xaxis\":\"x\",\"yaxis\":\"y\"},{\"marker\":{\"color\":\"#e19678\"},\"name\":\"Econ\",\"x\":[\"HV Patel\",\"JJ Bumrah\",\"Mohsin Khan\",\"Rashid Khan\",\"SP Narine\"],\"y\":[7.66,7.18,5.97,6.6,5.57],\"type\":\"scatter\",\"xaxis\":\"x2\",\"yaxis\":\"y2\"},{\"marker\":{\"color\":\"#3a3e75\"},\"name\":\"Overs\",\"x\":[\"HV Patel\",\"JJ Bumrah\",\"Mohsin Khan\",\"Rashid Khan\",\"SP Narine\"],\"y\":[53.3,53.2,33.0,63.5,56.0],\"type\":\"scatter\",\"xaxis\":\"x3\",\"yaxis\":\"y3\"},{\"marker\":{\"color\":\"#e65a97\"},\"name\":\"ESRA\",\"x\":[\"HV Patel\",\"JJ Bumrah\",\"Mohsin Khan\",\"Rashid Khan\",\"SP Narine\"],\"y\":[13.862,14.025,11.281,13.105,14.055],\"type\":\"scatter\",\"xaxis\":\"x4\",\"yaxis\":\"y4\"}],                        {\"template\":{\"data\":{\"bar\":[{\"error_x\":{\"color\":\"#2a3f5f\"},\"error_y\":{\"color\":\"#2a3f5f\"},\"marker\":{\"line\":{\"color\":\"#E5ECF6\",\"width\":0.5},\"pattern\":{\"fillmode\":\"overlay\",\"size\":10,\"solidity\":0.2}},\"type\":\"bar\"}],\"barpolar\":[{\"marker\":{\"line\":{\"color\":\"#E5ECF6\",\"width\":0.5},\"pattern\":{\"fillmode\":\"overlay\",\"size\":10,\"solidity\":0.2}},\"type\":\"barpolar\"}],\"carpet\":[{\"aaxis\":{\"endlinecolor\":\"#2a3f5f\",\"gridcolor\":\"white\",\"linecolor\":\"white\",\"minorgridcolor\":\"white\",\"startlinecolor\":\"#2a3f5f\"},\"baxis\":{\"endlinecolor\":\"#2a3f5f\",\"gridcolor\":\"white\",\"linecolor\":\"white\",\"minorgridcolor\":\"white\",\"startlinecolor\":\"#2a3f5f\"},\"type\":\"carpet\"}],\"choropleth\":[{\"colorbar\":{\"outlinewidth\":0,\"ticks\":\"\"},\"type\":\"choropleth\"}],\"contour\":[{\"colorbar\":{\"outlinewidth\":0,\"ticks\":\"\"},\"colorscale\":[[0.0,\"#0d0887\"],[0.1111111111111111,\"#46039f\"],[0.2222222222222222,\"#7201a8\"],[0.3333333333333333,\"#9c179e\"],[0.4444444444444444,\"#bd3786\"],[0.5555555555555556,\"#d8576b\"],[0.6666666666666666,\"#ed7953\"],[0.7777777777777778,\"#fb9f3a\"],[0.8888888888888888,\"#fdca26\"],[1.0,\"#f0f921\"]],\"type\":\"contour\"}],\"contourcarpet\":[{\"colorbar\":{\"outlinewidth\":0,\"ticks\":\"\"},\"type\":\"contourcarpet\"}],\"heatmap\":[{\"colorbar\":{\"outlinewidth\":0,\"ticks\":\"\"},\"colorscale\":[[0.0,\"#0d0887\"],[0.1111111111111111,\"#46039f\"],[0.2222222222222222,\"#7201a8\"],[0.3333333333333333,\"#9c179e\"],[0.4444444444444444,\"#bd3786\"],[0.5555555555555556,\"#d8576b\"],[0.6666666666666666,\"#ed7953\"],[0.7777777777777778,\"#fb9f3a\"],[0.8888888888888888,\"#fdca26\"],[1.0,\"#f0f921\"]],\"type\":\"heatmap\"}],\"heatmapgl\":[{\"colorbar\":{\"outlinewidth\":0,\"ticks\":\"\"},\"colorscale\":[[0.0,\"#0d0887\"],[0.1111111111111111,\"#46039f\"],[0.2222222222222222,\"#7201a8\"],[0.3333333333333333,\"#9c179e\"],[0.4444444444444444,\"#bd3786\"],[0.5555555555555556,\"#d8576b\"],[0.6666666666666666,\"#ed7953\"],[0.7777777777777778,\"#fb9f3a\"],[0.8888888888888888,\"#fdca26\"],[1.0,\"#f0f921\"]],\"type\":\"heatmapgl\"}],\"histogram\":[{\"marker\":{\"pattern\":{\"fillmode\":\"overlay\",\"size\":10,\"solidity\":0.2}},\"type\":\"histogram\"}],\"histogram2d\":[{\"colorbar\":{\"outlinewidth\":0,\"ticks\":\"\"},\"colorscale\":[[0.0,\"#0d0887\"],[0.1111111111111111,\"#46039f\"],[0.2222222222222222,\"#7201a8\"],[0.3333333333333333,\"#9c179e\"],[0.4444444444444444,\"#bd3786\"],[0.5555555555555556,\"#d8576b\"],[0.6666666666666666,\"#ed7953\"],[0.7777777777777778,\"#fb9f3a\"],[0.8888888888888888,\"#fdca26\"],[1.0,\"#f0f921\"]],\"type\":\"histogram2d\"}],\"histogram2dcontour\":[{\"colorbar\":{\"outlinewidth\":0,\"ticks\":\"\"},\"colorscale\":[[0.0,\"#0d0887\"],[0.1111111111111111,\"#46039f\"],[0.2222222222222222,\"#7201a8\"],[0.3333333333333333,\"#9c179e\"],[0.4444444444444444,\"#bd3786\"],[0.5555555555555556,\"#d8576b\"],[0.6666666666666666,\"#ed7953\"],[0.7777777777777778,\"#fb9f3a\"],[0.8888888888888888,\"#fdca26\"],[1.0,\"#f0f921\"]],\"type\":\"histogram2dcontour\"}],\"mesh3d\":[{\"colorbar\":{\"outlinewidth\":0,\"ticks\":\"\"},\"type\":\"mesh3d\"}],\"parcoords\":[{\"line\":{\"colorbar\":{\"outlinewidth\":0,\"ticks\":\"\"}},\"type\":\"parcoords\"}],\"pie\":[{\"automargin\":true,\"type\":\"pie\"}],\"scatter\":[{\"marker\":{\"colorbar\":{\"outlinewidth\":0,\"ticks\":\"\"}},\"type\":\"scatter\"}],\"scatter3d\":[{\"line\":{\"colorbar\":{\"outlinewidth\":0,\"ticks\":\"\"}},\"marker\":{\"colorbar\":{\"outlinewidth\":0,\"ticks\":\"\"}},\"type\":\"scatter3d\"}],\"scattercarpet\":[{\"marker\":{\"colorbar\":{\"outlinewidth\":0,\"ticks\":\"\"}},\"type\":\"scattercarpet\"}],\"scattergeo\":[{\"marker\":{\"colorbar\":{\"outlinewidth\":0,\"ticks\":\"\"}},\"type\":\"scattergeo\"}],\"scattergl\":[{\"marker\":{\"colorbar\":{\"outlinewidth\":0,\"ticks\":\"\"}},\"type\":\"scattergl\"}],\"scattermapbox\":[{\"marker\":{\"colorbar\":{\"outlinewidth\":0,\"ticks\":\"\"}},\"type\":\"scattermapbox\"}],\"scatterpolar\":[{\"marker\":{\"colorbar\":{\"outlinewidth\":0,\"ticks\":\"\"}},\"type\":\"scatterpolar\"}],\"scatterpolargl\":[{\"marker\":{\"colorbar\":{\"outlinewidth\":0,\"ticks\":\"\"}},\"type\":\"scatterpolargl\"}],\"scatterternary\":[{\"marker\":{\"colorbar\":{\"outlinewidth\":0,\"ticks\":\"\"}},\"type\":\"scatterternary\"}],\"surface\":[{\"colorbar\":{\"outlinewidth\":0,\"ticks\":\"\"},\"colorscale\":[[0.0,\"#0d0887\"],[0.1111111111111111,\"#46039f\"],[0.2222222222222222,\"#7201a8\"],[0.3333333333333333,\"#9c179e\"],[0.4444444444444444,\"#bd3786\"],[0.5555555555555556,\"#d8576b\"],[0.6666666666666666,\"#ed7953\"],[0.7777777777777778,\"#fb9f3a\"],[0.8888888888888888,\"#fdca26\"],[1.0,\"#f0f921\"]],\"type\":\"surface\"}],\"table\":[{\"cells\":{\"fill\":{\"color\":\"#EBF0F8\"},\"line\":{\"color\":\"white\"}},\"header\":{\"fill\":{\"color\":\"#C8D4E3\"},\"line\":{\"color\":\"white\"}},\"type\":\"table\"}]},\"layout\":{\"annotationdefaults\":{\"arrowcolor\":\"#2a3f5f\",\"arrowhead\":0,\"arrowwidth\":1},\"autotypenumbers\":\"strict\",\"coloraxis\":{\"colorbar\":{\"outlinewidth\":0,\"ticks\":\"\"}},\"colorscale\":{\"diverging\":[[0,\"#8e0152\"],[0.1,\"#c51b7d\"],[0.2,\"#de77ae\"],[0.3,\"#f1b6da\"],[0.4,\"#fde0ef\"],[0.5,\"#f7f7f7\"],[0.6,\"#e6f5d0\"],[0.7,\"#b8e186\"],[0.8,\"#7fbc41\"],[0.9,\"#4d9221\"],[1,\"#276419\"]],\"sequential\":[[0.0,\"#0d0887\"],[0.1111111111111111,\"#46039f\"],[0.2222222222222222,\"#7201a8\"],[0.3333333333333333,\"#9c179e\"],[0.4444444444444444,\"#bd3786\"],[0.5555555555555556,\"#d8576b\"],[0.6666666666666666,\"#ed7953\"],[0.7777777777777778,\"#fb9f3a\"],[0.8888888888888888,\"#fdca26\"],[1.0,\"#f0f921\"]],\"sequentialminus\":[[0.0,\"#0d0887\"],[0.1111111111111111,\"#46039f\"],[0.2222222222222222,\"#7201a8\"],[0.3333333333333333,\"#9c179e\"],[0.4444444444444444,\"#bd3786\"],[0.5555555555555556,\"#d8576b\"],[0.6666666666666666,\"#ed7953\"],[0.7777777777777778,\"#fb9f3a\"],[0.8888888888888888,\"#fdca26\"],[1.0,\"#f0f921\"]]},\"colorway\":[\"#636efa\",\"#EF553B\",\"#00cc96\",\"#ab63fa\",\"#FFA15A\",\"#19d3f3\",\"#FF6692\",\"#B6E880\",\"#FF97FF\",\"#FECB52\"],\"font\":{\"color\":\"#2a3f5f\"},\"geo\":{\"bgcolor\":\"white\",\"lakecolor\":\"white\",\"landcolor\":\"#E5ECF6\",\"showlakes\":true,\"showland\":true,\"subunitcolor\":\"white\"},\"hoverlabel\":{\"align\":\"left\"},\"hovermode\":\"closest\",\"mapbox\":{\"style\":\"light\"},\"paper_bgcolor\":\"white\",\"plot_bgcolor\":\"#E5ECF6\",\"polar\":{\"angularaxis\":{\"gridcolor\":\"white\",\"linecolor\":\"white\",\"ticks\":\"\"},\"bgcolor\":\"#E5ECF6\",\"radialaxis\":{\"gridcolor\":\"white\",\"linecolor\":\"white\",\"ticks\":\"\"}},\"scene\":{\"xaxis\":{\"backgroundcolor\":\"#E5ECF6\",\"gridcolor\":\"white\",\"gridwidth\":2,\"linecolor\":\"white\",\"showbackground\":true,\"ticks\":\"\",\"zerolinecolor\":\"white\"},\"yaxis\":{\"backgroundcolor\":\"#E5ECF6\",\"gridcolor\":\"white\",\"gridwidth\":2,\"linecolor\":\"white\",\"showbackground\":true,\"ticks\":\"\",\"zerolinecolor\":\"white\"},\"zaxis\":{\"backgroundcolor\":\"#E5ECF6\",\"gridcolor\":\"white\",\"gridwidth\":2,\"linecolor\":\"white\",\"showbackground\":true,\"ticks\":\"\",\"zerolinecolor\":\"white\"}},\"shapedefaults\":{\"line\":{\"color\":\"#2a3f5f\"}},\"ternary\":{\"aaxis\":{\"gridcolor\":\"white\",\"linecolor\":\"white\",\"ticks\":\"\"},\"baxis\":{\"gridcolor\":\"white\",\"linecolor\":\"white\",\"ticks\":\"\"},\"bgcolor\":\"#E5ECF6\",\"caxis\":{\"gridcolor\":\"white\",\"linecolor\":\"white\",\"ticks\":\"\"}},\"title\":{\"x\":0.05},\"xaxis\":{\"automargin\":true,\"gridcolor\":\"white\",\"linecolor\":\"white\",\"ticks\":\"\",\"title\":{\"standoff\":15},\"zerolinecolor\":\"white\",\"zerolinewidth\":2},\"yaxis\":{\"automargin\":true,\"gridcolor\":\"white\",\"linecolor\":\"white\",\"ticks\":\"\",\"title\":{\"standoff\":15},\"zerolinecolor\":\"white\",\"zerolinewidth\":2}}},\"xaxis\":{\"anchor\":\"y\",\"domain\":[0.0,0.45]},\"yaxis\":{\"anchor\":\"x\",\"domain\":[0.625,1.0]},\"xaxis2\":{\"anchor\":\"y2\",\"domain\":[0.55,1.0]},\"yaxis2\":{\"anchor\":\"x2\",\"domain\":[0.625,1.0]},\"xaxis3\":{\"anchor\":\"y3\",\"domain\":[0.0,0.45]},\"yaxis3\":{\"anchor\":\"x3\",\"domain\":[0.0,0.375]},\"xaxis4\":{\"anchor\":\"y4\",\"domain\":[0.55,1.0]},\"yaxis4\":{\"anchor\":\"x4\",\"domain\":[0.0,0.375]},\"annotations\":[{\"font\":{\"size\":16},\"showarrow\":false,\"text\":\"Strike-Rate\",\"x\":0.225,\"xanchor\":\"center\",\"xref\":\"paper\",\"y\":1.0,\"yanchor\":\"bottom\",\"yref\":\"paper\"},{\"font\":{\"size\":16},\"showarrow\":false,\"text\":\"Economy\",\"x\":0.775,\"xanchor\":\"center\",\"xref\":\"paper\",\"y\":1.0,\"yanchor\":\"bottom\",\"yref\":\"paper\"},{\"font\":{\"size\":16},\"showarrow\":false,\"text\":\"Overs\",\"x\":0.225,\"xanchor\":\"center\",\"xref\":\"paper\",\"y\":0.375,\"yanchor\":\"bottom\",\"yref\":\"paper\"},{\"font\":{\"size\":16},\"showarrow\":false,\"text\":\"ESRA\",\"x\":0.775,\"xanchor\":\"center\",\"xref\":\"paper\",\"y\":0.375,\"yanchor\":\"bottom\",\"yref\":\"paper\"}],\"height\":700,\"width\":960},                        {\"responsive\": true}                    ).then(function(){\n",
       "                            \n",
       "var gd = document.getElementById('7cb18a8f-e3f8-4a35-af45-540f83212eef');\n",
       "var x = new MutationObserver(function (mutations, observer) {{\n",
       "        var display = window.getComputedStyle(gd).display;\n",
       "        if (!display || display === 'none') {{\n",
       "            console.log([gd, 'removed!']);\n",
       "            Plotly.purge(gd);\n",
       "            observer.disconnect();\n",
       "        }}\n",
       "}});\n",
       "\n",
       "// Listen for the removal of the full notebook cells\n",
       "var notebookContainer = gd.closest('#notebook-container');\n",
       "if (notebookContainer) {{\n",
       "    x.observe(notebookContainer, {childList: true});\n",
       "}}\n",
       "\n",
       "// Listen for the clearing of the current output cell\n",
       "var outputEl = gd.closest('.output');\n",
       "if (outputEl) {{\n",
       "    x.observe(outputEl, {childList: true});\n",
       "}}\n",
       "\n",
       "                        })                };                });            </script>        </div>"
      ]
     },
     "metadata": {},
     "output_type": "display_data"
    },
    {
     "data": {
      "text/html": [
       "<div>\n",
       "<style scoped>\n",
       "    .dataframe tbody tr th:only-of-type {\n",
       "        vertical-align: middle;\n",
       "    }\n",
       "\n",
       "    .dataframe tbody tr th {\n",
       "        vertical-align: top;\n",
       "    }\n",
       "\n",
       "    .dataframe thead th {\n",
       "        text-align: right;\n",
       "    }\n",
       "</style>\n",
       "<table border=\"1\" class=\"dataframe\">\n",
       "  <thead>\n",
       "    <tr style=\"text-align: right;\">\n",
       "      <th></th>\n",
       "      <th>Player</th>\n",
       "      <th>Team</th>\n",
       "      <th>Type</th>\n",
       "      <th>Econ</th>\n",
       "      <th>Avg</th>\n",
       "      <th>SR</th>\n",
       "      <th>W/I</th>\n",
       "      <th>Bound%</th>\n",
       "      <th>ESRA</th>\n",
       "    </tr>\n",
       "  </thead>\n",
       "  <tbody>\n",
       "    <tr>\n",
       "      <th>35</th>\n",
       "      <td>HV Patel</td>\n",
       "      <td>RCB</td>\n",
       "      <td>Medium</td>\n",
       "      <td>7.66</td>\n",
       "      <td>21.58</td>\n",
       "      <td>16.89</td>\n",
       "      <td>1.267</td>\n",
       "      <td>14.33</td>\n",
       "      <td>13.862</td>\n",
       "    </tr>\n",
       "    <tr>\n",
       "      <th>39</th>\n",
       "      <td>JJ Bumrah</td>\n",
       "      <td>MI</td>\n",
       "      <td>Fast</td>\n",
       "      <td>7.18</td>\n",
       "      <td>25.53</td>\n",
       "      <td>21.33</td>\n",
       "      <td>1.071</td>\n",
       "      <td>15.00</td>\n",
       "      <td>14.025</td>\n",
       "    </tr>\n",
       "    <tr>\n",
       "      <th>66</th>\n",
       "      <td>Mohsin Khan</td>\n",
       "      <td>LSG</td>\n",
       "      <td>Fast</td>\n",
       "      <td>5.97</td>\n",
       "      <td>14.07</td>\n",
       "      <td>14.14</td>\n",
       "      <td>1.556</td>\n",
       "      <td>11.62</td>\n",
       "      <td>11.281</td>\n",
       "    </tr>\n",
       "    <tr>\n",
       "      <th>93</th>\n",
       "      <td>Rashid Khan</td>\n",
       "      <td>GT</td>\n",
       "      <td>Legbreak</td>\n",
       "      <td>6.60</td>\n",
       "      <td>22.16</td>\n",
       "      <td>20.16</td>\n",
       "      <td>1.188</td>\n",
       "      <td>8.36</td>\n",
       "      <td>13.105</td>\n",
       "    </tr>\n",
       "    <tr>\n",
       "      <th>108</th>\n",
       "      <td>SP Narine</td>\n",
       "      <td>KKR</td>\n",
       "      <td>Legbreak Googly</td>\n",
       "      <td>5.57</td>\n",
       "      <td>34.67</td>\n",
       "      <td>37.33</td>\n",
       "      <td>0.643</td>\n",
       "      <td>6.85</td>\n",
       "      <td>14.055</td>\n",
       "    </tr>\n",
       "  </tbody>\n",
       "</table>\n",
       "</div>"
      ],
      "text/plain": [
       "          Player Team             Type  Econ    Avg     SR    W/I  Bound%  \\\n",
       "35      HV Patel  RCB           Medium  7.66  21.58  16.89  1.267   14.33   \n",
       "39     JJ Bumrah   MI             Fast  7.18  25.53  21.33  1.071   15.00   \n",
       "66   Mohsin Khan  LSG             Fast  5.97  14.07  14.14  1.556   11.62   \n",
       "93   Rashid Khan   GT         Legbreak  6.60  22.16  20.16  1.188    8.36   \n",
       "108    SP Narine  KKR  Legbreak Googly  5.57  34.67  37.33  0.643    6.85   \n",
       "\n",
       "       ESRA  \n",
       "35   13.862  \n",
       "39   14.025  \n",
       "66   11.281  \n",
       "93   13.105  \n",
       "108  14.055  "
      ]
     },
     "execution_count": 64,
     "metadata": {},
     "output_type": "execute_result"
    }
   ],
   "source": [
    "from plotly.subplots import make_subplots\n",
    "import plotly.graph_objects as go\n",
    "\n",
    "fig = make_subplots(rows=2, cols=2,subplot_titles=['Strike-Rate','Economy','Overs','ESRA'])\n",
    "\n",
    "fig.add_trace(go.Bar(name = 'SR',x=Top5['Player'], y=Top5['SR'],marker_color='#56a697'),row=1, col=1)\n",
    "\n",
    "fig.add_trace(go.Scatter(name='Econ',x=Top5['Player'], y=Top5['Econ'],marker_color='#e19678'),row=1, col=2)\n",
    "fig.add_trace(go.Scatter(name='Overs',x=Top5['Player'], y=Top5['O'],marker_color='#3a3e75'),row=2, col=1)\n",
    "fig.add_trace(go.Scatter(name='ESRA',x=Top5['Player'], y=Top5['ESRA'],marker_color='#e65a97'),row=2, col=2)\n",
    "\n",
    "fig.update_layout(height=700, width=960)\n",
    "fig.show()\n",
    "Top5[['Player','Team','Type','Econ','Avg','SR','W/I','Bound%','ESRA']]"
   ]
  },
  {
   "cell_type": "markdown",
   "id": "5a2d5464",
   "metadata": {},
   "source": [
    "So, that's about it. Thanks for taking the time to look at this analysis!"
   ]
  },
  {
   "cell_type": "code",
   "execution_count": 65,
   "id": "ef8abb10",
   "metadata": {},
   "outputs": [],
   "source": [
    "updated_df.to_excel('updated_dfcopy.xlsx')"
   ]
  },
  {
   "cell_type": "code",
   "execution_count": null,
   "id": "17fada2e",
   "metadata": {},
   "outputs": [],
   "source": []
  }
 ],
 "metadata": {
  "kernelspec": {
   "display_name": "Python 3 (ipykernel)",
   "language": "python",
   "name": "python3"
  },
  "language_info": {
   "codemirror_mode": {
    "name": "ipython",
    "version": 3
   },
   "file_extension": ".py",
   "mimetype": "text/x-python",
   "name": "python",
   "nbconvert_exporter": "python",
   "pygments_lexer": "ipython3",
   "version": "3.9.12"
  }
 },
 "nbformat": 4,
 "nbformat_minor": 5
}
